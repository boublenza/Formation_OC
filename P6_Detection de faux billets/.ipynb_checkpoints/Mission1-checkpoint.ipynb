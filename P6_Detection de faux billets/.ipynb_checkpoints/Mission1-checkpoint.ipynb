{
 "cells": [
  {
   "cell_type": "markdown",
   "id": "a50b6a0c",
   "metadata": {
    "toc": true
   },
   "source": [
    "<h1>Table of Contents<span class=\"tocSkip\"></span></h1>\n",
    "<div class=\"toc\"><ul class=\"toc-item\"><li><ul class=\"toc-item\"><li><span><a href=\"#Mission-1-:\" data-toc-modified-id=\"Mission-1-:-0.1\">Mission 1 :</a></span><ul class=\"toc-item\"><li><span><a href=\"#1.-Analyse-de-l'éboulis-des-valeurs-propres\" data-toc-modified-id=\"1.-Analyse-de-l'éboulis-des-valeurs-propres-0.1.1\">1. Analyse de l'éboulis des valeurs propres</a></span><ul class=\"toc-item\"><li><span><a href=\"#Nombre-de-composantantes-principales-à-retenir\" data-toc-modified-id=\"Nombre-de-composantantes-principales-à-retenir-0.1.1.1\">Nombre de composantantes principales à retenir</a></span></li></ul></li><li><span><a href=\"#2.-Représentation-des-variables-par-le-cercle-des-corrélations\" data-toc-modified-id=\"2.-Représentation-des-variables-par-le-cercle-des-corrélations-0.1.2\">2. Représentation des variables par le cercle des corrélations</a></span></li><li><span><a href=\"#3.-Représentation-des-individus-par-les-plans-factoriels\" data-toc-modified-id=\"3.-Représentation-des-individus-par-les-plans-factoriels-0.1.3\">3. Représentation des individus par les plans factoriels</a></span></li><li><span><a href=\"#4.-Analyse-de-la-qualité-de-représentation-et-la-contribution-des-individus\" data-toc-modified-id=\"4.-Analyse-de-la-qualité-de-représentation-et-la-contribution-des-individus-0.1.4\">4. Analyse de la qualité de représentation et la contribution des individus</a></span></li></ul></li><li><span><a href=\"#Mission-2-:-Appliquez-un-algorithme-de-classification\" data-toc-modified-id=\"Mission-2-:-Appliquez-un-algorithme-de-classification-0.2\">Mission 2 : Appliquez un algorithme de classification</a></span><ul class=\"toc-item\"><li><ul class=\"toc-item\"><li><span><a href=\"#Choisir-2-Clusters\" data-toc-modified-id=\"Choisir-2-Clusters-0.2.0.1\">Choisir 2 Clusters</a></span></li></ul></li><li><span><a href=\"#3.-Représentation-des-individus-par-les-plans-factoriels\" data-toc-modified-id=\"3.-Représentation-des-individus-par-les-plans-factoriels-0.2.1\">3. Représentation des individus par les plans factoriels</a></span></li></ul></li><li><span><a href=\"#Mission-3-:-Régression-logistique\" data-toc-modified-id=\"Mission-3-:-Régression-logistique-0.3\">Mission 3 : Régression logistique</a></span><ul class=\"toc-item\"><li><span><a href=\"#Statistiques-de-la-régression-logistique-pour-chque-attribut\" data-toc-modified-id=\"Statistiques-de-la-régression-logistique-pour-chque-attribut-0.3.1\">Statistiques de la régression logistique pour chque attribut</a></span></li><li><span><a href=\"#Utiliser-tous-les-attributs\" data-toc-modified-id=\"Utiliser-tous-les-attributs-0.3.2\">Utiliser tous les attributs</a></span></li><li><span><a href=\"#Choix-des-variables-selon-corrélation\" data-toc-modified-id=\"Choix-des-variables-selon-corrélation-0.3.3\">Choix des variables selon corrélation</a></span></li><li><span><a href=\"#height_right,-margin_low,-margin_up,-length\" data-toc-modified-id=\"height_right,-margin_low,-margin_up,-length-0.3.4\">height_right, margin_low, margin_up, length</a></span></li><li><span><a href=\"#margin_low,-margin_up,-length\" data-toc-modified-id=\"margin_low,-margin_up,-length-0.3.5\">margin_low, margin_up, length</a></span></li><li><span><a href=\"#'margin_low','margin_up'\" data-toc-modified-id=\"'margin_low','margin_up'-0.3.6\">'margin_low','margin_up'</a></span></li><li><span><a href=\"#length\" data-toc-modified-id=\"length-0.3.7\">length</a></span></li><li><span><a href=\"#sklearn.linear_model.LogisticRegression\" data-toc-modified-id=\"sklearn.linear_model.LogisticRegression-0.3.8\">sklearn.linear_model.LogisticRegression</a></span></li></ul></li></ul></li><li><span><a href=\"#Test-du-modèle\" data-toc-modified-id=\"Test-du-modèle-1\">Test du modèle</a></span><ul class=\"toc-item\"><li><ul class=\"toc-item\"><li><span><a href=\"#Test-avec-statsmodels\" data-toc-modified-id=\"Test-avec-statsmodels-1.0.1\">Test avec statsmodels</a></span></li><li><span><a href=\"#Test-avec-sklearn\" data-toc-modified-id=\"Test-avec-sklearn-1.0.2\">Test avec sklearn</a></span></li></ul></li></ul></li><li><span><a href=\"#Test-du-modèle\" data-toc-modified-id=\"Test-du-modèle-2\">Test du modèle</a></span><ul class=\"toc-item\"><li><ul class=\"toc-item\"><li><span><a href=\"#Test-avec-statsmodels\" data-toc-modified-id=\"Test-avec-statsmodels-2.0.1\">Test avec statsmodels</a></span></li><li><span><a href=\"#Test-avec-sklearn\" data-toc-modified-id=\"Test-avec-sklearn-2.0.2\">Test avec sklearn</a></span></li></ul></li></ul></li><li><span><a href=\"#Test-du-modèle\" data-toc-modified-id=\"Test-du-modèle-3\">Test du modèle</a></span><ul class=\"toc-item\"><li><ul class=\"toc-item\"><li><span><a href=\"#Test-avec-statsmodels\" data-toc-modified-id=\"Test-avec-statsmodels-3.0.1\">Test avec statsmodels</a></span></li><li><span><a href=\"#Test-avec-sklearn\" data-toc-modified-id=\"Test-avec-sklearn-3.0.2\">Test avec sklearn</a></span></li></ul></li></ul></li></ul></div>"
   ]
  },
  {
   "cell_type": "code",
   "execution_count": 2,
   "id": "9c1753bb",
   "metadata": {},
   "outputs": [],
   "source": [
    "import functions as f"
   ]
  },
  {
   "cell_type": "code",
   "execution_count": 3,
   "id": "3d25fae8",
   "metadata": {},
   "outputs": [],
   "source": [
    "import pandas as pd\n",
    "import numpy as np\n",
    "import seaborn as sns\n",
    "import matplotlib.pyplot as plt"
   ]
  },
  {
   "cell_type": "code",
   "execution_count": 4,
   "id": "d58d4eea",
   "metadata": {},
   "outputs": [],
   "source": [
    "from sklearn import decomposition, preprocessing\n",
    "from sklearn.cluster import KMeans\n",
    "from sklearn import metrics\n",
    "from sklearn.model_selection import train_test_split\n",
    "from sklearn import linear_model\n"
   ]
  },
  {
   "cell_type": "code",
   "execution_count": 5,
   "id": "af613220",
   "metadata": {},
   "outputs": [
    {
     "ename": "ModuleNotFoundError",
     "evalue": "No module named 'mlxtend'",
     "output_type": "error",
     "traceback": [
      "\u001b[1;31m---------------------------------------------------------------------------\u001b[0m",
      "\u001b[1;31mModuleNotFoundError\u001b[0m                       Traceback (most recent call last)",
      "Input \u001b[1;32mIn [5]\u001b[0m, in \u001b[0;36m<cell line: 1>\u001b[1;34m()\u001b[0m\n\u001b[1;32m----> 1\u001b[0m \u001b[38;5;28;01mfrom\u001b[39;00m \u001b[38;5;21;01mmlxtend\u001b[39;00m\u001b[38;5;21;01m.\u001b[39;00m\u001b[38;5;21;01mplotting\u001b[39;00m \u001b[38;5;28;01mimport\u001b[39;00m plot_decision_regions\n",
      "\u001b[1;31mModuleNotFoundError\u001b[0m: No module named 'mlxtend'"
     ]
    }
   ],
   "source": [
    "from mlxtend.plotting import plot_decision_regions"
   ]
  },
  {
   "cell_type": "code",
   "execution_count": null,
   "id": "ba803cc2",
   "metadata": {},
   "outputs": [],
   "source": [
    "import statsmodels.formula.api as smf\n",
    "import statsmodels.api as sm"
   ]
  },
  {
   "cell_type": "code",
   "execution_count": null,
   "id": "980fc9b1",
   "metadata": {},
   "outputs": [],
   "source": [
    "df_notes = pd.read_csv('data\\\\notes.csv')"
   ]
  },
  {
   "cell_type": "code",
   "execution_count": null,
   "id": "216c6e27",
   "metadata": {},
   "outputs": [],
   "source": [
    "df_notes.head()"
   ]
  },
  {
   "cell_type": "markdown",
   "id": "01000e5d",
   "metadata": {},
   "source": [
    "## Mission 1 :\n",
    "<p>R&eacute;aliser une analyse en composantes principales de l'&eacute;chantillon, en suivant toutes ces &eacute;tapes :</p>\n",
    "<ul>\n",
    "<li>analyse de l'&eacute;boulis des valeurs propres ;</li>\n",
    "<li>repr&eacute;sentation des variables par le cercle des corr&eacute;lations ;</li>\n",
    "<li>repr&eacute;sentation des individus par les plans factoriels ;</li>\n",
    "<li>analyser de la qualit&eacute; de repr&eacute;sentation et la contribution des individus.</li>\n",
    "</ul>"
   ]
  },
  {
   "cell_type": "code",
   "execution_count": null,
   "id": "5c566327",
   "metadata": {},
   "outputs": [],
   "source": [
    "df_notes_acp = df_notes.iloc[:,1:].copy()\n",
    "data = df_notes.iloc[:,1:].copy()\n",
    "X = df_notes_acp.values\n",
    "X_index = df_notes_acp.index\n",
    "features = df_notes_acp.columns\n",
    "\n",
    "# Centrage et Réduction\n",
    "std_scale = preprocessing.StandardScaler().fit(X)\n",
    "X_scaled = std_scale.transform(X)"
   ]
  },
  {
   "cell_type": "code",
   "execution_count": null,
   "id": "d89b86c5",
   "metadata": {},
   "outputs": [],
   "source": [
    "n = X_scaled.shape[0]\n",
    "p = X_scaled.shape[1]"
   ]
  },
  {
   "cell_type": "code",
   "execution_count": null,
   "id": "5d6ef3e5",
   "metadata": {},
   "outputs": [],
   "source": [
    "data_scaled = pd.DataFrame(data=X_scaled, columns=features)"
   ]
  },
  {
   "cell_type": "markdown",
   "id": "c7ee8e01",
   "metadata": {},
   "source": [
    "### 1. Analyse de l'éboulis des valeurs propres"
   ]
  },
  {
   "cell_type": "code",
   "execution_count": null,
   "id": "6f29aa60",
   "metadata": {},
   "outputs": [],
   "source": [
    "# Calcul des composantes principales\n",
    "pca = decomposition.PCA(n_components= p).fit(X_scaled)\n",
    "\n",
    "# Eboulis des valeurs propres\n",
    "f.display_scree_plot(pca)"
   ]
  },
  {
   "cell_type": "code",
   "execution_count": null,
   "id": "6fd7c9e9",
   "metadata": {},
   "outputs": [],
   "source": [
    "# cumsum ()\n",
    "pd.DataFrame(pca.explained_variance_ratio_.cumsum(),index=['F1','F2','F3','F4','F5','F6'],columns=['Somme cummulée des ratios des variances expliquées'])\n",
    "\n"
   ]
  },
  {
   "cell_type": "markdown",
   "id": "daa32f97",
   "metadata": {},
   "source": [
    "#### Nombre de composantantes principales à retenir\n",
    "<b>Règle de Kaiser - Guttman</b>\n",
    "<p>Dans une ACP normée, la somme des valeurs propres étant égale au nombre de variables, leur moyenne vaut 1. Dans cette règle, on considère qu’un axe est intéressant si sa valeur propre est supérieure 1.</p>"
   ]
  },
  {
   "cell_type": "code",
   "execution_count": null,
   "id": "3e883c18",
   "metadata": {
    "scrolled": true
   },
   "outputs": [],
   "source": [
    "# Valeurs expliquées\n",
    "pca.explained_variance_"
   ]
  },
  {
   "cell_type": "code",
   "execution_count": null,
   "id": "1753088e",
   "metadata": {},
   "outputs": [],
   "source": [
    "# Valeurs corrigées\n",
    "eigval = (n-1)/n*pca.explained_variance_\n",
    "print(eigval)\n",
    "pd.DataFrame(eigval.round(2),index=['F1','F2','F3','F4','F5','F6'])"
   ]
  },
  {
   "cell_type": "code",
   "execution_count": null,
   "id": "ca74dd12",
   "metadata": {},
   "outputs": [],
   "source": [
    "#scree plot\n",
    "plt.plot(np.arange(1,p+1),eigval)\n",
    "plt.title(\"Test de coude de Cattel (Scree plot)\")\n",
    "plt.ylabel(\"Inertie\")\n",
    "plt.xlabel(\"Nombre de composantes principales\")\n",
    "plt.show()\n"
   ]
  },
  {
   "cell_type": "code",
   "execution_count": null,
   "id": "e25b3f08",
   "metadata": {},
   "outputs": [],
   "source": [
    "X_projected = pca.transform(X_scaled)\n",
    "pcs = pca.components_\n"
   ]
  },
  {
   "cell_type": "markdown",
   "id": "830927ad",
   "metadata": {},
   "source": [
    "### 2. Représentation des variables par le cercle des corrélations"
   ]
  },
  {
   "cell_type": "code",
   "execution_count": null,
   "id": "c64b0498",
   "metadata": {},
   "outputs": [],
   "source": [
    "f.display_circles(pcs, p, pca, [(0,1)], labels = np.array(features))"
   ]
  },
  {
   "cell_type": "markdown",
   "id": "03fd2346",
   "metadata": {},
   "source": [
    "### 3. Représentation des individus par les plans factoriels"
   ]
  },
  {
   "cell_type": "code",
   "execution_count": null,
   "id": "2edb23c3",
   "metadata": {},
   "outputs": [],
   "source": [
    "fig = plt.figure(figsize=(7,7))\n",
    "# plt.scatter(X_projected[:, 0], X_projected[:, 1], alpha=1,c=df_notes['is_genuine'])\n",
    "meanF1 = 0\n",
    "meanF2 = 0\n",
    "for color,k in zip(['lime','orange'],[True,False]):\n",
    "    plt.scatter(X_projected[df_notes['is_genuine']==k,0],X_projected[df_notes['is_genuine']==k,1],c=color,label=k)\n",
    "    meanF1 = X_projected[df_notes['is_genuine']==k][:, 0].mean()\n",
    "    meanF2 = X_projected[df_notes['is_genuine']==k][:, 1].mean()\n",
    "    plt.scatter(meanF1, meanF2, marker = '^', s = 100,c='y',label=f'Centroid of {k}')\n",
    "\n",
    "plt.legend()\n",
    "    \n",
    "f.format_figure(X_projected,pca)\n",
    "\n"
   ]
  },
  {
   "cell_type": "markdown",
   "id": "9e16476f",
   "metadata": {},
   "source": [
    "### 4. Analyse de la qualité de représentation et la contribution des individus"
   ]
  },
  {
   "cell_type": "markdown",
   "id": "f87fe0d9",
   "metadata": {},
   "source": [
    "Qualité de représentation COS² (cosinus carré) : Pour calculer la qualité de\n",
    "représentation des individus sur les axes, nous devons d’abord calculer les carrés des distances à l’origine des individus, qui correspondent également à leur contribution dans l’inertie totale http://eric.univ-lyon2.fr/~ricco/tanagra/fichiers/fr_Tanagra_ACP_Python.pdf"
   ]
  },
  {
   "cell_type": "code",
   "execution_count": null,
   "id": "9e4b49e7",
   "metadata": {},
   "outputs": [],
   "source": [
    "df = data_scaled.reset_index().copy()"
   ]
  },
  {
   "cell_type": "code",
   "execution_count": null,
   "id": "113f0fec",
   "metadata": {},
   "outputs": [],
   "source": [
    "#contribution des individus dans l'inertie totale\n",
    "di = np.sum(X_scaled**2,axis=1)\n",
    "df['di']=di\n",
    "# df_top_di = pd.DataFrame({'ID':X_index,'d_i':di}).sort_values(by='d_i',ascending=False).head(20)\n"
   ]
  },
  {
   "cell_type": "code",
   "execution_count": null,
   "id": "797adb04",
   "metadata": {},
   "outputs": [],
   "source": [
    "cos2 = X_projected**2\n",
    "for j in range(p):\n",
    " cos2[:,j] = cos2[:,j]/di\n",
    "\n",
    "# df_cos2 = pd.DataFrame({'id':X_index,'COS2_1':cos2[:,0],'COS2_2':cos2[:,1]})\n",
    "df['COS2_1'] = cos2[:,0]\n",
    "df['COS2_2'] = cos2[:,1]"
   ]
  },
  {
   "cell_type": "markdown",
   "id": "b2b42d34",
   "metadata": {},
   "source": [
    "Pour chaque individu, la somme des COS² sur l’ensemble des facteurs est égale à 1."
   ]
  },
  {
   "cell_type": "code",
   "execution_count": null,
   "id": "f8ef0d0a",
   "metadata": {},
   "outputs": [],
   "source": [
    "np.sum(cos2,axis=1)"
   ]
  },
  {
   "cell_type": "markdown",
   "id": "4dfde593",
   "metadata": {},
   "source": [
    "<b>Contribution des individus aux axes (CTR) :</b> permettent de déterminer les individus qui pèsent le plus dans la définition de chaque facteur."
   ]
  },
  {
   "cell_type": "code",
   "execution_count": null,
   "id": "ef3a020c",
   "metadata": {},
   "outputs": [],
   "source": [
    "#contributions aux axes\n",
    "ctr = X_projected**2\n",
    "for j in range(p):\n",
    "     ctr[:,j] = ctr[:,j]/(n*eigval[j])\n",
    "\n",
    "df['CTR_1']=ctr[:,0]\n",
    "df['CTR_2']=ctr[:,1]"
   ]
  },
  {
   "cell_type": "code",
   "execution_count": null,
   "id": "22b8ef6e",
   "metadata": {},
   "outputs": [],
   "source": [
    "#vérifions la théorie\n",
    "print(np.sum(ctr,axis=0))"
   ]
  },
  {
   "cell_type": "code",
   "execution_count": null,
   "id": "8a5ca5e6",
   "metadata": {},
   "outputs": [],
   "source": [
    "top_di=df.sort_values(by='di', ascending=False).head(20)['index']\n",
    "top_cos2_1 =df.sort_values(by='COS2_1', ascending=False).head(20)['index']\n",
    "top_cos2_2 = df.sort_values(by='COS2_2', ascending=False).head(20)['index']\n",
    "top_ctr_1 = df.sort_values(by='CTR_1', ascending=False).head(20)['index']\n",
    "top_ctr_2 = df.sort_values(by='CTR_2', ascending=False).head(20)['index']\n",
    "\n"
   ]
  },
  {
   "cell_type": "code",
   "execution_count": null,
   "id": "ad9f2598",
   "metadata": {},
   "outputs": [],
   "source": [
    "fig = plt.figure(figsize=(14,14))\n",
    "meanF1 = 0\n",
    "meanF2 = 0\n",
    "# top_cos2_2\n",
    "# lawngreen\n",
    "top_individus = [top_di,top_cos2_1,top_cos2_2,top_ctr_1,top_ctr_2]\n",
    "for color,k,l,m in zip(['blue','green','purple','aqua','red'],top_individus,['DI','COS_21','COS2_2','CTR_1','CTR_2'],['*','o','o','+','+']):\n",
    "    plt.scatter(X_projected[df['index'].isin(k),0],X_projected[df['index'].isin(k),1],c=color,label=l, marker = m)\n",
    "# numero = top_cos2_1.to_list()\n",
    "for t in top_individus:\n",
    "    for i in t:\n",
    "        plt.text(x=X_projected[i,0]+0.1,y=X_projected[i,1]+0.1, s=i) \n",
    "\n",
    "plt.legend() \n",
    "f.format_figure(X_projected,pca)\n",
    "\n",
    "plt.savefig(f'graphes\\\\qualite_individus_F1_F2')\n"
   ]
  },
  {
   "cell_type": "code",
   "execution_count": null,
   "id": "4da9bfd9",
   "metadata": {},
   "outputs": [],
   "source": [
    "fig = plt.figure(figsize=(7,7))\n",
    "meanF1 = 0\n",
    "meanF2 = 0\n",
    "# top_cos2_2\n",
    "# lawngreen\n",
    "top_individus = [top_cos2_1,top_cos2_2]\n",
    "for color,k,l,m in zip(['green','purple'],top_individus,['COS2_1','COS2_2'],['o','o']):\n",
    "    plt.scatter(X_projected[df['index'].isin(k),0],X_projected[df['index'].isin(k),1],c=color,label=l, marker = m)\n",
    "# numero = top_cos2_1.to_list()\n",
    "for t in top_individus:\n",
    "    for i in t:\n",
    "        plt.text(x=X_projected[i,0]+0.1,y=X_projected[i,1]+0.1, s=i) \n",
    "\n",
    "plt.legend() \n",
    "f.format_figure(X_projected,pca)\n",
    "\n",
    "plt.savefig(f'graphes\\\\COS2_F1_F2')\n"
   ]
  },
  {
   "cell_type": "code",
   "execution_count": null,
   "id": "6d33ce1f",
   "metadata": {},
   "outputs": [],
   "source": [
    "fig = plt.figure(figsize=(7,7))\n",
    "meanF1 = 0\n",
    "meanF2 = 0\n",
    "# top_cos2_2\n",
    "# lawngreen\n",
    "top_individus = [top_ctr_1,top_ctr_2]\n",
    "for color,k,l,m in zip(['aqua','red'],top_individus,['CTR_1','CTR_2'],['+','+']):\n",
    "    plt.scatter(X_projected[df['index'].isin(k),0],X_projected[df['index'].isin(k),1],c=color,label=l, marker = m)\n",
    "# numero = top_cos2_1.to_list()\n",
    "for t in top_individus:\n",
    "    for i in t:\n",
    "        plt.text(x=X_projected[i,0]+0.1,y=X_projected[i,1]+0.1, s=i) \n",
    "\n",
    "plt.legend() \n",
    "f.format_figure(X_projected,pca)\n",
    "\n",
    "plt.savefig(f'graphes\\\\qualite_individus_F1_F2')\n"
   ]
  },
  {
   "cell_type": "code",
   "execution_count": null,
   "id": "2843b19e",
   "metadata": {},
   "outputs": [],
   "source": []
  },
  {
   "cell_type": "markdown",
   "id": "9ff189b6",
   "metadata": {},
   "source": [
    "## Mission 2 : Appliquez un algorithme de classification"
   ]
  },
  {
   "cell_type": "code",
   "execution_count": null,
   "id": "6d3a0e74",
   "metadata": {},
   "outputs": [],
   "source": [
    "#utilisation de la métrique \"silhouette\"\n",
    "#faire varier le nombre de clusters de 2 à 10\n",
    "res = np.arange(9,dtype=\"double\")\n",
    "for k in np.arange(9):\n",
    "    km = KMeans(n_clusters=k+2)\n",
    "    km.fit(X_scaled)\n",
    "    res[k] = metrics.silhouette_score(X_scaled,km.labels_)\n",
    "#graphique\n",
    "plt.title(\"Silhouette\")\n",
    "plt.xlabel(\"# of clusters\")\n",
    "plt.plot(np.arange(2,11,1),res)\n",
    "plt.show()\n"
   ]
  },
  {
   "cell_type": "code",
   "execution_count": null,
   "id": "86e6572d",
   "metadata": {},
   "outputs": [],
   "source": [
    "inertia = []\n",
    "k_range= range(1,10)\n",
    "for k in k_range :\n",
    "    model = KMeans(n_clusters = k).fit(X_scaled)\n",
    "    inertia.append(model.inertia_)\n",
    "plt.plot(k_range, inertia)\n",
    "plt.xlabel('Nombre de cluster')\n",
    "plt.ylabel('Inertie')"
   ]
  },
  {
   "cell_type": "markdown",
   "id": "a9e17723",
   "metadata": {},
   "source": [
    "#### Choisir 2 Clusters"
   ]
  },
  {
   "cell_type": "code",
   "execution_count": null,
   "id": "818eed11",
   "metadata": {},
   "outputs": [],
   "source": [
    "# Récuprer les individus attribués à chaque cluster\n",
    "model_km = KMeans(n_clusters = 2).fit(X_scaled)\n",
    "clusters = model_km.labels_\n",
    "# Centre de chaque cluster\n",
    "centroids = model_km.cluster_centers_\n",
    "# Centre de chaque cluster projeté sur le plan factoriel \n",
    "centroids_projected = pca.transform(centroids)"
   ]
  },
  {
   "cell_type": "code",
   "execution_count": null,
   "id": "599a63a9",
   "metadata": {},
   "outputs": [],
   "source": [
    "# Comparaison des clusters trouvés avec les classification des billets\n",
    "comparaison_cluster = pd.DataFrame({\"Classe\": df_notes['is_genuine'], \"Cluster_Kmeans\": clusters})\n",
    "comparaison_cluster.pivot_table(index=\"Classe\", columns=\"Cluster_Kmeans\", aggfunc=len, fill_value=0)"
   ]
  },
  {
   "cell_type": "markdown",
   "id": "4503bc0e",
   "metadata": {},
   "source": [
    "### 3. Représentation des individus par les plans factoriels"
   ]
  },
  {
   "cell_type": "code",
   "execution_count": null,
   "id": "da40a2ae",
   "metadata": {
    "scrolled": true
   },
   "outputs": [],
   "source": [
    "fig = plt.figure(figsize=(7,7))\n",
    "# plt.scatter(X_projected[:, 0], X_projected[:, 1], alpha=1,c=df_notes['is_genuine'])\n",
    "\n",
    "for color,k in zip(['blue','red'],[0,1]):\n",
    "    plt.scatter(X_projected[clusters==k,0],X_projected[clusters==k,1],c=color,label=k)\n",
    "#     meanF1 = X_projected[df_notes['is_genuine']==k][:, 0].mean()\n",
    "#     meanF2 = X_projected[df_notes['is_genuine']==k][:, 1].mean()\n",
    "    # Centre de chaque cluster\n",
    "    plt.scatter(centroids_projected[:,0],centroids_projected[:,1], marker = '^', \n",
    "                s = 100,c='y',label=f'Centroid of {k}')\n",
    "\n",
    "plt.legend()\n",
    "f.format_figure(X_projected,pca)\n",
    "plt.savefig(f'graphes\\\\projection_idividus_Kmeans_F1_F2')\n",
    "plt.show(block=False)\n",
    "\n"
   ]
  },
  {
   "cell_type": "code",
   "execution_count": null,
   "id": "11d79ccf",
   "metadata": {},
   "outputs": [],
   "source": [
    "df_notes['clusters']=clusters\n",
    "df_notes['error_cluster']=~(df_notes['is_genuine']^df_notes['clusters'])"
   ]
  },
  {
   "cell_type": "code",
   "execution_count": null,
   "id": "5ccb326a",
   "metadata": {
    "scrolled": true
   },
   "outputs": [],
   "source": [
    "fig = plt.figure(figsize=(7,7))\n",
    "# plt.scatter(X_projected[:, 0], X_projected[:, 1], alpha=1,c=df_notes['is_genuine'])\n",
    "\n",
    "for color,k in zip(['red','blue'],[0,1]):\n",
    "    plt.scatter(X_projected[clusters==k,0],X_projected[clusters==k,1],c=color,label=k)\n",
    "#     meanF1 = X_projected[df_notes['is_genuine']==k][:, 0].mean()\n",
    "#     meanF2 = X_projected[df_notes['is_genuine']==k][:, 1].mean()\n",
    "    # Centre de chaque cluster\n",
    "    plt.scatter(centroids_projected[:,0],centroids_projected[:,1], marker = '^', s = 100,c='y',label=f'Centroid of {k}')\n",
    "\n",
    "plt.scatter(X_projected[df_notes.error_cluster==True,0],X_projected[df_notes.error_cluster==True,1],c='black',marker = 'x',label='Non correspondance')\n",
    "plt.legend()\n",
    "f.format_figure(X_projected,pca)\n",
    "plt.savefig(f'graphes\\\\projection_idividus_erreur_F1_F2')\n"
   ]
  },
  {
   "cell_type": "markdown",
   "id": "b43a7264",
   "metadata": {},
   "source": [
    "## Mission 3 : Régression logistique "
   ]
  },
  {
   "cell_type": "code",
   "execution_count": null,
   "id": "eda7d407",
   "metadata": {
    "scrolled": true
   },
   "outputs": [],
   "source": [
    "sns.set()\n",
    "ax = sns.scatterplot(x=\"length\", y=\"is_genuine\", data=df_notes)"
   ]
  },
  {
   "cell_type": "markdown",
   "id": "641f0444",
   "metadata": {},
   "source": [
    "### Statistiques de la régression logistique pour chque attribut"
   ]
  },
  {
   "cell_type": "code",
   "execution_count": null,
   "id": "a394d493",
   "metadata": {},
   "outputs": [],
   "source": []
  },
  {
   "cell_type": "code",
   "execution_count": null,
   "id": "a02e5512",
   "metadata": {},
   "outputs": [],
   "source": [
    "from time import time\n",
    "data = df_notes.iloc[:,1:7]\n",
    "y = df_notes['is_genuine']\n",
    "for i in (data.columns):\n",
    "    \n",
    "    x= data[i]\n",
    "    # on ajoute une colonne pour la constante\n",
    "    x_stat = sm.add_constant(x)\n",
    "    # on ajuste le modèle\n",
    "    time_begin = time()\n",
    "    model = sm.Logit(y, x_stat)    \n",
    "    result = model.fit()\n",
    "    time_end=time()\n",
    "    print('*'*10,' ',i,' ','*'*10)\n",
    "    print(result.summary())\n",
    "    print('Time = ',time_end-time_begin)\n"
   ]
  },
  {
   "cell_type": "markdown",
   "id": "acacd59c",
   "metadata": {},
   "source": [
    "### Utiliser tous les attributs "
   ]
  },
  {
   "cell_type": "code",
   "execution_count": null,
   "id": "ce04e99f",
   "metadata": {},
   "outputs": [],
   "source": [
    "# reg_log = smf.glm('is_genuine~diagonal+height_left+height_right+margin_low+margin_up+length',data=df_notes, family=sm.families.Binomial()).fit()\n",
    "# print(reg_log.summary())"
   ]
  },
  {
   "cell_type": "code",
   "execution_count": null,
   "id": "0535e1d6",
   "metadata": {},
   "outputs": [],
   "source": [
    "# df_notes.loc[df_notes['is_genuine']==True,'classe'] =1\n",
    "# df_notes.loc[df_notes['is_genuine']==False,'classe'] =0\n",
    "# df_notes['classe'] = pd.to_numeric(df_notes['classe'])"
   ]
  },
  {
   "cell_type": "code",
   "execution_count": null,
   "id": "205d3630",
   "metadata": {},
   "outputs": [],
   "source": [
    "df_notes['classe'] = df_notes['is_genuine'].astype(int)"
   ]
  },
  {
   "cell_type": "code",
   "execution_count": null,
   "id": "496fa252",
   "metadata": {},
   "outputs": [],
   "source": [
    "df_notes.info()"
   ]
  },
  {
   "cell_type": "code",
   "execution_count": null,
   "id": "a7a8dafc",
   "metadata": {},
   "outputs": [],
   "source": [
    "# performing predictions on the test datdaset\n",
    "yhat = log_reg.predict(Xtest)\n",
    "prediction = list(map(round, yhat))\n",
    " \n",
    "# comparing original and predicted values of y\n",
    "print('Actual values', list(ytest.values))\n",
    "print('Predictions :', prediction)"
   ]
  },
  {
   "cell_type": "code",
   "execution_count": null,
   "id": "b242cbf0",
   "metadata": {},
   "outputs": [],
   "source": [
    "reg_log = smf.ols('classe~diagonal+height_left+height_right+margin_low+margin_up+length',data=df_notes).fit()\n",
    "print(reg_log.summary())"
   ]
  },
  {
   "cell_type": "code",
   "execution_count": null,
   "id": "37ae2b64",
   "metadata": {},
   "outputs": [],
   "source": [
    "reg_log = smf.glm('classe~margin_low+margin_up',data=df_notes, \n",
    "                  family=sm.families.Binomial()).fit()\n",
    "print(reg_log.summary())"
   ]
  },
  {
   "cell_type": "code",
   "execution_count": null,
   "id": "987bc8ad",
   "metadata": {},
   "outputs": [],
   "source": [
    "# reg_log = smf.glm('is_genuine~diagonal+height_left+height_right+margin_low+margin_up+length',data=df_notes,family=sm.families.Binomial())\n"
   ]
  },
  {
   "cell_type": "markdown",
   "id": "b7dc70da",
   "metadata": {},
   "source": [
    "Perfect separation detected, results not available"
   ]
  },
  {
   "cell_type": "markdown",
   "id": "cdcc6a29",
   "metadata": {},
   "source": [
    "### Choix des variables selon corrélation \n",
    "### height_right, margin_low, margin_up, length"
   ]
  },
  {
   "cell_type": "code",
   "execution_count": null,
   "id": "9a6e53cb",
   "metadata": {},
   "outputs": [],
   "source": [
    "reg_log = smf.glm('is_genuine~height_right+margin_low+margin_up+length',data=df_notes).fit()\n",
    "reg_log.summary()"
   ]
  },
  {
   "cell_type": "markdown",
   "id": "3bde941f",
   "metadata": {},
   "source": [
    "<b> Perfect separation detected, results not available </b>\n"
   ]
  },
  {
   "cell_type": "markdown",
   "id": "82a3cffa",
   "metadata": {},
   "source": [
    "### margin_low, margin_up, length"
   ]
  },
  {
   "cell_type": "code",
   "execution_count": null,
   "id": "2530a0b2",
   "metadata": {},
   "outputs": [],
   "source": [
    "# reg_log = smf.glm('is_genuine~margin_low+margin_up+length',data=df_notes, family=sm.families.Binomial()).fit()\n",
    "# reg_log.summary()"
   ]
  },
  {
   "cell_type": "markdown",
   "id": "1c81244d",
   "metadata": {},
   "source": [
    "<b> Perfect separation detected, results not available </b>\n"
   ]
  },
  {
   "cell_type": "markdown",
   "id": "2ac44c74",
   "metadata": {},
   "source": [
    "### 'margin_low','margin_up'"
   ]
  },
  {
   "cell_type": "code",
   "execution_count": null,
   "id": "8ee3998d",
   "metadata": {},
   "outputs": [],
   "source": [
    "# reg_log = smf.glm('is_genuine~margin_low+margin_up',data=df_notes, family=sm.families.Binomial()).fit()\n",
    "# reg_log.summary()"
   ]
  },
  {
   "cell_type": "code",
   "execution_count": null,
   "id": "2aa72248",
   "metadata": {},
   "outputs": [],
   "source": [
    "# reg_log.aic"
   ]
  },
  {
   "cell_type": "markdown",
   "id": "2c6507fc",
   "metadata": {},
   "source": [
    "<b> AIC = 18.72 </b> "
   ]
  },
  {
   "cell_type": "markdown",
   "id": "ef3dcab5",
   "metadata": {},
   "source": [
    "### length"
   ]
  },
  {
   "cell_type": "code",
   "execution_count": null,
   "id": "3d21a8d5",
   "metadata": {
    "scrolled": true
   },
   "outputs": [],
   "source": [
    "# reg_log2 = smf.glm('is_genuine~length',data=df_notes, family=sm.families.Binomial()).fit()\n",
    "# reg_log2.summary()"
   ]
  },
  {
   "cell_type": "code",
   "execution_count": null,
   "id": "9cb40e22",
   "metadata": {
    "scrolled": true
   },
   "outputs": [],
   "source": [
    "# reg_log2.aic"
   ]
  },
  {
   "cell_type": "markdown",
   "id": "7cf168fb",
   "metadata": {},
   "source": [
    "<b> AIC = 67.67 </b> "
   ]
  },
  {
   "cell_type": "markdown",
   "id": "d2011049",
   "metadata": {},
   "source": [
    "Complete Separation: The results show that there iscomplete separation.\n",
    "In this case the Maximum Likelihood Estimator does not exist and the parameters are not identified."
   ]
  },
  {
   "cell_type": "code",
   "execution_count": null,
   "id": "adb9deba",
   "metadata": {},
   "outputs": [],
   "source": [
    "### Comparer le résultat avec la fonction Logit\n",
    "x = df_notes[['margin_low','margin_up']]\n",
    "# on ajoute une colonne pour la constante\n",
    "x_stat = sm.add_constant(x)\n",
    "y = df_notes['is_genuine']\n",
    "# on ajuste le modèle\n",
    "model_logit = sm.Logit(y, x_stat)\n",
    "result = model_logit.fit()\n",
    "result.summary()"
   ]
  },
  {
   "cell_type": "markdown",
   "id": "6620c8e2",
   "metadata": {},
   "source": [
    "### sklearn.linear_model.LogisticRegression"
   ]
  },
  {
   "cell_type": "code",
   "execution_count": null,
   "id": "a30714c0",
   "metadata": {},
   "outputs": [],
   "source": [
    "#valeurs caractéristiques et valeur cible\n",
    "X = df_notes[['margin_low','margin_up','length']] \n",
    "y = df_notes['is_genuine']\n",
    "#fractionner dataset\n",
    "X_train, X_test, y_train, y_test = train_test_split(X, y, random_state = 0)\n"
   ]
  },
  {
   "cell_type": "code",
   "execution_count": null,
   "id": "e7e5c92a",
   "metadata": {},
   "outputs": [],
   "source": [
    "training_accuracy = []\n",
    "test_accuracy = []\n",
    "# try c values from 0.001 to 20:\n",
    "c_settings = np.arange(0.001, 20, 0.1)\n",
    "for i in c_settings:\n",
    "    # build the model\n",
    "    clf = linear_model.LogisticRegression(C=i)\n",
    "    clf.fit(X_train, y_train)\n",
    "    # record training set accuracy\n",
    "    training_accuracy.append(clf.score(X_train, y_train))\n",
    "    # record generalization accuracy\n",
    "    test_accuracy.append(clf.score(X_test, y_test))\n",
    "    \n",
    "plt.plot(c_settings, training_accuracy, label=\"training accuracy\")\n",
    "plt.plot(c_settings, test_accuracy, label=\"test accuracy\")\n",
    "plt.legend()"
   ]
  },
  {
   "cell_type": "code",
   "execution_count": null,
   "id": "de633b32",
   "metadata": {},
   "outputs": [],
   "source": [
    "#instanciation du modèle\n",
    "modele_regLog = linear_model.LogisticRegression(C=3)\n",
    "#training\n",
    "modele_regLog.fit(X_train,y_train)\n",
    "print(f'Résultat de toute la base = {round(modele_regLog.score(X,y)*100,3)} %')\n",
    "print(f'Résultat de l\\'apprentissage = {round(modele_regLog.score(X_train,y_train)*100,3)} %')\n",
    "#précision du modèle\n",
    "precision = modele_regLog.score(X_test,y_test)\n",
    "print(f'Résultat du test = {round(precision*100,3)} %')"
   ]
  },
  {
   "cell_type": "markdown",
   "id": "d93150da",
   "metadata": {},
   "source": [
    "Résultat de toute la base = 98.824 % </br>\n",
    "Résultat de l'apprentissage = 98.425 %</br>\n",
    "Résultat du test = 100.0 %"
   ]
  },
  {
   "cell_type": "code",
   "execution_count": null,
   "id": "430473a8",
   "metadata": {},
   "outputs": [],
   "source": [
    "modele_regLog.coef_*np.std(X,0).values"
   ]
  },
  {
   "cell_type": "code",
   "execution_count": null,
   "id": "21dcd7d9",
   "metadata": {},
   "outputs": [],
   "source": [
    "y_predict = modele_regLog.predict(X_test)"
   ]
  },
  {
   "cell_type": "code",
   "execution_count": null,
   "id": "c2095890",
   "metadata": {},
   "outputs": [],
   "source": [
    "#confusion matrix\n",
    "c1 = metrics.confusion_matrix(y_test, y_predict)\n",
    "print(c1)"
   ]
  },
  {
   "cell_type": "markdown",
   "id": "9fa33fb7",
   "metadata": {},
   "source": [
    "# Test du modèle"
   ]
  },
  {
   "cell_type": "code",
   "execution_count": null,
   "id": "2d23bce5",
   "metadata": {},
   "outputs": [],
   "source": []
  },
  {
   "cell_type": "code",
   "execution_count": null,
   "id": "c21563c1",
   "metadata": {},
   "outputs": [],
   "source": []
  },
  {
   "cell_type": "code",
   "execution_count": null,
   "id": "416208e7",
   "metadata": {},
   "outputs": [],
   "source": [
    "df_test = pd.read_csv('example.csv')\n",
    "\n",
    "x_test_m1 = df_test[['margin_low','margin_up']]\n",
    "x_test_m2 = df_test[['margin_low','margin_up', 'length']]"
   ]
  },
  {
   "cell_type": "code",
   "execution_count": null,
   "id": "977e9bf6",
   "metadata": {},
   "outputs": [],
   "source": []
  },
  {
   "cell_type": "markdown",
   "id": "67e90b05",
   "metadata": {},
   "source": [
    "### Test avec statsmodels"
   ]
  },
  {
   "cell_type": "code",
   "execution_count": null,
   "id": "85c9b3d4",
   "metadata": {},
   "outputs": [],
   "source": [
    "for i in reg_log.predict(x_test_m2):\n",
    "    if (i<=0.5):\n",
    "        print('False')\n",
    "    else :\n",
    "        print('True')"
   ]
  },
  {
   "cell_type": "markdown",
   "id": "770ea1f5",
   "metadata": {},
   "source": [
    "### Test avec sklearn"
   ]
  },
  {
   "cell_type": "code",
   "execution_count": null,
   "id": "8f9454b8",
   "metadata": {},
   "outputs": [],
   "source": [
    "modele_regLog.predict(x_test_m2)"
   ]
  },
  {
   "cell_type": "code",
   "execution_count": null,
   "id": "15d0b72d",
   "metadata": {},
   "outputs": [],
   "source": [
    "sns.lmplot(x=\"margin_low\", y=\"margin_up\", data=df_notes, fit_reg=True, hue='is_genuine', legend=True)"
   ]
  },
  {
   "cell_type": "code",
   "execution_count": null,
   "id": "985d96e1",
   "metadata": {},
   "outputs": [],
   "source": [
    "sns.lmplot(x=\"length\", y=\"margin_up\", data=df_notes, fit_reg=True, hue='is_genuine', legend=True)"
   ]
  },
  {
   "cell_type": "code",
   "execution_count": null,
   "id": "61292769",
   "metadata": {},
   "outputs": [],
   "source": [
    "sns.lmplot(x=\"length\", y=\"margin_low\", data=df_notes, fit_reg=True, hue='is_genuine', legend=True)"
   ]
  },
  {
   "cell_type": "code",
   "execution_count": null,
   "id": "c7a3f7bd",
   "metadata": {},
   "outputs": [],
   "source": [
    "# from sklearn.linear_model import LogisticRegression\n",
    "# from sklearn.naive_bayes import GaussianNB \n",
    "# from sklearn.ensemble import RandomForestClassifier\n",
    "# from sklearn.svm import SVC\n",
    "# from sklearn import datasets\n",
    "# import numpy as np\n",
    "\n",
    "# # Initializing Classifiers\n",
    "# clf1 = LogisticRegression(random_state=1,\n",
    "#                           solver='newton-cg',\n",
    "#                           multi_class='multinomial')\n",
    "# clf2 = RandomForestClassifier(random_state=1, n_estimators=100)\n",
    "# clf3 = GaussianNB()\n",
    "# clf4 = SVC(gamma='auto')"
   ]
  },
  {
   "cell_type": "code",
   "execution_count": null,
   "id": "667d24f0",
   "metadata": {},
   "outputs": [],
   "source": [
    "# import matplotlib.pyplot as plt\n",
    "# from mlxtend.plotting import plot_decision_regions\n",
    "# import matplotlib.gridspec as gridspec\n",
    "# import itertools\n",
    "# gs = gridspec.GridSpec(2, 2)\n",
    "\n",
    "# fig = plt.figure(figsize=(10,8))\n",
    "\n",
    "# labels = ['Logistic Regression', 'Random Forest', 'Naive Bayes', 'SVM']\n",
    "# for clf, lab, grd in zip([clf1, clf2, clf3, clf4],\n",
    "#                          labels,\n",
    "#                          itertools.product([0, 1], repeat=2)):\n",
    "\n",
    "#     clf.fit(X, y)\n",
    "#     ax = plt.subplot(gs[grd[0], grd[1]])\n",
    "#     fig = plot_decision_regions(X=X, y=y, clf=clf, legend=2)\n",
    "#     plt.title(lab)\n",
    "\n",
    "# plt.show()"
   ]
  },
  {
   "cell_type": "code",
   "execution_count": null,
   "id": "2c15e8af",
   "metadata": {},
   "outputs": [],
   "source": [
    "from sklearn.decomposition import PCA\n"
   ]
  },
  {
   "cell_type": "code",
   "execution_count": null,
   "id": "ac136e93",
   "metadata": {},
   "outputs": [],
   "source": [
    "   \n",
    "X_train_pca = decomposition.PCA(n_components = 2).fit_transform(X_train)\n",
    "LogReg_pca = linear_model.LogisticRegression(C=3).fit(X_train_pca,y_train)\n",
    "\n",
    "plot_decision_regions(X_train_pca,y_train.astype(int).values, \n",
    "                      clf=LogReg_pca, legend=2) \n",
    "plt.xlabel('X_train')\n",
    "plt.ylabel('y_train')\n",
    "plt.title('Regression logistique')\n",
    "plt.show()\n",
    "print(f'Résultat de l\\'apprentissage = {round(LogReg_pca.score(X_train_pca,y_train)*100,3)} %')\n"
   ]
  },
  {
   "cell_type": "code",
   "execution_count": null,
   "id": "7efc5a0c",
   "metadata": {},
   "outputs": [],
   "source": [
    "   \n",
    "X_test_pca = decomposition.PCA(n_components = 2).fit_transform(X_test)\n",
    "\n",
    "plot_decision_regions(X_test_pca,y_test.astype(int).values, clf=LogReg_pca, legend=2)\n",
    "    #Adding axes annotations:\n",
    "plt.xlabel('X_test')\n",
    "plt.ylabel('y_test')\n",
    "plt.title('Regression logistique')\n",
    "plt.show()\n",
    "#précision du modèle\n",
    "precision = LogReg_pca.score(X_test_pca,y_test)\n",
    "print(f'Résultat du test = {round(precision*100,3)} %')\n"
   ]
  },
  {
   "cell_type": "code",
   "execution_count": null,
   "id": "a1d4dd6c",
   "metadata": {},
   "outputs": [],
   "source": [
    "# #valeurs caractéristiques et valeur cible\n",
    "# x = df_notes[['margin_low','margin_up','length']] \n",
    "# y = df_notes['is_genuine']\n",
    "# #fractionner dataset\n",
    "# X_train, x_test, y_train, y_test = train_test_split(x, y, random_state = 0)\n",
    "# #instanciation du modèle\n",
    "# modele_regLog = linear_model.LogisticRegression(random_state = 0,\n",
    "# solver = 'liblinear', multi_class = 'auto')\n",
    "# #training\n",
    "# modele_regLog.fit(x_train,y_train)"
   ]
  },
  {
   "cell_type": "code",
   "execution_count": null,
   "id": "c94548d4",
   "metadata": {},
   "outputs": [],
   "source": [
    "from sklearn.metrics import DetCurveDisplay, RocCurveDisplay ,ConfusionMatrixDisplay\n"
   ]
  },
  {
   "cell_type": "code",
   "execution_count": null,
   "id": "f905b4a0",
   "metadata": {},
   "outputs": [],
   "source": [
    "y_predict = LogReg_pca.predict(X_test_pca)\n",
    "#confusion matrix\n",
    "c1 = metrics.confusion_matrix(y_test, y_predict)\n",
    "disp = ConfusionMatrixDisplay(confusion_matrix=c1, display_labels=clf.classes_)\n",
    "disp.plot(cmap='GnBu')"
   ]
  },
  {
   "cell_type": "code",
   "execution_count": null,
   "id": "b60df851",
   "metadata": {},
   "outputs": [],
   "source": [
    "RocCurveDisplay.from_estimator(LogReg_pca, X_test_pca, y_test)"
   ]
  },
  {
   "cell_type": "code",
   "execution_count": null,
   "id": "0838868a",
   "metadata": {},
   "outputs": [],
   "source": []
  },
  {
   "cell_type": "markdown",
   "id": "545f1b02",
   "metadata": {},
   "source": [
    "# Test du modèle"
   ]
  },
  {
   "cell_type": "code",
   "execution_count": null,
   "id": "909c5319",
   "metadata": {},
   "outputs": [],
   "source": [
    "df_test = pd.read_csv('test_P6.csv')\n",
    "\n",
    "x_test_m1 = df_test[['margin_low','margin_up']]\n",
    "x_test_m2 = df_test[['margin_low','margin_up', 'length']]"
   ]
  },
  {
   "cell_type": "markdown",
   "id": "2c0e78f4",
   "metadata": {},
   "source": [
    "### Test avec statsmodels"
   ]
  },
  {
   "cell_type": "code",
   "execution_count": null,
   "id": "6cad99dd",
   "metadata": {},
   "outputs": [],
   "source": [
    "for i in reg_log.predict(x_test_m2):\n",
    "    if (i<=0.5):\n",
    "        print('False')\n",
    "    else :\n",
    "        print('True')"
   ]
  },
  {
   "cell_type": "markdown",
   "id": "75a27889",
   "metadata": {},
   "source": [
    "### Test avec sklearn"
   ]
  },
  {
   "cell_type": "code",
   "execution_count": null,
   "id": "788adc52",
   "metadata": {},
   "outputs": [],
   "source": [
    "modele_regLog.predict(x_test_m2)"
   ]
  },
  {
   "cell_type": "markdown",
   "id": "49a9b4c8",
   "metadata": {},
   "source": [
    "# Test du modèle"
   ]
  },
  {
   "cell_type": "code",
   "execution_count": null,
   "id": "d809ae21",
   "metadata": {},
   "outputs": [],
   "source": [
    "df_test = pd.read_csv('example.csv')\n",
    "\n",
    "x_test_m1 = df_test[['margin_low','margin_up']]\n",
    "x_test_m2 = df_test[['margin_low','margin_up', 'length']]"
   ]
  },
  {
   "cell_type": "markdown",
   "id": "497fff27",
   "metadata": {},
   "source": [
    "### Test avec statsmodels"
   ]
  },
  {
   "cell_type": "code",
   "execution_count": null,
   "id": "0f098106",
   "metadata": {},
   "outputs": [],
   "source": [
    "reg_log.predict(x_test_m2)"
   ]
  },
  {
   "cell_type": "code",
   "execution_count": null,
   "id": "7342bdf8",
   "metadata": {},
   "outputs": [],
   "source": [
    "\n",
    "for i in reg_log.predict(x_test_m2):\n",
    "    if (i<=0.5):\n",
    "        print('False')\n",
    "    else :\n",
    "        print('True')"
   ]
  },
  {
   "cell_type": "markdown",
   "id": "01cb2201",
   "metadata": {},
   "source": [
    "### Test avec sklearn"
   ]
  },
  {
   "cell_type": "code",
   "execution_count": null,
   "id": "f7cd394c",
   "metadata": {},
   "outputs": [],
   "source": [
    "df_test['resultat']= modele_regLog.predict(x_test_m2)"
   ]
  },
  {
   "cell_type": "code",
   "execution_count": null,
   "id": "5b361d59",
   "metadata": {},
   "outputs": [],
   "source": [
    "df_test"
   ]
  },
  {
   "cell_type": "code",
   "execution_count": null,
   "id": "df3fa68a",
   "metadata": {},
   "outputs": [],
   "source": []
  }
 ],
 "metadata": {
  "kernelspec": {
   "display_name": "Python 3 (ipykernel)",
   "language": "python",
   "name": "python3"
  },
  "language_info": {
   "codemirror_mode": {
    "name": "ipython",
    "version": 3
   },
   "file_extension": ".py",
   "mimetype": "text/x-python",
   "name": "python",
   "nbconvert_exporter": "python",
   "pygments_lexer": "ipython3",
   "version": "3.9.12"
  },
  "toc": {
   "base_numbering": 1,
   "nav_menu": {},
   "number_sections": false,
   "sideBar": true,
   "skip_h1_title": false,
   "title_cell": "Table of Contents",
   "title_sidebar": "Contents",
   "toc_cell": true,
   "toc_position": {
    "height": "calc(100% - 180px)",
    "left": "10px",
    "top": "150px",
    "width": "165px"
   },
   "toc_section_display": true,
   "toc_window_display": true
  },
  "varInspector": {
   "cols": {
    "lenName": 16,
    "lenType": 16,
    "lenVar": 40
   },
   "kernels_config": {
    "python": {
     "delete_cmd_postfix": "",
     "delete_cmd_prefix": "del ",
     "library": "var_list.py",
     "varRefreshCmd": "print(var_dic_list())"
    },
    "r": {
     "delete_cmd_postfix": ") ",
     "delete_cmd_prefix": "rm(",
     "library": "var_list.r",
     "varRefreshCmd": "cat(var_dic_list()) "
    }
   },
   "types_to_exclude": [
    "module",
    "function",
    "builtin_function_or_method",
    "instance",
    "_Feature"
   ],
   "window_display": false
  }
 },
 "nbformat": 4,
 "nbformat_minor": 5
}
