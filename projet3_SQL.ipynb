{
 "cells": [
  {
   "cell_type": "code",
   "execution_count": 1,
   "metadata": {},
   "outputs": [],
   "source": [
    "import pandas as pd\n",
    "import numpy as np"
   ]
  },
  {
   "cell_type": "code",
   "execution_count": 2,
   "metadata": {},
   "outputs": [],
   "source": [
    "# from sqlalchemy import create_engine\n",
    "import sqlite3"
   ]
  },
  {
   "cell_type": "code",
   "execution_count": 3,
   "metadata": {},
   "outputs": [],
   "source": [
    "# Importation des données\n",
    "df_population = pd.read_csv(\"data/fr_population.csv\")\n",
    "df_principale = pd.read_csv('data/df_prinicpale.csv')\n",
    "df_sous_alimentation = pd.read_csv('data/df_sous_alimentation2013.csv')"
   ]
  },
  {
   "cell_type": "markdown",
   "metadata": {},
   "source": [
    "# Traitement des dataframes pour faciliter leur utilisation par SQL"
   ]
  },
  {
   "cell_type": "code",
   "execution_count": 4,
   "metadata": {},
   "outputs": [],
   "source": [
    "# df_population\n",
    "df_population['Valeur'] = df_population['Valeur']*1000\n",
    "df_population = df_population[df_population['Année']==2013][['Zone','Code zone','Année','Valeur']]\n",
    "df_population.rename(columns={'Zone':'pays','Code zone':'code_pays','Année':'annee','Valeur':'population'},inplace = True)\n",
    "df_population.to_csv(\"data_sql/population.csv\", index = False)"
   ]
  },
  {
   "cell_type": "code",
   "execution_count": 5,
   "metadata": {},
   "outputs": [],
   "source": [
    "# df_dispo_alim\n",
    "df_principale['annee'] = 2013\n",
    "df_principale['dispo_alim_tonnes'] = \\\n",
    "df_principale['Disponibilité alimentaire en quantité (kg/personne/an)'] * df_principale['Population']/1000\n",
    "\n",
    "df_dispo_alim = df_principale[['Zone', 'Code zone', 'annee', 'Produit','Type',\n",
    "                           'dispo_alim_tonnes', 'Disponibilité alimentaire (Kcal/personne/jour)',\n",
    "                           'Disponibilité de protéines en quantité (g/personne/jour)',\n",
    "                           'Disponibilité de matière grasse en quantité (g/personne/jour)']].copy()\n",
    "\n",
    "df_dispo_alim.rename(columns = {'Zone':'pays', 'Code zone':'code_pays', 'Produit':'produit',\n",
    "                                'Type':'origin', 'Disponibilité alimentaire (Kcal/personne/jour)':'dispo_alim_kcal_p_j',\n",
    "                                'Disponibilité de protéines en quantité (g/personne/jour)':'dispo_prot',\n",
    "                                'Disponibilité de matière grasse en quantité (g/personne/jour)':'dispo_mat_gr'}, inplace=True)                \n",
    "\n",
    "df_dispo_alim.to_csv('data_sql/dispo_alim.csv', index = False)"
   ]
  },
  {
   "cell_type": "code",
   "execution_count": 6,
   "metadata": {},
   "outputs": [],
   "source": [
    "#df_equilibre_prod\n",
    "df_equilibre_prod = df_principale[['Zone', 'Code zone', 'annee', 'Produit', 'Disponibilité intérieure (kg/an)',\n",
    "                             'Aliments pour animaux (kg/an)','Semences (kg/an)','Pertes (kg/an)',\n",
    "                              'Traitement (kg/an)', 'Nourriture (kg/an)','Autres utilisations (non alimentaire) (kg/an)'\n",
    "                              ]].copy()  \n",
    "df_equilibre_prod.rename(columns = {'Zone':'pays', 'Code zone':'code_pays', 'Produit':'produit',\n",
    "                                 'Disponibilité intérieure (kg/an)':'dispo_int', \n",
    "                                 'Aliments pour animaux (kg/an)':'alim_ani','Semences (kg/an)':'semences',\n",
    "                                 'Pertes (kg/an)':'pertes', 'Traitement (kg/an)':'transfo','Nourriture (kg/an)':'nourriture',\n",
    "                                 'Autres utilisations (non alimentaire) (kg/an)':'autres_utilisations'},inplace=True)\n",
    "\n",
    "df_equilibre_prod.to_csv('data_sql/equilibre_prod.csv', index = False)"
   ]
  },
  {
   "cell_type": "code",
   "execution_count": 7,
   "metadata": {},
   "outputs": [],
   "source": [
    "# df_sous_nutrition\n",
    "# df_sous_alimentation2013['Année']=2013\n",
    "#df_sous_nutrition = df_sous_alimentation.groupby(['Zone','Code zone']).sum().reset_index().copy()\n",
    "df_sous_nutrition = df_sous_alimentation[['Zone', 'Code zone', 'Année', 'Valeur']].copy()\n",
    "df_sous_nutrition.rename(columns={'Zone':'pays', 'Code zone':'code_pays', 'Année':'annee',\n",
    "                                         'Valeur':'nb_personnes'}, inplace=True)\n",
    "df_sous_nutrition['nb_personnes'] *= 1000000\n",
    "df_sous_nutrition.to_csv('data_sql/sous_nutrition.csv', index = False)"
   ]
  },
  {
   "cell_type": "markdown",
   "metadata": {},
   "source": [
    "<b> Connection à SQLite </b>"
   ]
  },
  {
   "cell_type": "code",
   "execution_count": 8,
   "metadata": {},
   "outputs": [],
   "source": [
    "connection = sqlite3.connect(\"db_projet_1.db\")"
   ]
  },
  {
   "cell_type": "code",
   "execution_count": 9,
   "metadata": {},
   "outputs": [],
   "source": [
    "cursor = connection.cursor()"
   ]
  },
  {
   "cell_type": "code",
   "execution_count": 10,
   "metadata": {},
   "outputs": [
    {
     "name": "stdout",
     "output_type": "stream",
     "text": [
      "TABLE population créé avec succès\n"
     ]
    }
   ],
   "source": [
    "try:\n",
    "    cursor.execute('''\n",
    "    CREATE TABLE IF NOT EXISTS population(\n",
    "    pays TEXT(45) NOT NULL,\n",
    "    code_pays INT, \n",
    "    annee INT, \n",
    "    population REAL,\n",
    "    PRIMARY KEY(code_pays, annee)\n",
    "    )\n",
    "    ''')\n",
    "    print('TABLE population créé avec succès')\n",
    "except sqlite3.Error as e:\n",
    "    print(\"[Erreur] : \", e)"
   ]
  },
  {
   "cell_type": "code",
   "execution_count": 11,
   "metadata": {},
   "outputs": [
    {
     "name": "stdout",
     "output_type": "stream",
     "text": [
      "TABLE dispo_alim créé avec succès\n"
     ]
    }
   ],
   "source": [
    "try :\n",
    "    cursor.execute('''\n",
    "    CREATE TABLE IF NOT EXISTS dispo_alim (\n",
    "    pays TEXT(45) NOT NULL, \n",
    "    code_pays INT, \n",
    "    annee INT, \n",
    "    produit TEXT(45), \n",
    "    origin TEXT(20), \n",
    "    dispo_alim_tonnes REAL, \n",
    "    dispo_alim_kcal_p_j REAL, \n",
    "    dispo_prot REAL, \n",
    "    dispo_mat_gr REAL,\n",
    "    PRIMARY KEY(code_pays,annee, produit)\n",
    "    )\n",
    "    ''')\n",
    "    print('TABLE dispo_alim créé avec succès')\n",
    "except sqlite3.Error as e:\n",
    "    print(\"[Erreur] : \", e)\n",
    "    "
   ]
  },
  {
   "cell_type": "code",
   "execution_count": 12,
   "metadata": {},
   "outputs": [
    {
     "name": "stdout",
     "output_type": "stream",
     "text": [
      "TABLE equilibre_prod créé avec succès\n"
     ]
    }
   ],
   "source": [
    "try : \n",
    "    cursor.execute('''\n",
    "    CREATE TABLE IF NOT EXISTS equilibre_prod  (\n",
    "    pays TEXT(45), \n",
    "    code_pays INT, \n",
    "    annee INT, \n",
    "    produit TEXT(45), \n",
    "    dispo_int REAL,\n",
    "    alim_ani REAL, \n",
    "    semences REAL, \n",
    "    pertes REAL, \n",
    "    transfo REAL, \n",
    "    nourriture REAL, \n",
    "    autres_utilisations  REAL,\n",
    "    PRIMARY KEY(code_pays,annee, produit)\n",
    "    )\n",
    "    ''')\n",
    "    print('TABLE equilibre_prod créé avec succès')     \n",
    "except sqlite3.Error as e:\n",
    "    print(\"[Erreur] : \", e)"
   ]
  },
  {
   "cell_type": "code",
   "execution_count": 13,
   "metadata": {},
   "outputs": [
    {
     "name": "stdout",
     "output_type": "stream",
     "text": [
      "TABLE sous_nutrition créé avec succès\n"
     ]
    }
   ],
   "source": [
    "try:\n",
    "    cursor.execute('''\n",
    "    CREATE TABLE IF NOT EXISTS sous_nutrition (\n",
    "    pays TEXT(45), \n",
    "    code_pays INT, \n",
    "    annee INT, \n",
    "    nb_personnes REAL,\n",
    "    PRIMARY KEY(code_pays,annee)\n",
    "    )\n",
    "    ''')\n",
    "    print('TABLE sous_nutrition créé avec succès')\n",
    "    \n",
    "except sqlite3.Error as e:\n",
    "    print(\"[Erreur] : \", e)"
   ]
  },
  {
   "cell_type": "code",
   "execution_count": 14,
   "metadata": {},
   "outputs": [],
   "source": [
    "try:\n",
    "    df_population.to_sql('population', con=connection, if_exists='append',index=False)\n",
    "    connection.commit()\n",
    "except sqlite3.Error as e:\n",
    "    print(\"[Erreur] : \", e)"
   ]
  },
  {
   "cell_type": "code",
   "execution_count": 15,
   "metadata": {},
   "outputs": [],
   "source": [
    "try :\n",
    "    df_dispo_alim.to_sql('dispo_alim', con=connection, if_exists='append',index=False)\n",
    "    connection.commit()\n",
    "except sqlite3.Error as e:\n",
    "    print(\"[Erreur] : \", e)"
   ]
  },
  {
   "cell_type": "code",
   "execution_count": 16,
   "metadata": {},
   "outputs": [],
   "source": [
    "try :\n",
    "    df_equilibre_prod.to_sql('equilibre_prod', con=connection, if_exists='append',index=False)\n",
    "    connection.commit()\n",
    "except sqlite3.Error as e:\n",
    "    print(\"[Erreur] : \", e)"
   ]
  },
  {
   "cell_type": "code",
   "execution_count": 17,
   "metadata": {},
   "outputs": [],
   "source": [
    "try:\n",
    "    df_sous_nutrition.to_sql('sous_nutrition', con=connection, if_exists='append', index=False)\n",
    "    connection.commit()\n",
    "except sqlite3.Error as e:\n",
    "    print(\"[Erreur] : \", e)"
   ]
  },
  {
   "cell_type": "code",
   "execution_count": 18,
   "metadata": {},
   "outputs": [],
   "source": [
    "# cursor.execute(\"SELECT * FROM population\").fetchall()"
   ]
  },
  {
   "cell_type": "code",
   "execution_count": 19,
   "metadata": {},
   "outputs": [],
   "source": [
    "# connection.execute('INSERT INTO population VALUES (\"Afghanistan\", 2, 2013, 30552000)')"
   ]
  },
  {
   "cell_type": "markdown",
   "metadata": {},
   "source": [
    "# Réponse 9 :\n"
   ]
  },
  {
   "cell_type": "markdown",
   "metadata": {},
   "source": [
    "<b>Les 10 pays ayant le plus haut ratio disponibilité alimentaire/habitant en termes de protéines (en kg) par habitant.</b>"
   ]
  },
  {
   "cell_type": "code",
   "execution_count": 20,
   "metadata": {},
   "outputs": [
    {
     "data": {
      "text/plain": [
       "<sqlite3.Cursor at 0x171876d0f80>"
      ]
     },
     "execution_count": 20,
     "metadata": {},
     "output_type": "execute_result"
    }
   ],
   "source": [
    "# cursor.execute('DROP VIEW view_ratio')\n",
    "\n",
    " pd.read_sql_query('''\n",
    "CREATE VIEW view_ratio AS\n",
    "SELECT pays, code_pays, annee, sum(dispo_prot) as ratio_proteine, sum(dispo_alim_kcal_p_j) as ratio_calorique\n",
    "FROM dispo_alim\n",
    "GROUP BY code_pays\n",
    "''')\n"
   ]
  },
  {
   "cell_type": "code",
   "execution_count": 61,
   "metadata": {},
   "outputs": [
    {
     "data": {
      "text/html": [
       "<div>\n",
       "<style scoped>\n",
       "    .dataframe tbody tr th:only-of-type {\n",
       "        vertical-align: middle;\n",
       "    }\n",
       "\n",
       "    .dataframe tbody tr th {\n",
       "        vertical-align: top;\n",
       "    }\n",
       "\n",
       "    .dataframe thead th {\n",
       "        text-align: right;\n",
       "    }\n",
       "</style>\n",
       "<table border=\"1\" class=\"dataframe\">\n",
       "  <thead>\n",
       "    <tr style=\"text-align: right;\">\n",
       "      <th></th>\n",
       "      <th>pays</th>\n",
       "    </tr>\n",
       "  </thead>\n",
       "  <tbody>\n",
       "    <tr>\n",
       "      <th>0</th>\n",
       "      <td>Islande</td>\n",
       "    </tr>\n",
       "    <tr>\n",
       "      <th>1</th>\n",
       "      <td>Israël</td>\n",
       "    </tr>\n",
       "    <tr>\n",
       "      <th>2</th>\n",
       "      <td>Lituanie</td>\n",
       "    </tr>\n",
       "    <tr>\n",
       "      <th>3</th>\n",
       "      <td>Maldives</td>\n",
       "    </tr>\n",
       "    <tr>\n",
       "      <th>4</th>\n",
       "      <td>Finlande</td>\n",
       "    </tr>\n",
       "    <tr>\n",
       "      <th>5</th>\n",
       "      <td>Luxembourg</td>\n",
       "    </tr>\n",
       "    <tr>\n",
       "      <th>6</th>\n",
       "      <td>Monténégro</td>\n",
       "    </tr>\n",
       "    <tr>\n",
       "      <th>7</th>\n",
       "      <td>Pays-Bas</td>\n",
       "    </tr>\n",
       "    <tr>\n",
       "      <th>8</th>\n",
       "      <td>Albanie</td>\n",
       "    </tr>\n",
       "    <tr>\n",
       "      <th>9</th>\n",
       "      <td>Portugal</td>\n",
       "    </tr>\n",
       "  </tbody>\n",
       "</table>\n",
       "</div>"
      ],
      "text/plain": [
       "         pays\n",
       "0     Islande\n",
       "1      Israël\n",
       "2    Lituanie\n",
       "3    Maldives\n",
       "4    Finlande\n",
       "5  Luxembourg\n",
       "6  Monténégro\n",
       "7    Pays-Bas\n",
       "8     Albanie\n",
       "9    Portugal"
      ]
     },
     "execution_count": 61,
     "metadata": {},
     "output_type": "execute_result"
    }
   ],
   "source": [
    " pd.read_sql_query('''\n",
    "SELECT pays\n",
    "FROM view_ratio\n",
    "ORDER BY ratio_proteine DESC\n",
    "LIMIT 10\n",
    "''',connection)"
   ]
  },
  {
   "cell_type": "markdown",
   "metadata": {},
   "source": [
    "<b>Les 10 pays ayant le plus haut ratio disponibilité alimentaire/habitant en termes de kcal par habitant.</b>"
   ]
  },
  {
   "cell_type": "code",
   "execution_count": 62,
   "metadata": {},
   "outputs": [
    {
     "data": {
      "text/html": [
       "<div>\n",
       "<style scoped>\n",
       "    .dataframe tbody tr th:only-of-type {\n",
       "        vertical-align: middle;\n",
       "    }\n",
       "\n",
       "    .dataframe tbody tr th {\n",
       "        vertical-align: top;\n",
       "    }\n",
       "\n",
       "    .dataframe thead th {\n",
       "        text-align: right;\n",
       "    }\n",
       "</style>\n",
       "<table border=\"1\" class=\"dataframe\">\n",
       "  <thead>\n",
       "    <tr style=\"text-align: right;\">\n",
       "      <th></th>\n",
       "      <th>pays</th>\n",
       "    </tr>\n",
       "  </thead>\n",
       "  <tbody>\n",
       "    <tr>\n",
       "      <th>0</th>\n",
       "      <td>Autriche</td>\n",
       "    </tr>\n",
       "    <tr>\n",
       "      <th>1</th>\n",
       "      <td>Belgique</td>\n",
       "    </tr>\n",
       "    <tr>\n",
       "      <th>2</th>\n",
       "      <td>Turquie</td>\n",
       "    </tr>\n",
       "    <tr>\n",
       "      <th>3</th>\n",
       "      <td>États-Unis d'Amérique</td>\n",
       "    </tr>\n",
       "    <tr>\n",
       "      <th>4</th>\n",
       "      <td>Israël</td>\n",
       "    </tr>\n",
       "    <tr>\n",
       "      <th>5</th>\n",
       "      <td>Irlande</td>\n",
       "    </tr>\n",
       "    <tr>\n",
       "      <th>6</th>\n",
       "      <td>Italie</td>\n",
       "    </tr>\n",
       "    <tr>\n",
       "      <th>7</th>\n",
       "      <td>Luxembourg</td>\n",
       "    </tr>\n",
       "    <tr>\n",
       "      <th>8</th>\n",
       "      <td>Égypte</td>\n",
       "    </tr>\n",
       "    <tr>\n",
       "      <th>9</th>\n",
       "      <td>Allemagne</td>\n",
       "    </tr>\n",
       "  </tbody>\n",
       "</table>\n",
       "</div>"
      ],
      "text/plain": [
       "                    pays\n",
       "0               Autriche\n",
       "1               Belgique\n",
       "2                Turquie\n",
       "3  États-Unis d'Amérique\n",
       "4                 Israël\n",
       "5                Irlande\n",
       "6                 Italie\n",
       "7             Luxembourg\n",
       "8                 Égypte\n",
       "9              Allemagne"
      ]
     },
     "execution_count": 62,
     "metadata": {},
     "output_type": "execute_result"
    }
   ],
   "source": [
    " pd.read_sql_query('''\n",
    "SELECT pays\n",
    "FROM view_ratio\n",
    "ORDER BY ratio_calorique DESC\n",
    "LIMIT 10\n",
    "''',connection)"
   ]
  },
  {
   "cell_type": "markdown",
   "metadata": {},
   "source": [
    "<b>Pour l'année 2013, les 10 pays ayant le plus faible ratio disponibilité alimentaire/habitant en termes de protéines (en kg) par habitant.\n",
    "</b>"
   ]
  },
  {
   "cell_type": "code",
   "execution_count": 63,
   "metadata": {},
   "outputs": [
    {
     "data": {
      "text/html": [
       "<div>\n",
       "<style scoped>\n",
       "    .dataframe tbody tr th:only-of-type {\n",
       "        vertical-align: middle;\n",
       "    }\n",
       "\n",
       "    .dataframe tbody tr th {\n",
       "        vertical-align: top;\n",
       "    }\n",
       "\n",
       "    .dataframe thead th {\n",
       "        text-align: right;\n",
       "    }\n",
       "</style>\n",
       "<table border=\"1\" class=\"dataframe\">\n",
       "  <thead>\n",
       "    <tr style=\"text-align: right;\">\n",
       "      <th></th>\n",
       "      <th>pays</th>\n",
       "    </tr>\n",
       "  </thead>\n",
       "  <tbody>\n",
       "    <tr>\n",
       "      <th>0</th>\n",
       "      <td>Libéria</td>\n",
       "    </tr>\n",
       "    <tr>\n",
       "      <th>1</th>\n",
       "      <td>Guinée-Bissau</td>\n",
       "    </tr>\n",
       "    <tr>\n",
       "      <th>2</th>\n",
       "      <td>Mozambique</td>\n",
       "    </tr>\n",
       "    <tr>\n",
       "      <th>3</th>\n",
       "      <td>République centrafricaine</td>\n",
       "    </tr>\n",
       "    <tr>\n",
       "      <th>4</th>\n",
       "      <td>Madagascar</td>\n",
       "    </tr>\n",
       "    <tr>\n",
       "      <th>5</th>\n",
       "      <td>Haïti</td>\n",
       "    </tr>\n",
       "    <tr>\n",
       "      <th>6</th>\n",
       "      <td>Zimbabwe</td>\n",
       "    </tr>\n",
       "    <tr>\n",
       "      <th>7</th>\n",
       "      <td>Congo</td>\n",
       "    </tr>\n",
       "    <tr>\n",
       "      <th>8</th>\n",
       "      <td>Ouganda</td>\n",
       "    </tr>\n",
       "    <tr>\n",
       "      <th>9</th>\n",
       "      <td>Sao Tomé-et-Principe</td>\n",
       "    </tr>\n",
       "  </tbody>\n",
       "</table>\n",
       "</div>"
      ],
      "text/plain": [
       "                        pays\n",
       "0                    Libéria\n",
       "1              Guinée-Bissau\n",
       "2                 Mozambique\n",
       "3  République centrafricaine\n",
       "4                 Madagascar\n",
       "5                      Haïti\n",
       "6                   Zimbabwe\n",
       "7                      Congo\n",
       "8                    Ouganda\n",
       "9       Sao Tomé-et-Principe"
      ]
     },
     "execution_count": 63,
     "metadata": {},
     "output_type": "execute_result"
    }
   ],
   "source": [
    " pd.read_sql_query('''\n",
    "SELECT pays\n",
    "FROM view_ratio\n",
    "WHERE annee=2013\n",
    "ORDER BY ratio_proteine ASC\n",
    "LIMIT 10\n",
    "''',connection)"
   ]
  },
  {
   "cell_type": "markdown",
   "metadata": {},
   "source": [
    "<b>La quantité totale (en kg) de produits perdus par pays en 2013.\n",
    "</b>"
   ]
  },
  {
   "cell_type": "code",
   "execution_count": 64,
   "metadata": {},
   "outputs": [
    {
     "data": {
      "text/html": [
       "<div>\n",
       "<style scoped>\n",
       "    .dataframe tbody tr th:only-of-type {\n",
       "        vertical-align: middle;\n",
       "    }\n",
       "\n",
       "    .dataframe tbody tr th {\n",
       "        vertical-align: top;\n",
       "    }\n",
       "\n",
       "    .dataframe thead th {\n",
       "        text-align: right;\n",
       "    }\n",
       "</style>\n",
       "<table border=\"1\" class=\"dataframe\">\n",
       "  <thead>\n",
       "    <tr style=\"text-align: right;\">\n",
       "      <th></th>\n",
       "      <th>pays</th>\n",
       "      <th>quantite_produits_perdus</th>\n",
       "    </tr>\n",
       "  </thead>\n",
       "  <tbody>\n",
       "    <tr>\n",
       "      <th>0</th>\n",
       "      <td>Arménie</td>\n",
       "      <td>2.280000e+08</td>\n",
       "    </tr>\n",
       "    <tr>\n",
       "      <th>1</th>\n",
       "      <td>Afghanistan</td>\n",
       "      <td>1.135000e+09</td>\n",
       "    </tr>\n",
       "    <tr>\n",
       "      <th>2</th>\n",
       "      <td>Albanie</td>\n",
       "      <td>2.760000e+08</td>\n",
       "    </tr>\n",
       "    <tr>\n",
       "      <th>3</th>\n",
       "      <td>Algérie</td>\n",
       "      <td>3.753000e+09</td>\n",
       "    </tr>\n",
       "    <tr>\n",
       "      <th>4</th>\n",
       "      <td>Angola</td>\n",
       "      <td>4.799000e+09</td>\n",
       "    </tr>\n",
       "    <tr>\n",
       "      <th>...</th>\n",
       "      <td>...</td>\n",
       "      <td>...</td>\n",
       "    </tr>\n",
       "    <tr>\n",
       "      <th>166</th>\n",
       "      <td>Luxembourg</td>\n",
       "      <td>1.100000e+07</td>\n",
       "    </tr>\n",
       "    <tr>\n",
       "      <th>167</th>\n",
       "      <td>Serbie</td>\n",
       "      <td>7.070000e+08</td>\n",
       "    </tr>\n",
       "    <tr>\n",
       "      <th>168</th>\n",
       "      <td>Monténégro</td>\n",
       "      <td>3.300000e+07</td>\n",
       "    </tr>\n",
       "    <tr>\n",
       "      <th>169</th>\n",
       "      <td>Soudan</td>\n",
       "      <td>1.670000e+08</td>\n",
       "    </tr>\n",
       "    <tr>\n",
       "      <th>170</th>\n",
       "      <td>Chine</td>\n",
       "      <td>9.035800e+10</td>\n",
       "    </tr>\n",
       "  </tbody>\n",
       "</table>\n",
       "<p>171 rows × 2 columns</p>\n",
       "</div>"
      ],
      "text/plain": [
       "            pays  quantite_produits_perdus\n",
       "0        Arménie              2.280000e+08\n",
       "1    Afghanistan              1.135000e+09\n",
       "2        Albanie              2.760000e+08\n",
       "3        Algérie              3.753000e+09\n",
       "4         Angola              4.799000e+09\n",
       "..           ...                       ...\n",
       "166   Luxembourg              1.100000e+07\n",
       "167       Serbie              7.070000e+08\n",
       "168   Monténégro              3.300000e+07\n",
       "169       Soudan              1.670000e+08\n",
       "170        Chine              9.035800e+10\n",
       "\n",
       "[171 rows x 2 columns]"
      ]
     },
     "execution_count": 64,
     "metadata": {},
     "output_type": "execute_result"
    }
   ],
   "source": [
    " pd.read_sql_query('''\n",
    "SELECT pays, sum(pertes) as quantite_produits_perdus\n",
    "FROM equilibre_prod\n",
    "WHERE annee = 2013\n",
    "GROUP BY code_pays\n",
    "''',connection)"
   ]
  },
  {
   "cell_type": "markdown",
   "metadata": {},
   "source": [
    "<b>Les 10 pays pour lesquels la proportion de personnes sous-alimentées est la plus forte.\n",
    "</b>"
   ]
  },
  {
   "cell_type": "code",
   "execution_count": 43,
   "metadata": {},
   "outputs": [],
   "source": [
    "# SELECT *\n",
    "# FROM population p, \n",
    "# RIGHT JOIN sous_nutrition sn on (sn.code_pays = p.code_pays and sn.annee= p.annee)"
   ]
  },
  {
   "cell_type": "code",
   "execution_count": 69,
   "metadata": {},
   "outputs": [
    {
     "data": {
      "text/plain": [
       "[('République centrafricaine', 51.99306759098787),\n",
       " ('Zimbabwe', 50.88339222614841),\n",
       " ('Haïti', 50.402248715711934),\n",
       " ('Zambie', 48.146364949446316),\n",
       " ('République populaire démocratique de Corée', 43.78389234786102),\n",
       " ('Congo', 42.71582733812949),\n",
       " ('Madagascar', 39.69465648854962),\n",
       " ('Libéria', 39.59012575687005),\n",
       " ('Tchad', 38.98635477582846),\n",
       " ('Ouganda', 36.19042550360574)]"
      ]
     },
     "execution_count": 69,
     "metadata": {},
     "output_type": "execute_result"
    }
   ],
   "source": [
    "pays_sous_alimentation = cursor.execute('''\n",
    "SELECT p.pays, sn.nb_personnes * 100 / p.population as proportion_sous_nutristion\n",
    "FROM population p, sous_nutrition sn  \n",
    "WHERE sn.code_pays = p.code_pays and sn.annee = p.annee\n",
    "ORDER BY proportion_sous_nutristion DESC\n",
    "LIMIT 10\n",
    "''').fetchall()\n",
    "# print('Les 10 pays pour lesquels la proportion de personnes sous-alimentées est la plus forte :')\n",
    "# for pays, proportion in pays_sous_alimentation:\n",
    "#     print(pays)\n",
    "pays_sous_alimentation"
   ]
  },
  {
   "cell_type": "code",
   "execution_count": 67,
   "metadata": {},
   "outputs": [
    {
     "data": {
      "text/html": [
       "<div>\n",
       "<style scoped>\n",
       "    .dataframe tbody tr th:only-of-type {\n",
       "        vertical-align: middle;\n",
       "    }\n",
       "\n",
       "    .dataframe tbody tr th {\n",
       "        vertical-align: top;\n",
       "    }\n",
       "\n",
       "    .dataframe thead th {\n",
       "        text-align: right;\n",
       "    }\n",
       "</style>\n",
       "<table border=\"1\" class=\"dataframe\">\n",
       "  <thead>\n",
       "    <tr style=\"text-align: right;\">\n",
       "      <th></th>\n",
       "      <th>pays</th>\n",
       "      <th>prop</th>\n",
       "    </tr>\n",
       "  </thead>\n",
       "  <tbody>\n",
       "    <tr>\n",
       "      <th>0</th>\n",
       "      <td>République centrafricaine</td>\n",
       "      <td>0.519931</td>\n",
       "    </tr>\n",
       "    <tr>\n",
       "      <th>1</th>\n",
       "      <td>Zimbabwe</td>\n",
       "      <td>0.508834</td>\n",
       "    </tr>\n",
       "    <tr>\n",
       "      <th>2</th>\n",
       "      <td>Haïti</td>\n",
       "      <td>0.504022</td>\n",
       "    </tr>\n",
       "    <tr>\n",
       "      <th>3</th>\n",
       "      <td>Zambie</td>\n",
       "      <td>0.481464</td>\n",
       "    </tr>\n",
       "    <tr>\n",
       "      <th>4</th>\n",
       "      <td>République populaire démocratique de Corée</td>\n",
       "      <td>0.437839</td>\n",
       "    </tr>\n",
       "    <tr>\n",
       "      <th>5</th>\n",
       "      <td>Congo</td>\n",
       "      <td>0.427158</td>\n",
       "    </tr>\n",
       "    <tr>\n",
       "      <th>6</th>\n",
       "      <td>Madagascar</td>\n",
       "      <td>0.396947</td>\n",
       "    </tr>\n",
       "    <tr>\n",
       "      <th>7</th>\n",
       "      <td>Libéria</td>\n",
       "      <td>0.395901</td>\n",
       "    </tr>\n",
       "    <tr>\n",
       "      <th>8</th>\n",
       "      <td>Tchad</td>\n",
       "      <td>0.389864</td>\n",
       "    </tr>\n",
       "    <tr>\n",
       "      <th>9</th>\n",
       "      <td>Ouganda</td>\n",
       "      <td>0.361904</td>\n",
       "    </tr>\n",
       "  </tbody>\n",
       "</table>\n",
       "</div>"
      ],
      "text/plain": [
       "                                         pays      prop\n",
       "0                   République centrafricaine  0.519931\n",
       "1                                    Zimbabwe  0.508834\n",
       "2                                       Haïti  0.504022\n",
       "3                                      Zambie  0.481464\n",
       "4  République populaire démocratique de Corée  0.437839\n",
       "5                                       Congo  0.427158\n",
       "6                                  Madagascar  0.396947\n",
       "7                                     Libéria  0.395901\n",
       "8                                       Tchad  0.389864\n",
       "9                                     Ouganda  0.361904"
      ]
     },
     "execution_count": 67,
     "metadata": {},
     "output_type": "execute_result"
    }
   ],
   "source": [
    "pd.read_sql_query(\"SELECT pays, AVG(proportion) AS prop FROM (SELECT sous_nutrition.pays, nb_personnes / population AS proportion FROM sous_nutrition INNER JOIN population ON (sous_nutrition.annee = population.annee AND sous_nutrition.pays = population.pays) GROUP BY population.pays, population.annee) GROUP BY pays ORDER BY prop DESC LIMIT 10\", connection)"
   ]
  },
  {
   "cell_type": "markdown",
   "metadata": {},
   "source": [
    "<b>Les 10 produits pour lesquels le ratio Autres utilisations/Disponibilité intérieure est le plus élevé.</b>"
   ]
  },
  {
   "cell_type": "code",
   "execution_count": 60,
   "metadata": {},
   "outputs": [
    {
     "data": {
      "text/html": [
       "<div>\n",
       "<style scoped>\n",
       "    .dataframe tbody tr th:only-of-type {\n",
       "        vertical-align: middle;\n",
       "    }\n",
       "\n",
       "    .dataframe tbody tr th {\n",
       "        vertical-align: top;\n",
       "    }\n",
       "\n",
       "    .dataframe thead th {\n",
       "        text-align: right;\n",
       "    }\n",
       "</style>\n",
       "<table border=\"1\" class=\"dataframe\">\n",
       "  <thead>\n",
       "    <tr style=\"text-align: right;\">\n",
       "      <th></th>\n",
       "      <th>produit</th>\n",
       "      <th>ratio_autre</th>\n",
       "    </tr>\n",
       "  </thead>\n",
       "  <tbody>\n",
       "    <tr>\n",
       "      <th>0</th>\n",
       "      <td>Alcool, non Comestible</td>\n",
       "      <td>1.001288</td>\n",
       "    </tr>\n",
       "    <tr>\n",
       "      <th>1</th>\n",
       "      <td>Huil Plantes Oleif Autr</td>\n",
       "      <td>0.755024</td>\n",
       "    </tr>\n",
       "    <tr>\n",
       "      <th>2</th>\n",
       "      <td>Huile de Palmistes</td>\n",
       "      <td>0.704110</td>\n",
       "    </tr>\n",
       "    <tr>\n",
       "      <th>3</th>\n",
       "      <td>Huile de Palme</td>\n",
       "      <td>0.698109</td>\n",
       "    </tr>\n",
       "    <tr>\n",
       "      <th>4</th>\n",
       "      <td>Girofles</td>\n",
       "      <td>0.646154</td>\n",
       "    </tr>\n",
       "    <tr>\n",
       "      <th>5</th>\n",
       "      <td>Huile de Colza&amp;Moutarde</td>\n",
       "      <td>0.551290</td>\n",
       "    </tr>\n",
       "    <tr>\n",
       "      <th>6</th>\n",
       "      <td>Graisses Animales Crue</td>\n",
       "      <td>0.470176</td>\n",
       "    </tr>\n",
       "    <tr>\n",
       "      <th>7</th>\n",
       "      <td>Huiles de Poissons</td>\n",
       "      <td>0.448609</td>\n",
       "    </tr>\n",
       "    <tr>\n",
       "      <th>8</th>\n",
       "      <td>Huile de Soja</td>\n",
       "      <td>0.416172</td>\n",
       "    </tr>\n",
       "    <tr>\n",
       "      <th>9</th>\n",
       "      <td>Plantes Aquatiques</td>\n",
       "      <td>0.379299</td>\n",
       "    </tr>\n",
       "  </tbody>\n",
       "</table>\n",
       "</div>"
      ],
      "text/plain": [
       "                   produit  ratio_autre\n",
       "0   Alcool, non Comestible     1.001288\n",
       "1  Huil Plantes Oleif Autr     0.755024\n",
       "2       Huile de Palmistes     0.704110\n",
       "3           Huile de Palme     0.698109\n",
       "4                 Girofles     0.646154\n",
       "5  Huile de Colza&Moutarde     0.551290\n",
       "6   Graisses Animales Crue     0.470176\n",
       "7       Huiles de Poissons     0.448609\n",
       "8            Huile de Soja     0.416172\n",
       "9       Plantes Aquatiques     0.379299"
      ]
     },
     "execution_count": 60,
     "metadata": {},
     "output_type": "execute_result"
    }
   ],
   "source": [
    " pd.read_sql_query('''\n",
    "SELECT produit, \n",
    "       sum(autres_utilisations) / sum(dispo_int) AS ratio_autre\n",
    "  FROM equilibre_prod\n",
    " GROUP BY produit\n",
    " ORDER BY ratio_autre DESC\n",
    " LIMIT 10;\n",
    "''',connection)"
   ]
  },
  {
   "cell_type": "markdown",
   "metadata": {},
   "source": [
    "# Question 20 : pour quelques-uns des produits identifiés dans cette dernière requête SQL, supposez quelles sont ces \"autres utilisations\" possibles (recherchez sur Internet !)"
   ]
  },
  {
   "cell_type": "markdown",
   "metadata": {},
   "source": [
    "Le manioc est utilisé comme semoule ou comme fécule (tapioca)7,30 ou comme farine sans gluten31.\n",
    "\n",
    "Les feuilles au-dessus de la plante peuvent être broyées pour fabriquer du pondu, un légume traditionnel.\n",
    "\n",
    "Les plats les plus connus sont le foufou, l'attiéké un couscous de manioc, le Mpondu à base de manioc et de poisson, le pondu madesu, à base de manioc et de haricots.\n",
    "\n",
    "Le manioc est aussi utilisé pour fabriquer une tortilla, le cassave, un pain la chikwangue et des bières traditionnelles7 telles la cachiri, le munkoyo ou la mbégé."
   ]
  },
  {
   "cell_type": "code",
   "execution_count": null,
   "metadata": {},
   "outputs": [],
   "source": []
  },
  {
   "cell_type": "code",
   "execution_count": null,
   "metadata": {},
   "outputs": [],
   "source": []
  },
  {
   "cell_type": "code",
   "execution_count": null,
   "metadata": {},
   "outputs": [],
   "source": []
  },
  {
   "cell_type": "code",
   "execution_count": null,
   "metadata": {},
   "outputs": [],
   "source": []
  },
  {
   "cell_type": "code",
   "execution_count": null,
   "metadata": {},
   "outputs": [],
   "source": []
  },
  {
   "cell_type": "code",
   "execution_count": null,
   "metadata": {},
   "outputs": [],
   "source": [
    "cursor.execute('''\n",
    "\n",
    "\n",
    "''').fetchall()"
   ]
  },
  {
   "cell_type": "code",
   "execution_count": null,
   "metadata": {},
   "outputs": [],
   "source": [
    "connection.close()"
   ]
  },
  {
   "cell_type": "code",
   "execution_count": 52,
   "metadata": {},
   "outputs": [
    {
     "data": {
      "text/html": [
       "<div>\n",
       "<style scoped>\n",
       "    .dataframe tbody tr th:only-of-type {\n",
       "        vertical-align: middle;\n",
       "    }\n",
       "\n",
       "    .dataframe tbody tr th {\n",
       "        vertical-align: top;\n",
       "    }\n",
       "\n",
       "    .dataframe thead th {\n",
       "        text-align: right;\n",
       "    }\n",
       "</style>\n",
       "<table border=\"1\" class=\"dataframe\">\n",
       "  <thead>\n",
       "    <tr style=\"text-align: right;\">\n",
       "      <th></th>\n",
       "      <th>Code zone</th>\n",
       "      <th>Pertes (kg/an)</th>\n",
       "    </tr>\n",
       "    <tr>\n",
       "      <th>Produit</th>\n",
       "      <th></th>\n",
       "      <th></th>\n",
       "    </tr>\n",
       "  </thead>\n",
       "  <tbody>\n",
       "    <tr>\n",
       "      <th>Abats Comestible</th>\n",
       "      <td>21697</td>\n",
       "      <td>7.300000e+07</td>\n",
       "    </tr>\n",
       "    <tr>\n",
       "      <th>Agrumes, Autres</th>\n",
       "      <td>19988</td>\n",
       "      <td>8.100000e+08</td>\n",
       "    </tr>\n",
       "    <tr>\n",
       "      <th>Alcool, non Comestible</th>\n",
       "      <td>19983</td>\n",
       "      <td>0.000000e+00</td>\n",
       "    </tr>\n",
       "    <tr>\n",
       "      <th>Aliments pour enfants</th>\n",
       "      <td>21251</td>\n",
       "      <td>1.000000e+06</td>\n",
       "    </tr>\n",
       "    <tr>\n",
       "      <th>Ananas</th>\n",
       "      <td>20990</td>\n",
       "      <td>2.745000e+09</td>\n",
       "    </tr>\n",
       "    <tr>\n",
       "      <th>...</th>\n",
       "      <td>...</td>\n",
       "      <td>...</td>\n",
       "    </tr>\n",
       "    <tr>\n",
       "      <th>Viande de Suides</th>\n",
       "      <td>21577</td>\n",
       "      <td>2.750000e+08</td>\n",
       "    </tr>\n",
       "    <tr>\n",
       "      <th>Viande de Volailles</th>\n",
       "      <td>21697</td>\n",
       "      <td>3.850000e+08</td>\n",
       "    </tr>\n",
       "    <tr>\n",
       "      <th>Viande, Autre</th>\n",
       "      <td>21697</td>\n",
       "      <td>1.300000e+07</td>\n",
       "    </tr>\n",
       "    <tr>\n",
       "      <th>Vin</th>\n",
       "      <td>21463</td>\n",
       "      <td>2.840000e+08</td>\n",
       "    </tr>\n",
       "    <tr>\n",
       "      <th>Épices, Autres</th>\n",
       "      <td>21368</td>\n",
       "      <td>9.100000e+07</td>\n",
       "    </tr>\n",
       "  </tbody>\n",
       "</table>\n",
       "<p>98 rows × 2 columns</p>\n",
       "</div>"
      ],
      "text/plain": [
       "                        Code zone  Pertes (kg/an)\n",
       "Produit                                          \n",
       "Abats Comestible            21697    7.300000e+07\n",
       "Agrumes, Autres             19988    8.100000e+08\n",
       "Alcool, non Comestible      19983    0.000000e+00\n",
       "Aliments pour enfants       21251    1.000000e+06\n",
       "Ananas                      20990    2.745000e+09\n",
       "...                           ...             ...\n",
       "Viande de Suides            21577    2.750000e+08\n",
       "Viande de Volailles         21697    3.850000e+08\n",
       "Viande, Autre               21697    1.300000e+07\n",
       "Vin                         21463    2.840000e+08\n",
       "Épices, Autres              21368    9.100000e+07\n",
       "\n",
       "[98 rows x 2 columns]"
      ]
     },
     "execution_count": 52,
     "metadata": {},
     "output_type": "execute_result"
    }
   ],
   "source": [
    "df_principale[['Code zone','Produit','Pertes (kg/an)']].groupby(\"Produit\").sum()"
   ]
  },
  {
   "cell_type": "code",
   "execution_count": 56,
   "metadata": {},
   "outputs": [
    {
     "data": {
      "text/html": [
       "<div>\n",
       "<style scoped>\n",
       "    .dataframe tbody tr th:only-of-type {\n",
       "        vertical-align: middle;\n",
       "    }\n",
       "\n",
       "    .dataframe tbody tr th {\n",
       "        vertical-align: top;\n",
       "    }\n",
       "\n",
       "    .dataframe thead th {\n",
       "        text-align: right;\n",
       "    }\n",
       "</style>\n",
       "<table border=\"1\" class=\"dataframe\">\n",
       "  <thead>\n",
       "    <tr style=\"text-align: right;\">\n",
       "      <th></th>\n",
       "      <th>pertes</th>\n",
       "    </tr>\n",
       "    <tr>\n",
       "      <th>produit</th>\n",
       "      <th></th>\n",
       "    </tr>\n",
       "  </thead>\n",
       "  <tbody>\n",
       "    <tr>\n",
       "      <th>Abats Comestible</th>\n",
       "      <td>7.300000e+07</td>\n",
       "    </tr>\n",
       "    <tr>\n",
       "      <th>Agrumes, Autres</th>\n",
       "      <td>8.100000e+08</td>\n",
       "    </tr>\n",
       "    <tr>\n",
       "      <th>Alcool, non Comestible</th>\n",
       "      <td>0.000000e+00</td>\n",
       "    </tr>\n",
       "    <tr>\n",
       "      <th>Aliments pour enfants</th>\n",
       "      <td>1.000000e+06</td>\n",
       "    </tr>\n",
       "    <tr>\n",
       "      <th>Ananas</th>\n",
       "      <td>2.745000e+09</td>\n",
       "    </tr>\n",
       "    <tr>\n",
       "      <th>...</th>\n",
       "      <td>...</td>\n",
       "    </tr>\n",
       "    <tr>\n",
       "      <th>Viande de Suides</th>\n",
       "      <td>2.750000e+08</td>\n",
       "    </tr>\n",
       "    <tr>\n",
       "      <th>Viande de Volailles</th>\n",
       "      <td>3.850000e+08</td>\n",
       "    </tr>\n",
       "    <tr>\n",
       "      <th>Viande, Autre</th>\n",
       "      <td>1.300000e+07</td>\n",
       "    </tr>\n",
       "    <tr>\n",
       "      <th>Vin</th>\n",
       "      <td>2.840000e+08</td>\n",
       "    </tr>\n",
       "    <tr>\n",
       "      <th>Épices, Autres</th>\n",
       "      <td>9.100000e+07</td>\n",
       "    </tr>\n",
       "  </tbody>\n",
       "</table>\n",
       "<p>98 rows × 1 columns</p>\n",
       "</div>"
      ],
      "text/plain": [
       "                              pertes\n",
       "produit                             \n",
       "Abats Comestible        7.300000e+07\n",
       "Agrumes, Autres         8.100000e+08\n",
       "Alcool, non Comestible  0.000000e+00\n",
       "Aliments pour enfants   1.000000e+06\n",
       "Ananas                  2.745000e+09\n",
       "...                              ...\n",
       "Viande de Suides        2.750000e+08\n",
       "Viande de Volailles     3.850000e+08\n",
       "Viande, Autre           1.300000e+07\n",
       "Vin                     2.840000e+08\n",
       "Épices, Autres          9.100000e+07\n",
       "\n",
       "[98 rows x 1 columns]"
      ]
     },
     "execution_count": 56,
     "metadata": {},
     "output_type": "execute_result"
    }
   ],
   "source": [
    "df_equilibre_prod[['produit','pertes']].groupby(\"produit\").sum()"
   ]
  },
  {
   "cell_type": "code",
   "execution_count": null,
   "metadata": {},
   "outputs": [],
   "source": []
  }
 ],
 "metadata": {
  "kernelspec": {
   "display_name": "Python 3",
   "language": "python",
   "name": "python3"
  },
  "language_info": {
   "codemirror_mode": {
    "name": "ipython",
    "version": 3
   },
   "file_extension": ".py",
   "mimetype": "text/x-python",
   "name": "python",
   "nbconvert_exporter": "python",
   "pygments_lexer": "ipython3",
   "version": "3.8.10"
  }
 },
 "nbformat": 4,
 "nbformat_minor": 4
}
