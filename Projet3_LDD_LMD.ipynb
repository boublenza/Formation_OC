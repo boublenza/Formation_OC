{
 "cells": [
  {
   "cell_type": "code",
   "execution_count": 1,
   "metadata": {},
   "outputs": [],
   "source": [
    "import pandas as pd\n",
    "import numpy as np\n",
    "import sqlite3"
   ]
  },
  {
   "cell_type": "code",
   "execution_count": 2,
   "metadata": {},
   "outputs": [],
   "source": [
    "# Importation des données\n",
    "df_population = pd.read_csv(\"data_sql/df_population.csv\")\n",
    "df_principale = pd.read_csv('data_sql/df_prinicpale.csv')\n",
    "df_sous_alimentation = pd.read_csv('data_sql/df_sous_alimentation2013.csv')"
   ]
  },
  {
   "cell_type": "markdown",
   "metadata": {},
   "source": [
    "# Prétraitement des données pour répecter le cahier de charge"
   ]
  },
  {
   "cell_type": "code",
   "execution_count": 3,
   "metadata": {},
   "outputs": [],
   "source": [
    "# df_population\n",
    "df_population['Valeur'] = df_population['Valeur']*1000\n",
    "df_population = df_population[df_population['Année']==2013][['Zone','Code zone','Année','Valeur']]\n",
    "df_population.rename(columns={'Zone':'pays','Code zone':'code_pays','Année':'annee','Valeur':'population'},inplace = True)\n",
    "df_population.to_csv(\"data_sql/population.csv\", index = False)"
   ]
  },
  {
   "cell_type": "code",
   "execution_count": 4,
   "metadata": {},
   "outputs": [],
   "source": [
    "# df_dispo_alim\n",
    "df_principale['annee'] = 2013\n",
    "df_principale['dispo_alim_tonnes'] = \\\n",
    "df_principale['Disponibilité alimentaire en quantité (kg/personne/an)'] * df_principale['Population']/1000\n",
    "\n",
    "df_dispo_alim = df_principale[['Zone', 'Code zone', 'annee', 'Produit','Type',\n",
    "                           'dispo_alim_tonnes', 'Disponibilité alimentaire (Kcal/personne/jour)',\n",
    "                           'Disponibilité de protéines en quantité (g/personne/jour)',\n",
    "                           'Disponibilité de matière grasse en quantité (g/personne/jour)']].copy()\n",
    "\n",
    "df_dispo_alim.rename(columns = {'Zone':'pays', 'Code zone':'code_pays', 'Produit':'produit',\n",
    "                                'Type':'origin', 'Disponibilité alimentaire (Kcal/personne/jour)':'dispo_alim_kcal_p_j',\n",
    "                                'Disponibilité de protéines en quantité (g/personne/jour)':'dispo_prot',\n",
    "                                'Disponibilité de matière grasse en quantité (g/personne/jour)':'dispo_mat_gr'}, inplace=True)                \n",
    "\n",
    "df_dispo_alim.to_csv('data_sql/dispo_alim.csv', index = False)"
   ]
  },
  {
   "cell_type": "code",
   "execution_count": 5,
   "metadata": {},
   "outputs": [],
   "source": [
    "#df_equilibre_prod\n",
    "df_equilibre_prod = df_principale[['Zone', 'Code zone', 'annee', 'Produit', 'Disponibilité intérieure (kg/an)',\n",
    "                             'Aliments pour animaux (kg/an)','Semences (kg/an)','Pertes (kg/an)',\n",
    "                              'Traitement (kg/an)', 'Nourriture (kg/an)','Autres utilisations (non alimentaire) (kg/an)'\n",
    "                              ]].copy()  \n",
    "df_equilibre_prod.rename(columns = {'Zone':'pays', 'Code zone':'code_pays', 'Produit':'produit',\n",
    "                                 'Disponibilité intérieure (kg/an)':'dispo_int', \n",
    "                                 'Aliments pour animaux (kg/an)':'alim_ani','Semences (kg/an)':'semences',\n",
    "                                 'Pertes (kg/an)':'pertes', 'Traitement (kg/an)':'transfo','Nourriture (kg/an)':'nourriture',\n",
    "                                 'Autres utilisations (non alimentaire) (kg/an)':'autres_utilisations'},inplace=True)\n",
    "\n",
    "df_equilibre_prod.to_csv('data_sql/equilibre_prod.csv', index = False)"
   ]
  },
  {
   "cell_type": "code",
   "execution_count": 6,
   "metadata": {},
   "outputs": [],
   "source": [
    "# df_sous_nutrition\n",
    "# df_sous_alimentation2013['Année']=2013\n",
    "#df_sous_nutrition = df_sous_alimentation.groupby(['Zone','Code zone']).sum().reset_index().copy()\n",
    "df_sous_nutrition = df_sous_alimentation[['Zone', 'Code zone', 'Année', 'Valeur']].copy()\n",
    "df_sous_nutrition.rename(columns={'Zone':'pays', 'Code zone':'code_pays', 'Année':'annee',\n",
    "                                         'Valeur':'nb_personnes'}, inplace=True)\n",
    "df_sous_nutrition['nb_personnes'] *= 1000000\n",
    "df_sous_nutrition.to_csv('data_sql/sous_nutrition.csv', index = False)"
   ]
  },
  {
   "cell_type": "code",
   "execution_count": 7,
   "metadata": {},
   "outputs": [],
   "source": [
    "# Récupérer le contenu des tables\n",
    "# df_population = pd.read_csv(\"data_sql/population.csv\")\n",
    "# df_dispo_alim = pd.read_csv('data_sql/dispo_alim.csv')\n",
    "# df_equilibre_prod = pd.read_csv('data_sql/equilibre_prod.csv')\n",
    "# df_sous_nutrition = pd.read_csv('data_sql/sous_nutrition.csv')"
   ]
  },
  {
   "cell_type": "markdown",
   "metadata": {},
   "source": [
    "# Connection à SQLite "
   ]
  },
  {
   "cell_type": "code",
   "execution_count": 8,
   "metadata": {},
   "outputs": [],
   "source": [
    "connection = sqlite3.connect(\"data_sql/db_projet_1.db\")\n",
    "cursor = connection.cursor()"
   ]
  },
  {
   "cell_type": "markdown",
   "metadata": {},
   "source": [
    "## Création des 4 tables (vides)"
   ]
  },
  {
   "cell_type": "code",
   "execution_count": 10,
   "metadata": {},
   "outputs": [
    {
     "name": "stdout",
     "output_type": "stream",
     "text": [
      "TABLE population créé avec succès\n"
     ]
    }
   ],
   "source": [
    "try:\n",
    "    cursor.execute('''\n",
    "    CREATE TABLE population(\n",
    "    pays TEXT NOT NULL,\n",
    "    code_pays INT, \n",
    "    annee INT, \n",
    "    population REAL,\n",
    "    PRIMARY KEY(code_pays, annee)\n",
    "    )\n",
    "    ''')\n",
    "    print('TABLE population créé avec succès')\n",
    "except sqlite3.Error as e:\n",
    "    print(\"[Erreur] : \", e)"
   ]
  },
  {
   "cell_type": "code",
   "execution_count": 11,
   "metadata": {},
   "outputs": [
    {
     "name": "stdout",
     "output_type": "stream",
     "text": [
      "TABLE dispo_alim créé avec succès\n"
     ]
    }
   ],
   "source": [
    "try :\n",
    "    cursor.execute('''\n",
    "    CREATE TABLE dispo_alim (\n",
    "    pays TEXT NOT NULL, \n",
    "    code_pays INT, \n",
    "    annee INT, \n",
    "    produit TEXT, \n",
    "    origin TEXT, \n",
    "    dispo_alim_tonnes REAL, \n",
    "    dispo_alim_kcal_p_j REAL, \n",
    "    dispo_prot REAL, \n",
    "    dispo_mat_gr REAL,\n",
    "    PRIMARY KEY(code_pays,annee, produit)\n",
    "    )\n",
    "    ''')\n",
    "    print('TABLE dispo_alim créé avec succès')\n",
    "except sqlite3.Error as e:\n",
    "    print(\"[Erreur] : \", e)\n",
    "    "
   ]
  },
  {
   "cell_type": "code",
   "execution_count": 12,
   "metadata": {},
   "outputs": [
    {
     "name": "stdout",
     "output_type": "stream",
     "text": [
      "TABLE equilibre_prod créé avec succès\n"
     ]
    }
   ],
   "source": [
    "try : \n",
    "    cursor.execute('''\n",
    "    CREATE TABLE equilibre_prod  (\n",
    "    pays TEXT, \n",
    "    code_pays INT, \n",
    "    annee INT, \n",
    "    produit TEXT, \n",
    "    dispo_int REAL,\n",
    "    alim_ani REAL, \n",
    "    semences REAL, \n",
    "    pertes REAL, \n",
    "    transfo REAL, \n",
    "    nourriture REAL, \n",
    "    autres_utilisations REAL,\n",
    "    PRIMARY KEY(code_pays,annee, produit)\n",
    "    )\n",
    "    ''')\n",
    "    print('TABLE equilibre_prod créé avec succès')     \n",
    "except sqlite3.Error as e:\n",
    "    print(\"[Erreur] : \", e)"
   ]
  },
  {
   "cell_type": "code",
   "execution_count": 13,
   "metadata": {},
   "outputs": [
    {
     "name": "stdout",
     "output_type": "stream",
     "text": [
      "TABLE sous_nutrition créé avec succès\n"
     ]
    }
   ],
   "source": [
    "try:\n",
    "    cursor.execute('''\n",
    "    CREATE TABLE IF NOT EXISTS sous_nutrition (\n",
    "    pays TEXT, \n",
    "    code_pays INT, \n",
    "    annee INT, \n",
    "    nb_personnes REAL,\n",
    "    PRIMARY KEY(code_pays,annee)\n",
    "    )\n",
    "    ''')\n",
    "    print('TABLE sous_nutrition créé avec succès')\n",
    "    \n",
    "except sqlite3.Error as e:\n",
    "    print(\"[Erreur] : \", e)"
   ]
  },
  {
   "cell_type": "markdown",
   "metadata": {},
   "source": [
    "## Rajouter les données à chaque table (à partir des df) "
   ]
  },
  {
   "cell_type": "code",
   "execution_count": 14,
   "metadata": {},
   "outputs": [],
   "source": [
    "try:\n",
    "    df_population.to_sql('population', con=connection, if_exists='append',index=False)\n",
    "    connection.commit()\n",
    "except sqlite3.Error as e:\n",
    "    print(\"[Erreur] : \", e)"
   ]
  },
  {
   "cell_type": "code",
   "execution_count": 15,
   "metadata": {},
   "outputs": [],
   "source": [
    "try :\n",
    "    df_dispo_alim.to_sql('dispo_alim', con=connection, if_exists='append',index=False)\n",
    "    connection.commit()\n",
    "except sqlite3.Error as e:\n",
    "    print(\"[Erreur] : \", e)"
   ]
  },
  {
   "cell_type": "code",
   "execution_count": 16,
   "metadata": {},
   "outputs": [],
   "source": [
    "try :\n",
    "    df_equilibre_prod.to_sql('equilibre_prod', con=connection, if_exists='append',index=False)\n",
    "    connection.commit()\n",
    "except sqlite3.Error as e:\n",
    "    print(\"[Erreur] : \", e)"
   ]
  },
  {
   "cell_type": "code",
   "execution_count": 17,
   "metadata": {},
   "outputs": [],
   "source": [
    "try:\n",
    "    df_sous_nutrition.to_sql('sous_nutrition', con=connection, if_exists='append', index=False)\n",
    "    connection.commit()\n",
    "except sqlite3.Error as e:\n",
    "    print(\"[Erreur] : \", e)"
   ]
  },
  {
   "cell_type": "code",
   "execution_count": 18,
   "metadata": {},
   "outputs": [],
   "source": [
    "# Fermeture de la connextion avec SQLite\n",
    "connection.close()"
   ]
  },
  {
   "cell_type": "code",
   "execution_count": null,
   "metadata": {},
   "outputs": [],
   "source": []
  }
 ],
 "metadata": {
  "kernelspec": {
   "display_name": "Python 3",
   "language": "python",
   "name": "python3"
  },
  "language_info": {
   "codemirror_mode": {
    "name": "ipython",
    "version": 3
   },
   "file_extension": ".py",
   "mimetype": "text/x-python",
   "name": "python",
   "nbconvert_exporter": "python",
   "pygments_lexer": "ipython3",
   "version": "3.8.10"
  },
  "toc": {
   "base_numbering": 1,
   "nav_menu": {},
   "number_sections": false,
   "sideBar": false,
   "skip_h1_title": false,
   "title_cell": "Table of Contents",
   "title_sidebar": "Contents",
   "toc_cell": false,
   "toc_position": {
    "height": "236px",
    "left": "843.525px",
    "top": "134.4px",
    "width": "180.475px"
   },
   "toc_section_display": false,
   "toc_window_display": true
  },
  "varInspector": {
   "cols": {
    "lenName": 16,
    "lenType": 16,
    "lenVar": 40
   },
   "kernels_config": {
    "python": {
     "delete_cmd_postfix": "",
     "delete_cmd_prefix": "del ",
     "library": "var_list.py",
     "varRefreshCmd": "print(var_dic_list())"
    },
    "r": {
     "delete_cmd_postfix": ") ",
     "delete_cmd_prefix": "rm(",
     "library": "var_list.r",
     "varRefreshCmd": "cat(var_dic_list()) "
    }
   },
   "types_to_exclude": [
    "module",
    "function",
    "builtin_function_or_method",
    "instance",
    "_Feature"
   ],
   "window_display": false
  }
 },
 "nbformat": 4,
 "nbformat_minor": 4
}
