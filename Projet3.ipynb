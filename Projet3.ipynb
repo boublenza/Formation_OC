{
 "cells": [
  {
   "cell_type": "markdown",
   "metadata": {},
   "source": [
    "# Ouvrir les fichiers CSV avec Pandas"
   ]
  },
  {
   "cell_type": "code",
   "execution_count": 1,
   "metadata": {},
   "outputs": [],
   "source": [
    "import pandas as pd\n",
    "import numpy as np\n",
    "#pd.set_option(\"max_rows\", None)  #Préciser le nombre de lignes max"
   ]
  },
  {
   "cell_type": "code",
   "execution_count": 2,
   "metadata": {},
   "outputs": [],
   "source": [
    "df_population = pd.read_csv(\"data/fr_population.csv\")\n",
    "df_animaux = pd.read_csv(\"data/fr_animaux.csv\")\n",
    "df_vegetaux = pd.read_csv(\"data/fr_vegetaux.csv\")\n",
    "df_cereales = pd.read_csv(\"data/fr_céréales.csv\")\n",
    "df_sous_alimentation = pd.read_csv(\"data/fr_sousalimentation.csv\")"
   ]
  },
  {
   "cell_type": "markdown",
   "metadata": {},
   "source": [
    "## Aperçu génaral des données"
   ]
  },
  {
   "cell_type": "code",
   "execution_count": 3,
   "metadata": {},
   "outputs": [],
   "source": [
    "# df_population.head(5)"
   ]
  },
  {
   "cell_type": "code",
   "execution_count": 4,
   "metadata": {},
   "outputs": [],
   "source": [
    "# df_population.describe()"
   ]
  },
  {
   "cell_type": "code",
   "execution_count": 5,
   "metadata": {
    "scrolled": true
   },
   "outputs": [],
   "source": [
    "# df_animaux.head(5)"
   ]
  },
  {
   "cell_type": "code",
   "execution_count": 6,
   "metadata": {},
   "outputs": [],
   "source": [
    "# df_animaux.describe()"
   ]
  },
  {
   "cell_type": "code",
   "execution_count": 7,
   "metadata": {
    "scrolled": true
   },
   "outputs": [],
   "source": [
    "# df_vegetaux.head(5)"
   ]
  },
  {
   "cell_type": "code",
   "execution_count": 8,
   "metadata": {
    "scrolled": true
   },
   "outputs": [],
   "source": [
    "# df_vegetaux.describe()"
   ]
  },
  {
   "cell_type": "code",
   "execution_count": 9,
   "metadata": {
    "scrolled": true
   },
   "outputs": [],
   "source": [
    "# df_cereales.head()"
   ]
  },
  {
   "cell_type": "code",
   "execution_count": 10,
   "metadata": {},
   "outputs": [],
   "source": [
    "# df_cereales.describe()"
   ]
  },
  {
   "cell_type": "code",
   "execution_count": 11,
   "metadata": {},
   "outputs": [],
   "source": [
    "# df_sous_alimentation.describe()"
   ]
  },
  {
   "cell_type": "markdown",
   "metadata": {},
   "source": [
    "# Réponse 1  : Nombre total d’humains sur la planète"
   ]
  },
  {
   "cell_type": "code",
   "execution_count": 12,
   "metadata": {},
   "outputs": [
    {
     "data": {
      "text/plain": [
       "8413993000"
      ]
     },
     "execution_count": 12,
     "metadata": {},
     "output_type": "execute_result"
    }
   ],
   "source": [
    "df_population2013 = df_population[df_population['Code année']==2013].copy()\n",
    "df_population2013['Valeur'].sum() * 1000\n",
    "#L'unité utilisé dans notre db est 1000 personnes"
   ]
  },
  {
   "cell_type": "markdown",
   "metadata": {},
   "source": [
    "<ul>\n",
    "    <li> Pour le nombre total d'humains en 2013, nous avons obtenue : <b>8 413 993 000</b> personnes </li>\n",
    "    <li>Or, selon <a href = https://www.worldbank.org/>la banque mondiale</a> la population mondiale en 2013 est environ 7 Md d'humaines </li>\n",
    "    <li>Afin de clarifier notre résultat nous allons :      \n",
    "        <ol>            \n",
    "            <li>Vérifier si le nombre de population pour un pays donnée est calculé plusieurs fois</li>\n",
    "            <li>Les valeurs manquantes pour année ou code année</li>\n",
    "            <li>Observer les données <a href = https://www.fao.org/faostat/fr/#definitions>non officielles</a>  </li>                </ol>\n",
    "    </li> \n",
    "</ul>"
   ]
  },
  {
   "cell_type": "code",
   "execution_count": 13,
   "metadata": {},
   "outputs": [
    {
     "data": {
      "text/plain": [
       "Tadjikistan      1\n",
       "Côte d'Ivoire    1\n",
       "Afghanistan      1\n",
       "Sénégal          1\n",
       "Malaisie         1\n",
       "                ..\n",
       "Estonie          1\n",
       "Mexique          1\n",
       "Maldives         1\n",
       "Danemark         1\n",
       "Norvège          1\n",
       "Name: Zone, Length: 175, dtype: int64"
      ]
     },
     "execution_count": 13,
     "metadata": {},
     "output_type": "execute_result"
    }
   ],
   "source": [
    "df_population2013['Zone'].value_counts()"
   ]
  },
  {
   "cell_type": "code",
   "execution_count": 14,
   "metadata": {},
   "outputs": [
    {
     "data": {
      "text/plain": [
       "(0, 0)"
      ]
     },
     "execution_count": 14,
     "metadata": {},
     "output_type": "execute_result"
    }
   ],
   "source": [
    "df_population2013['Code année'].isna().sum(),df_population2013['Année'].isna().sum()"
   ]
  },
  {
   "cell_type": "code",
   "execution_count": 15,
   "metadata": {},
   "outputs": [
    {
     "data": {
      "text/html": [
       "<div>\n",
       "<style scoped>\n",
       "    .dataframe tbody tr th:only-of-type {\n",
       "        vertical-align: middle;\n",
       "    }\n",
       "\n",
       "    .dataframe tbody tr th {\n",
       "        vertical-align: top;\n",
       "    }\n",
       "\n",
       "    .dataframe thead th {\n",
       "        text-align: right;\n",
       "    }\n",
       "</style>\n",
       "<table border=\"1\" class=\"dataframe\">\n",
       "  <thead>\n",
       "    <tr style=\"text-align: right;\">\n",
       "      <th></th>\n",
       "      <th>Code Domaine</th>\n",
       "      <th>Domaine</th>\n",
       "      <th>Code zone</th>\n",
       "      <th>Zone</th>\n",
       "      <th>Code Élément</th>\n",
       "      <th>Élément</th>\n",
       "      <th>Code Produit</th>\n",
       "      <th>Produit</th>\n",
       "      <th>Code année</th>\n",
       "      <th>Année</th>\n",
       "      <th>Unité</th>\n",
       "      <th>Valeur</th>\n",
       "      <th>Symbole</th>\n",
       "      <th>Description du Symbole</th>\n",
       "    </tr>\n",
       "  </thead>\n",
       "  <tbody>\n",
       "    <tr>\n",
       "      <th>33</th>\n",
       "      <td>FBSH</td>\n",
       "      <td>Bilans Alimentaire (Ancienne méthodologie et p...</td>\n",
       "      <td>351</td>\n",
       "      <td>Chine</td>\n",
       "      <td>511</td>\n",
       "      <td>Population totale</td>\n",
       "      <td>2501</td>\n",
       "      <td>Population</td>\n",
       "      <td>2013</td>\n",
       "      <td>2013</td>\n",
       "      <td>1000 personnes</td>\n",
       "      <td>1416667</td>\n",
       "      <td>A</td>\n",
       "      <td>Agrégat, peut inclure des données officielles,...</td>\n",
       "    </tr>\n",
       "  </tbody>\n",
       "</table>\n",
       "</div>"
      ],
      "text/plain": [
       "   Code Domaine                                            Domaine  Code zone  \\\n",
       "33         FBSH  Bilans Alimentaire (Ancienne méthodologie et p...        351   \n",
       "\n",
       "     Zone  Code Élément            Élément  Code Produit     Produit  \\\n",
       "33  Chine           511  Population totale          2501  Population   \n",
       "\n",
       "    Code année  Année           Unité   Valeur Symbole  \\\n",
       "33        2013   2013  1000 personnes  1416667       A   \n",
       "\n",
       "                               Description du Symbole  \n",
       "33  Agrégat, peut inclure des données officielles,...  "
      ]
     },
     "execution_count": 15,
     "metadata": {},
     "output_type": "execute_result"
    }
   ],
   "source": [
    "df_population2013[~df_population2013['Symbole'].isna()]"
   ]
  },
  {
   "cell_type": "code",
   "execution_count": 16,
   "metadata": {},
   "outputs": [
    {
     "data": {
      "text/html": [
       "<div>\n",
       "<style scoped>\n",
       "    .dataframe tbody tr th:only-of-type {\n",
       "        vertical-align: middle;\n",
       "    }\n",
       "\n",
       "    .dataframe tbody tr th {\n",
       "        vertical-align: top;\n",
       "    }\n",
       "\n",
       "    .dataframe thead th {\n",
       "        text-align: right;\n",
       "    }\n",
       "</style>\n",
       "<table border=\"1\" class=\"dataframe\">\n",
       "  <thead>\n",
       "    <tr style=\"text-align: right;\">\n",
       "      <th></th>\n",
       "      <th>Code Domaine</th>\n",
       "      <th>Domaine</th>\n",
       "      <th>Code zone</th>\n",
       "      <th>Zone</th>\n",
       "      <th>Code Élément</th>\n",
       "      <th>Élément</th>\n",
       "      <th>Code Produit</th>\n",
       "      <th>Produit</th>\n",
       "      <th>Code année</th>\n",
       "      <th>Année</th>\n",
       "      <th>Unité</th>\n",
       "      <th>Valeur</th>\n",
       "      <th>Symbole</th>\n",
       "      <th>Description du Symbole</th>\n",
       "    </tr>\n",
       "  </thead>\n",
       "  <tbody>\n",
       "    <tr>\n",
       "      <th>33</th>\n",
       "      <td>FBSH</td>\n",
       "      <td>Bilans Alimentaire (Ancienne méthodologie et p...</td>\n",
       "      <td>351</td>\n",
       "      <td>Chine</td>\n",
       "      <td>511</td>\n",
       "      <td>Population totale</td>\n",
       "      <td>2501</td>\n",
       "      <td>Population</td>\n",
       "      <td>2013</td>\n",
       "      <td>2013</td>\n",
       "      <td>1000 personnes</td>\n",
       "      <td>1416667</td>\n",
       "      <td>A</td>\n",
       "      <td>Agrégat, peut inclure des données officielles,...</td>\n",
       "    </tr>\n",
       "    <tr>\n",
       "      <th>34</th>\n",
       "      <td>FBSH</td>\n",
       "      <td>Bilans Alimentaire (Ancienne méthodologie et p...</td>\n",
       "      <td>96</td>\n",
       "      <td>Chine - RAS de Hong-Kong</td>\n",
       "      <td>511</td>\n",
       "      <td>Population totale</td>\n",
       "      <td>2501</td>\n",
       "      <td>Population</td>\n",
       "      <td>2013</td>\n",
       "      <td>2013</td>\n",
       "      <td>1000 personnes</td>\n",
       "      <td>7204</td>\n",
       "      <td>NaN</td>\n",
       "      <td>Donnée officielle</td>\n",
       "    </tr>\n",
       "    <tr>\n",
       "      <th>35</th>\n",
       "      <td>FBSH</td>\n",
       "      <td>Bilans Alimentaire (Ancienne méthodologie et p...</td>\n",
       "      <td>128</td>\n",
       "      <td>Chine - RAS de Macao</td>\n",
       "      <td>511</td>\n",
       "      <td>Population totale</td>\n",
       "      <td>2501</td>\n",
       "      <td>Population</td>\n",
       "      <td>2013</td>\n",
       "      <td>2013</td>\n",
       "      <td>1000 personnes</td>\n",
       "      <td>566</td>\n",
       "      <td>NaN</td>\n",
       "      <td>Donnée officielle</td>\n",
       "    </tr>\n",
       "    <tr>\n",
       "      <th>36</th>\n",
       "      <td>FBSH</td>\n",
       "      <td>Bilans Alimentaire (Ancienne méthodologie et p...</td>\n",
       "      <td>41</td>\n",
       "      <td>Chine, continentale</td>\n",
       "      <td>511</td>\n",
       "      <td>Population totale</td>\n",
       "      <td>2501</td>\n",
       "      <td>Population</td>\n",
       "      <td>2013</td>\n",
       "      <td>2013</td>\n",
       "      <td>1000 personnes</td>\n",
       "      <td>1385567</td>\n",
       "      <td>NaN</td>\n",
       "      <td>Donnée officielle</td>\n",
       "    </tr>\n",
       "    <tr>\n",
       "      <th>37</th>\n",
       "      <td>FBSH</td>\n",
       "      <td>Bilans Alimentaire (Ancienne méthodologie et p...</td>\n",
       "      <td>214</td>\n",
       "      <td>Chine, Taiwan Province de</td>\n",
       "      <td>511</td>\n",
       "      <td>Population totale</td>\n",
       "      <td>2501</td>\n",
       "      <td>Population</td>\n",
       "      <td>2013</td>\n",
       "      <td>2013</td>\n",
       "      <td>1000 personnes</td>\n",
       "      <td>23330</td>\n",
       "      <td>NaN</td>\n",
       "      <td>Donnée officielle</td>\n",
       "    </tr>\n",
       "  </tbody>\n",
       "</table>\n",
       "</div>"
      ],
      "text/plain": [
       "   Code Domaine                                            Domaine  Code zone  \\\n",
       "33         FBSH  Bilans Alimentaire (Ancienne méthodologie et p...        351   \n",
       "34         FBSH  Bilans Alimentaire (Ancienne méthodologie et p...         96   \n",
       "35         FBSH  Bilans Alimentaire (Ancienne méthodologie et p...        128   \n",
       "36         FBSH  Bilans Alimentaire (Ancienne méthodologie et p...         41   \n",
       "37         FBSH  Bilans Alimentaire (Ancienne méthodologie et p...        214   \n",
       "\n",
       "                         Zone  Code Élément            Élément  Code Produit  \\\n",
       "33                      Chine           511  Population totale          2501   \n",
       "34   Chine - RAS de Hong-Kong           511  Population totale          2501   \n",
       "35       Chine - RAS de Macao           511  Population totale          2501   \n",
       "36        Chine, continentale           511  Population totale          2501   \n",
       "37  Chine, Taiwan Province de           511  Population totale          2501   \n",
       "\n",
       "       Produit  Code année  Année           Unité   Valeur Symbole  \\\n",
       "33  Population        2013   2013  1000 personnes  1416667       A   \n",
       "34  Population        2013   2013  1000 personnes     7204     NaN   \n",
       "35  Population        2013   2013  1000 personnes      566     NaN   \n",
       "36  Population        2013   2013  1000 personnes  1385567     NaN   \n",
       "37  Population        2013   2013  1000 personnes    23330     NaN   \n",
       "\n",
       "                               Description du Symbole  \n",
       "33  Agrégat, peut inclure des données officielles,...  \n",
       "34                                  Donnée officielle  \n",
       "35                                  Donnée officielle  \n",
       "36                                  Donnée officielle  \n",
       "37                                  Donnée officielle  "
      ]
     },
     "execution_count": 16,
     "metadata": {},
     "output_type": "execute_result"
    }
   ],
   "source": [
    "df_Chine_A = df_population[df_population['Zone'].str.match(pat = '(^Chin.)')] \n",
    "df_Chine_A"
   ]
  },
  {
   "cell_type": "code",
   "execution_count": 17,
   "metadata": {
    "scrolled": true
   },
   "outputs": [
    {
     "data": {
      "text/plain": [
       "1416667"
      ]
     },
     "execution_count": 17,
     "metadata": {},
     "output_type": "execute_result"
    }
   ],
   "source": [
    "df_Chine_A[df_Chine_A['Zone']!='Chine']['Valeur'].sum()"
   ]
  },
  {
   "cell_type": "markdown",
   "metadata": {},
   "source": [
    "Nous remarquons que la population la zone chine est une agrégation de plusieurs autres zones, si nous calculons la somme de population de ces dernières, nous retouvons qu'elle est égale à la population chinoise, c'est pourquoi nous allons calculer la population mondiale sans prendre en considération la chine"
   ]
  },
  {
   "cell_type": "markdown",
   "metadata": {},
   "source": [
    "<b> Suppression des aggrégations de la chine de toutes les dataframes </b>\n"
   ]
  },
  {
   "cell_type": "code",
   "execution_count": 18,
   "metadata": {},
   "outputs": [],
   "source": [
    "df_population2013_sans_agg = df_population2013[~df_population2013['Code zone'].isin([41, 96,128,214])].copy()\n",
    "df_animaux = df_animaux[~df_animaux['Code zone'].isin([41, 96,128,214])].copy()\n",
    "df_vegetaux = df_vegetaux[~df_vegetaux['Code zone'].isin([41, 96,128,214])].copy()\n",
    "df_cereales = df_cereales[~df_cereales['Code zone'].isin([41, 96,128,214])].copy()\n",
    "df_sous_alimentation = df_sous_alimentation[~df_sous_alimentation['Code zone'].isin([41, 96,128,214])].copy()"
   ]
  },
  {
   "cell_type": "code",
   "execution_count": 19,
   "metadata": {},
   "outputs": [],
   "source": [
    "#df_population2013_sans_chine = df_population2013[df_population2013['Zone']!='Chine']\n",
    "# Pour confirmer que nous avons bien supprimer la chine de notre db:\n",
    "#df_population2013_sans_agg[df_population2013_sans_agg['Zone'].str.match(pat = '(^Chin.)')]"
   ]
  },
  {
   "cell_type": "code",
   "execution_count": 20,
   "metadata": {},
   "outputs": [
    {
     "name": "stdout",
     "output_type": "stream",
     "text": [
      "6997326000\n"
     ]
    }
   ],
   "source": [
    "# nb_population = df_population2013_sans_agg['Valeur'].sum() * 1000\n",
    "nb_population = df_population2013_sans_agg['Valeur'].sum() * 1000\n",
    "print(nb_population)"
   ]
  },
  {
   "cell_type": "markdown",
   "metadata": {},
   "source": [
    "=========================================================================== <br>\n",
    "<B><I>Le nombre total d'humain en 2013 est 6997326000 </I></B> <br> ==========================================================================="
   ]
  },
  {
   "cell_type": "markdown",
   "metadata": {},
   "source": [
    "<b> Suppression de la chine des autres bases de données </b>"
   ]
  },
  {
   "cell_type": "code",
   "execution_count": 21,
   "metadata": {},
   "outputs": [],
   "source": [
    "# df_animaux = df_animaux[df_animaux['Zone']!='Chine'].copy()\n",
    "# df_vegetaux = df_vegetaux[df_vegetaux['Zone']!='Chine'].copy()\n",
    "# df_cereales = df_cereales[df_cereales['Zone']!='Chine'].copy()\n",
    "# df_sous_alimentation = df_sous_alimentation[df_sous_alimentation['Zone']!='Chine'].copy()\n"
   ]
  },
  {
   "cell_type": "markdown",
   "metadata": {},
   "source": [
    "# Réponse 2 : Equation à 3 termes"
   ]
  },
  {
   "cell_type": "markdown",
   "metadata": {},
   "source": [
    "=========================================================================== <br>\n",
    "<b><i>Disponibilité intérieure = <br>Production + Importations + |Variation de stock| - Exportations = \n",
    "<br>Aliments pour animaux + Semences + Pertes + Traitement + Autres utilisations (non alimentaire) + Nourriture\n",
    " </i></b>\n",
    "=========================================================================== <br>\n"
   ]
  },
  {
   "cell_type": "markdown",
   "metadata": {},
   "source": [
    "<strong><u> Exemple blé en france 2018 </u></strong>"
   ]
  },
  {
   "cell_type": "code",
   "execution_count": 22,
   "metadata": {},
   "outputs": [],
   "source": [
    "# Données récupérées à partir du lien : https://www.fao.org/faostat/fr/#data/FBS\n",
    "data_ble_france2018= pd.read_csv('data/ble_france_2018.csv')"
   ]
  },
  {
   "cell_type": "code",
   "execution_count": 23,
   "metadata": {},
   "outputs": [
    {
     "data": {
      "text/html": [
       "<div>\n",
       "<style scoped>\n",
       "    .dataframe tbody tr th:only-of-type {\n",
       "        vertical-align: middle;\n",
       "    }\n",
       "\n",
       "    .dataframe tbody tr th {\n",
       "        vertical-align: top;\n",
       "    }\n",
       "\n",
       "    .dataframe thead th {\n",
       "        text-align: right;\n",
       "    }\n",
       "</style>\n",
       "<table border=\"1\" class=\"dataframe\">\n",
       "  <thead>\n",
       "    <tr style=\"text-align: right;\">\n",
       "      <th></th>\n",
       "      <th>Code Domaine</th>\n",
       "      <th>Domaine</th>\n",
       "      <th>Code zone (FAO)</th>\n",
       "      <th>Zone</th>\n",
       "      <th>Code Élément</th>\n",
       "      <th>Élément</th>\n",
       "      <th>Code Produit</th>\n",
       "      <th>Produit</th>\n",
       "      <th>Code année</th>\n",
       "      <th>Année</th>\n",
       "      <th>Unité</th>\n",
       "      <th>Valeur</th>\n",
       "      <th>Symbole</th>\n",
       "      <th>Description du Symbole</th>\n",
       "    </tr>\n",
       "  </thead>\n",
       "  <tbody>\n",
       "    <tr>\n",
       "      <th>0</th>\n",
       "      <td>FBS</td>\n",
       "      <td>Bilans Alimentaires (2014-)</td>\n",
       "      <td>68</td>\n",
       "      <td>France</td>\n",
       "      <td>5511</td>\n",
       "      <td>Production</td>\n",
       "      <td>2511</td>\n",
       "      <td>Blé et produits</td>\n",
       "      <td>2018</td>\n",
       "      <td>2018</td>\n",
       "      <td>Milliers de tonnes</td>\n",
       "      <td>35798</td>\n",
       "      <td>Im</td>\n",
       "      <td>Données de la FAO basées sur une méthodologie ...</td>\n",
       "    </tr>\n",
       "    <tr>\n",
       "      <th>1</th>\n",
       "      <td>FBS</td>\n",
       "      <td>Bilans Alimentaires (2014-)</td>\n",
       "      <td>68</td>\n",
       "      <td>France</td>\n",
       "      <td>5611</td>\n",
       "      <td>Importations - Quantité</td>\n",
       "      <td>2511</td>\n",
       "      <td>Blé et produits</td>\n",
       "      <td>2018</td>\n",
       "      <td>2018</td>\n",
       "      <td>Milliers de tonnes</td>\n",
       "      <td>2349</td>\n",
       "      <td>Im</td>\n",
       "      <td>Données de la FAO basées sur une méthodologie ...</td>\n",
       "    </tr>\n",
       "    <tr>\n",
       "      <th>2</th>\n",
       "      <td>FBS</td>\n",
       "      <td>Bilans Alimentaires (2014-)</td>\n",
       "      <td>68</td>\n",
       "      <td>France</td>\n",
       "      <td>5072</td>\n",
       "      <td>Variation de stock</td>\n",
       "      <td>2511</td>\n",
       "      <td>Blé et produits</td>\n",
       "      <td>2018</td>\n",
       "      <td>2018</td>\n",
       "      <td>Milliers de tonnes</td>\n",
       "      <td>-1819</td>\n",
       "      <td>Im</td>\n",
       "      <td>Données de la FAO basées sur une méthodologie ...</td>\n",
       "    </tr>\n",
       "  </tbody>\n",
       "</table>\n",
       "</div>"
      ],
      "text/plain": [
       "  Code Domaine                      Domaine  Code zone (FAO)    Zone  \\\n",
       "0          FBS  Bilans Alimentaires (2014-)               68  France   \n",
       "1          FBS  Bilans Alimentaires (2014-)               68  France   \n",
       "2          FBS  Bilans Alimentaires (2014-)               68  France   \n",
       "\n",
       "   Code Élément                  Élément  Code Produit          Produit  \\\n",
       "0          5511               Production          2511  Blé et produits   \n",
       "1          5611  Importations - Quantité          2511  Blé et produits   \n",
       "2          5072       Variation de stock          2511  Blé et produits   \n",
       "\n",
       "   Code année  Année               Unité  Valeur Symbole  \\\n",
       "0        2018   2018  Milliers de tonnes   35798      Im   \n",
       "1        2018   2018  Milliers de tonnes    2349      Im   \n",
       "2        2018   2018  Milliers de tonnes   -1819      Im   \n",
       "\n",
       "                              Description du Symbole  \n",
       "0  Données de la FAO basées sur une méthodologie ...  \n",
       "1  Données de la FAO basées sur une méthodologie ...  \n",
       "2  Données de la FAO basées sur une méthodologie ...  "
      ]
     },
     "execution_count": 23,
     "metadata": {},
     "output_type": "execute_result"
    }
   ],
   "source": [
    "data_ble_france2018.head(3)"
   ]
  },
  {
   "cell_type": "code",
   "execution_count": 24,
   "metadata": {},
   "outputs": [],
   "source": [
    "data_ble_france2018 = data_ble_france2018[['Code Élément', 'Élément', 'Unité', 'Valeur']].copy()"
   ]
  },
  {
   "cell_type": "code",
   "execution_count": 25,
   "metadata": {},
   "outputs": [],
   "source": [
    "#Le premier terme\n",
    "terme1=data_ble_france2018[data_ble_france2018['Code Élément']==5301]['Valeur'].iloc[0] #valeur de disponibilité intérieur"
   ]
  },
  {
   "cell_type": "code",
   "execution_count": 26,
   "metadata": {},
   "outputs": [],
   "source": [
    "#Le second terme\n",
    "terme2=data_ble_france2018[data_ble_france2018['Code Élément']==5511]['Valeur'].iloc[0] + \\\n",
    "data_ble_france2018[data_ble_france2018['Code Élément']==5611]['Valeur'].iloc[0] + \\\n",
    "data_ble_france2018[data_ble_france2018['Code Élément']==5072]['Valeur'].abs() .iloc[0]- \\\n",
    "data_ble_france2018[data_ble_france2018['Code Élément']==5911]['Valeur'].iloc[0]"
   ]
  },
  {
   "cell_type": "code",
   "execution_count": 27,
   "metadata": {},
   "outputs": [],
   "source": [
    "#Le troisième terme\n",
    "terme3=data_ble_france2018[data_ble_france2018['Code Élément']==5521]['Valeur'].iloc[0] +\\\n",
    "    data_ble_france2018[data_ble_france2018['Code Élément']==5527]['Valeur'].iloc[0] + \\\n",
    "    data_ble_france2018[data_ble_france2018['Code Élément']==5123]['Valeur'].iloc[0]+ \\\n",
    "    data_ble_france2018[data_ble_france2018['Code Élément']==5131]['Valeur'].iloc[0] + \\\n",
    "    data_ble_france2018[data_ble_france2018['Code Élément']==5154]['Valeur'].iloc[0]+ \\\n",
    "    data_ble_france2018[data_ble_france2018['Code Élément']==5142]['Valeur'].iloc[0]"
   ]
  },
  {
   "cell_type": "code",
   "execution_count": 28,
   "metadata": {
    "scrolled": true
   },
   "outputs": [
    {
     "name": "stdout",
     "output_type": "stream",
     "text": [
      "Terme1 =  19521\n",
      "Terme2 =  19520\n",
      "Terme2 =  19521\n"
     ]
    }
   ],
   "source": [
    "print('Terme1 = ',terme1)\n",
    "print('Terme2 = ',terme2)\n",
    "print('Terme2 = ',terme3)"
   ]
  },
  {
   "cell_type": "markdown",
   "metadata": {},
   "source": [
    " <b>Exemple blé en france en 2013 (à partir de notre db): voir projet3 archivé </b>"
   ]
  },
  {
   "cell_type": "markdown",
   "metadata": {},
   "source": [
    "# Réponse 3 : Calculer pour chaque pays et chaque produit la disponibilité alimentaire en kcal puis en kg de protéines."
   ]
  },
  {
   "cell_type": "markdown",
   "metadata": {},
   "source": [
    "## Etape 1  : garder uniquement les colonnes importantes et rajouter une colonne \"type\" pour distinguer entre df_animaux et df_vegetaux"
   ]
  },
  {
   "cell_type": "code",
   "execution_count": 29,
   "metadata": {},
   "outputs": [],
   "source": [
    "df_population1 = df_population2013_sans_agg[['Code zone','Valeur','Unité']].copy()"
   ]
  },
  {
   "cell_type": "code",
   "execution_count": 30,
   "metadata": {},
   "outputs": [],
   "source": [
    "#df_animaux1 = df_animaux [['Code zone', 'Zone','Produit', 'Disponibilité alimentaire (Kcal/personne/jour)', 'Disponibilité de protéines en quantité (g/personne/jour)']]\n",
    "df_animaux1 = df_animaux.assign(Type = 'animal')"
   ]
  },
  {
   "cell_type": "code",
   "execution_count": 31,
   "metadata": {},
   "outputs": [],
   "source": [
    "#df_vegetaux1 = df_vegetaux[['Code zone', 'Zone', 'Produit', 'Disponibilité alimentaire (Kcal/personne/jour)', 'Disponibilité de protéines en quantité (g/personne/jour)']]\n",
    "df_vegetaux1 = df_vegetaux.assign(Type = 'vegetal')"
   ]
  },
  {
   "cell_type": "markdown",
   "metadata": {},
   "source": [
    "## Etape 2  : concaténation entre df_animaux1 et df_vegetaux1"
   ]
  },
  {
   "cell_type": "code",
   "execution_count": 32,
   "metadata": {},
   "outputs": [],
   "source": [
    "df_Alimentation1=pd.concat([df_animaux1,df_vegetaux1])"
   ]
  },
  {
   "cell_type": "code",
   "execution_count": 33,
   "metadata": {},
   "outputs": [
    {
     "name": "stdout",
     "output_type": "stream",
     "text": [
      "df_animaux1.shape =\t (3643, 19) \n",
      "df_vegetaux2.shape =\t (11682, 19) \n",
      "df_Alimentation1.shape =\t (15325, 19)\n"
     ]
    }
   ],
   "source": [
    "print('df_animaux1.shape =\\t', df_animaux1.shape , '\\ndf_vegetaux2.shape =\\t',\n",
    "      df_vegetaux1.shape,'\\ndf_Alimentation1.shape =\\t',df_Alimentation1.shape)"
   ]
  },
  {
   "cell_type": "markdown",
   "metadata": {},
   "source": [
    "## Etape3 : Jointure à gauche entre df_Alimentation1, df_population1 "
   ]
  },
  {
   "cell_type": "code",
   "execution_count": 34,
   "metadata": {},
   "outputs": [
    {
     "name": "stdout",
     "output_type": "stream",
     "text": [
      "df_Alimentation1.shape =\t (15325, 19) \n",
      "df_population1.shape =\t (171, 3) \n",
      "df_alimentation_population.shape = (15325, 21)\n"
     ]
    }
   ],
   "source": [
    "df_prinicpale = df_Alimentation1.merge( df_population1, on='Code zone', how=\"left\", suffixes=('_produit','_population'))\n",
    "print(\"df_Alimentation1.shape =\\t\",df_Alimentation1.shape,'\\ndf_population1.shape =\\t',df_population1.shape,\n",
    "      '\\ndf_alimentation_population.shape =',df_prinicpale.shape)"
   ]
  },
  {
   "cell_type": "code",
   "execution_count": 35,
   "metadata": {},
   "outputs": [
    {
     "data": {
      "text/html": [
       "<div>\n",
       "<style scoped>\n",
       "    .dataframe tbody tr th:only-of-type {\n",
       "        vertical-align: middle;\n",
       "    }\n",
       "\n",
       "    .dataframe tbody tr th {\n",
       "        vertical-align: top;\n",
       "    }\n",
       "\n",
       "    .dataframe thead th {\n",
       "        text-align: right;\n",
       "    }\n",
       "</style>\n",
       "<table border=\"1\" class=\"dataframe\">\n",
       "  <thead>\n",
       "    <tr style=\"text-align: right;\">\n",
       "      <th></th>\n",
       "      <th>Zone</th>\n",
       "      <th>Code zone</th>\n",
       "      <th>Produit</th>\n",
       "      <th>Aliments pour animaux (kg/an)</th>\n",
       "      <th>Autres utilisations (non alimentaire) (kg/an)</th>\n",
       "      <th>Disponibilité alimentaire (Kcal/personne/jour)</th>\n",
       "      <th>Disponibilité alimentaire en quantité (kg/personne/an)</th>\n",
       "      <th>Disponibilité de matière grasse en quantité (g/personne/jour)</th>\n",
       "      <th>Disponibilité de protéines en quantité (g/personne/jour)</th>\n",
       "      <th>Disponibilité intérieure (kg/an)</th>\n",
       "      <th>...</th>\n",
       "      <th>Importations - Quantité (kg/an)</th>\n",
       "      <th>Nourriture (kg/an)</th>\n",
       "      <th>Pertes (kg/an)</th>\n",
       "      <th>Production (kg/an)</th>\n",
       "      <th>Semences (kg/an)</th>\n",
       "      <th>Traitement (kg/an)</th>\n",
       "      <th>Variation de stock (kg/an)</th>\n",
       "      <th>Type</th>\n",
       "      <th>Population</th>\n",
       "      <th>Unité</th>\n",
       "    </tr>\n",
       "  </thead>\n",
       "  <tbody>\n",
       "    <tr>\n",
       "      <th>0</th>\n",
       "      <td>Afghanistan</td>\n",
       "      <td>2</td>\n",
       "      <td>Abats Comestible</td>\n",
       "      <td>NaN</td>\n",
       "      <td>NaN</td>\n",
       "      <td>5.0</td>\n",
       "      <td>1.72</td>\n",
       "      <td>0.20</td>\n",
       "      <td>0.77</td>\n",
       "      <td>53000000.0</td>\n",
       "      <td>...</td>\n",
       "      <td>NaN</td>\n",
       "      <td>53000000.0</td>\n",
       "      <td>NaN</td>\n",
       "      <td>53000000.0</td>\n",
       "      <td>NaN</td>\n",
       "      <td>NaN</td>\n",
       "      <td>NaN</td>\n",
       "      <td>animal</td>\n",
       "      <td>30552</td>\n",
       "      <td>1000 personnes</td>\n",
       "    </tr>\n",
       "    <tr>\n",
       "      <th>1</th>\n",
       "      <td>Afghanistan</td>\n",
       "      <td>2</td>\n",
       "      <td>Beurre, Ghee</td>\n",
       "      <td>NaN</td>\n",
       "      <td>NaN</td>\n",
       "      <td>23.0</td>\n",
       "      <td>1.17</td>\n",
       "      <td>2.61</td>\n",
       "      <td>0.03</td>\n",
       "      <td>36000000.0</td>\n",
       "      <td>...</td>\n",
       "      <td>0.0</td>\n",
       "      <td>36000000.0</td>\n",
       "      <td>NaN</td>\n",
       "      <td>36000000.0</td>\n",
       "      <td>NaN</td>\n",
       "      <td>NaN</td>\n",
       "      <td>NaN</td>\n",
       "      <td>animal</td>\n",
       "      <td>30552</td>\n",
       "      <td>1000 personnes</td>\n",
       "    </tr>\n",
       "    <tr>\n",
       "      <th>2</th>\n",
       "      <td>Afghanistan</td>\n",
       "      <td>2</td>\n",
       "      <td>Crème</td>\n",
       "      <td>NaN</td>\n",
       "      <td>NaN</td>\n",
       "      <td>3.0</td>\n",
       "      <td>0.60</td>\n",
       "      <td>0.32</td>\n",
       "      <td>0.04</td>\n",
       "      <td>18000000.0</td>\n",
       "      <td>...</td>\n",
       "      <td>18000000.0</td>\n",
       "      <td>18000000.0</td>\n",
       "      <td>NaN</td>\n",
       "      <td>NaN</td>\n",
       "      <td>NaN</td>\n",
       "      <td>NaN</td>\n",
       "      <td>NaN</td>\n",
       "      <td>animal</td>\n",
       "      <td>30552</td>\n",
       "      <td>1000 personnes</td>\n",
       "    </tr>\n",
       "  </tbody>\n",
       "</table>\n",
       "<p>3 rows × 21 columns</p>\n",
       "</div>"
      ],
      "text/plain": [
       "          Zone  Code zone           Produit  Aliments pour animaux (kg/an)  \\\n",
       "0  Afghanistan          2  Abats Comestible                            NaN   \n",
       "1  Afghanistan          2      Beurre, Ghee                            NaN   \n",
       "2  Afghanistan          2             Crème                            NaN   \n",
       "\n",
       "   Autres utilisations (non alimentaire) (kg/an)  \\\n",
       "0                                            NaN   \n",
       "1                                            NaN   \n",
       "2                                            NaN   \n",
       "\n",
       "   Disponibilité alimentaire (Kcal/personne/jour)  \\\n",
       "0                                             5.0   \n",
       "1                                            23.0   \n",
       "2                                             3.0   \n",
       "\n",
       "   Disponibilité alimentaire en quantité (kg/personne/an)  \\\n",
       "0                                               1.72        \n",
       "1                                               1.17        \n",
       "2                                               0.60        \n",
       "\n",
       "   Disponibilité de matière grasse en quantité (g/personne/jour)  \\\n",
       "0                                               0.20               \n",
       "1                                               2.61               \n",
       "2                                               0.32               \n",
       "\n",
       "   Disponibilité de protéines en quantité (g/personne/jour)  \\\n",
       "0                                               0.77          \n",
       "1                                               0.03          \n",
       "2                                               0.04          \n",
       "\n",
       "   Disponibilité intérieure (kg/an)  ...  Importations - Quantité (kg/an)  \\\n",
       "0                        53000000.0  ...                              NaN   \n",
       "1                        36000000.0  ...                              0.0   \n",
       "2                        18000000.0  ...                       18000000.0   \n",
       "\n",
       "   Nourriture (kg/an)  Pertes (kg/an)  Production (kg/an)  Semences (kg/an)  \\\n",
       "0          53000000.0             NaN          53000000.0               NaN   \n",
       "1          36000000.0             NaN          36000000.0               NaN   \n",
       "2          18000000.0             NaN                 NaN               NaN   \n",
       "\n",
       "   Traitement (kg/an)  Variation de stock (kg/an)    Type Population  \\\n",
       "0                 NaN                         NaN  animal      30552   \n",
       "1                 NaN                         NaN  animal      30552   \n",
       "2                 NaN                         NaN  animal      30552   \n",
       "\n",
       "            Unité  \n",
       "0  1000 personnes  \n",
       "1  1000 personnes  \n",
       "2  1000 personnes  \n",
       "\n",
       "[3 rows x 21 columns]"
      ]
     },
     "execution_count": 35,
     "metadata": {},
     "output_type": "execute_result"
    }
   ],
   "source": [
    "df_prinicpale.rename(columns={'Valeur' : 'Population'}, inplace=True)\n",
    "df_prinicpale.head(3)"
   ]
  },
  {
   "cell_type": "markdown",
   "metadata": {},
   "source": [
    "## Etape 4 : Calcul de disponibilité alimentaire en kcal puis en kg "
   ]
  },
  {
   "cell_type": "markdown",
   "metadata": {},
   "source": [
    "### 1. Disponibilité alimentaire en kcal \n",
    "<ul>\n",
    "    <li>Disponibilite alimenatire en kcal = <br>'Disponibilité alimentaire (Kcal/personne/jour)' * Nombre d'habitants * unité (1000) * 365 jours</li>\n",
    "</ul>"
   ]
  },
  {
   "cell_type": "code",
   "execution_count": 36,
   "metadata": {},
   "outputs": [],
   "source": [
    "## df_prinicpale['Nb_Kcal'] = \\\n",
    "df_prinicpale['Disponibilite alimentaire (kcal/an)'] = df_prinicpale['Disponibilité alimentaire (Kcal/personne/jour)'] * 365 * df_prinicpale['Population'] * 1000"
   ]
  },
  {
   "cell_type": "markdown",
   "metadata": {},
   "source": [
    "### 2. Disponibilité alimentaire en kg de protéine \n",
    "<ul>\n",
    "    <li>Disponibilite alimenatire en kg de proteine = <br>Disponibilité de protéines en quantité (g/personne/jour) / 1000 (g --> kg) * Nombre d'habitants * unité (1000) * 365 jours</li>\n",
    "</ul>\n",
    "Nb : Pour optimiser le calcul, nous n'allons pas multiplier par 1000 puis diviser par 1000"
   ]
  },
  {
   "cell_type": "code",
   "execution_count": 37,
   "metadata": {
    "scrolled": true
   },
   "outputs": [],
   "source": [
    "# df_prinicpale['Nb_Kg_proteine'] = \\\n",
    "df_prinicpale['Disponibilite alimentaire proteine (kg/an)'] = df_prinicpale['Disponibilité de protéines en quantité (g/personne/jour)'] * 365 * df_prinicpale['Population'] "
   ]
  },
  {
   "cell_type": "code",
   "execution_count": 38,
   "metadata": {},
   "outputs": [
    {
     "data": {
      "text/html": [
       "<div>\n",
       "<style scoped>\n",
       "    .dataframe tbody tr th:only-of-type {\n",
       "        vertical-align: middle;\n",
       "    }\n",
       "\n",
       "    .dataframe tbody tr th {\n",
       "        vertical-align: top;\n",
       "    }\n",
       "\n",
       "    .dataframe thead th {\n",
       "        text-align: right;\n",
       "    }\n",
       "</style>\n",
       "<table border=\"1\" class=\"dataframe\">\n",
       "  <thead>\n",
       "    <tr style=\"text-align: right;\">\n",
       "      <th></th>\n",
       "      <th>Zone</th>\n",
       "      <th>Produit</th>\n",
       "      <th>Disponibilite alimentaire (kcal/an)</th>\n",
       "      <th>Disponibilite alimentaire proteine (kg/an)</th>\n",
       "    </tr>\n",
       "  </thead>\n",
       "  <tbody>\n",
       "    <tr>\n",
       "      <th>0</th>\n",
       "      <td>Afghanistan</td>\n",
       "      <td>Abats Comestible</td>\n",
       "      <td>5.575740e+10</td>\n",
       "      <td>8586639.60</td>\n",
       "    </tr>\n",
       "    <tr>\n",
       "      <th>1</th>\n",
       "      <td>Afghanistan</td>\n",
       "      <td>Beurre, Ghee</td>\n",
       "      <td>2.564840e+11</td>\n",
       "      <td>334544.40</td>\n",
       "    </tr>\n",
       "    <tr>\n",
       "      <th>2</th>\n",
       "      <td>Afghanistan</td>\n",
       "      <td>Crème</td>\n",
       "      <td>3.345444e+10</td>\n",
       "      <td>446059.20</td>\n",
       "    </tr>\n",
       "    <tr>\n",
       "      <th>3</th>\n",
       "      <td>Afghanistan</td>\n",
       "      <td>Graisses Animales Crue</td>\n",
       "      <td>1.338178e+11</td>\n",
       "      <td>111514.80</td>\n",
       "    </tr>\n",
       "    <tr>\n",
       "      <th>4</th>\n",
       "      <td>Afghanistan</td>\n",
       "      <td>Lait - Excl Beurre</td>\n",
       "      <td>1.115148e+12</td>\n",
       "      <td>68247057.60</td>\n",
       "    </tr>\n",
       "    <tr>\n",
       "      <th>...</th>\n",
       "      <td>...</td>\n",
       "      <td>...</td>\n",
       "      <td>...</td>\n",
       "      <td>...</td>\n",
       "    </tr>\n",
       "    <tr>\n",
       "      <th>15320</th>\n",
       "      <td>Îles Salomon</td>\n",
       "      <td>Sésame</td>\n",
       "      <td>0.000000e+00</td>\n",
       "      <td>NaN</td>\n",
       "    </tr>\n",
       "    <tr>\n",
       "      <th>15321</th>\n",
       "      <td>Îles Salomon</td>\n",
       "      <td>Thé</td>\n",
       "      <td>0.000000e+00</td>\n",
       "      <td>8190.60</td>\n",
       "    </tr>\n",
       "    <tr>\n",
       "      <th>15322</th>\n",
       "      <td>Îles Salomon</td>\n",
       "      <td>Tomates</td>\n",
       "      <td>0.000000e+00</td>\n",
       "      <td>NaN</td>\n",
       "    </tr>\n",
       "    <tr>\n",
       "      <th>15323</th>\n",
       "      <td>Îles Salomon</td>\n",
       "      <td>Vin</td>\n",
       "      <td>0.000000e+00</td>\n",
       "      <td>NaN</td>\n",
       "    </tr>\n",
       "    <tr>\n",
       "      <th>15324</th>\n",
       "      <td>Îles Salomon</td>\n",
       "      <td>Épices, Autres</td>\n",
       "      <td>8.190600e+08</td>\n",
       "      <td>30714.75</td>\n",
       "    </tr>\n",
       "  </tbody>\n",
       "</table>\n",
       "<p>15325 rows × 4 columns</p>\n",
       "</div>"
      ],
      "text/plain": [
       "               Zone                 Produit  \\\n",
       "0       Afghanistan        Abats Comestible   \n",
       "1       Afghanistan            Beurre, Ghee   \n",
       "2       Afghanistan                   Crème   \n",
       "3       Afghanistan  Graisses Animales Crue   \n",
       "4       Afghanistan      Lait - Excl Beurre   \n",
       "...             ...                     ...   \n",
       "15320  Îles Salomon                  Sésame   \n",
       "15321  Îles Salomon                     Thé   \n",
       "15322  Îles Salomon                 Tomates   \n",
       "15323  Îles Salomon                     Vin   \n",
       "15324  Îles Salomon          Épices, Autres   \n",
       "\n",
       "       Disponibilite alimentaire (kcal/an)  \\\n",
       "0                             5.575740e+10   \n",
       "1                             2.564840e+11   \n",
       "2                             3.345444e+10   \n",
       "3                             1.338178e+11   \n",
       "4                             1.115148e+12   \n",
       "...                                    ...   \n",
       "15320                         0.000000e+00   \n",
       "15321                         0.000000e+00   \n",
       "15322                         0.000000e+00   \n",
       "15323                         0.000000e+00   \n",
       "15324                         8.190600e+08   \n",
       "\n",
       "       Disponibilite alimentaire proteine (kg/an)  \n",
       "0                                      8586639.60  \n",
       "1                                       334544.40  \n",
       "2                                       446059.20  \n",
       "3                                       111514.80  \n",
       "4                                     68247057.60  \n",
       "...                                           ...  \n",
       "15320                                         NaN  \n",
       "15321                                     8190.60  \n",
       "15322                                         NaN  \n",
       "15323                                         NaN  \n",
       "15324                                    30714.75  \n",
       "\n",
       "[15325 rows x 4 columns]"
      ]
     },
     "execution_count": 38,
     "metadata": {},
     "output_type": "execute_result"
    }
   ],
   "source": [
    "df_prinicpale[['Zone','Produit','Disponibilite alimentaire (kcal/an)','Disponibilite alimentaire proteine (kg/an)']]"
   ]
  },
  {
   "cell_type": "markdown",
   "metadata": {},
   "source": [
    "# Réponse 4 : "
   ]
  },
  {
   "cell_type": "markdown",
   "metadata": {},
   "source": [
    "## 1. Ratio \"énergie/poids\" (en kcal/kg) pour chaque produit et chaque pays"
   ]
  },
  {
   "cell_type": "code",
   "execution_count": 39,
   "metadata": {},
   "outputs": [],
   "source": [
    "df_ratio = df_prinicpale[['Zone','Produit','Nourriture (kg/an)','Disponibilite alimentaire (kcal/an)','Disponibilite alimentaire proteine (kg/an)']].copy()"
   ]
  },
  {
   "cell_type": "markdown",
   "metadata": {},
   "source": [
    "<b> a . Remplacer les valeurs égales à 0 par des valeurs manquantes pour éviter la division sur 0 </b> "
   ]
  },
  {
   "cell_type": "code",
   "execution_count": 40,
   "metadata": {},
   "outputs": [],
   "source": [
    "df_ratio.replace(0, np.nan, inplace=True)"
   ]
  },
  {
   "cell_type": "code",
   "execution_count": 41,
   "metadata": {
    "scrolled": true
   },
   "outputs": [],
   "source": [
    "df_ratio['Ratio Energie/poids (kcal/kg)'] = df_ratio['Disponibilite alimentaire (kcal/an)']/  df_ratio[\"Nourriture (kg/an)\"]"
   ]
  },
  {
   "cell_type": "markdown",
   "metadata": {},
   "source": [
    "## 2. Ratio \"poids de protéines/poids total\" (en g/kg) pour chaque produit et chaque pays"
   ]
  },
  {
   "cell_type": "code",
   "execution_count": 42,
   "metadata": {},
   "outputs": [],
   "source": [
    "df_ratio['Ratio protéine/poids'] = df_ratio['Disponibilite alimentaire proteine (kg/an)']/ df_ratio[\"Nourriture (kg/an)\"]"
   ]
  },
  {
   "cell_type": "code",
   "execution_count": 43,
   "metadata": {},
   "outputs": [],
   "source": [
    "df_ratio = df_ratio.loc[:,['Produit','Ratio Energie/poids (kcal/kg)','Ratio protéine/poids']].copy()"
   ]
  },
  {
   "cell_type": "markdown",
   "metadata": {},
   "source": [
    "<Strong>Exemple :</Strong> <br>\n",
    "Dans <a href='https://fr.wikipedia.org/wiki/%C5%92uf_(aliment)'> Wikipedia </a> on trouve que l'apport énergitique <b> des oeufs crus</b> est de 147 kcal pour 100g, soit 1470 par kg"
   ]
  },
  {
   "cell_type": "code",
   "execution_count": 44,
   "metadata": {},
   "outputs": [
    {
     "data": {
      "text/html": [
       "<div>\n",
       "<style scoped>\n",
       "    .dataframe tbody tr th:only-of-type {\n",
       "        vertical-align: middle;\n",
       "    }\n",
       "\n",
       "    .dataframe tbody tr th {\n",
       "        vertical-align: top;\n",
       "    }\n",
       "\n",
       "    .dataframe thead th {\n",
       "        text-align: right;\n",
       "    }\n",
       "</style>\n",
       "<table border=\"1\" class=\"dataframe\">\n",
       "  <thead>\n",
       "    <tr style=\"text-align: right;\">\n",
       "      <th></th>\n",
       "      <th>Produit</th>\n",
       "      <th>Ratio Energie/poids (kcal/kg)</th>\n",
       "      <th>Ratio protéine/poids</th>\n",
       "    </tr>\n",
       "  </thead>\n",
       "  <tbody>\n",
       "    <tr>\n",
       "      <th>5</th>\n",
       "      <td>Oeufs</td>\n",
       "      <td>1393.935000</td>\n",
       "      <td>0.105939</td>\n",
       "    </tr>\n",
       "    <tr>\n",
       "      <th>22</th>\n",
       "      <td>Oeufs</td>\n",
       "      <td>1419.396632</td>\n",
       "      <td>0.114566</td>\n",
       "    </tr>\n",
       "    <tr>\n",
       "      <th>44</th>\n",
       "      <td>Oeufs</td>\n",
       "      <td>1331.866750</td>\n",
       "      <td>0.105681</td>\n",
       "    </tr>\n",
       "    <tr>\n",
       "      <th>65</th>\n",
       "      <td>Oeufs</td>\n",
       "      <td>1222.768481</td>\n",
       "      <td>0.104162</td>\n",
       "    </tr>\n",
       "    <tr>\n",
       "      <th>87</th>\n",
       "      <td>Oeufs</td>\n",
       "      <td>1405.130381</td>\n",
       "      <td>0.114204</td>\n",
       "    </tr>\n",
       "    <tr>\n",
       "      <th>...</th>\n",
       "      <td>...</td>\n",
       "      <td>...</td>\n",
       "      <td>...</td>\n",
       "    </tr>\n",
       "    <tr>\n",
       "      <th>3545</th>\n",
       "      <td>Oeufs</td>\n",
       "      <td>1373.376494</td>\n",
       "      <td>0.106769</td>\n",
       "    </tr>\n",
       "    <tr>\n",
       "      <th>3567</th>\n",
       "      <td>Oeufs</td>\n",
       "      <td>1322.116905</td>\n",
       "      <td>0.098931</td>\n",
       "    </tr>\n",
       "    <tr>\n",
       "      <th>3589</th>\n",
       "      <td>Oeufs</td>\n",
       "      <td>1401.723257</td>\n",
       "      <td>0.106881</td>\n",
       "    </tr>\n",
       "    <tr>\n",
       "      <th>3610</th>\n",
       "      <td>Oeufs</td>\n",
       "      <td>1010.201912</td>\n",
       "      <td>0.111122</td>\n",
       "    </tr>\n",
       "    <tr>\n",
       "      <th>3632</th>\n",
       "      <td>Oeufs</td>\n",
       "      <td>1023.825000</td>\n",
       "      <td>0.081906</td>\n",
       "    </tr>\n",
       "  </tbody>\n",
       "</table>\n",
       "<p>171 rows × 3 columns</p>\n",
       "</div>"
      ],
      "text/plain": [
       "     Produit  Ratio Energie/poids (kcal/kg)  Ratio protéine/poids\n",
       "5      Oeufs                    1393.935000              0.105939\n",
       "22     Oeufs                    1419.396632              0.114566\n",
       "44     Oeufs                    1331.866750              0.105681\n",
       "65     Oeufs                    1222.768481              0.104162\n",
       "87     Oeufs                    1405.130381              0.114204\n",
       "...      ...                            ...                   ...\n",
       "3545   Oeufs                    1373.376494              0.106769\n",
       "3567   Oeufs                    1322.116905              0.098931\n",
       "3589   Oeufs                    1401.723257              0.106881\n",
       "3610   Oeufs                    1010.201912              0.111122\n",
       "3632   Oeufs                    1023.825000              0.081906\n",
       "\n",
       "[171 rows x 3 columns]"
      ]
     },
     "execution_count": 44,
     "metadata": {},
     "output_type": "execute_result"
    }
   ],
   "source": [
    "df_ratio[df_ratio['Produit']=='Oeufs']"
   ]
  },
  {
   "cell_type": "markdown",
   "metadata": {},
   "source": [
    "<Strong>Exemple :</Strong> <br>\n",
    "Dans <a href ='https://fr.wikipedia.org/wiki/Avoine_cultiv%C3%A9e'> Wikipedia </a> on trouve que<b> l'avoine</b> contient 10,70 g de proteine pour 100g, soit un ratio de 0,107"
   ]
  },
  {
   "cell_type": "code",
   "execution_count": 45,
   "metadata": {},
   "outputs": [
    {
     "data": {
      "text/html": [
       "<div>\n",
       "<style scoped>\n",
       "    .dataframe tbody tr th:only-of-type {\n",
       "        vertical-align: middle;\n",
       "    }\n",
       "\n",
       "    .dataframe tbody tr th {\n",
       "        vertical-align: top;\n",
       "    }\n",
       "\n",
       "    .dataframe thead th {\n",
       "        text-align: right;\n",
       "    }\n",
       "</style>\n",
       "<table border=\"1\" class=\"dataframe\">\n",
       "  <thead>\n",
       "    <tr style=\"text-align: right;\">\n",
       "      <th></th>\n",
       "      <th>Produit</th>\n",
       "      <th>Ratio Energie/poids (kcal/kg)</th>\n",
       "      <th>Ratio protéine/poids</th>\n",
       "    </tr>\n",
       "  </thead>\n",
       "  <tbody>\n",
       "    <tr>\n",
       "      <th>3697</th>\n",
       "      <td>Avoine</td>\n",
       "      <td>2407.905000</td>\n",
       "      <td>0.077053</td>\n",
       "    </tr>\n",
       "    <tr>\n",
       "      <th>3770</th>\n",
       "      <td>Avoine</td>\n",
       "      <td>NaN</td>\n",
       "      <td>NaN</td>\n",
       "    </tr>\n",
       "    <tr>\n",
       "      <th>3840</th>\n",
       "      <td>Avoine</td>\n",
       "      <td>NaN</td>\n",
       "      <td>NaN</td>\n",
       "    </tr>\n",
       "    <tr>\n",
       "      <th>3912</th>\n",
       "      <td>Avoine</td>\n",
       "      <td>3090.863110</td>\n",
       "      <td>0.114124</td>\n",
       "    </tr>\n",
       "    <tr>\n",
       "      <th>3984</th>\n",
       "      <td>Avoine</td>\n",
       "      <td>NaN</td>\n",
       "      <td>NaN</td>\n",
       "    </tr>\n",
       "    <tr>\n",
       "      <th>...</th>\n",
       "      <td>...</td>\n",
       "      <td>...</td>\n",
       "      <td>...</td>\n",
       "    </tr>\n",
       "    <tr>\n",
       "      <th>14915</th>\n",
       "      <td>Avoine</td>\n",
       "      <td>NaN</td>\n",
       "      <td>NaN</td>\n",
       "    </tr>\n",
       "    <tr>\n",
       "      <th>14987</th>\n",
       "      <td>Avoine</td>\n",
       "      <td>NaN</td>\n",
       "      <td>NaN</td>\n",
       "    </tr>\n",
       "    <tr>\n",
       "      <th>15057</th>\n",
       "      <td>Avoine</td>\n",
       "      <td>2322.192128</td>\n",
       "      <td>0.095332</td>\n",
       "    </tr>\n",
       "    <tr>\n",
       "      <th>15130</th>\n",
       "      <td>Avoine</td>\n",
       "      <td>1754.587893</td>\n",
       "      <td>0.072954</td>\n",
       "    </tr>\n",
       "    <tr>\n",
       "      <th>15203</th>\n",
       "      <td>Avoine</td>\n",
       "      <td>2410.306316</td>\n",
       "      <td>0.114490</td>\n",
       "    </tr>\n",
       "  </tbody>\n",
       "</table>\n",
       "<p>164 rows × 3 columns</p>\n",
       "</div>"
      ],
      "text/plain": [
       "      Produit  Ratio Energie/poids (kcal/kg)  Ratio protéine/poids\n",
       "3697   Avoine                    2407.905000              0.077053\n",
       "3770   Avoine                            NaN                   NaN\n",
       "3840   Avoine                            NaN                   NaN\n",
       "3912   Avoine                    3090.863110              0.114124\n",
       "3984   Avoine                            NaN                   NaN\n",
       "...       ...                            ...                   ...\n",
       "14915  Avoine                            NaN                   NaN\n",
       "14987  Avoine                            NaN                   NaN\n",
       "15057  Avoine                    2322.192128              0.095332\n",
       "15130  Avoine                    1754.587893              0.072954\n",
       "15203  Avoine                    2410.306316              0.114490\n",
       "\n",
       "[164 rows x 3 columns]"
      ]
     },
     "execution_count": 45,
     "metadata": {},
     "output_type": "execute_result"
    }
   ],
   "source": [
    "df_ratio[df_ratio['Produit']=='Avoine']"
   ]
  },
  {
   "cell_type": "markdown",
   "metadata": {},
   "source": [
    "# Réponse 5 :"
   ]
  },
  {
   "cell_type": "markdown",
   "metadata": {},
   "source": [
    "<b> a .Moyenne du ratio pour chaque aliment </b> "
   ]
  },
  {
   "cell_type": "code",
   "execution_count": 46,
   "metadata": {},
   "outputs": [],
   "source": [
    "df_ratio = df_ratio.groupby('Produit').mean().reset_index()"
   ]
  },
  {
   "cell_type": "markdown",
   "metadata": {},
   "source": [
    "<b> Les 5 aliments les plus calorique </b>"
   ]
  },
  {
   "cell_type": "code",
   "execution_count": 47,
   "metadata": {},
   "outputs": [
    {
     "data": {
      "text/html": [
       "<div>\n",
       "<style scoped>\n",
       "    .dataframe tbody tr th:only-of-type {\n",
       "        vertical-align: middle;\n",
       "    }\n",
       "\n",
       "    .dataframe tbody tr th {\n",
       "        vertical-align: top;\n",
       "    }\n",
       "\n",
       "    .dataframe thead th {\n",
       "        text-align: right;\n",
       "    }\n",
       "</style>\n",
       "<table border=\"1\" class=\"dataframe\">\n",
       "  <thead>\n",
       "    <tr style=\"text-align: right;\">\n",
       "      <th></th>\n",
       "      <th>Produit</th>\n",
       "      <th>Ratio Energie/poids (kcal/kg)</th>\n",
       "    </tr>\n",
       "  </thead>\n",
       "  <tbody>\n",
       "    <tr>\n",
       "      <th>45</th>\n",
       "      <td>Huiles de Foie de Poisso</td>\n",
       "      <td>9982.932500</td>\n",
       "    </tr>\n",
       "    <tr>\n",
       "      <th>42</th>\n",
       "      <td>Huile de Son de Riz</td>\n",
       "      <td>9379.568137</td>\n",
       "    </tr>\n",
       "    <tr>\n",
       "      <th>43</th>\n",
       "      <td>Huile de Sésame</td>\n",
       "      <td>9314.546692</td>\n",
       "    </tr>\n",
       "    <tr>\n",
       "      <th>46</th>\n",
       "      <td>Huiles de Poissons</td>\n",
       "      <td>9003.715504</td>\n",
       "    </tr>\n",
       "    <tr>\n",
       "      <th>34</th>\n",
       "      <td>Huile d'Arachide</td>\n",
       "      <td>8925.582634</td>\n",
       "    </tr>\n",
       "  </tbody>\n",
       "</table>\n",
       "</div>"
      ],
      "text/plain": [
       "                     Produit  Ratio Energie/poids (kcal/kg)\n",
       "45  Huiles de Foie de Poisso                    9982.932500\n",
       "42       Huile de Son de Riz                    9379.568137\n",
       "43           Huile de Sésame                    9314.546692\n",
       "46        Huiles de Poissons                    9003.715504\n",
       "34          Huile d'Arachide                    8925.582634"
      ]
     },
     "execution_count": 47,
     "metadata": {},
     "output_type": "execute_result"
    }
   ],
   "source": [
    "Elts_caloriques = df_ratio.sort_values(by='Ratio Energie/poids (kcal/kg)', ascending=False).head(5)\n",
    "Elts_caloriques[['Produit','Ratio Energie/poids (kcal/kg)']]"
   ]
  },
  {
   "cell_type": "markdown",
   "metadata": {},
   "source": [
    "<b>Les 5 aliments les plus protéinés</b>"
   ]
  },
  {
   "cell_type": "code",
   "execution_count": 48,
   "metadata": {},
   "outputs": [
    {
     "data": {
      "text/html": [
       "<div>\n",
       "<style scoped>\n",
       "    .dataframe tbody tr th:only-of-type {\n",
       "        vertical-align: middle;\n",
       "    }\n",
       "\n",
       "    .dataframe tbody tr th {\n",
       "        vertical-align: top;\n",
       "    }\n",
       "\n",
       "    .dataframe thead th {\n",
       "        text-align: right;\n",
       "    }\n",
       "</style>\n",
       "<table border=\"1\" class=\"dataframe\">\n",
       "  <thead>\n",
       "    <tr style=\"text-align: right;\">\n",
       "      <th></th>\n",
       "      <th>Produit</th>\n",
       "      <th>Ratio protéine/poids</th>\n",
       "    </tr>\n",
       "  </thead>\n",
       "  <tbody>\n",
       "    <tr>\n",
       "      <th>27</th>\n",
       "      <td>Graines Colza/Moutarde</td>\n",
       "      <td>0.285365</td>\n",
       "    </tr>\n",
       "    <tr>\n",
       "      <th>81</th>\n",
       "      <td>Soja</td>\n",
       "      <td>0.285156</td>\n",
       "    </tr>\n",
       "    <tr>\n",
       "      <th>6</th>\n",
       "      <td>Arachides Decortiquees</td>\n",
       "      <td>0.251573</td>\n",
       "    </tr>\n",
       "    <tr>\n",
       "      <th>70</th>\n",
       "      <td>Pois</td>\n",
       "      <td>0.223219</td>\n",
       "    </tr>\n",
       "    <tr>\n",
       "      <th>50</th>\n",
       "      <td>Légumineuses Autres</td>\n",
       "      <td>0.220334</td>\n",
       "    </tr>\n",
       "  </tbody>\n",
       "</table>\n",
       "</div>"
      ],
      "text/plain": [
       "                   Produit  Ratio protéine/poids\n",
       "27  Graines Colza/Moutarde              0.285365\n",
       "81                    Soja              0.285156\n",
       "6   Arachides Decortiquees              0.251573\n",
       "70                    Pois              0.223219\n",
       "50     Légumineuses Autres              0.220334"
      ]
     },
     "execution_count": 48,
     "metadata": {},
     "output_type": "execute_result"
    }
   ],
   "source": [
    "Elts_proteinees = df_ratio.sort_values(by='Ratio protéine/poids', ascending=False).head(5)\n",
    "Elts_proteinees[['Produit','Ratio protéine/poids']]\n"
   ]
  },
  {
   "cell_type": "markdown",
   "metadata": {},
   "source": [
    "<b>Exemples précedents (Selon la moyenne):</b>"
   ]
  },
  {
   "cell_type": "code",
   "execution_count": 49,
   "metadata": {},
   "outputs": [
    {
     "data": {
      "text/html": [
       "<div>\n",
       "<style scoped>\n",
       "    .dataframe tbody tr th:only-of-type {\n",
       "        vertical-align: middle;\n",
       "    }\n",
       "\n",
       "    .dataframe tbody tr th {\n",
       "        vertical-align: top;\n",
       "    }\n",
       "\n",
       "    .dataframe thead th {\n",
       "        text-align: right;\n",
       "    }\n",
       "</style>\n",
       "<table border=\"1\" class=\"dataframe\">\n",
       "  <thead>\n",
       "    <tr style=\"text-align: right;\">\n",
       "      <th></th>\n",
       "      <th>Produit</th>\n",
       "      <th>Ratio Energie/poids (kcal/kg)</th>\n",
       "      <th>Ratio protéine/poids</th>\n",
       "    </tr>\n",
       "  </thead>\n",
       "  <tbody>\n",
       "    <tr>\n",
       "      <th>58</th>\n",
       "      <td>Oeufs</td>\n",
       "      <td>1343.440349</td>\n",
       "      <td>0.105473</td>\n",
       "    </tr>\n",
       "  </tbody>\n",
       "</table>\n",
       "</div>"
      ],
      "text/plain": [
       "   Produit  Ratio Energie/poids (kcal/kg)  Ratio protéine/poids\n",
       "58   Oeufs                    1343.440349              0.105473"
      ]
     },
     "execution_count": 49,
     "metadata": {},
     "output_type": "execute_result"
    }
   ],
   "source": [
    "df_ratio[df_ratio['Produit']=='Oeufs']"
   ]
  },
  {
   "cell_type": "code",
   "execution_count": 50,
   "metadata": {},
   "outputs": [
    {
     "data": {
      "text/html": [
       "<div>\n",
       "<style scoped>\n",
       "    .dataframe tbody tr th:only-of-type {\n",
       "        vertical-align: middle;\n",
       "    }\n",
       "\n",
       "    .dataframe tbody tr th {\n",
       "        vertical-align: top;\n",
       "    }\n",
       "\n",
       "    .dataframe thead th {\n",
       "        text-align: right;\n",
       "    }\n",
       "</style>\n",
       "<table border=\"1\" class=\"dataframe\">\n",
       "  <thead>\n",
       "    <tr style=\"text-align: right;\">\n",
       "      <th></th>\n",
       "      <th>Produit</th>\n",
       "      <th>Ratio Energie/poids (kcal/kg)</th>\n",
       "      <th>Ratio protéine/poids</th>\n",
       "    </tr>\n",
       "  </thead>\n",
       "  <tbody>\n",
       "    <tr>\n",
       "      <th>7</th>\n",
       "      <td>Avoine</td>\n",
       "      <td>2135.35579</td>\n",
       "      <td>0.084294</td>\n",
       "    </tr>\n",
       "  </tbody>\n",
       "</table>\n",
       "</div>"
      ],
      "text/plain": [
       "  Produit  Ratio Energie/poids (kcal/kg)  Ratio protéine/poids\n",
       "7  Avoine                     2135.35579              0.084294"
      ]
     },
     "execution_count": 50,
     "metadata": {},
     "output_type": "execute_result"
    }
   ],
   "source": [
    "df_ratio[df_ratio['Produit']=='Avoine']"
   ]
  },
  {
   "cell_type": "markdown",
   "metadata": {},
   "source": [
    "<b> Rajout dans la df principale les ratios </b>"
   ]
  },
  {
   "cell_type": "code",
   "execution_count": 51,
   "metadata": {},
   "outputs": [],
   "source": [
    "df_prinicpale = df_prinicpale.merge(df_ratio, on='Produit').copy()"
   ]
  },
  {
   "cell_type": "markdown",
   "metadata": {},
   "source": [
    "#  Réponse 6 : Disponibilité intérieure mondiale pour les produits végétaux "
   ]
  },
  {
   "cell_type": "code",
   "execution_count": 52,
   "metadata": {},
   "outputs": [],
   "source": [
    "df_alimentation_vegetal = df_prinicpale[df_prinicpale['Type'] == 'vegetal'].copy()"
   ]
  },
  {
   "cell_type": "code",
   "execution_count": 53,
   "metadata": {},
   "outputs": [],
   "source": [
    "#df_vegetal_interieur = df_alimentation_vegetal[['Zone','Produit','Disponibilité intérieure (kg/an)','Ratio Energie/poids (kcal/kg)','Ratio protéine/poids']].copy()"
   ]
  },
  {
   "cell_type": "markdown",
   "metadata": {},
   "source": [
    "<b> a. Disponibilité intérieure mondiale en kcal (pour les produits végétaux uniquement)</b>"
   ]
  },
  {
   "cell_type": "code",
   "execution_count": 54,
   "metadata": {},
   "outputs": [],
   "source": [
    "#df_alimentation_vegetal.columns"
   ]
  },
  {
   "cell_type": "code",
   "execution_count": 55,
   "metadata": {},
   "outputs": [
    {
     "name": "stdout",
     "output_type": "stream",
     "text": [
      "Disponibilité intérieure mondiale en kcal pour les produits végétaux uniquement =  1.3780136677764184e+16\n"
     ]
    }
   ],
   "source": [
    "df_alimentation_vegetal['Disponibilité intérieure (kcal/an)'] = df_alimentation_vegetal[\"Disponibilité intérieure (kg/an)\"] * \\\n",
    "    df_alimentation_vegetal[\"Ratio Energie/poids (kcal/kg)\"] \n",
    "total_disponibilite_interieur_vegetal_kcal = df_alimentation_vegetal['Disponibilité intérieure (kcal/an)'].sum()\n",
    "print('Disponibilité intérieure mondiale en kcal pour les produits végétaux uniquement = ',total_disponibilite_interieur_vegetal_kcal)"
   ]
  },
  {
   "cell_type": "markdown",
   "metadata": {},
   "source": [
    "============================================================================================================ <br>\n",
    "Disponibilité intérieure mondiale en kcal pour les produits végétaux uniquement =  <b>1.3780136677764184e+16</b> <br>\n",
    "============================================================================================================"
   ]
  },
  {
   "cell_type": "markdown",
   "metadata": {},
   "source": [
    "<b> a. Disponibilité intérieure mondiale en proteine (pour les produits végétaux uniquement)"
   ]
  },
  {
   "cell_type": "code",
   "execution_count": 56,
   "metadata": {
    "scrolled": true
   },
   "outputs": [
    {
     "name": "stdout",
     "output_type": "stream",
     "text": [
      "total_disponibilite_interieur_vegetal_proteine =  349177827738287.5\n"
     ]
    }
   ],
   "source": [
    "df_alimentation_vegetal['Disponibilité intérieure en proteine (g/an)'] = df_alimentation_vegetal[\"Disponibilité intérieure (kg/an)\"] * \\\n",
    "    df_alimentation_vegetal[\"Ratio protéine/poids\"] * 1000\n",
    "total_disponibilite_interieur_vegetal_proteine = df_alimentation_vegetal['Disponibilité intérieure en proteine (g/an)'].sum()\n",
    "print('total_disponibilite_interieur_vegetal_proteine = ',total_disponibilite_interieur_vegetal_proteine)"
   ]
  },
  {
   "cell_type": "markdown",
   "metadata": {},
   "source": [
    "============================================================================================================ <br>\n",
    "Disponibilité intérieure mondiale en proteine pour les produits végétaux uniquement =  <b>349177827738287.5 g</b> <br>\n",
    "============================================================================================================"
   ]
  },
  {
   "cell_type": "markdown",
   "metadata": {},
   "source": [
    "# Réponse 7 : Nombre d'humains qui pourraient être nourris si toute la disponibilité intérieure mondiale de produits végétaux était utilisée pour de la nourriture "
   ]
  },
  {
   "cell_type": "markdown",
   "metadata": {},
   "source": [
    "<b>a. Selon le nombre de calories :</b><br>"
   ]
  },
  {
   "cell_type": "code",
   "execution_count": 57,
   "metadata": {},
   "outputs": [
    {
     "name": "stdout",
     "output_type": "stream",
     "text": [
      "Nombre de personnes nourries en utilisant la disponibilite interieur vegetal selon de nombre de calories = 15101519646.864859\n",
      "Pourcentage des personnes nourries en utilisant la disponibilite interieur vegetal selon de nombre de calories = 215.81843759837483 %\n"
     ]
    }
   ],
   "source": [
    "nombre_personne_nourris_disponibilite_interieur_vegetal_kcal =total_disponibilite_interieur_vegetal_kcal / (2500 * 365)\n",
    "pourcentage_nourris_disponibilite_interieur_vegetal_kcal = nombre_personne_nourris_disponibilite_interieur_vegetal_kcal *100/nb_population\n",
    "print ('Nombre de personnes nourries en utilisant la disponibilite interieur vegetal selon de nombre de calories =', nombre_personne_nourris_disponibilite_interieur_vegetal_kcal)\n",
    "print('Pourcentage des personnes nourries en utilisant la disponibilite interieur vegetal selon de nombre de calories =', pourcentage_nourris_disponibilite_interieur_vegetal_kcal,'%')"
   ]
  },
  {
   "cell_type": "markdown",
   "metadata": {},
   "source": [
    "Sachant que la ration alimentaire moyenne nécessaire est de <b>2 500 kcal/personne/jour</b>. [Source <a href=\"https://fr.wikipedia.org/wiki/Ration_alimentaire#cite_note-2\">Wikipedia</a> ] , alors :<br>\n",
    "Le nombre de personnes nourries en utilisant la disponibilite interieur vegetal selon de nombre de calories = <b>15101519646</b><br>\n",
    "Pourcentage des personnes nourries en utilisant la disponibilite interieur vegetal selon de nombre de calories = <b>215.89 %</b>"
   ]
  },
  {
   "cell_type": "markdown",
   "metadata": {},
   "source": [
    "<b>Selon le nombre de proteines : </b>"
   ]
  },
  {
   "cell_type": "code",
   "execution_count": 58,
   "metadata": {
    "scrolled": true
   },
   "outputs": [
    {
     "name": "stdout",
     "output_type": "stream",
     "text": [
      "nombre_personne_nourris_disponibilite_interieur_vegetal_proteine = 19523501690.706596\n",
      "pourcentage_nourris_disponibilite_interieur_vegetal_proteine = 279.0137502626946 %\n"
     ]
    }
   ],
   "source": [
    "nombre_personne_nourris_disponibilite_interieur_vegetal_proteine =total_disponibilite_interieur_vegetal_proteine / (49 * 365)\n",
    "pourcentage_nourris_disponibilite_interieur_vegetal_proteine = nombre_personne_nourris_disponibilite_interieur_vegetal_proteine *100/nb_population\n",
    "print ('nombre_personne_nourris_disponibilite_interieur_vegetal_proteine =', nombre_personne_nourris_disponibilite_interieur_vegetal_proteine)\n",
    "print('pourcentage_nourris_disponibilite_interieur_vegetal_proteine =', pourcentage_nourris_disponibilite_interieur_vegetal_proteine,'%')"
   ]
  },
  {
   "cell_type": "markdown",
   "metadata": {},
   "source": [
    "\n"
   ]
  },
  {
   "cell_type": "markdown",
   "metadata": {},
   "source": [
    "Les besoins moyens en protéines ont été définis par la FAO qui recommande <b>49 g</b> de protéines pour l'hommes adultes [<a href = https://fr.wikipedia.org/wiki/Prot%C3%A9ine>Source</a>].\n",
    "nombre_personne_nourris_disponibilite_interieur_vegetal_proteine = 19523501690.706596 <br>\n",
    "pourcentage_nourris_disponibilite_interieur_vegetal_proteine = 279.0137502626946 %"
   ]
  },
  {
   "cell_type": "code",
   "execution_count": 59,
   "metadata": {},
   "outputs": [],
   "source": [
    "#  L'ANSES recommande un apport nutritionnel conseillé (ANC) de 0,83 g·kg-1·j-1, pour un maximum de 2,2 g·kg-1·j-1 chez l’adulte en bonne santé, soit 62 g par jour pour un homme de 75 kg. Il faut noter que les ANC sont supérieurs aux besoins moyens qui sont de 0,66 g·kg-1·j-1 selon ce même rapport, ce qui donnerait 49,5 g par jour pour le cas précédent.\n"
   ]
  },
  {
   "cell_type": "markdown",
   "metadata": {},
   "source": [
    "# Question 8 : Combien d'humains pourraient être nourris si toute la disponibilité alimentaire en produits végétaux, la nourriture végétale destinée aux animaux et les pertes de produits végétaux étaient utilisés pour de la nourriture ? Donnez les résultats en termes de calories, puis de protéines, et exprimez ensuite ces 2 résultats en pourcentage de la population mondiale."
   ]
  },
  {
   "cell_type": "markdown",
   "metadata": {},
   "source": [
    "<b> a. Selon le nombre de calories</b> :"
   ]
  },
  {
   "cell_type": "code",
   "execution_count": 60,
   "metadata": {},
   "outputs": [
    {
     "name": "stdout",
     "output_type": "stream",
     "text": [
      "total_disponibilite_sans_perte_vegetal_kcal =  6334924922323592.0\n"
     ]
    }
   ],
   "source": [
    "perte_animaux_kcal = (df_alimentation_vegetal.loc[:,'Aliments pour animaux (kg/an)']+df_alimentation_vegetal.loc[:,'Pertes (kg/an)']) \\\n",
    "                 * df_alimentation_vegetal.loc[:,\"Ratio Energie/poids (kcal/kg)\"] \n",
    "df_alimentation_vegetal.loc[:,'Disponibilite sans perte (kcal)'] = perte_animaux_kcal + df_alimentation_vegetal.loc[:,'Disponibilite alimentaire (kcal/an)'] \n",
    "total_disponibilite_sans_perte_vegetal_kcal = df_alimentation_vegetal['Disponibilite sans perte (kcal)'].sum()\n",
    "print(\"total_disponibilite_sans_perte_vegetal_kcal = \",total_disponibilite_sans_perte_vegetal_kcal)"
   ]
  },
  {
   "cell_type": "markdown",
   "metadata": {},
   "source": [
    "total_disponibilite_sans_perte_vegetal_kcal =  6334924922323592.0"
   ]
  },
  {
   "cell_type": "code",
   "execution_count": 61,
   "metadata": {},
   "outputs": [],
   "source": [
    "#df_disponibilité_sans_perte_kcal = df_alimentation_vegetal[['Zone','Code zone','Produit','Disponibilite sans perte']]"
   ]
  },
  {
   "cell_type": "code",
   "execution_count": 62,
   "metadata": {},
   "outputs": [
    {
     "name": "stdout",
     "output_type": "stream",
     "text": [
      "nombre_personne_nourris_disponibilite_sans_perte_vegetal_kcal = 6942383476.519005\n",
      "pourcentage_nourris_disponibilite_sans_perte_vegetal_kcal = 99.21480686363627 %\n"
     ]
    }
   ],
   "source": [
    "nombre_personne_nourris_disponibilite_sans_perte_vegetal_kcal =total_disponibilite_sans_perte_vegetal_kcal / (2500 * 365)\n",
    "pourcentage_nourris_disponibilite_sans_perte_vegetal_kcal = nombre_personne_nourris_disponibilite_sans_perte_vegetal_kcal *100/nb_population\n",
    "print ('nombre_personne_nourris_disponibilite_sans_perte_vegetal_kcal =', nombre_personne_nourris_disponibilite_sans_perte_vegetal_kcal)\n",
    "print('pourcentage_nourris_disponibilite_sans_perte_vegetal_kcal =', pourcentage_nourris_disponibilite_sans_perte_vegetal_kcal,'%')"
   ]
  },
  {
   "cell_type": "markdown",
   "metadata": {},
   "source": [
    "nombre_personne_nourris_disponibilite_sans_perte_vegetal_kcal = 6942383476.519005<br>\n",
    "pourcentage_nourris_disponibilite_sans_perte_vegetal_kcal = 99.21480686363627 %"
   ]
  },
  {
   "cell_type": "markdown",
   "metadata": {},
   "source": [
    "<b> a. Selon le nombre de proteines</b> :"
   ]
  },
  {
   "cell_type": "code",
   "execution_count": 63,
   "metadata": {},
   "outputs": [
    {
     "name": "stdout",
     "output_type": "stream",
     "text": [
      "total_disponibilite_sans_perte_vegetal_proteine en g=  167942868574310.88\n"
     ]
    }
   ],
   "source": [
    "perte_animaux_proteine = (df_alimentation_vegetal.loc[:,'Aliments pour animaux (kg/an)']+df_alimentation_vegetal.loc[:,'Pertes (kg/an)']) \\\n",
    "                 * df_alimentation_vegetal.loc[:,\"Ratio protéine/poids\"] \n",
    "df_alimentation_vegetal.loc[:,'Disponibilite sans perte proteine(kg/an)'] = perte_animaux_proteine + df_alimentation_vegetal.loc[:,'Disponibilite alimentaire proteine (kg/an)'] \n",
    "total_disponibilite_sans_perte_vegetal_proteine = df_alimentation_vegetal['Disponibilite sans perte proteine(kg/an)'].sum() * 1000\n",
    "print(\"total_disponibilite_sans_perte_vegetal_proteine en g= \",total_disponibilite_sans_perte_vegetal_proteine)"
   ]
  },
  {
   "cell_type": "markdown",
   "metadata": {},
   "source": [
    "total_disponibilite_sans_perte_vegetal_proteine en g=  167942868574310.88\n"
   ]
  },
  {
   "cell_type": "code",
   "execution_count": 64,
   "metadata": {
    "scrolled": true
   },
   "outputs": [
    {
     "name": "stdout",
     "output_type": "stream",
     "text": [
      "nombre_personne_nourris_disponibilite_sans_perte_vegetal_proteine = 9390152003.036673\n",
      "pourcentage_nourris_disponibilite_sans_perte_vegetal_proteine = 134.1962915982001 %\n"
     ]
    }
   ],
   "source": [
    "nombre_personne_nourris_disponibilite_sans_perte_vegetal_proteine =total_disponibilite_sans_perte_vegetal_proteine / (49 * 365)\n",
    "pourcentage_nourris_disponibilite_sans_perte_vegetal_proteine = nombre_personne_nourris_disponibilite_sans_perte_vegetal_proteine *100/nb_population\n",
    "print ('nombre_personne_nourris_disponibilite_sans_perte_vegetal_proteine =', nombre_personne_nourris_disponibilite_sans_perte_vegetal_proteine)\n",
    "print('pourcentage_nourris_disponibilite_sans_perte_vegetal_proteine =', pourcentage_nourris_disponibilite_sans_perte_vegetal_proteine,'%')"
   ]
  },
  {
   "cell_type": "markdown",
   "metadata": {},
   "source": [
    "nombre_personne_nourris_disponibilite_sans_perte_vegetal_proteine = 9390152003.036673  <br>\n",
    "pourcentage_nourris_disponibilite_sans_perte_vegetal_proteine = 134.1962915982001 %"
   ]
  },
  {
   "cell_type": "code",
   "execution_count": null,
   "metadata": {},
   "outputs": [],
   "source": []
  },
  {
   "cell_type": "markdown",
   "metadata": {},
   "source": [
    "# Question 9 : Combien d'humains pourraient être nourris avec la disponibilité alimentaire mondiale ? Donnez les résultats en termes de calories, puis de protéines, et exprimez ensuite ces 2 résultats en pourcentage de la population mondiale."
   ]
  },
  {
   "cell_type": "code",
   "execution_count": 65,
   "metadata": {},
   "outputs": [],
   "source": [
    "# Vegetal ou pas ?"
   ]
  },
  {
   "cell_type": "markdown",
   "metadata": {},
   "source": [
    "<b>a. Selon le nombre de kcal :</b>"
   ]
  },
  {
   "cell_type": "code",
   "execution_count": 66,
   "metadata": {},
   "outputs": [
    {
     "data": {
      "text/plain": [
       "Index(['Zone', 'Code zone', 'Produit', 'Aliments pour animaux (kg/an)',\n",
       "       'Autres utilisations (non alimentaire) (kg/an)',\n",
       "       'Disponibilité alimentaire (Kcal/personne/jour)',\n",
       "       'Disponibilité alimentaire en quantité (kg/personne/an)',\n",
       "       'Disponibilité de matière grasse en quantité (g/personne/jour)',\n",
       "       'Disponibilité de protéines en quantité (g/personne/jour)',\n",
       "       'Disponibilité intérieure (kg/an)', 'Exportations - Quantité (kg/an)',\n",
       "       'Importations - Quantité (kg/an)', 'Nourriture (kg/an)',\n",
       "       'Pertes (kg/an)', 'Production (kg/an)', 'Semences (kg/an)',\n",
       "       'Traitement (kg/an)', 'Variation de stock (kg/an)', 'Type',\n",
       "       'Population', 'Unité', 'Disponibilite alimentaire (kcal/an)',\n",
       "       'Disponibilite alimentaire proteine (kg/an)',\n",
       "       'Ratio Energie/poids (kcal/kg)', 'Ratio protéine/poids'],\n",
       "      dtype='object')"
      ]
     },
     "execution_count": 66,
     "metadata": {},
     "output_type": "execute_result"
    }
   ],
   "source": [
    "df_prinicpale.columns"
   ]
  },
  {
   "cell_type": "code",
   "execution_count": 67,
   "metadata": {},
   "outputs": [],
   "source": [
    "disponibilite_globale_kcal = df_prinicpale['Disponibilite alimentaire (kcal/an)'].sum()"
   ]
  },
  {
   "cell_type": "code",
   "execution_count": 68,
   "metadata": {},
   "outputs": [
    {
     "name": "stdout",
     "output_type": "stream",
     "text": [
      "disponibilite_globale_kcal =  7364437353675000.0\n",
      "nombre_personne_nourris_disponibilite_sans_perte_vegetal_kcal = 8070616278.0\n",
      "pourcentage_nourris_disponibilite_sans_perte_vegetal_kcal = 115.33857759378368 %\n"
     ]
    }
   ],
   "source": [
    "nb_personne_nourris_disponibilite_gobale_kcal =disponibilite_globale_kcal / (2500 * 365)\n",
    "pourcentage_personne_nourris_disponibilite_gobale_kcal = nb_personne_nourris_disponibilite_gobale_kcal *100 / nb_population\n",
    "print('disponibilite_globale_kcal = ',disponibilite_globale_kcal)\n",
    "print ('nombre_personne_nourris_disponibilite_sans_perte_vegetal_kcal =', nb_personne_nourris_disponibilite_gobale_kcal)\n",
    "print('pourcentage_nourris_disponibilite_sans_perte_vegetal_kcal =', pourcentage_personne_nourris_disponibilite_gobale_kcal,'%')"
   ]
  },
  {
   "cell_type": "markdown",
   "metadata": {},
   "source": [
    "disponibilite_globale_kcal =  7364437353675000.0  <br>\n",
    "nombre_personne_nourris_disponibilite_sans_perte_vegetal_kcal = 8070616278.0 <br>\n",
    "pourcentage_nourris_disponibilite_sans_perte_vegetal_kcal = 115.33857759378368 % <br>"
   ]
  },
  {
   "cell_type": "markdown",
   "metadata": {},
   "source": [
    "<b>b. Selon le nombre de proteines : </b>"
   ]
  },
  {
   "cell_type": "code",
   "execution_count": 69,
   "metadata": {},
   "outputs": [],
   "source": [
    "disponibilite_globale_proteine = df_prinicpale['Disponibilite alimentaire proteine (kg/an)'].sum() * 1000"
   ]
  },
  {
   "cell_type": "code",
   "execution_count": 70,
   "metadata": {},
   "outputs": [
    {
     "name": "stdout",
     "output_type": "stream",
     "text": [
      "disponibilite_globale_proteine =  207249144517349.97\n",
      "nombre_personne_nourris_disponibilite_sans_perte_vegetal_proteine = 11587875007.959183\n",
      "pourcentage_nourris_disponibilite_sans_perte_vegetal_proteine = 165.60433239724978 %\n"
     ]
    }
   ],
   "source": [
    "nb_personne_nourris_disponibilite_gobale_proteine =disponibilite_globale_proteine / (49 * 365)\n",
    "pourcentage_personne_nourris_disponibilite_gobale_proteine = nb_personne_nourris_disponibilite_gobale_proteine *100 / nb_population\n",
    "print('disponibilite_globale_proteine = ',disponibilite_globale_proteine)\n",
    "print ('nombre_personne_nourris_disponibilite_sans_perte_vegetal_proteine =', nb_personne_nourris_disponibilite_gobale_proteine)\n",
    "print('pourcentage_nourris_disponibilite_sans_perte_vegetal_proteine =', pourcentage_personne_nourris_disponibilite_gobale_proteine,'%')"
   ]
  },
  {
   "cell_type": "markdown",
   "metadata": {},
   "source": [
    "disponibilite_globale_proteine =  207249144517349.97  <br>\n",
    "nombre_personne_nourris_disponibilite_sans_perte_vegetal_proteine = 11587875007.959183 <br>\n",
    "pourcentage_nourris_disponibilite_sans_perte_vegetal_proteine = 165.60433239724978 % <br>\n"
   ]
  },
  {
   "cell_type": "markdown",
   "metadata": {},
   "source": [
    "# Question 10 : A partir des données téléchargées qui concernent la sous-nutrition, répondez à cette question : Quelle proportion de la population mondiale est considérée comme étant en sous-nutrition ?\n"
   ]
  },
  {
   "cell_type": "code",
   "execution_count": 80,
   "metadata": {},
   "outputs": [],
   "source": [
    "df_sous_alimentation20132015 = df_sous_alimentation[df_sous_alimentation['Code année']==20132015].copy()"
   ]
  },
  {
   "cell_type": "code",
   "execution_count": 81,
   "metadata": {},
   "outputs": [],
   "source": [
    "# df_sous_alimentation2013[df_sous_alimentation2013['Symbole']!='F']"
   ]
  },
  {
   "cell_type": "code",
   "execution_count": 82,
   "metadata": {},
   "outputs": [],
   "source": [
    "# df_sous_alimentation20132015['Valeur'].fillna(0)"
   ]
  },
  {
   "cell_type": "code",
   "execution_count": 83,
   "metadata": {},
   "outputs": [],
   "source": [
    "# df['a'] = pd.to_numeric(df['a'],errors = 'coerce')\n",
    "df_sous_alimentation20132015.loc[:,'Valeur'] = pd.to_numeric(df_sous_alimentation20132015.loc[:,'Valeur'], errors = \"coerce\")"
   ]
  },
  {
   "cell_type": "code",
   "execution_count": 85,
   "metadata": {},
   "outputs": [],
   "source": []
  },
  {
   "cell_type": "code",
   "execution_count": 88,
   "metadata": {},
   "outputs": [
    {
     "name": "stdout",
     "output_type": "stream",
     "text": [
      "nb_sous_alimentation20132015 =  735200000.0\n",
      "pourcentage_sous_alimentation20132015 =  10.506870767490325\n"
     ]
    }
   ],
   "source": [
    "nb_sous_alimentation20132015 = df_sous_alimentation20132015['Valeur'].sum() * 1000000\n",
    "print('nb_sous_alimentation20132015 = ',nb_sous_alimentation20132015)\n",
    "pourcentage_sous_alimentation20132015  = nb_sous_alimentation20132015 *100/ nb_population\n",
    "print('pourcentage_sous_alimentation20132015 = ',pourcentage_sous_alimentation20132015)"
   ]
  },
  {
   "cell_type": "markdown",
   "metadata": {},
   "source": [
    "nb_sous_alimentation20132015 =  735200000.0 <br>\n",
    "pourcentage_sous_alimentation20132015 =  10.506870767490325"
   ]
  },
  {
   "cell_type": "markdown",
   "metadata": {},
   "source": [
    "# Question 11 : En ne prenant en compte que les céréales destinées à l'alimentation (humaine et animale), quelle proportion (en termes de poids) est destinée à l'alimentation animale ?"
   ]
  },
  {
   "cell_type": "code",
   "execution_count": 173,
   "metadata": {},
   "outputs": [],
   "source": [
    "# df_cereales[\"Produit\"].apply(lambda d = d.drop_duplicates())"
   ]
  },
  {
   "cell_type": "code",
   "execution_count": 161,
   "metadata": {},
   "outputs": [],
   "source": [
    "# df.apply(lambda x: '-'.join(x), axis = 1)"
   ]
  },
  {
   "cell_type": "code",
   "execution_count": 175,
   "metadata": {},
   "outputs": [
    {
     "data": {
      "text/html": [
       "<div>\n",
       "<style scoped>\n",
       "    .dataframe tbody tr th:only-of-type {\n",
       "        vertical-align: middle;\n",
       "    }\n",
       "\n",
       "    .dataframe tbody tr th {\n",
       "        vertical-align: top;\n",
       "    }\n",
       "\n",
       "    .dataframe thead th {\n",
       "        text-align: right;\n",
       "    }\n",
       "</style>\n",
       "<table border=\"1\" class=\"dataframe\">\n",
       "  <thead>\n",
       "    <tr style=\"text-align: right;\">\n",
       "      <th></th>\n",
       "      <th>Code Domaine</th>\n",
       "      <th>Domaine</th>\n",
       "      <th>Code zone</th>\n",
       "      <th>Zone</th>\n",
       "      <th>Code Élément</th>\n",
       "      <th>Élément</th>\n",
       "      <th>Code Produit</th>\n",
       "      <th>Produit</th>\n",
       "      <th>Code année</th>\n",
       "      <th>Année</th>\n",
       "      <th>Unité</th>\n",
       "      <th>Valeur</th>\n",
       "      <th>Symbole</th>\n",
       "      <th>Description du Symbole</th>\n",
       "    </tr>\n",
       "  </thead>\n",
       "  <tbody>\n",
       "    <tr>\n",
       "      <th>0</th>\n",
       "      <td>FBSH</td>\n",
       "      <td>Bilans Alimentaire (Ancienne méthodologie et p...</td>\n",
       "      <td>2</td>\n",
       "      <td>Afghanistan</td>\n",
       "      <td>5511</td>\n",
       "      <td>Production</td>\n",
       "      <td>2511</td>\n",
       "      <td>Blé</td>\n",
       "      <td>2013</td>\n",
       "      <td>2013</td>\n",
       "      <td>Milliers de tonnes</td>\n",
       "      <td>5169</td>\n",
       "      <td>S</td>\n",
       "      <td>Données standardisées</td>\n",
       "    </tr>\n",
       "    <tr>\n",
       "      <th>1</th>\n",
       "      <td>FBSH</td>\n",
       "      <td>Bilans Alimentaire (Ancienne méthodologie et p...</td>\n",
       "      <td>2</td>\n",
       "      <td>Afghanistan</td>\n",
       "      <td>5511</td>\n",
       "      <td>Production</td>\n",
       "      <td>2805</td>\n",
       "      <td>Riz (Eq Blanchi)</td>\n",
       "      <td>2013</td>\n",
       "      <td>2013</td>\n",
       "      <td>Milliers de tonnes</td>\n",
       "      <td>342</td>\n",
       "      <td>S</td>\n",
       "      <td>Données standardisées</td>\n",
       "    </tr>\n",
       "    <tr>\n",
       "      <th>2</th>\n",
       "      <td>FBSH</td>\n",
       "      <td>Bilans Alimentaire (Ancienne méthodologie et p...</td>\n",
       "      <td>2</td>\n",
       "      <td>Afghanistan</td>\n",
       "      <td>5511</td>\n",
       "      <td>Production</td>\n",
       "      <td>2513</td>\n",
       "      <td>Orge</td>\n",
       "      <td>2013</td>\n",
       "      <td>2013</td>\n",
       "      <td>Milliers de tonnes</td>\n",
       "      <td>514</td>\n",
       "      <td>S</td>\n",
       "      <td>Données standardisées</td>\n",
       "    </tr>\n",
       "  </tbody>\n",
       "</table>\n",
       "</div>"
      ],
      "text/plain": [
       "  Code Domaine                                            Domaine  Code zone  \\\n",
       "0         FBSH  Bilans Alimentaire (Ancienne méthodologie et p...          2   \n",
       "1         FBSH  Bilans Alimentaire (Ancienne méthodologie et p...          2   \n",
       "2         FBSH  Bilans Alimentaire (Ancienne méthodologie et p...          2   \n",
       "\n",
       "          Zone  Code Élément     Élément  Code Produit           Produit  \\\n",
       "0  Afghanistan          5511  Production          2511               Blé   \n",
       "1  Afghanistan          5511  Production          2805  Riz (Eq Blanchi)   \n",
       "2  Afghanistan          5511  Production          2513              Orge   \n",
       "\n",
       "   Code année  Année               Unité  Valeur Symbole  \\\n",
       "0        2013   2013  Milliers de tonnes    5169       S   \n",
       "1        2013   2013  Milliers de tonnes     342       S   \n",
       "2        2013   2013  Milliers de tonnes     514       S   \n",
       "\n",
       "  Description du Symbole  \n",
       "0  Données standardisées  \n",
       "1  Données standardisées  \n",
       "2  Données standardisées  "
      ]
     },
     "execution_count": 175,
     "metadata": {},
     "output_type": "execute_result"
    }
   ],
   "source": [
    "# df_cereales.groupby('Produit').apply(lambda d: d.drop_duplicates())\n",
    "df_cereales.head(3)"
   ]
  },
  {
   "cell_type": "markdown",
   "metadata": {},
   "source": [
    "<b> a. Liste des produits considérés comme des céréales selon la FAO.</b>"
   ]
  },
  {
   "cell_type": "code",
   "execution_count": 176,
   "metadata": {
    "scrolled": true
   },
   "outputs": [
    {
     "data": {
      "text/html": [
       "<div>\n",
       "<style scoped>\n",
       "    .dataframe tbody tr th:only-of-type {\n",
       "        vertical-align: middle;\n",
       "    }\n",
       "\n",
       "    .dataframe tbody tr th {\n",
       "        vertical-align: top;\n",
       "    }\n",
       "\n",
       "    .dataframe thead th {\n",
       "        text-align: right;\n",
       "    }\n",
       "</style>\n",
       "<table border=\"1\" class=\"dataframe\">\n",
       "  <thead>\n",
       "    <tr style=\"text-align: right;\">\n",
       "      <th></th>\n",
       "      <th>Code Produit</th>\n",
       "      <th>Produit</th>\n",
       "    </tr>\n",
       "  </thead>\n",
       "  <tbody>\n",
       "    <tr>\n",
       "      <th>0</th>\n",
       "      <td>2511</td>\n",
       "      <td>Blé</td>\n",
       "    </tr>\n",
       "    <tr>\n",
       "      <th>1</th>\n",
       "      <td>2805</td>\n",
       "      <td>Riz (Eq Blanchi)</td>\n",
       "    </tr>\n",
       "    <tr>\n",
       "      <th>2</th>\n",
       "      <td>2513</td>\n",
       "      <td>Orge</td>\n",
       "    </tr>\n",
       "    <tr>\n",
       "      <th>3</th>\n",
       "      <td>2514</td>\n",
       "      <td>Maïs</td>\n",
       "    </tr>\n",
       "    <tr>\n",
       "      <th>4</th>\n",
       "      <td>2517</td>\n",
       "      <td>Millet</td>\n",
       "    </tr>\n",
       "    <tr>\n",
       "      <th>9</th>\n",
       "      <td>2515</td>\n",
       "      <td>Seigle</td>\n",
       "    </tr>\n",
       "    <tr>\n",
       "      <th>10</th>\n",
       "      <td>2516</td>\n",
       "      <td>Avoine</td>\n",
       "    </tr>\n",
       "    <tr>\n",
       "      <th>12</th>\n",
       "      <td>2518</td>\n",
       "      <td>Sorgho</td>\n",
       "    </tr>\n",
       "    <tr>\n",
       "      <th>13</th>\n",
       "      <td>2520</td>\n",
       "      <td>Céréales, Autres</td>\n",
       "    </tr>\n",
       "  </tbody>\n",
       "</table>\n",
       "</div>"
      ],
      "text/plain": [
       "    Code Produit           Produit\n",
       "0           2511               Blé\n",
       "1           2805  Riz (Eq Blanchi)\n",
       "2           2513              Orge\n",
       "3           2514              Maïs\n",
       "4           2517            Millet\n",
       "9           2515            Seigle\n",
       "10          2516            Avoine\n",
       "12          2518            Sorgho\n",
       "13          2520  Céréales, Autres"
      ]
     },
     "execution_count": 176,
     "metadata": {},
     "output_type": "execute_result"
    }
   ],
   "source": [
    "df_type_cereal = df_cereales.drop_duplicates(subset = ['Code Produit', 'Produit'])\n",
    "df_type_cereal[['Code Produit', 'Produit']]"
   ]
  },
  {
   "cell_type": "markdown",
   "metadata": {},
   "source": [
    "<b> b. Rajout de la colonne \"is_cereal\"de type booléen pour distinguer les céréales des autres produits </b>"
   ]
  },
  {
   "cell_type": "code",
   "execution_count": 177,
   "metadata": {},
   "outputs": [],
   "source": [
    "type_cereal = df_type_cereal[\"Produit\"].tolist()\n",
    "df_prinicpale['is_cereal'] = df_prinicpale['Produit'].apply(lambda x:True if x in type_cereal else False)"
   ]
  },
  {
   "cell_type": "code",
   "execution_count": 178,
   "metadata": {},
   "outputs": [],
   "source": [
    "df_prinicpale_cereal = df_prinicpale[df_prinicpale['is_cereal']==True].copy()\n",
    "df_prinicpale_cereal = df_prinicpale_cereal[['Zone','Produit','Aliments pour animaux (kg/an)', 'Nourriture (kg/an)']].copy()"
   ]
  },
  {
   "cell_type": "code",
   "execution_count": 179,
   "metadata": {},
   "outputs": [],
   "source": [
    "# df_prinicpale_cereal[df_prinicpale_cereal['is_cereal']==False]"
   ]
  },
  {
   "cell_type": "code",
   "execution_count": 181,
   "metadata": {},
   "outputs": [
    {
     "name": "stdout",
     "output_type": "stream",
     "text": [
      "proportion_cereales_animaux =  45.91400584899829\n"
     ]
    }
   ],
   "source": [
    "cereales_animaux = df_prinicpale_cereal['Aliments pour animaux (kg/an)'].sum()\n",
    "cereales_nourriture = df_prinicpale_cereal['Nourriture (kg/an)'].sum()\n",
    "\n",
    "proportion_cereales_animaux = 100 * cereales_animaux / (cereales_animaux + cereales_nourriture)\n",
    "#proportion_cereales_nourriture = 100 * cereales_nourriture / (cereales_animaux + cereales_nourriture)\n",
    "\n",
    "print('proportion_cereales_animaux = ', proportion_cereales_animaux)\n",
    "#print('proportion_cereales_nourriture = ',proportion_cereales_nourriture)"
   ]
  },
  {
   "cell_type": "code",
   "execution_count": null,
   "metadata": {},
   "outputs": [],
   "source": []
  },
  {
   "cell_type": "code",
   "execution_count": null,
   "metadata": {},
   "outputs": [],
   "source": []
  }
 ],
 "metadata": {
  "interpreter": {
   "hash": "aa4029e9b8b19fac47fe0c6b33ae7d754eb12d8bb135c7af1e62fea52b635132"
  },
  "kernelspec": {
   "display_name": "Python 3",
   "language": "python",
   "name": "python3"
  },
  "language_info": {
   "codemirror_mode": {
    "name": "ipython",
    "version": 3
   },
   "file_extension": ".py",
   "mimetype": "text/x-python",
   "name": "python",
   "nbconvert_exporter": "python",
   "pygments_lexer": "ipython3",
   "version": "3.8.5"
  }
 },
 "nbformat": 4,
 "nbformat_minor": 4
}
