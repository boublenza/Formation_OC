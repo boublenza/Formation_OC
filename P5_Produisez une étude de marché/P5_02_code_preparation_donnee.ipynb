{
 "cells": [
  {
   "cell_type": "markdown",
   "metadata": {
    "toc": true
   },
   "source": [
    "<h1>Table of Contents<span class=\"tocSkip\"></span></h1>\n",
    "<div class=\"toc\"><ul class=\"toc-item\"><li><span><a href=\"#Projet-5\" data-toc-modified-id=\"Projet-5-1\">Projet 5</a></span></li><li><span><a href=\"#Import-DATA\" data-toc-modified-id=\"Import-DATA-2\">Import DATA</a></span><ul class=\"toc-item\"><li><span><a href=\"#df_volaille\" data-toc-modified-id=\"df_volaille-2.1\">df_volaille</a></span></li><li><span><a href=\"#df_population\" data-toc-modified-id=\"df_population-2.2\">df_population</a></span><ul class=\"toc-item\"><li><span><a href=\"#Suppression-de-la-chine\" data-toc-modified-id=\"Suppression-de-la-chine-2.2.1\">Suppression de la chine</a></span></li><li><span><a href=\"#Pivot_table\" data-toc-modified-id=\"Pivot_table-2.2.2\">Pivot_table</a></span></li></ul></li></ul></li><li><span><a href=\"#df_alimentation\" data-toc-modified-id=\"df_alimentation-3\">df_alimentation</a></span><ul class=\"toc-item\"><li><ul class=\"toc-item\"><li><span><a href=\"#Jointure\" data-toc-modified-id=\"Jointure-3.0.1\">Jointure</a></span></li></ul></li><li><span><a href=\"#df_volaille\" data-toc-modified-id=\"df_volaille-3.1\">df_volaille</a></span></li></ul></li><li><span><a href=\"#save-data\" data-toc-modified-id=\"save-data-4\">save data</a></span></li><li><span><a href=\"#df_pib\" data-toc-modified-id=\"df_pib-5\">df_pib</a></span></li></ul></div>"
   ]
  },
  {
   "cell_type": "markdown",
   "metadata": {},
   "source": [
    "# Projet 5"
   ]
  },
  {
   "cell_type": "code",
   "execution_count": 1,
   "metadata": {},
   "outputs": [],
   "source": [
    "import pandas as pd\n",
    "import numpy as np\n"
   ]
  },
  {
   "cell_type": "markdown",
   "metadata": {},
   "source": [
    "# Import DATA"
   ]
  },
  {
   "cell_type": "code",
   "execution_count": 3,
   "metadata": {},
   "outputs": [],
   "source": [
    "df_population = pd.read_csv('data\\\\src\\\\population_en.csv')"
   ]
  },
  {
   "cell_type": "code",
   "execution_count": 4,
   "metadata": {},
   "outputs": [],
   "source": [
    "df_alimentation = pd.read_csv(\"data\\\\src\\\\alimentation_en.csv\")"
   ]
  },
  {
   "cell_type": "code",
   "execution_count": 5,
   "metadata": {},
   "outputs": [],
   "source": [
    "df_volaille = pd.read_csv(\"data\\\\src\\\\poultry_meat_en.csv\")"
   ]
  },
  {
   "cell_type": "markdown",
   "metadata": {},
   "source": [
    "## df_volaille"
   ]
  },
  {
   "cell_type": "code",
   "execution_count": 6,
   "metadata": {},
   "outputs": [
    {
     "data": {
      "text/html": [
       "<div>\n",
       "<style scoped>\n",
       "    .dataframe tbody tr th:only-of-type {\n",
       "        vertical-align: middle;\n",
       "    }\n",
       "\n",
       "    .dataframe tbody tr th {\n",
       "        vertical-align: top;\n",
       "    }\n",
       "\n",
       "    .dataframe thead th {\n",
       "        text-align: right;\n",
       "    }\n",
       "</style>\n",
       "<table border=\"1\" class=\"dataframe\">\n",
       "  <thead>\n",
       "    <tr style=\"text-align: right;\">\n",
       "      <th></th>\n",
       "      <th>Domain Code</th>\n",
       "      <th>Domain</th>\n",
       "      <th>Area Code</th>\n",
       "      <th>Area</th>\n",
       "      <th>Element Code</th>\n",
       "      <th>Element</th>\n",
       "      <th>Item Code</th>\n",
       "      <th>Item</th>\n",
       "      <th>Year Code</th>\n",
       "      <th>Year</th>\n",
       "      <th>Unit</th>\n",
       "      <th>Value</th>\n",
       "      <th>Flag</th>\n",
       "      <th>Flag Description</th>\n",
       "    </tr>\n",
       "  </thead>\n",
       "  <tbody>\n",
       "    <tr>\n",
       "      <th>0</th>\n",
       "      <td>FBS</td>\n",
       "      <td>Food Balances (2010-)</td>\n",
       "      <td>2</td>\n",
       "      <td>Afghanistan</td>\n",
       "      <td>5511</td>\n",
       "      <td>Production</td>\n",
       "      <td>2734</td>\n",
       "      <td>Poultry Meat</td>\n",
       "      <td>2019</td>\n",
       "      <td>2019</td>\n",
       "      <td>1000 tonnes</td>\n",
       "      <td>28.00</td>\n",
       "      <td>Im</td>\n",
       "      <td>FAO data based on imputation methodology</td>\n",
       "    </tr>\n",
       "    <tr>\n",
       "      <th>1</th>\n",
       "      <td>FBS</td>\n",
       "      <td>Food Balances (2010-)</td>\n",
       "      <td>2</td>\n",
       "      <td>Afghanistan</td>\n",
       "      <td>645</td>\n",
       "      <td>Food supply quantity (kg/capita/yr)</td>\n",
       "      <td>2734</td>\n",
       "      <td>Poultry Meat</td>\n",
       "      <td>2019</td>\n",
       "      <td>2019</td>\n",
       "      <td>kg</td>\n",
       "      <td>1.76</td>\n",
       "      <td>Fc</td>\n",
       "      <td>Calculated data</td>\n",
       "    </tr>\n",
       "    <tr>\n",
       "      <th>2</th>\n",
       "      <td>FBS</td>\n",
       "      <td>Food Balances (2010-)</td>\n",
       "      <td>3</td>\n",
       "      <td>Albania</td>\n",
       "      <td>5511</td>\n",
       "      <td>Production</td>\n",
       "      <td>2734</td>\n",
       "      <td>Poultry Meat</td>\n",
       "      <td>2019</td>\n",
       "      <td>2019</td>\n",
       "      <td>1000 tonnes</td>\n",
       "      <td>12.00</td>\n",
       "      <td>Im</td>\n",
       "      <td>FAO data based on imputation methodology</td>\n",
       "    </tr>\n",
       "  </tbody>\n",
       "</table>\n",
       "</div>"
      ],
      "text/plain": [
       "  Domain Code                 Domain  Area Code         Area  Element Code  \\\n",
       "0         FBS  Food Balances (2010-)          2  Afghanistan          5511   \n",
       "1         FBS  Food Balances (2010-)          2  Afghanistan           645   \n",
       "2         FBS  Food Balances (2010-)          3      Albania          5511   \n",
       "\n",
       "                               Element  Item Code          Item  Year Code  \\\n",
       "0                           Production       2734  Poultry Meat       2019   \n",
       "1  Food supply quantity (kg/capita/yr)       2734  Poultry Meat       2019   \n",
       "2                           Production       2734  Poultry Meat       2019   \n",
       "\n",
       "   Year         Unit  Value Flag                          Flag Description  \n",
       "0  2019  1000 tonnes  28.00   Im  FAO data based on imputation methodology  \n",
       "1  2019           kg   1.76   Fc                           Calculated data  \n",
       "2  2019  1000 tonnes  12.00   Im  FAO data based on imputation methodology  "
      ]
     },
     "execution_count": 6,
     "metadata": {},
     "output_type": "execute_result"
    }
   ],
   "source": [
    "df_volaille.head(3)"
   ]
  },
  {
   "cell_type": "markdown",
   "metadata": {},
   "source": [
    "## df_population"
   ]
  },
  {
   "cell_type": "code",
   "execution_count": 7,
   "metadata": {
    "scrolled": false
   },
   "outputs": [
    {
     "data": {
      "text/html": [
       "<div>\n",
       "<style scoped>\n",
       "    .dataframe tbody tr th:only-of-type {\n",
       "        vertical-align: middle;\n",
       "    }\n",
       "\n",
       "    .dataframe tbody tr th {\n",
       "        vertical-align: top;\n",
       "    }\n",
       "\n",
       "    .dataframe thead th {\n",
       "        text-align: right;\n",
       "    }\n",
       "</style>\n",
       "<table border=\"1\" class=\"dataframe\">\n",
       "  <thead>\n",
       "    <tr style=\"text-align: right;\">\n",
       "      <th></th>\n",
       "      <th>Domain Code</th>\n",
       "      <th>Domain</th>\n",
       "      <th>Area Code</th>\n",
       "      <th>Area</th>\n",
       "      <th>Element Code</th>\n",
       "      <th>Element</th>\n",
       "      <th>Item Code</th>\n",
       "      <th>Item</th>\n",
       "      <th>Year Code</th>\n",
       "      <th>Year</th>\n",
       "      <th>Unit</th>\n",
       "      <th>Value</th>\n",
       "      <th>Flag</th>\n",
       "      <th>Flag Description</th>\n",
       "    </tr>\n",
       "  </thead>\n",
       "  <tbody>\n",
       "    <tr>\n",
       "      <th>0</th>\n",
       "      <td>FBS</td>\n",
       "      <td>Food Balances (2010-)</td>\n",
       "      <td>2</td>\n",
       "      <td>Afghanistan</td>\n",
       "      <td>511</td>\n",
       "      <td>Total Population - Both sexes</td>\n",
       "      <td>2501</td>\n",
       "      <td>Population</td>\n",
       "      <td>2017</td>\n",
       "      <td>2017</td>\n",
       "      <td>1000 persons</td>\n",
       "      <td>36296</td>\n",
       "      <td>*</td>\n",
       "      <td>Unofficial figure</td>\n",
       "    </tr>\n",
       "    <tr>\n",
       "      <th>1</th>\n",
       "      <td>FBS</td>\n",
       "      <td>Food Balances (2010-)</td>\n",
       "      <td>2</td>\n",
       "      <td>Afghanistan</td>\n",
       "      <td>511</td>\n",
       "      <td>Total Population - Both sexes</td>\n",
       "      <td>2501</td>\n",
       "      <td>Population</td>\n",
       "      <td>2019</td>\n",
       "      <td>2019</td>\n",
       "      <td>1000 persons</td>\n",
       "      <td>38042</td>\n",
       "      <td>*</td>\n",
       "      <td>Unofficial figure</td>\n",
       "    </tr>\n",
       "    <tr>\n",
       "      <th>2</th>\n",
       "      <td>FBS</td>\n",
       "      <td>Food Balances (2010-)</td>\n",
       "      <td>3</td>\n",
       "      <td>Albania</td>\n",
       "      <td>511</td>\n",
       "      <td>Total Population - Both sexes</td>\n",
       "      <td>2501</td>\n",
       "      <td>Population</td>\n",
       "      <td>2017</td>\n",
       "      <td>2017</td>\n",
       "      <td>1000 persons</td>\n",
       "      <td>2884</td>\n",
       "      <td>*</td>\n",
       "      <td>Unofficial figure</td>\n",
       "    </tr>\n",
       "  </tbody>\n",
       "</table>\n",
       "</div>"
      ],
      "text/plain": [
       "  Domain Code                 Domain  Area Code         Area  Element Code  \\\n",
       "0         FBS  Food Balances (2010-)          2  Afghanistan           511   \n",
       "1         FBS  Food Balances (2010-)          2  Afghanistan           511   \n",
       "2         FBS  Food Balances (2010-)          3      Albania           511   \n",
       "\n",
       "                         Element  Item Code        Item  Year Code  Year  \\\n",
       "0  Total Population - Both sexes       2501  Population       2017  2017   \n",
       "1  Total Population - Both sexes       2501  Population       2019  2019   \n",
       "2  Total Population - Both sexes       2501  Population       2017  2017   \n",
       "\n",
       "           Unit  Value Flag   Flag Description  \n",
       "0  1000 persons  36296    *  Unofficial figure  \n",
       "1  1000 persons  38042    *  Unofficial figure  \n",
       "2  1000 persons   2884    *  Unofficial figure  "
      ]
     },
     "execution_count": 7,
     "metadata": {},
     "output_type": "execute_result"
    }
   ],
   "source": [
    "df_population.head(3)\n"
   ]
  },
  {
   "cell_type": "code",
   "execution_count": 8,
   "metadata": {},
   "outputs": [
    {
     "data": {
      "text/plain": [
       "array(['Unofficial figure',\n",
       "       'Aggregate, may include official, semi-official, estimated or calculated data'],\n",
       "      dtype=object)"
      ]
     },
     "execution_count": 8,
     "metadata": {},
     "output_type": "execute_result"
    }
   ],
   "source": [
    "df_population['Flag Description'].unique()"
   ]
  },
  {
   "cell_type": "code",
   "execution_count": 9,
   "metadata": {},
   "outputs": [
    {
     "data": {
      "text/html": [
       "<div>\n",
       "<style scoped>\n",
       "    .dataframe tbody tr th:only-of-type {\n",
       "        vertical-align: middle;\n",
       "    }\n",
       "\n",
       "    .dataframe tbody tr th {\n",
       "        vertical-align: top;\n",
       "    }\n",
       "\n",
       "    .dataframe thead th {\n",
       "        text-align: right;\n",
       "    }\n",
       "</style>\n",
       "<table border=\"1\" class=\"dataframe\">\n",
       "  <thead>\n",
       "    <tr style=\"text-align: right;\">\n",
       "      <th></th>\n",
       "      <th>Domain Code</th>\n",
       "      <th>Domain</th>\n",
       "      <th>Area Code</th>\n",
       "      <th>Area</th>\n",
       "      <th>Element Code</th>\n",
       "      <th>Element</th>\n",
       "      <th>Item Code</th>\n",
       "      <th>Item</th>\n",
       "      <th>Year Code</th>\n",
       "      <th>Year</th>\n",
       "      <th>Unit</th>\n",
       "      <th>Value</th>\n",
       "      <th>Flag</th>\n",
       "      <th>Flag Description</th>\n",
       "    </tr>\n",
       "  </thead>\n",
       "  <tbody>\n",
       "    <tr>\n",
       "      <th>62</th>\n",
       "      <td>FBS</td>\n",
       "      <td>Food Balances (2010-)</td>\n",
       "      <td>351</td>\n",
       "      <td>China</td>\n",
       "      <td>511</td>\n",
       "      <td>Total Population - Both sexes</td>\n",
       "      <td>2501</td>\n",
       "      <td>Population</td>\n",
       "      <td>2017</td>\n",
       "      <td>2017</td>\n",
       "      <td>1000 persons</td>\n",
       "      <td>1452626</td>\n",
       "      <td>A</td>\n",
       "      <td>Aggregate, may include official, semi-official...</td>\n",
       "    </tr>\n",
       "    <tr>\n",
       "      <th>63</th>\n",
       "      <td>FBS</td>\n",
       "      <td>Food Balances (2010-)</td>\n",
       "      <td>351</td>\n",
       "      <td>China</td>\n",
       "      <td>511</td>\n",
       "      <td>Total Population - Both sexes</td>\n",
       "      <td>2501</td>\n",
       "      <td>Population</td>\n",
       "      <td>2019</td>\n",
       "      <td>2019</td>\n",
       "      <td>1000 persons</td>\n",
       "      <td>1465634</td>\n",
       "      <td>A</td>\n",
       "      <td>Aggregate, may include official, semi-official...</td>\n",
       "    </tr>\n",
       "  </tbody>\n",
       "</table>\n",
       "</div>"
      ],
      "text/plain": [
       "   Domain Code                 Domain  Area Code   Area  Element Code  \\\n",
       "62         FBS  Food Balances (2010-)        351  China           511   \n",
       "63         FBS  Food Balances (2010-)        351  China           511   \n",
       "\n",
       "                          Element  Item Code        Item  Year Code  Year  \\\n",
       "62  Total Population - Both sexes       2501  Population       2017  2017   \n",
       "63  Total Population - Both sexes       2501  Population       2019  2019   \n",
       "\n",
       "            Unit    Value Flag  \\\n",
       "62  1000 persons  1452626    A   \n",
       "63  1000 persons  1465634    A   \n",
       "\n",
       "                                     Flag Description  \n",
       "62  Aggregate, may include official, semi-official...  \n",
       "63  Aggregate, may include official, semi-official...  "
      ]
     },
     "execution_count": 9,
     "metadata": {},
     "output_type": "execute_result"
    }
   ],
   "source": [
    "df_population[df_population['Flag Description'] == 'Aggregate, may include official, semi-official, estimated or calculated data']"
   ]
  },
  {
   "cell_type": "code",
   "execution_count": 10,
   "metadata": {},
   "outputs": [
    {
     "data": {
      "text/html": [
       "<div>\n",
       "<style scoped>\n",
       "    .dataframe tbody tr th:only-of-type {\n",
       "        vertical-align: middle;\n",
       "    }\n",
       "\n",
       "    .dataframe tbody tr th {\n",
       "        vertical-align: top;\n",
       "    }\n",
       "\n",
       "    .dataframe thead th {\n",
       "        text-align: right;\n",
       "    }\n",
       "</style>\n",
       "<table border=\"1\" class=\"dataframe\">\n",
       "  <thead>\n",
       "    <tr style=\"text-align: right;\">\n",
       "      <th></th>\n",
       "      <th>Domain Code</th>\n",
       "      <th>Domain</th>\n",
       "      <th>Area Code</th>\n",
       "      <th>Area</th>\n",
       "      <th>Element Code</th>\n",
       "      <th>Element</th>\n",
       "      <th>Item Code</th>\n",
       "      <th>Item</th>\n",
       "      <th>Year Code</th>\n",
       "      <th>Year</th>\n",
       "      <th>Unit</th>\n",
       "      <th>Value</th>\n",
       "      <th>Flag</th>\n",
       "      <th>Flag Description</th>\n",
       "    </tr>\n",
       "  </thead>\n",
       "  <tbody>\n",
       "    <tr>\n",
       "      <th>62</th>\n",
       "      <td>FBS</td>\n",
       "      <td>Food Balances (2010-)</td>\n",
       "      <td>351</td>\n",
       "      <td>China</td>\n",
       "      <td>511</td>\n",
       "      <td>Total Population - Both sexes</td>\n",
       "      <td>2501</td>\n",
       "      <td>Population</td>\n",
       "      <td>2017</td>\n",
       "      <td>2017</td>\n",
       "      <td>1000 persons</td>\n",
       "      <td>1452626</td>\n",
       "      <td>A</td>\n",
       "      <td>Aggregate, may include official, semi-official...</td>\n",
       "    </tr>\n",
       "    <tr>\n",
       "      <th>63</th>\n",
       "      <td>FBS</td>\n",
       "      <td>Food Balances (2010-)</td>\n",
       "      <td>351</td>\n",
       "      <td>China</td>\n",
       "      <td>511</td>\n",
       "      <td>Total Population - Both sexes</td>\n",
       "      <td>2501</td>\n",
       "      <td>Population</td>\n",
       "      <td>2019</td>\n",
       "      <td>2019</td>\n",
       "      <td>1000 persons</td>\n",
       "      <td>1465634</td>\n",
       "      <td>A</td>\n",
       "      <td>Aggregate, may include official, semi-official...</td>\n",
       "    </tr>\n",
       "    <tr>\n",
       "      <th>64</th>\n",
       "      <td>FBS</td>\n",
       "      <td>Food Balances (2010-)</td>\n",
       "      <td>96</td>\n",
       "      <td>China, Hong Kong SAR</td>\n",
       "      <td>511</td>\n",
       "      <td>Total Population - Both sexes</td>\n",
       "      <td>2501</td>\n",
       "      <td>Population</td>\n",
       "      <td>2017</td>\n",
       "      <td>2017</td>\n",
       "      <td>1000 persons</td>\n",
       "      <td>7306</td>\n",
       "      <td>*</td>\n",
       "      <td>Unofficial figure</td>\n",
       "    </tr>\n",
       "    <tr>\n",
       "      <th>65</th>\n",
       "      <td>FBS</td>\n",
       "      <td>Food Balances (2010-)</td>\n",
       "      <td>96</td>\n",
       "      <td>China, Hong Kong SAR</td>\n",
       "      <td>511</td>\n",
       "      <td>Total Population - Both sexes</td>\n",
       "      <td>2501</td>\n",
       "      <td>Population</td>\n",
       "      <td>2019</td>\n",
       "      <td>2019</td>\n",
       "      <td>1000 persons</td>\n",
       "      <td>7436</td>\n",
       "      <td>*</td>\n",
       "      <td>Unofficial figure</td>\n",
       "    </tr>\n",
       "    <tr>\n",
       "      <th>66</th>\n",
       "      <td>FBS</td>\n",
       "      <td>Food Balances (2010-)</td>\n",
       "      <td>128</td>\n",
       "      <td>China, Macao SAR</td>\n",
       "      <td>511</td>\n",
       "      <td>Total Population - Both sexes</td>\n",
       "      <td>2501</td>\n",
       "      <td>Population</td>\n",
       "      <td>2017</td>\n",
       "      <td>2017</td>\n",
       "      <td>1000 persons</td>\n",
       "      <td>623</td>\n",
       "      <td>*</td>\n",
       "      <td>Unofficial figure</td>\n",
       "    </tr>\n",
       "    <tr>\n",
       "      <th>67</th>\n",
       "      <td>FBS</td>\n",
       "      <td>Food Balances (2010-)</td>\n",
       "      <td>128</td>\n",
       "      <td>China, Macao SAR</td>\n",
       "      <td>511</td>\n",
       "      <td>Total Population - Both sexes</td>\n",
       "      <td>2501</td>\n",
       "      <td>Population</td>\n",
       "      <td>2019</td>\n",
       "      <td>2019</td>\n",
       "      <td>1000 persons</td>\n",
       "      <td>640</td>\n",
       "      <td>*</td>\n",
       "      <td>Unofficial figure</td>\n",
       "    </tr>\n",
       "    <tr>\n",
       "      <th>68</th>\n",
       "      <td>FBS</td>\n",
       "      <td>Food Balances (2010-)</td>\n",
       "      <td>41</td>\n",
       "      <td>China, mainland</td>\n",
       "      <td>511</td>\n",
       "      <td>Total Population - Both sexes</td>\n",
       "      <td>2501</td>\n",
       "      <td>Population</td>\n",
       "      <td>2017</td>\n",
       "      <td>2017</td>\n",
       "      <td>1000 persons</td>\n",
       "      <td>1421022</td>\n",
       "      <td>*</td>\n",
       "      <td>Unofficial figure</td>\n",
       "    </tr>\n",
       "    <tr>\n",
       "      <th>69</th>\n",
       "      <td>FBS</td>\n",
       "      <td>Food Balances (2010-)</td>\n",
       "      <td>41</td>\n",
       "      <td>China, mainland</td>\n",
       "      <td>511</td>\n",
       "      <td>Total Population - Both sexes</td>\n",
       "      <td>2501</td>\n",
       "      <td>Population</td>\n",
       "      <td>2019</td>\n",
       "      <td>2019</td>\n",
       "      <td>1000 persons</td>\n",
       "      <td>1433784</td>\n",
       "      <td>*</td>\n",
       "      <td>Unofficial figure</td>\n",
       "    </tr>\n",
       "    <tr>\n",
       "      <th>70</th>\n",
       "      <td>FBS</td>\n",
       "      <td>Food Balances (2010-)</td>\n",
       "      <td>214</td>\n",
       "      <td>China, Taiwan Province of</td>\n",
       "      <td>511</td>\n",
       "      <td>Total Population - Both sexes</td>\n",
       "      <td>2501</td>\n",
       "      <td>Population</td>\n",
       "      <td>2017</td>\n",
       "      <td>2017</td>\n",
       "      <td>1000 persons</td>\n",
       "      <td>23675</td>\n",
       "      <td>*</td>\n",
       "      <td>Unofficial figure</td>\n",
       "    </tr>\n",
       "    <tr>\n",
       "      <th>71</th>\n",
       "      <td>FBS</td>\n",
       "      <td>Food Balances (2010-)</td>\n",
       "      <td>214</td>\n",
       "      <td>China, Taiwan Province of</td>\n",
       "      <td>511</td>\n",
       "      <td>Total Population - Both sexes</td>\n",
       "      <td>2501</td>\n",
       "      <td>Population</td>\n",
       "      <td>2019</td>\n",
       "      <td>2019</td>\n",
       "      <td>1000 persons</td>\n",
       "      <td>23774</td>\n",
       "      <td>*</td>\n",
       "      <td>Unofficial figure</td>\n",
       "    </tr>\n",
       "  </tbody>\n",
       "</table>\n",
       "</div>"
      ],
      "text/plain": [
       "   Domain Code                 Domain  Area Code                       Area  \\\n",
       "62         FBS  Food Balances (2010-)        351                      China   \n",
       "63         FBS  Food Balances (2010-)        351                      China   \n",
       "64         FBS  Food Balances (2010-)         96       China, Hong Kong SAR   \n",
       "65         FBS  Food Balances (2010-)         96       China, Hong Kong SAR   \n",
       "66         FBS  Food Balances (2010-)        128           China, Macao SAR   \n",
       "67         FBS  Food Balances (2010-)        128           China, Macao SAR   \n",
       "68         FBS  Food Balances (2010-)         41            China, mainland   \n",
       "69         FBS  Food Balances (2010-)         41            China, mainland   \n",
       "70         FBS  Food Balances (2010-)        214  China, Taiwan Province of   \n",
       "71         FBS  Food Balances (2010-)        214  China, Taiwan Province of   \n",
       "\n",
       "    Element Code                        Element  Item Code        Item  \\\n",
       "62           511  Total Population - Both sexes       2501  Population   \n",
       "63           511  Total Population - Both sexes       2501  Population   \n",
       "64           511  Total Population - Both sexes       2501  Population   \n",
       "65           511  Total Population - Both sexes       2501  Population   \n",
       "66           511  Total Population - Both sexes       2501  Population   \n",
       "67           511  Total Population - Both sexes       2501  Population   \n",
       "68           511  Total Population - Both sexes       2501  Population   \n",
       "69           511  Total Population - Both sexes       2501  Population   \n",
       "70           511  Total Population - Both sexes       2501  Population   \n",
       "71           511  Total Population - Both sexes       2501  Population   \n",
       "\n",
       "    Year Code  Year          Unit    Value Flag  \\\n",
       "62       2017  2017  1000 persons  1452626    A   \n",
       "63       2019  2019  1000 persons  1465634    A   \n",
       "64       2017  2017  1000 persons     7306    *   \n",
       "65       2019  2019  1000 persons     7436    *   \n",
       "66       2017  2017  1000 persons      623    *   \n",
       "67       2019  2019  1000 persons      640    *   \n",
       "68       2017  2017  1000 persons  1421022    *   \n",
       "69       2019  2019  1000 persons  1433784    *   \n",
       "70       2017  2017  1000 persons    23675    *   \n",
       "71       2019  2019  1000 persons    23774    *   \n",
       "\n",
       "                                     Flag Description  \n",
       "62  Aggregate, may include official, semi-official...  \n",
       "63  Aggregate, may include official, semi-official...  \n",
       "64                                  Unofficial figure  \n",
       "65                                  Unofficial figure  \n",
       "66                                  Unofficial figure  \n",
       "67                                  Unofficial figure  \n",
       "68                                  Unofficial figure  \n",
       "69                                  Unofficial figure  \n",
       "70                                  Unofficial figure  \n",
       "71                                  Unofficial figure  "
      ]
     },
     "execution_count": 10,
     "metadata": {},
     "output_type": "execute_result"
    }
   ],
   "source": [
    "df_population[df_population['Area'].str.contains('Chin')]"
   ]
  },
  {
   "cell_type": "markdown",
   "metadata": {},
   "source": [
    "### Suppression de la chine "
   ]
  },
  {
   "cell_type": "code",
   "execution_count": 11,
   "metadata": {},
   "outputs": [],
   "source": [
    "df_population = df_population[~df_population['Area Code'].isin({96,128,41,214})].copy()"
   ]
  },
  {
   "cell_type": "markdown",
   "metadata": {},
   "source": [
    "### Pivot_table"
   ]
  },
  {
   "cell_type": "code",
   "execution_count": 12,
   "metadata": {
    "scrolled": true
   },
   "outputs": [
    {
     "data": {
      "text/html": [
       "<div>\n",
       "<style scoped>\n",
       "    .dataframe tbody tr th:only-of-type {\n",
       "        vertical-align: middle;\n",
       "    }\n",
       "\n",
       "    .dataframe tbody tr th {\n",
       "        vertical-align: top;\n",
       "    }\n",
       "\n",
       "    .dataframe thead th {\n",
       "        text-align: right;\n",
       "    }\n",
       "</style>\n",
       "<table border=\"1\" class=\"dataframe\">\n",
       "  <thead>\n",
       "    <tr style=\"text-align: right;\">\n",
       "      <th>Year</th>\n",
       "      <th>Area Code</th>\n",
       "      <th>Area</th>\n",
       "      <th>Unit</th>\n",
       "      <th>population 2017</th>\n",
       "      <th>population 2019</th>\n",
       "    </tr>\n",
       "  </thead>\n",
       "  <tbody>\n",
       "    <tr>\n",
       "      <th>0</th>\n",
       "      <td>1</td>\n",
       "      <td>Armenia</td>\n",
       "      <td>1000 persons</td>\n",
       "      <td>2945</td>\n",
       "      <td>2958</td>\n",
       "    </tr>\n",
       "    <tr>\n",
       "      <th>1</th>\n",
       "      <td>2</td>\n",
       "      <td>Afghanistan</td>\n",
       "      <td>1000 persons</td>\n",
       "      <td>36296</td>\n",
       "      <td>38042</td>\n",
       "    </tr>\n",
       "    <tr>\n",
       "      <th>2</th>\n",
       "      <td>3</td>\n",
       "      <td>Albania</td>\n",
       "      <td>1000 persons</td>\n",
       "      <td>2884</td>\n",
       "      <td>2881</td>\n",
       "    </tr>\n",
       "    <tr>\n",
       "      <th>3</th>\n",
       "      <td>4</td>\n",
       "      <td>Algeria</td>\n",
       "      <td>1000 persons</td>\n",
       "      <td>41389</td>\n",
       "      <td>43053</td>\n",
       "    </tr>\n",
       "    <tr>\n",
       "      <th>4</th>\n",
       "      <td>7</td>\n",
       "      <td>Angola</td>\n",
       "      <td>1000 persons</td>\n",
       "      <td>29817</td>\n",
       "      <td>31825</td>\n",
       "    </tr>\n",
       "  </tbody>\n",
       "</table>\n",
       "</div>"
      ],
      "text/plain": [
       "Year  Area Code         Area          Unit  population 2017  population 2019\n",
       "0             1      Armenia  1000 persons             2945             2958\n",
       "1             2  Afghanistan  1000 persons            36296            38042\n",
       "2             3      Albania  1000 persons             2884             2881\n",
       "3             4      Algeria  1000 persons            41389            43053\n",
       "4             7       Angola  1000 persons            29817            31825"
      ]
     },
     "execution_count": 12,
     "metadata": {},
     "output_type": "execute_result"
    }
   ],
   "source": [
    "df_population_pivot = pd.pivot_table(df_population, index = ['Area Code','Area','Unit'], columns =['Year'],values='Value').reset_index()\n",
    "df_population_pivot = df_population_pivot.rename(columns={2017: \"population 2017\",2019: \"population 2019\"})\n",
    "# df_population_pivot = df_population_pivot.reindex(columns=['Code zone','Zone','population 2017','population 2019','Unité'])\n",
    "df_population_pivot.head()"
   ]
  },
  {
   "cell_type": "code",
   "execution_count": 13,
   "metadata": {},
   "outputs": [
    {
     "data": {
      "text/html": [
       "<div>\n",
       "<style scoped>\n",
       "    .dataframe tbody tr th:only-of-type {\n",
       "        vertical-align: middle;\n",
       "    }\n",
       "\n",
       "    .dataframe tbody tr th {\n",
       "        vertical-align: top;\n",
       "    }\n",
       "\n",
       "    .dataframe thead th {\n",
       "        text-align: right;\n",
       "    }\n",
       "</style>\n",
       "<table border=\"1\" class=\"dataframe\">\n",
       "  <thead>\n",
       "    <tr style=\"text-align: right;\">\n",
       "      <th>Year</th>\n",
       "      <th>Area Code</th>\n",
       "      <th>Area</th>\n",
       "      <th>Unit</th>\n",
       "      <th>population 2017</th>\n",
       "      <th>population 2019</th>\n",
       "      <th>Population difference (%)</th>\n",
       "    </tr>\n",
       "  </thead>\n",
       "  <tbody>\n",
       "    <tr>\n",
       "      <th>0</th>\n",
       "      <td>1</td>\n",
       "      <td>Armenia</td>\n",
       "      <td>1000 persons</td>\n",
       "      <td>2945</td>\n",
       "      <td>2958</td>\n",
       "      <td>0.441426</td>\n",
       "    </tr>\n",
       "    <tr>\n",
       "      <th>1</th>\n",
       "      <td>2</td>\n",
       "      <td>Afghanistan</td>\n",
       "      <td>1000 persons</td>\n",
       "      <td>36296</td>\n",
       "      <td>38042</td>\n",
       "      <td>4.810447</td>\n",
       "    </tr>\n",
       "    <tr>\n",
       "      <th>2</th>\n",
       "      <td>3</td>\n",
       "      <td>Albania</td>\n",
       "      <td>1000 persons</td>\n",
       "      <td>2884</td>\n",
       "      <td>2881</td>\n",
       "      <td>-0.104022</td>\n",
       "    </tr>\n",
       "    <tr>\n",
       "      <th>3</th>\n",
       "      <td>4</td>\n",
       "      <td>Algeria</td>\n",
       "      <td>1000 persons</td>\n",
       "      <td>41389</td>\n",
       "      <td>43053</td>\n",
       "      <td>4.020392</td>\n",
       "    </tr>\n",
       "    <tr>\n",
       "      <th>4</th>\n",
       "      <td>7</td>\n",
       "      <td>Angola</td>\n",
       "      <td>1000 persons</td>\n",
       "      <td>29817</td>\n",
       "      <td>31825</td>\n",
       "      <td>6.734413</td>\n",
       "    </tr>\n",
       "  </tbody>\n",
       "</table>\n",
       "</div>"
      ],
      "text/plain": [
       "Year  Area Code         Area          Unit  population 2017  population 2019  \\\n",
       "0             1      Armenia  1000 persons             2945             2958   \n",
       "1             2  Afghanistan  1000 persons            36296            38042   \n",
       "2             3      Albania  1000 persons             2884             2881   \n",
       "3             4      Algeria  1000 persons            41389            43053   \n",
       "4             7       Angola  1000 persons            29817            31825   \n",
       "\n",
       "Year  Population difference (%)  \n",
       "0                      0.441426  \n",
       "1                      4.810447  \n",
       "2                     -0.104022  \n",
       "3                      4.020392  \n",
       "4                      6.734413  "
      ]
     },
     "execution_count": 13,
     "metadata": {},
     "output_type": "execute_result"
    }
   ],
   "source": [
    "df_population_pivot['Population difference (%)'] = (df_population_pivot[\"population 2019\"]-df_population_pivot[\"population 2017\"])*100/(df_population_pivot[\"population 2017\"])\n",
    "df_population_pivot.head()"
   ]
  },
  {
   "cell_type": "markdown",
   "metadata": {},
   "source": [
    "# df_alimentation"
   ]
  },
  {
   "cell_type": "code",
   "execution_count": 14,
   "metadata": {
    "scrolled": true
   },
   "outputs": [
    {
     "data": {
      "text/html": [
       "<div>\n",
       "<style scoped>\n",
       "    .dataframe tbody tr th:only-of-type {\n",
       "        vertical-align: middle;\n",
       "    }\n",
       "\n",
       "    .dataframe tbody tr th {\n",
       "        vertical-align: top;\n",
       "    }\n",
       "\n",
       "    .dataframe thead th {\n",
       "        text-align: right;\n",
       "    }\n",
       "</style>\n",
       "<table border=\"1\" class=\"dataframe\">\n",
       "  <thead>\n",
       "    <tr style=\"text-align: right;\">\n",
       "      <th></th>\n",
       "      <th>Domain Code</th>\n",
       "      <th>Domain</th>\n",
       "      <th>Area Code</th>\n",
       "      <th>Area</th>\n",
       "      <th>Element Code</th>\n",
       "      <th>Element</th>\n",
       "      <th>Item Code</th>\n",
       "      <th>Item</th>\n",
       "      <th>Year Code</th>\n",
       "      <th>Year</th>\n",
       "      <th>Unit</th>\n",
       "      <th>Value</th>\n",
       "      <th>Flag</th>\n",
       "      <th>Flag Description</th>\n",
       "    </tr>\n",
       "  </thead>\n",
       "  <tbody>\n",
       "    <tr>\n",
       "      <th>0</th>\n",
       "      <td>FBS</td>\n",
       "      <td>Food Balances (2010-)</td>\n",
       "      <td>2</td>\n",
       "      <td>Afghanistan</td>\n",
       "      <td>664</td>\n",
       "      <td>Food supply (kcal/capita/day)</td>\n",
       "      <td>2901</td>\n",
       "      <td>Grand Total</td>\n",
       "      <td>2019</td>\n",
       "      <td>2019</td>\n",
       "      <td>kcal/capita/day</td>\n",
       "      <td>2273.00</td>\n",
       "      <td>Fc</td>\n",
       "      <td>Calculated data</td>\n",
       "    </tr>\n",
       "    <tr>\n",
       "      <th>1</th>\n",
       "      <td>FBS</td>\n",
       "      <td>Food Balances (2010-)</td>\n",
       "      <td>2</td>\n",
       "      <td>Afghanistan</td>\n",
       "      <td>674</td>\n",
       "      <td>Protein supply quantity (g/capita/day)</td>\n",
       "      <td>2901</td>\n",
       "      <td>Grand Total</td>\n",
       "      <td>2019</td>\n",
       "      <td>2019</td>\n",
       "      <td>g/capita/day</td>\n",
       "      <td>57.31</td>\n",
       "      <td>Fc</td>\n",
       "      <td>Calculated data</td>\n",
       "    </tr>\n",
       "    <tr>\n",
       "      <th>2</th>\n",
       "      <td>FBS</td>\n",
       "      <td>Food Balances (2010-)</td>\n",
       "      <td>2</td>\n",
       "      <td>Afghanistan</td>\n",
       "      <td>664</td>\n",
       "      <td>Food supply (kcal/capita/day)</td>\n",
       "      <td>2941</td>\n",
       "      <td>Animal Products</td>\n",
       "      <td>2019</td>\n",
       "      <td>2019</td>\n",
       "      <td>kcal/capita/day</td>\n",
       "      <td>187.00</td>\n",
       "      <td>Fc</td>\n",
       "      <td>Calculated data</td>\n",
       "    </tr>\n",
       "  </tbody>\n",
       "</table>\n",
       "</div>"
      ],
      "text/plain": [
       "  Domain Code                 Domain  Area Code         Area  Element Code  \\\n",
       "0         FBS  Food Balances (2010-)          2  Afghanistan           664   \n",
       "1         FBS  Food Balances (2010-)          2  Afghanistan           674   \n",
       "2         FBS  Food Balances (2010-)          2  Afghanistan           664   \n",
       "\n",
       "                                  Element  Item Code             Item  \\\n",
       "0           Food supply (kcal/capita/day)       2901      Grand Total   \n",
       "1  Protein supply quantity (g/capita/day)       2901      Grand Total   \n",
       "2           Food supply (kcal/capita/day)       2941  Animal Products   \n",
       "\n",
       "   Year Code  Year             Unit    Value Flag Flag Description  \n",
       "0       2019  2019  kcal/capita/day  2273.00   Fc  Calculated data  \n",
       "1       2019  2019     g/capita/day    57.31   Fc  Calculated data  \n",
       "2       2019  2019  kcal/capita/day   187.00   Fc  Calculated data  "
      ]
     },
     "execution_count": 14,
     "metadata": {},
     "output_type": "execute_result"
    }
   ],
   "source": [
    "df_alimentation.head(3)"
   ]
  },
  {
   "cell_type": "code",
   "execution_count": null,
   "metadata": {},
   "outputs": [],
   "source": []
  },
  {
   "cell_type": "code",
   "execution_count": 15,
   "metadata": {},
   "outputs": [],
   "source": [
    "# data_pivot = pd.pivot_table(df_alimentation_population, values='Value', index = ['Area Code','Area','Year','population 2017','population 2019','Unit_population','Population difference (%)'], columns = ['Element','Item']).reset_index()\n",
    "# data_pivot.head(2)"
   ]
  },
  {
   "cell_type": "code",
   "execution_count": 16,
   "metadata": {},
   "outputs": [
    {
     "data": {
      "text/html": [
       "<div>\n",
       "<style scoped>\n",
       "    .dataframe tbody tr th:only-of-type {\n",
       "        vertical-align: middle;\n",
       "    }\n",
       "\n",
       "    .dataframe tbody tr th {\n",
       "        vertical-align: top;\n",
       "    }\n",
       "\n",
       "    .dataframe thead tr th {\n",
       "        text-align: left;\n",
       "    }\n",
       "</style>\n",
       "<table border=\"1\" class=\"dataframe\">\n",
       "  <thead>\n",
       "    <tr>\n",
       "      <th>Element</th>\n",
       "      <th>Area Code</th>\n",
       "      <th>Area</th>\n",
       "      <th>Year</th>\n",
       "      <th colspan=\"2\" halign=\"left\">Food supply (kcal/capita/day)</th>\n",
       "      <th colspan=\"2\" halign=\"left\">Protein supply quantity (g/capita/day)</th>\n",
       "    </tr>\n",
       "    <tr>\n",
       "      <th>Item</th>\n",
       "      <th></th>\n",
       "      <th></th>\n",
       "      <th></th>\n",
       "      <th>Animal Products</th>\n",
       "      <th>Grand Total</th>\n",
       "      <th>Animal Products</th>\n",
       "      <th>Grand Total</th>\n",
       "    </tr>\n",
       "  </thead>\n",
       "  <tbody>\n",
       "    <tr>\n",
       "      <th>0</th>\n",
       "      <td>1</td>\n",
       "      <td>Armenia</td>\n",
       "      <td>2019</td>\n",
       "      <td>975.0</td>\n",
       "      <td>3022.0</td>\n",
       "      <td>52.86</td>\n",
       "      <td>94.29</td>\n",
       "    </tr>\n",
       "    <tr>\n",
       "      <th>1</th>\n",
       "      <td>2</td>\n",
       "      <td>Afghanistan</td>\n",
       "      <td>2019</td>\n",
       "      <td>187.0</td>\n",
       "      <td>2273.0</td>\n",
       "      <td>10.34</td>\n",
       "      <td>57.31</td>\n",
       "    </tr>\n",
       "  </tbody>\n",
       "</table>\n",
       "</div>"
      ],
      "text/plain": [
       "Element Area Code         Area  Year Food supply (kcal/capita/day)  \\\n",
       "Item                                               Animal Products   \n",
       "0               1      Armenia  2019                         975.0   \n",
       "1               2  Afghanistan  2019                         187.0   \n",
       "\n",
       "Element             Protein supply quantity (g/capita/day)              \n",
       "Item    Grand Total                        Animal Products Grand Total  \n",
       "0            3022.0                                  52.86       94.29  \n",
       "1            2273.0                                  10.34       57.31  "
      ]
     },
     "execution_count": 16,
     "metadata": {},
     "output_type": "execute_result"
    }
   ],
   "source": [
    "df_alimentation_pivot = pd.pivot_table(df_alimentation, values='Value', index = ['Area Code','Area','Year'], columns = ['Element','Item']).reset_index()\n",
    "df_alimentation_pivot.head(2)"
   ]
  },
  {
   "cell_type": "code",
   "execution_count": 17,
   "metadata": {},
   "outputs": [
    {
     "data": {
      "text/html": [
       "<div>\n",
       "<style scoped>\n",
       "    .dataframe tbody tr th:only-of-type {\n",
       "        vertical-align: middle;\n",
       "    }\n",
       "\n",
       "    .dataframe tbody tr th {\n",
       "        vertical-align: top;\n",
       "    }\n",
       "\n",
       "    .dataframe thead tr th {\n",
       "        text-align: left;\n",
       "    }\n",
       "</style>\n",
       "<table border=\"1\" class=\"dataframe\">\n",
       "  <thead>\n",
       "    <tr>\n",
       "      <th>Element</th>\n",
       "      <th>Area Code</th>\n",
       "      <th>Area</th>\n",
       "      <th>Year</th>\n",
       "      <th colspan=\"2\" halign=\"left\">Food supply (kcal/capita/day)</th>\n",
       "      <th colspan=\"2\" halign=\"left\">Protein supply quantity (g/capita/day)</th>\n",
       "      <th>Animal protein (%)</th>\n",
       "    </tr>\n",
       "    <tr>\n",
       "      <th>Item</th>\n",
       "      <th></th>\n",
       "      <th></th>\n",
       "      <th></th>\n",
       "      <th>Animal Products</th>\n",
       "      <th>Grand Total</th>\n",
       "      <th>Animal Products</th>\n",
       "      <th>Grand Total</th>\n",
       "      <th></th>\n",
       "    </tr>\n",
       "  </thead>\n",
       "  <tbody>\n",
       "    <tr>\n",
       "      <th>0</th>\n",
       "      <td>1</td>\n",
       "      <td>Armenia</td>\n",
       "      <td>2019</td>\n",
       "      <td>975.0</td>\n",
       "      <td>3022.0</td>\n",
       "      <td>52.86</td>\n",
       "      <td>94.29</td>\n",
       "      <td>32.263402</td>\n",
       "    </tr>\n",
       "    <tr>\n",
       "      <th>1</th>\n",
       "      <td>2</td>\n",
       "      <td>Afghanistan</td>\n",
       "      <td>2019</td>\n",
       "      <td>187.0</td>\n",
       "      <td>2273.0</td>\n",
       "      <td>10.34</td>\n",
       "      <td>57.31</td>\n",
       "      <td>8.227013</td>\n",
       "    </tr>\n",
       "  </tbody>\n",
       "</table>\n",
       "</div>"
      ],
      "text/plain": [
       "Element Area Code         Area  Year Food supply (kcal/capita/day)  \\\n",
       "Item                                               Animal Products   \n",
       "0               1      Armenia  2019                         975.0   \n",
       "1               2  Afghanistan  2019                         187.0   \n",
       "\n",
       "Element             Protein supply quantity (g/capita/day)              \\\n",
       "Item    Grand Total                        Animal Products Grand Total   \n",
       "0            3022.0                                  52.86       94.29   \n",
       "1            2273.0                                  10.34       57.31   \n",
       "\n",
       "Element Animal protein (%)  \n",
       "Item                        \n",
       "0                32.263402  \n",
       "1                 8.227013  "
      ]
     },
     "execution_count": 17,
     "metadata": {},
     "output_type": "execute_result"
    }
   ],
   "source": [
    "df_alimentation_pivot['Animal protein (%)'] = \\\n",
    "    df_alimentation_pivot['Food supply (kcal/capita/day)','Animal Products'] * 100 / \\\n",
    "    df_alimentation_pivot['Food supply (kcal/capita/day)','Grand Total']\n",
    "df_alimentation_pivot.head(2)"
   ]
  },
  {
   "cell_type": "code",
   "execution_count": 18,
   "metadata": {},
   "outputs": [],
   "source": [
    "# data_pivot = data_pivot[['Code zone','Zone','Année','Difference population en %','Disponibilité alimentaire (Kcal/personne/jour)','proteine animal en %','Disponibilité de protéines en quantité (g/personne/jour)']]"
   ]
  },
  {
   "cell_type": "code",
   "execution_count": null,
   "metadata": {},
   "outputs": [],
   "source": []
  },
  {
   "cell_type": "code",
   "execution_count": 19,
   "metadata": {
    "scrolled": true
   },
   "outputs": [
    {
     "data": {
      "text/html": [
       "<div>\n",
       "<style scoped>\n",
       "    .dataframe tbody tr th:only-of-type {\n",
       "        vertical-align: middle;\n",
       "    }\n",
       "\n",
       "    .dataframe tbody tr th {\n",
       "        vertical-align: top;\n",
       "    }\n",
       "\n",
       "    .dataframe thead th {\n",
       "        text-align: right;\n",
       "    }\n",
       "</style>\n",
       "<table border=\"1\" class=\"dataframe\">\n",
       "  <thead>\n",
       "    <tr style=\"text-align: right;\">\n",
       "      <th></th>\n",
       "      <th>index</th>\n",
       "      <th>Area Code</th>\n",
       "      <th>Area</th>\n",
       "      <th>Year</th>\n",
       "      <th>Food supply (kcal/capita/day)_Animal Products</th>\n",
       "      <th>Food supply (kcal/capita/day)_Grand Total</th>\n",
       "      <th>Protein supply quantity (g/capita/day)_Animal Products</th>\n",
       "      <th>Protein supply quantity (g/capita/day)_Grand Total</th>\n",
       "      <th>Animal protein (%)</th>\n",
       "    </tr>\n",
       "  </thead>\n",
       "  <tbody>\n",
       "    <tr>\n",
       "      <th>0</th>\n",
       "      <td>0</td>\n",
       "      <td>1</td>\n",
       "      <td>Armenia</td>\n",
       "      <td>2019</td>\n",
       "      <td>975.0</td>\n",
       "      <td>3022.0</td>\n",
       "      <td>52.86</td>\n",
       "      <td>94.29</td>\n",
       "      <td>32.263402</td>\n",
       "    </tr>\n",
       "    <tr>\n",
       "      <th>1</th>\n",
       "      <td>1</td>\n",
       "      <td>2</td>\n",
       "      <td>Afghanistan</td>\n",
       "      <td>2019</td>\n",
       "      <td>187.0</td>\n",
       "      <td>2273.0</td>\n",
       "      <td>10.34</td>\n",
       "      <td>57.31</td>\n",
       "      <td>8.227013</td>\n",
       "    </tr>\n",
       "  </tbody>\n",
       "</table>\n",
       "</div>"
      ],
      "text/plain": [
       "   index  Area Code         Area  Year  \\\n",
       "0      0          1      Armenia  2019   \n",
       "1      1          2  Afghanistan  2019   \n",
       "\n",
       "   Food supply (kcal/capita/day)_Animal Products  \\\n",
       "0                                          975.0   \n",
       "1                                          187.0   \n",
       "\n",
       "   Food supply (kcal/capita/day)_Grand Total  \\\n",
       "0                                     3022.0   \n",
       "1                                     2273.0   \n",
       "\n",
       "   Protein supply quantity (g/capita/day)_Animal Products  \\\n",
       "0                                              52.86        \n",
       "1                                              10.34        \n",
       "\n",
       "   Protein supply quantity (g/capita/day)_Grand Total  Animal protein (%)  \n",
       "0                                              94.29            32.263402  \n",
       "1                                              57.31             8.227013  "
      ]
     },
     "execution_count": 19,
     "metadata": {},
     "output_type": "execute_result"
    }
   ],
   "source": [
    "# https://techblog.deepki.com/dataframe-multi-index/\n",
    "df_alimentation_pivot.columns = df_alimentation_pivot.columns.to_series().str.join('_')\n",
    "# On renomme le nom de la colonne qui a `_` à le fin\n",
    "cols_rename = {c: c[:-1] for c in df_alimentation_pivot.columns if c[-1] == '_'}\n",
    "df_alimentation_pivot = df_alimentation_pivot.rename(columns=cols_rename).reset_index()\n",
    "df_alimentation_pivot.head(2)"
   ]
  },
  {
   "cell_type": "markdown",
   "metadata": {},
   "source": [
    "### Jointure"
   ]
  },
  {
   "cell_type": "code",
   "execution_count": 20,
   "metadata": {},
   "outputs": [
    {
     "data": {
      "text/html": [
       "<div>\n",
       "<style scoped>\n",
       "    .dataframe tbody tr th:only-of-type {\n",
       "        vertical-align: middle;\n",
       "    }\n",
       "\n",
       "    .dataframe tbody tr th {\n",
       "        vertical-align: top;\n",
       "    }\n",
       "\n",
       "    .dataframe thead th {\n",
       "        text-align: right;\n",
       "    }\n",
       "</style>\n",
       "<table border=\"1\" class=\"dataframe\">\n",
       "  <thead>\n",
       "    <tr style=\"text-align: right;\">\n",
       "      <th></th>\n",
       "      <th>index</th>\n",
       "      <th>Area Code</th>\n",
       "      <th>Area</th>\n",
       "      <th>Year</th>\n",
       "      <th>Food supply (kcal/capita/day)_Animal Products</th>\n",
       "      <th>Food supply (kcal/capita/day)_Grand Total</th>\n",
       "      <th>Protein supply quantity (g/capita/day)_Animal Products</th>\n",
       "      <th>Protein supply quantity (g/capita/day)_Grand Total</th>\n",
       "      <th>Animal protein (%)</th>\n",
       "      <th>Unit</th>\n",
       "      <th>population 2017</th>\n",
       "      <th>population 2019</th>\n",
       "      <th>Population difference (%)</th>\n",
       "    </tr>\n",
       "  </thead>\n",
       "  <tbody>\n",
       "    <tr>\n",
       "      <th>0</th>\n",
       "      <td>0</td>\n",
       "      <td>1</td>\n",
       "      <td>Armenia</td>\n",
       "      <td>2019</td>\n",
       "      <td>975.0</td>\n",
       "      <td>3022.0</td>\n",
       "      <td>52.86</td>\n",
       "      <td>94.29</td>\n",
       "      <td>32.263402</td>\n",
       "      <td>1000 persons</td>\n",
       "      <td>2945</td>\n",
       "      <td>2958</td>\n",
       "      <td>0.441426</td>\n",
       "    </tr>\n",
       "    <tr>\n",
       "      <th>1</th>\n",
       "      <td>1</td>\n",
       "      <td>2</td>\n",
       "      <td>Afghanistan</td>\n",
       "      <td>2019</td>\n",
       "      <td>187.0</td>\n",
       "      <td>2273.0</td>\n",
       "      <td>10.34</td>\n",
       "      <td>57.31</td>\n",
       "      <td>8.227013</td>\n",
       "      <td>1000 persons</td>\n",
       "      <td>36296</td>\n",
       "      <td>38042</td>\n",
       "      <td>4.810447</td>\n",
       "    </tr>\n",
       "    <tr>\n",
       "      <th>2</th>\n",
       "      <td>2</td>\n",
       "      <td>3</td>\n",
       "      <td>Albania</td>\n",
       "      <td>2019</td>\n",
       "      <td>1021.0</td>\n",
       "      <td>3338.0</td>\n",
       "      <td>62.47</td>\n",
       "      <td>116.02</td>\n",
       "      <td>30.587178</td>\n",
       "      <td>1000 persons</td>\n",
       "      <td>2884</td>\n",
       "      <td>2881</td>\n",
       "      <td>-0.104022</td>\n",
       "    </tr>\n",
       "  </tbody>\n",
       "</table>\n",
       "</div>"
      ],
      "text/plain": [
       "   index  Area Code         Area  Year  \\\n",
       "0      0          1      Armenia  2019   \n",
       "1      1          2  Afghanistan  2019   \n",
       "2      2          3      Albania  2019   \n",
       "\n",
       "   Food supply (kcal/capita/day)_Animal Products  \\\n",
       "0                                          975.0   \n",
       "1                                          187.0   \n",
       "2                                         1021.0   \n",
       "\n",
       "   Food supply (kcal/capita/day)_Grand Total  \\\n",
       "0                                     3022.0   \n",
       "1                                     2273.0   \n",
       "2                                     3338.0   \n",
       "\n",
       "   Protein supply quantity (g/capita/day)_Animal Products  \\\n",
       "0                                              52.86        \n",
       "1                                              10.34        \n",
       "2                                              62.47        \n",
       "\n",
       "   Protein supply quantity (g/capita/day)_Grand Total  Animal protein (%)  \\\n",
       "0                                              94.29            32.263402   \n",
       "1                                              57.31             8.227013   \n",
       "2                                             116.02            30.587178   \n",
       "\n",
       "           Unit  population 2017  population 2019  Population difference (%)  \n",
       "0  1000 persons             2945             2958                   0.441426  \n",
       "1  1000 persons            36296            38042                   4.810447  \n",
       "2  1000 persons             2884             2881                  -0.104022  "
      ]
     },
     "execution_count": 20,
     "metadata": {},
     "output_type": "execute_result"
    }
   ],
   "source": [
    "df_alimentation_population = df_alimentation_pivot.merge(df_population_pivot, how='inner', on=['Area Code','Area'],suffixes=('_alimentaire','_population'))\n",
    "df_alimentation_population.head(3)"
   ]
  },
  {
   "cell_type": "code",
   "execution_count": 21,
   "metadata": {},
   "outputs": [
    {
     "data": {
      "text/html": [
       "<div>\n",
       "<style scoped>\n",
       "    .dataframe tbody tr th:only-of-type {\n",
       "        vertical-align: middle;\n",
       "    }\n",
       "\n",
       "    .dataframe tbody tr th {\n",
       "        vertical-align: top;\n",
       "    }\n",
       "\n",
       "    .dataframe thead th {\n",
       "        text-align: right;\n",
       "    }\n",
       "</style>\n",
       "<table border=\"1\" class=\"dataframe\">\n",
       "  <thead>\n",
       "    <tr style=\"text-align: right;\">\n",
       "      <th></th>\n",
       "      <th>index</th>\n",
       "      <th>Area Code</th>\n",
       "      <th>Area</th>\n",
       "      <th>Year</th>\n",
       "      <th>Food supply (kcal/capita/day)_Animal Products</th>\n",
       "      <th>Food supply (kcal/capita/day)_Grand Total</th>\n",
       "      <th>Protein supply quantity (g/capita/day)_Animal Products</th>\n",
       "      <th>Protein supply quantity (g/capita/day)_Grand Total</th>\n",
       "      <th>Animal protein (%)</th>\n",
       "      <th>Unit</th>\n",
       "      <th>population 2017</th>\n",
       "      <th>population 2019</th>\n",
       "      <th>Population difference (%)</th>\n",
       "    </tr>\n",
       "  </thead>\n",
       "  <tbody>\n",
       "    <tr>\n",
       "      <th>174</th>\n",
       "      <td>178</td>\n",
       "      <td>351</td>\n",
       "      <td>China</td>\n",
       "      <td>2019</td>\n",
       "      <td>754.0</td>\n",
       "      <td>3340.0</td>\n",
       "      <td>41.62</td>\n",
       "      <td>105.11</td>\n",
       "      <td>22.57485</td>\n",
       "      <td>1000 persons</td>\n",
       "      <td>1452626</td>\n",
       "      <td>1465634</td>\n",
       "      <td>0.895482</td>\n",
       "    </tr>\n",
       "  </tbody>\n",
       "</table>\n",
       "</div>"
      ],
      "text/plain": [
       "     index  Area Code   Area  Year  \\\n",
       "174    178        351  China  2019   \n",
       "\n",
       "     Food supply (kcal/capita/day)_Animal Products  \\\n",
       "174                                          754.0   \n",
       "\n",
       "     Food supply (kcal/capita/day)_Grand Total  \\\n",
       "174                                     3340.0   \n",
       "\n",
       "     Protein supply quantity (g/capita/day)_Animal Products  \\\n",
       "174                                              41.62        \n",
       "\n",
       "     Protein supply quantity (g/capita/day)_Grand Total  Animal protein (%)  \\\n",
       "174                                             105.11             22.57485   \n",
       "\n",
       "             Unit  population 2017  population 2019  Population difference (%)  \n",
       "174  1000 persons          1452626          1465634                   0.895482  "
      ]
     },
     "execution_count": 21,
     "metadata": {},
     "output_type": "execute_result"
    }
   ],
   "source": [
    "df_alimentation_population[df_alimentation_population['Area'].str.contains('Chin')]"
   ]
  },
  {
   "cell_type": "code",
   "execution_count": null,
   "metadata": {},
   "outputs": [],
   "source": []
  },
  {
   "cell_type": "code",
   "execution_count": 22,
   "metadata": {},
   "outputs": [],
   "source": [
    "# df_alimentation_population = df_alimentation_population[['Area Code', 'Area', 'Year', 'population 2019', 'Population difference (%)','Animal protein (%)',\n",
    "#        'Food supply (kcal/capita/day)_Grand Total', 'Protein supply quantity (g/capita/day)_Grand Total']].copy()"
   ]
  },
  {
   "cell_type": "code",
   "execution_count": 23,
   "metadata": {},
   "outputs": [],
   "source": [
    "df_alimentation_population.rename(columns={'population 2019' : 'population 2019 (1000 p)','Food supply (kcal/capita/day)_Grand Total':'Food supply (kcal/capita/day)',\n",
    "                         'Protein supply quantity (g/capita/day)_Grand Total':'Protein supply quantity (g/capita/day)'}, inplace=True)"
   ]
  },
  {
   "cell_type": "markdown",
   "metadata": {},
   "source": [
    "## df_volaille"
   ]
  },
  {
   "cell_type": "code",
   "execution_count": 24,
   "metadata": {},
   "outputs": [
    {
     "data": {
      "text/html": [
       "<div>\n",
       "<style scoped>\n",
       "    .dataframe tbody tr th:only-of-type {\n",
       "        vertical-align: middle;\n",
       "    }\n",
       "\n",
       "    .dataframe tbody tr th {\n",
       "        vertical-align: top;\n",
       "    }\n",
       "\n",
       "    .dataframe thead th {\n",
       "        text-align: right;\n",
       "    }\n",
       "</style>\n",
       "<table border=\"1\" class=\"dataframe\">\n",
       "  <thead>\n",
       "    <tr style=\"text-align: right;\">\n",
       "      <th></th>\n",
       "      <th>Domain Code</th>\n",
       "      <th>Domain</th>\n",
       "      <th>Area Code</th>\n",
       "      <th>Area</th>\n",
       "      <th>Element Code</th>\n",
       "      <th>Element</th>\n",
       "      <th>Item Code</th>\n",
       "      <th>Item</th>\n",
       "      <th>Year Code</th>\n",
       "      <th>Year</th>\n",
       "      <th>Unit</th>\n",
       "      <th>Value</th>\n",
       "      <th>Flag</th>\n",
       "      <th>Flag Description</th>\n",
       "    </tr>\n",
       "  </thead>\n",
       "  <tbody>\n",
       "    <tr>\n",
       "      <th>0</th>\n",
       "      <td>FBS</td>\n",
       "      <td>Food Balances (2010-)</td>\n",
       "      <td>2</td>\n",
       "      <td>Afghanistan</td>\n",
       "      <td>5511</td>\n",
       "      <td>Production</td>\n",
       "      <td>2734</td>\n",
       "      <td>Poultry Meat</td>\n",
       "      <td>2019</td>\n",
       "      <td>2019</td>\n",
       "      <td>1000 tonnes</td>\n",
       "      <td>28.00</td>\n",
       "      <td>Im</td>\n",
       "      <td>FAO data based on imputation methodology</td>\n",
       "    </tr>\n",
       "    <tr>\n",
       "      <th>1</th>\n",
       "      <td>FBS</td>\n",
       "      <td>Food Balances (2010-)</td>\n",
       "      <td>2</td>\n",
       "      <td>Afghanistan</td>\n",
       "      <td>645</td>\n",
       "      <td>Food supply quantity (kg/capita/yr)</td>\n",
       "      <td>2734</td>\n",
       "      <td>Poultry Meat</td>\n",
       "      <td>2019</td>\n",
       "      <td>2019</td>\n",
       "      <td>kg</td>\n",
       "      <td>1.76</td>\n",
       "      <td>Fc</td>\n",
       "      <td>Calculated data</td>\n",
       "    </tr>\n",
       "    <tr>\n",
       "      <th>2</th>\n",
       "      <td>FBS</td>\n",
       "      <td>Food Balances (2010-)</td>\n",
       "      <td>3</td>\n",
       "      <td>Albania</td>\n",
       "      <td>5511</td>\n",
       "      <td>Production</td>\n",
       "      <td>2734</td>\n",
       "      <td>Poultry Meat</td>\n",
       "      <td>2019</td>\n",
       "      <td>2019</td>\n",
       "      <td>1000 tonnes</td>\n",
       "      <td>12.00</td>\n",
       "      <td>Im</td>\n",
       "      <td>FAO data based on imputation methodology</td>\n",
       "    </tr>\n",
       "  </tbody>\n",
       "</table>\n",
       "</div>"
      ],
      "text/plain": [
       "  Domain Code                 Domain  Area Code         Area  Element Code  \\\n",
       "0         FBS  Food Balances (2010-)          2  Afghanistan          5511   \n",
       "1         FBS  Food Balances (2010-)          2  Afghanistan           645   \n",
       "2         FBS  Food Balances (2010-)          3      Albania          5511   \n",
       "\n",
       "                               Element  Item Code          Item  Year Code  \\\n",
       "0                           Production       2734  Poultry Meat       2019   \n",
       "1  Food supply quantity (kg/capita/yr)       2734  Poultry Meat       2019   \n",
       "2                           Production       2734  Poultry Meat       2019   \n",
       "\n",
       "   Year         Unit  Value Flag                          Flag Description  \n",
       "0  2019  1000 tonnes  28.00   Im  FAO data based on imputation methodology  \n",
       "1  2019           kg   1.76   Fc                           Calculated data  \n",
       "2  2019  1000 tonnes  12.00   Im  FAO data based on imputation methodology  "
      ]
     },
     "execution_count": 24,
     "metadata": {},
     "output_type": "execute_result"
    }
   ],
   "source": [
    "df_volaille.head(3)"
   ]
  },
  {
   "cell_type": "code",
   "execution_count": 25,
   "metadata": {},
   "outputs": [
    {
     "data": {
      "text/plain": [
       "Index(['Domain Code', 'Domain', 'Area Code', 'Area', 'Element Code', 'Element',\n",
       "       'Item Code', 'Item', 'Year Code', 'Year', 'Unit', 'Value', 'Flag',\n",
       "       'Flag Description'],\n",
       "      dtype='object')"
      ]
     },
     "execution_count": 25,
     "metadata": {},
     "output_type": "execute_result"
    }
   ],
   "source": [
    "df_volaille.columns"
   ]
  },
  {
   "cell_type": "code",
   "execution_count": 26,
   "metadata": {},
   "outputs": [],
   "source": [
    "# df_volaille = df_volaille[['Area Code', 'Area', 'Element','Value']]"
   ]
  },
  {
   "cell_type": "code",
   "execution_count": 27,
   "metadata": {},
   "outputs": [],
   "source": [
    "df_volaille_pivot = pd.pivot_table(df_volaille, index = ['Area Code','Area'], columns = ['Element'],values='Value').reset_index()"
   ]
  },
  {
   "cell_type": "code",
   "execution_count": 28,
   "metadata": {},
   "outputs": [],
   "source": [
    "df_volaille_pivot.rename(columns={'Food supply quantity (kg/capita/yr)':'Poultry Meat supply quantity (kg/capita/yr)','Production':'Poultry Meat Production (1000 tonnes)'},inplace=True)"
   ]
  },
  {
   "cell_type": "code",
   "execution_count": 29,
   "metadata": {},
   "outputs": [
    {
     "data": {
      "text/html": [
       "<div>\n",
       "<style scoped>\n",
       "    .dataframe tbody tr th:only-of-type {\n",
       "        vertical-align: middle;\n",
       "    }\n",
       "\n",
       "    .dataframe tbody tr th {\n",
       "        vertical-align: top;\n",
       "    }\n",
       "\n",
       "    .dataframe thead th {\n",
       "        text-align: right;\n",
       "    }\n",
       "</style>\n",
       "<table border=\"1\" class=\"dataframe\">\n",
       "  <thead>\n",
       "    <tr style=\"text-align: right;\">\n",
       "      <th>Element</th>\n",
       "      <th>Area Code</th>\n",
       "      <th>Area</th>\n",
       "      <th>Poultry Meat supply quantity (kg/capita/yr)</th>\n",
       "      <th>Poultry Meat Production (1000 tonnes)</th>\n",
       "    </tr>\n",
       "  </thead>\n",
       "  <tbody>\n",
       "    <tr>\n",
       "      <th>0</th>\n",
       "      <td>1</td>\n",
       "      <td>Armenia</td>\n",
       "      <td>18.32</td>\n",
       "      <td>12.0</td>\n",
       "    </tr>\n",
       "    <tr>\n",
       "      <th>1</th>\n",
       "      <td>2</td>\n",
       "      <td>Afghanistan</td>\n",
       "      <td>1.76</td>\n",
       "      <td>28.0</td>\n",
       "    </tr>\n",
       "    <tr>\n",
       "      <th>2</th>\n",
       "      <td>3</td>\n",
       "      <td>Albania</td>\n",
       "      <td>11.71</td>\n",
       "      <td>12.0</td>\n",
       "    </tr>\n",
       "    <tr>\n",
       "      <th>3</th>\n",
       "      <td>4</td>\n",
       "      <td>Algeria</td>\n",
       "      <td>6.67</td>\n",
       "      <td>291.0</td>\n",
       "    </tr>\n",
       "    <tr>\n",
       "      <th>4</th>\n",
       "      <td>7</td>\n",
       "      <td>Angola</td>\n",
       "      <td>10.28</td>\n",
       "      <td>49.0</td>\n",
       "    </tr>\n",
       "  </tbody>\n",
       "</table>\n",
       "</div>"
      ],
      "text/plain": [
       "Element  Area Code         Area  Poultry Meat supply quantity (kg/capita/yr)  \\\n",
       "0                1      Armenia                                        18.32   \n",
       "1                2  Afghanistan                                         1.76   \n",
       "2                3      Albania                                        11.71   \n",
       "3                4      Algeria                                         6.67   \n",
       "4                7       Angola                                        10.28   \n",
       "\n",
       "Element  Poultry Meat Production (1000 tonnes)  \n",
       "0                                         12.0  \n",
       "1                                         28.0  \n",
       "2                                         12.0  \n",
       "3                                        291.0  \n",
       "4                                         49.0  "
      ]
     },
     "execution_count": 29,
     "metadata": {},
     "output_type": "execute_result"
    }
   ],
   "source": [
    "df_volaille_pivot.head()"
   ]
  },
  {
   "cell_type": "code",
   "execution_count": 30,
   "metadata": {},
   "outputs": [
    {
     "data": {
      "text/html": [
       "<div>\n",
       "<style scoped>\n",
       "    .dataframe tbody tr th:only-of-type {\n",
       "        vertical-align: middle;\n",
       "    }\n",
       "\n",
       "    .dataframe tbody tr th {\n",
       "        vertical-align: top;\n",
       "    }\n",
       "\n",
       "    .dataframe thead th {\n",
       "        text-align: right;\n",
       "    }\n",
       "</style>\n",
       "<table border=\"1\" class=\"dataframe\">\n",
       "  <thead>\n",
       "    <tr style=\"text-align: right;\">\n",
       "      <th></th>\n",
       "      <th>index</th>\n",
       "      <th>Area Code</th>\n",
       "      <th>Area</th>\n",
       "      <th>Year</th>\n",
       "      <th>Food supply (kcal/capita/day)_Animal Products</th>\n",
       "      <th>Food supply (kcal/capita/day)</th>\n",
       "      <th>Protein supply quantity (g/capita/day)_Animal Products</th>\n",
       "      <th>Protein supply quantity (g/capita/day)</th>\n",
       "      <th>Animal protein (%)</th>\n",
       "      <th>Unit</th>\n",
       "      <th>population 2017</th>\n",
       "      <th>population 2019 (1000 p)</th>\n",
       "      <th>Population difference (%)</th>\n",
       "    </tr>\n",
       "  </thead>\n",
       "  <tbody>\n",
       "    <tr>\n",
       "      <th>0</th>\n",
       "      <td>0</td>\n",
       "      <td>1</td>\n",
       "      <td>Armenia</td>\n",
       "      <td>2019</td>\n",
       "      <td>975.0</td>\n",
       "      <td>3022.0</td>\n",
       "      <td>52.86</td>\n",
       "      <td>94.29</td>\n",
       "      <td>32.263402</td>\n",
       "      <td>1000 persons</td>\n",
       "      <td>2945</td>\n",
       "      <td>2958</td>\n",
       "      <td>0.441426</td>\n",
       "    </tr>\n",
       "    <tr>\n",
       "      <th>1</th>\n",
       "      <td>1</td>\n",
       "      <td>2</td>\n",
       "      <td>Afghanistan</td>\n",
       "      <td>2019</td>\n",
       "      <td>187.0</td>\n",
       "      <td>2273.0</td>\n",
       "      <td>10.34</td>\n",
       "      <td>57.31</td>\n",
       "      <td>8.227013</td>\n",
       "      <td>1000 persons</td>\n",
       "      <td>36296</td>\n",
       "      <td>38042</td>\n",
       "      <td>4.810447</td>\n",
       "    </tr>\n",
       "    <tr>\n",
       "      <th>2</th>\n",
       "      <td>2</td>\n",
       "      <td>3</td>\n",
       "      <td>Albania</td>\n",
       "      <td>2019</td>\n",
       "      <td>1021.0</td>\n",
       "      <td>3338.0</td>\n",
       "      <td>62.47</td>\n",
       "      <td>116.02</td>\n",
       "      <td>30.587178</td>\n",
       "      <td>1000 persons</td>\n",
       "      <td>2884</td>\n",
       "      <td>2881</td>\n",
       "      <td>-0.104022</td>\n",
       "    </tr>\n",
       "    <tr>\n",
       "      <th>3</th>\n",
       "      <td>3</td>\n",
       "      <td>4</td>\n",
       "      <td>Algeria</td>\n",
       "      <td>2019</td>\n",
       "      <td>379.0</td>\n",
       "      <td>3493.0</td>\n",
       "      <td>24.09</td>\n",
       "      <td>90.84</td>\n",
       "      <td>10.850272</td>\n",
       "      <td>1000 persons</td>\n",
       "      <td>41389</td>\n",
       "      <td>43053</td>\n",
       "      <td>4.020392</td>\n",
       "    </tr>\n",
       "    <tr>\n",
       "      <th>4</th>\n",
       "      <td>4</td>\n",
       "      <td>7</td>\n",
       "      <td>Angola</td>\n",
       "      <td>2019</td>\n",
       "      <td>211.0</td>\n",
       "      <td>2445.0</td>\n",
       "      <td>15.54</td>\n",
       "      <td>52.09</td>\n",
       "      <td>8.629857</td>\n",
       "      <td>1000 persons</td>\n",
       "      <td>29817</td>\n",
       "      <td>31825</td>\n",
       "      <td>6.734413</td>\n",
       "    </tr>\n",
       "  </tbody>\n",
       "</table>\n",
       "</div>"
      ],
      "text/plain": [
       "   index  Area Code         Area  Year  \\\n",
       "0      0          1      Armenia  2019   \n",
       "1      1          2  Afghanistan  2019   \n",
       "2      2          3      Albania  2019   \n",
       "3      3          4      Algeria  2019   \n",
       "4      4          7       Angola  2019   \n",
       "\n",
       "   Food supply (kcal/capita/day)_Animal Products  \\\n",
       "0                                          975.0   \n",
       "1                                          187.0   \n",
       "2                                         1021.0   \n",
       "3                                          379.0   \n",
       "4                                          211.0   \n",
       "\n",
       "   Food supply (kcal/capita/day)  \\\n",
       "0                         3022.0   \n",
       "1                         2273.0   \n",
       "2                         3338.0   \n",
       "3                         3493.0   \n",
       "4                         2445.0   \n",
       "\n",
       "   Protein supply quantity (g/capita/day)_Animal Products  \\\n",
       "0                                              52.86        \n",
       "1                                              10.34        \n",
       "2                                              62.47        \n",
       "3                                              24.09        \n",
       "4                                              15.54        \n",
       "\n",
       "   Protein supply quantity (g/capita/day)  Animal protein (%)          Unit  \\\n",
       "0                                   94.29           32.263402  1000 persons   \n",
       "1                                   57.31            8.227013  1000 persons   \n",
       "2                                  116.02           30.587178  1000 persons   \n",
       "3                                   90.84           10.850272  1000 persons   \n",
       "4                                   52.09            8.629857  1000 persons   \n",
       "\n",
       "   population 2017  population 2019 (1000 p)  Population difference (%)  \n",
       "0             2945                      2958                   0.441426  \n",
       "1            36296                     38042                   4.810447  \n",
       "2             2884                      2881                  -0.104022  \n",
       "3            41389                     43053                   4.020392  \n",
       "4            29817                     31825                   6.734413  "
      ]
     },
     "execution_count": 30,
     "metadata": {},
     "output_type": "execute_result"
    }
   ],
   "source": [
    "df_alimentation_population.head()"
   ]
  },
  {
   "cell_type": "code",
   "execution_count": 31,
   "metadata": {},
   "outputs": [],
   "source": [
    "new_data = df_alimentation_population.merge(df_volaille_pivot, how='inner',on =['Area Code','Area'])"
   ]
  },
  {
   "cell_type": "code",
   "execution_count": 32,
   "metadata": {},
   "outputs": [],
   "source": [
    "# Pour 100g de poulet, 239 kcal\n",
    "new_data['Poultry supply (kcal/capita/day)'] = new_data['Poultry Meat supply quantity (kg/capita/yr)'] * 2390 /365"
   ]
  },
  {
   "cell_type": "code",
   "execution_count": 33,
   "metadata": {},
   "outputs": [],
   "source": [
    "new_data['Poultry quantity (%)'] = new_data['Poultry supply (kcal/capita/day)']*100/new_data['Food supply (kcal/capita/day)']"
   ]
  },
  {
   "cell_type": "code",
   "execution_count": 34,
   "metadata": {},
   "outputs": [],
   "source": [
    "new_data=new_data[['Area Code', 'Area', 'Year', 'Food supply (kcal/capita/day)',\n",
    "       'Protein supply quantity (g/capita/day)', 'Animal protein (%)', 'population 2017','population 2019 (1000 p)',\n",
    "       'Population difference (%)', 'Poultry quantity (%)','Poultry Meat Production (1000 tonnes)']].copy()"
   ]
  },
  {
   "cell_type": "code",
   "execution_count": 35,
   "metadata": {},
   "outputs": [],
   "source": [
    "new_data.rename(columns={'population 2019' : 'population 2019 (1000 p)','Food supply (kcal/capita/day)_Grand Total':'Food supply (kcal/capita/day)',\n",
    "                         'Protein supply quantity (g/capita/day)_Grand Total':'Protein supply quantity (g/capita/day)'}, inplace=True)"
   ]
  },
  {
   "cell_type": "code",
   "execution_count": 36,
   "metadata": {},
   "outputs": [],
   "source": [
    "# new_data = new_data[['Area Code', 'Area', 'Year', 'population 2019', 'Population difference (%)','Animal protein (%)',\n",
    "#        'Food supply (kcal/capita/day)_Grand Total',\n",
    "#        'Protein supply quantity (g/capita/day)_Grand Total']].copy()"
   ]
  },
  {
   "cell_type": "markdown",
   "metadata": {},
   "source": [
    "# save data"
   ]
  },
  {
   "cell_type": "code",
   "execution_count": 37,
   "metadata": {},
   "outputs": [],
   "source": [
    "new_data.to_csv('data\\\\new_data.csv')"
   ]
  },
  {
   "cell_type": "markdown",
   "metadata": {},
   "source": [
    "# df_pib"
   ]
  },
  {
   "cell_type": "code",
   "execution_count": 38,
   "metadata": {},
   "outputs": [],
   "source": [
    "df_pib1 = pd.read_csv('data\\\\src\\\\pib1.csv')\n",
    "df_pib_cia = pd.read_csv('data\\\\src\\\\pib_cia_imf.csv')\n",
    "df_pib2 = pd.read_csv('data\\\\src\\\\pib2.csv')"
   ]
  },
  {
   "cell_type": "code",
   "execution_count": 39,
   "metadata": {},
   "outputs": [],
   "source": [
    "# df_pib_imf = pd.read_csv('data\\\\src\\\\pib_imf2019.csv')\n",
    "# df_pib_cia = pd.read_csv('data\\\\src\\\\pib_cia.csv')\n"
   ]
  },
  {
   "cell_type": "code",
   "execution_count": 40,
   "metadata": {},
   "outputs": [],
   "source": [
    "df_pib1 = df_pib1[['Country Name', 'Country Code','2019']].copy()"
   ]
  },
  {
   "cell_type": "code",
   "execution_count": 41,
   "metadata": {},
   "outputs": [
    {
     "data": {
      "text/html": [
       "<div>\n",
       "<style scoped>\n",
       "    .dataframe tbody tr th:only-of-type {\n",
       "        vertical-align: middle;\n",
       "    }\n",
       "\n",
       "    .dataframe tbody tr th {\n",
       "        vertical-align: top;\n",
       "    }\n",
       "\n",
       "    .dataframe thead th {\n",
       "        text-align: right;\n",
       "    }\n",
       "</style>\n",
       "<table border=\"1\" class=\"dataframe\">\n",
       "  <thead>\n",
       "    <tr style=\"text-align: right;\">\n",
       "      <th></th>\n",
       "      <th>Country Name</th>\n",
       "      <th>Country Code</th>\n",
       "      <th>2019</th>\n",
       "    </tr>\n",
       "  </thead>\n",
       "  <tbody>\n",
       "    <tr>\n",
       "      <th>0</th>\n",
       "      <td>Aruba</td>\n",
       "      <td>ABW</td>\n",
       "      <td>NaN</td>\n",
       "    </tr>\n",
       "    <tr>\n",
       "      <th>1</th>\n",
       "      <td>Africa Eastern and Southern</td>\n",
       "      <td>AFE</td>\n",
       "      <td>1530.059177</td>\n",
       "    </tr>\n",
       "    <tr>\n",
       "      <th>2</th>\n",
       "      <td>Afghanistan</td>\n",
       "      <td>AFG</td>\n",
       "      <td>494.179350</td>\n",
       "    </tr>\n",
       "    <tr>\n",
       "      <th>3</th>\n",
       "      <td>Africa Western and Central</td>\n",
       "      <td>AFW</td>\n",
       "      <td>1777.918672</td>\n",
       "    </tr>\n",
       "    <tr>\n",
       "      <th>4</th>\n",
       "      <td>Angola</td>\n",
       "      <td>AGO</td>\n",
       "      <td>2809.626088</td>\n",
       "    </tr>\n",
       "  </tbody>\n",
       "</table>\n",
       "</div>"
      ],
      "text/plain": [
       "                  Country Name Country Code         2019\n",
       "0                        Aruba          ABW          NaN\n",
       "1  Africa Eastern and Southern          AFE  1530.059177\n",
       "2                  Afghanistan          AFG   494.179350\n",
       "3   Africa Western and Central          AFW  1777.918672\n",
       "4                       Angola          AGO  2809.626088"
      ]
     },
     "execution_count": 41,
     "metadata": {},
     "output_type": "execute_result"
    }
   ],
   "source": [
    "df_pib1.head()\n"
   ]
  },
  {
   "cell_type": "code",
   "execution_count": 42,
   "metadata": {},
   "outputs": [],
   "source": [
    "df_pib_null = df_pib1[df_pib1['2019'].isnull()]"
   ]
  },
  {
   "cell_type": "code",
   "execution_count": 43,
   "metadata": {},
   "outputs": [],
   "source": [
    "df_pib1 = df_pib1[~df_pib1['2019'].isnull()].copy()"
   ]
  },
  {
   "cell_type": "code",
   "execution_count": 44,
   "metadata": {},
   "outputs": [],
   "source": [
    "df_pib = pd.concat([df_pib_cia,df_pib1])"
   ]
  },
  {
   "cell_type": "code",
   "execution_count": 45,
   "metadata": {},
   "outputs": [],
   "source": [
    "df_pib2 = df_pib2[['Country Code','Region']].copy()"
   ]
  },
  {
   "cell_type": "code",
   "execution_count": 46,
   "metadata": {},
   "outputs": [],
   "source": [
    "df_pib = df_pib.merge(df_pib2, how='inner', on='Country Code')"
   ]
  },
  {
   "cell_type": "code",
   "execution_count": 47,
   "metadata": {},
   "outputs": [
    {
     "data": {
      "text/html": [
       "<div>\n",
       "<style scoped>\n",
       "    .dataframe tbody tr th:only-of-type {\n",
       "        vertical-align: middle;\n",
       "    }\n",
       "\n",
       "    .dataframe tbody tr th {\n",
       "        vertical-align: top;\n",
       "    }\n",
       "\n",
       "    .dataframe thead th {\n",
       "        text-align: right;\n",
       "    }\n",
       "</style>\n",
       "<table border=\"1\" class=\"dataframe\">\n",
       "  <thead>\n",
       "    <tr style=\"text-align: right;\">\n",
       "      <th></th>\n",
       "      <th>Country Name</th>\n",
       "      <th>Country Code</th>\n",
       "      <th>2019</th>\n",
       "      <th>Region</th>\n",
       "    </tr>\n",
       "  </thead>\n",
       "  <tbody>\n",
       "    <tr>\n",
       "      <th>50</th>\n",
       "      <td>China</td>\n",
       "      <td>CHN</td>\n",
       "      <td>10143.838172</td>\n",
       "      <td>East Asia &amp; Pacific</td>\n",
       "    </tr>\n",
       "    <tr>\n",
       "      <th>104</th>\n",
       "      <td>Hong Kong SAR, China</td>\n",
       "      <td>HKG</td>\n",
       "      <td>48354.473367</td>\n",
       "      <td>East Asia &amp; Pacific</td>\n",
       "    </tr>\n",
       "    <tr>\n",
       "      <th>153</th>\n",
       "      <td>Macao SAR, China</td>\n",
       "      <td>MAC</td>\n",
       "      <td>86197.365694</td>\n",
       "      <td>East Asia &amp; Pacific</td>\n",
       "    </tr>\n",
       "  </tbody>\n",
       "</table>\n",
       "</div>"
      ],
      "text/plain": [
       "             Country Name Country Code          2019               Region\n",
       "50                  China          CHN  10143.838172  East Asia & Pacific\n",
       "104  Hong Kong SAR, China          HKG  48354.473367  East Asia & Pacific\n",
       "153      Macao SAR, China          MAC  86197.365694  East Asia & Pacific"
      ]
     },
     "execution_count": 47,
     "metadata": {},
     "output_type": "execute_result"
    }
   ],
   "source": [
    "df_pib[df_pib['Country Name'].str.contains('Chin')]"
   ]
  },
  {
   "cell_type": "code",
   "execution_count": 48,
   "metadata": {},
   "outputs": [],
   "source": [
    "# df_pib[df_pib['Country Name'].str.contains('enezue')]"
   ]
  },
  {
   "cell_type": "code",
   "execution_count": 49,
   "metadata": {},
   "outputs": [
    {
     "data": {
      "text/plain": [
       "Country Name    0\n",
       "Country Code    0\n",
       "2019            0\n",
       "dtype: int64"
      ]
     },
     "execution_count": 49,
     "metadata": {},
     "output_type": "execute_result"
    }
   ],
   "source": [
    "df_pib1.isnull().sum()"
   ]
  },
  {
   "cell_type": "code",
   "execution_count": 50,
   "metadata": {},
   "outputs": [
    {
     "data": {
      "text/plain": [
       "Country Name     0\n",
       "Country Code     0\n",
       "2019             0\n",
       "Region          48\n",
       "dtype: int64"
      ]
     },
     "execution_count": 50,
     "metadata": {},
     "output_type": "execute_result"
    }
   ],
   "source": [
    "df_pib.isnull().sum()"
   ]
  },
  {
   "cell_type": "code",
   "execution_count": 51,
   "metadata": {},
   "outputs": [],
   "source": [
    "# df_pib[df_pib['Region'].isnull()]"
   ]
  },
  {
   "cell_type": "code",
   "execution_count": 52,
   "metadata": {},
   "outputs": [],
   "source": [
    "df_pib.dropna(inplace=True) "
   ]
  },
  {
   "cell_type": "code",
   "execution_count": 53,
   "metadata": {},
   "outputs": [],
   "source": [
    "contry = df_pib[~df_pib['Country Name'].isin(new_data['Area'])].sort_values(by=['Country Name'])\n"
   ]
  },
  {
   "cell_type": "code",
   "execution_count": 54,
   "metadata": {},
   "outputs": [],
   "source": [
    "# contry "
   ]
  },
  {
   "cell_type": "code",
   "execution_count": 55,
   "metadata": {},
   "outputs": [],
   "source": [
    "area = new_data[~new_data['Area'].isin(df_pib['Country Name'])].sort_values(by=['Area'])\n",
    "area = area[['Area','Area Code']]"
   ]
  },
  {
   "cell_type": "code",
   "execution_count": 56,
   "metadata": {},
   "outputs": [],
   "source": [
    "# df_area_contry = pd.DataFrame({'Contry': contry,'Area':area})"
   ]
  },
  {
   "cell_type": "code",
   "execution_count": 57,
   "metadata": {
    "scrolled": true
   },
   "outputs": [],
   "source": [
    "new_data = new_data.set_index('Area Code')\n"
   ]
  },
  {
   "cell_type": "code",
   "execution_count": 58,
   "metadata": {},
   "outputs": [],
   "source": [
    "new_data.loc[12,'Area'] = 'Bahamas, The'\n",
    "new_data.loc[19,'Area'] = 'Bolivia'\n",
    "new_data.loc[46,'Area'] = 'Congo, Rep.'\n",
    "new_data.loc[107,'Area'] = \"Cote d'Ivoire\"\n",
    "new_data.loc[250,'Area'] = 'Congo, Dem. Rep.'\n",
    "new_data.loc[59,'Area'] = 'Egypt, Arab Rep.'\n",
    "new_data.loc[75,'Area'] = 'Gambia, The'\n",
    "new_data.loc[102,'Area'] = 'Iran, Islamic Rep.'\n",
    "new_data.loc[113,'Area'] = 'Kyrgyz Republic'\n",
    "new_data.loc[120,'Area'] = 'Lao PDR'\n",
    "new_data.loc[117,'Area'] = 'Korea, Rep.'\n",
    "new_data.loc[146,'Area'] = 'Moldova'\n",
    "new_data.loc[188,'Area'] = 'St. Kitts and Nevis'\n",
    "new_data.loc[189,'Area'] = 'St. Lucia'\n",
    "new_data.loc[191,'Area'] = 'St. Vincent and the Grenadines'\n",
    "new_data.loc[199,'Area'] = 'Slovak Republic'\n",
    "new_data.loc[229,'Area'] = 'United Kingdom'\n",
    "new_data.loc[215,'Area'] = 'Tanzania'\n",
    "new_data.loc[231,'Area'] = 'United States'\n",
    "new_data.loc[237,'Area'] = 'Vietnam'\n",
    "new_data.loc[249,'Area'] = 'Yemen, Rep.'\n",
    "new_data.loc[167,'Area']='Czech Republic'\n",
    "new_data.loc[116,'Area']=\"Korea, Dem. People's Rep.\"\n",
    "new_data.loc[236,'Area']='Venezuela, RB'\n"
   ]
  },
  {
   "cell_type": "code",
   "execution_count": 59,
   "metadata": {},
   "outputs": [
    {
     "name": "stdout",
     "output_type": "stream",
     "text": [
      "(175, 10)\n",
      "(217, 4)\n"
     ]
    }
   ],
   "source": [
    "print(new_data.shape)\n",
    "print(df_pib.shape)"
   ]
  },
  {
   "cell_type": "code",
   "execution_count": 60,
   "metadata": {},
   "outputs": [],
   "source": [
    "new_data = new_data.reset_index()"
   ]
  },
  {
   "cell_type": "code",
   "execution_count": 61,
   "metadata": {},
   "outputs": [],
   "source": [
    "# area = new_data[~new_data['Area'].isin(df_pib['Country Name'])].sort_values(by=['Area'])\n",
    "# area"
   ]
  },
  {
   "cell_type": "code",
   "execution_count": 62,
   "metadata": {
    "scrolled": true
   },
   "outputs": [],
   "source": [
    "new_data_pib = new_data.merge(df_pib, how='left',left_on='Area',right_on='Country Name')\n",
    "new_data_pib.rename(columns={'2019':'GDP per capita'}, inplace=True)\n",
    "# print(new_data_pib.shape)\n",
    "# new_data_pib.head(3)"
   ]
  },
  {
   "cell_type": "code",
   "execution_count": 63,
   "metadata": {},
   "outputs": [
    {
     "data": {
      "text/plain": [
       "Index(['Area Code', 'Area', 'Year', 'Food supply (kcal/capita/day)',\n",
       "       'Protein supply quantity (g/capita/day)', 'Animal protein (%)',\n",
       "       'population 2017', 'population 2019 (1000 p)',\n",
       "       'Population difference (%)', 'Poultry quantity (%)',\n",
       "       'Poultry Meat Production (1000 tonnes)', 'Country Name', 'Country Code',\n",
       "       'GDP per capita', 'Region'],\n",
       "      dtype='object')"
      ]
     },
     "execution_count": 63,
     "metadata": {},
     "output_type": "execute_result"
    }
   ],
   "source": [
    "new_data_pib.columns"
   ]
  },
  {
   "cell_type": "code",
   "execution_count": 64,
   "metadata": {},
   "outputs": [
    {
     "data": {
      "text/plain": [
       "Area Code                                 0\n",
       "Area                                      0\n",
       "Year                                      0\n",
       "Food supply (kcal/capita/day)             0\n",
       "Protein supply quantity (g/capita/day)    0\n",
       "Animal protein (%)                        0\n",
       "population 2017                           0\n",
       "population 2019 (1000 p)                  0\n",
       "Population difference (%)                 0\n",
       "Poultry quantity (%)                      0\n",
       "Poultry Meat Production (1000 tonnes)     2\n",
       "Country Name                              0\n",
       "Country Code                              0\n",
       "GDP per capita                            0\n",
       "Region                                    0\n",
       "dtype: int64"
      ]
     },
     "execution_count": 64,
     "metadata": {},
     "output_type": "execute_result"
    }
   ],
   "source": [
    "new_data_pib.isnull().sum()"
   ]
  },
  {
   "cell_type": "code",
   "execution_count": 65,
   "metadata": {},
   "outputs": [
    {
     "data": {
      "text/html": [
       "<div>\n",
       "<style scoped>\n",
       "    .dataframe tbody tr th:only-of-type {\n",
       "        vertical-align: middle;\n",
       "    }\n",
       "\n",
       "    .dataframe tbody tr th {\n",
       "        vertical-align: top;\n",
       "    }\n",
       "\n",
       "    .dataframe thead th {\n",
       "        text-align: right;\n",
       "    }\n",
       "</style>\n",
       "<table border=\"1\" class=\"dataframe\">\n",
       "  <thead>\n",
       "    <tr style=\"text-align: right;\">\n",
       "      <th></th>\n",
       "      <th>Area Code</th>\n",
       "      <th>Area</th>\n",
       "      <th>Year</th>\n",
       "      <th>Food supply (kcal/capita/day)</th>\n",
       "      <th>Protein supply quantity (g/capita/day)</th>\n",
       "      <th>Animal protein (%)</th>\n",
       "      <th>population 2017</th>\n",
       "      <th>population 2019 (1000 p)</th>\n",
       "      <th>Population difference (%)</th>\n",
       "      <th>Poultry quantity (%)</th>\n",
       "      <th>Poultry Meat Production (1000 tonnes)</th>\n",
       "      <th>Country Name</th>\n",
       "      <th>Country Code</th>\n",
       "      <th>GDP per capita</th>\n",
       "      <th>Region</th>\n",
       "    </tr>\n",
       "  </thead>\n",
       "  <tbody>\n",
       "    <tr>\n",
       "      <th>47</th>\n",
       "      <td>72</td>\n",
       "      <td>Djibouti</td>\n",
       "      <td>2019</td>\n",
       "      <td>2795.0</td>\n",
       "      <td>65.93</td>\n",
       "      <td>7.191413</td>\n",
       "      <td>944</td>\n",
       "      <td>974</td>\n",
       "      <td>3.177966</td>\n",
       "      <td>0.824643</td>\n",
       "      <td>NaN</td>\n",
       "      <td>Djibouti</td>\n",
       "      <td>DJI</td>\n",
       "      <td>3414.916178</td>\n",
       "      <td>Middle East &amp; North Africa</td>\n",
       "    </tr>\n",
       "    <tr>\n",
       "      <th>93</th>\n",
       "      <td>132</td>\n",
       "      <td>Maldives</td>\n",
       "      <td>2019</td>\n",
       "      <td>2212.0</td>\n",
       "      <td>80.01</td>\n",
       "      <td>24.773960</td>\n",
       "      <td>496</td>\n",
       "      <td>531</td>\n",
       "      <td>7.056452</td>\n",
       "      <td>3.901533</td>\n",
       "      <td>NaN</td>\n",
       "      <td>Maldives</td>\n",
       "      <td>MDV</td>\n",
       "      <td>10561.613511</td>\n",
       "      <td>South Asia</td>\n",
       "    </tr>\n",
       "  </tbody>\n",
       "</table>\n",
       "</div>"
      ],
      "text/plain": [
       "    Area Code      Area  Year  Food supply (kcal/capita/day)  \\\n",
       "47         72  Djibouti  2019                         2795.0   \n",
       "93        132  Maldives  2019                         2212.0   \n",
       "\n",
       "    Protein supply quantity (g/capita/day)  Animal protein (%)  \\\n",
       "47                                   65.93            7.191413   \n",
       "93                                   80.01           24.773960   \n",
       "\n",
       "    population 2017  population 2019 (1000 p)  Population difference (%)  \\\n",
       "47              944                       974                   3.177966   \n",
       "93              496                       531                   7.056452   \n",
       "\n",
       "    Poultry quantity (%)  Poultry Meat Production (1000 tonnes) Country Name  \\\n",
       "47              0.824643                                    NaN     Djibouti   \n",
       "93              3.901533                                    NaN     Maldives   \n",
       "\n",
       "   Country Code  GDP per capita                      Region  \n",
       "47          DJI     3414.916178  Middle East & North Africa  \n",
       "93          MDV    10561.613511                  South Asia  "
      ]
     },
     "execution_count": 65,
     "metadata": {},
     "output_type": "execute_result"
    }
   ],
   "source": [
    "new_data_pib[new_data_pib['Poultry Meat Production (1000 tonnes)'].isnull()]"
   ]
  },
  {
   "cell_type": "code",
   "execution_count": 66,
   "metadata": {},
   "outputs": [],
   "source": [
    "new_data_pib.fillna(0,inplace=True)"
   ]
  },
  {
   "cell_type": "code",
   "execution_count": 67,
   "metadata": {},
   "outputs": [],
   "source": [
    "new_data_pib = new_data_pib.round(3)"
   ]
  },
  {
   "cell_type": "code",
   "execution_count": 68,
   "metadata": {},
   "outputs": [],
   "source": [
    "new_data_pib.drop(columns=['Country Name'], inplace=True)"
   ]
  },
  {
   "cell_type": "code",
   "execution_count": 69,
   "metadata": {},
   "outputs": [],
   "source": [
    "new_data_pib.to_csv('data\\\\new_data_pib2.csv',index=False)"
   ]
  },
  {
   "cell_type": "code",
   "execution_count": null,
   "metadata": {},
   "outputs": [],
   "source": []
  },
  {
   "cell_type": "code",
   "execution_count": null,
   "metadata": {},
   "outputs": [],
   "source": []
  }
 ],
 "metadata": {
  "kernelspec": {
   "display_name": "Python 3 (ipykernel)",
   "language": "python",
   "name": "python3"
  },
  "language_info": {
   "codemirror_mode": {
    "name": "ipython",
    "version": 3
   },
   "file_extension": ".py",
   "mimetype": "text/x-python",
   "name": "python",
   "nbconvert_exporter": "python",
   "pygments_lexer": "ipython3",
   "version": "3.9.12"
  },
  "toc": {
   "base_numbering": 1,
   "nav_menu": {},
   "number_sections": false,
   "sideBar": false,
   "skip_h1_title": false,
   "title_cell": "Table of Contents",
   "title_sidebar": "Contents",
   "toc_cell": true,
   "toc_position": {
    "height": "47.6833px",
    "left": "708px",
    "top": "135.7px",
    "width": "165px"
   },
   "toc_section_display": true,
   "toc_window_display": true
  },
  "varInspector": {
   "cols": {
    "lenName": 16,
    "lenType": 16,
    "lenVar": 40
   },
   "kernels_config": {
    "python": {
     "delete_cmd_postfix": "",
     "delete_cmd_prefix": "del ",
     "library": "var_list.py",
     "varRefreshCmd": "print(var_dic_list())"
    },
    "r": {
     "delete_cmd_postfix": ") ",
     "delete_cmd_prefix": "rm(",
     "library": "var_list.r",
     "varRefreshCmd": "cat(var_dic_list()) "
    }
   },
   "types_to_exclude": [
    "module",
    "function",
    "builtin_function_or_method",
    "instance",
    "_Feature"
   ],
   "window_display": false
  }
 },
 "nbformat": 4,
 "nbformat_minor": 4
}
