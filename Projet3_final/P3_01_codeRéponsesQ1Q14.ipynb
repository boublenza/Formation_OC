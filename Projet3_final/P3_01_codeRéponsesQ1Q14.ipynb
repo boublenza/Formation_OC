{
 "cells": [
  {
   "cell_type": "markdown",
   "metadata": {},
   "source": [
    "# Lecture des fichiers CSV avec Pandas "
   ]
  },
  {
   "cell_type": "code",
   "execution_count": 1,
   "metadata": {},
   "outputs": [],
   "source": [
    "import pandas as pd\n",
    "import numpy as np\n",
    "#pd.set_option(\"max_rows\", None)  #Préciser le nombre de lignes max"
   ]
  },
  {
   "cell_type": "code",
   "execution_count": 2,
   "metadata": {},
   "outputs": [],
   "source": [
    "# Lecture des fichiers CSV \n",
    "df_population = pd.read_csv(\"data/fr_population.csv\")\n",
    "df_animaux = pd.read_csv(\"data/fr_animaux.csv\")\n",
    "df_vegetaux = pd.read_csv(\"data/fr_vegetaux.csv\")\n",
    "df_cereales = pd.read_csv(\"data/fr_céréales.csv\")\n",
    "df_sous_alimentation = pd.read_csv(\"data/fr_sousalimentation.csv\")"
   ]
  },
  {
   "cell_type": "code",
   "execution_count": 3,
   "metadata": {},
   "outputs": [],
   "source": [
    "# Suppression des données dupliquées\n",
    "df_population.drop_duplicates(keep='first', inplace=True, ignore_index=True)\n",
    "df_animaux.drop_duplicates(keep='first', inplace=True, ignore_index=True)\n",
    "df_vegetaux.drop_duplicates(keep='first', inplace=True, ignore_index=True)\n",
    "df_vegetaux.drop_duplicates(keep='first', inplace=True, ignore_index=True)\n",
    "df_sous_alimentation.drop_duplicates(keep='first', inplace=True, ignore_index=True)"
   ]
  },
  {
   "cell_type": "code",
   "execution_count": 4,
   "metadata": {},
   "outputs": [
    {
     "data": {
      "text/plain": [
       "Index(['Zone', 'Code zone', 'Produit', 'Aliments pour animaux (kg/an)',\n",
       "       'Autres utilisations (non alimentaire) (kg/an)',\n",
       "       'Disponibilité alimentaire (Kcal/personne/jour)',\n",
       "       'Disponibilité alimentaire en quantité (kg/personne/an)',\n",
       "       'Disponibilité de matière grasse en quantité (g/personne/jour)',\n",
       "       'Disponibilité de protéines en quantité (g/personne/jour)',\n",
       "       'Disponibilité intérieure (kg/an)', 'Exportations - Quantité (kg/an)',\n",
       "       'Importations - Quantité (kg/an)', 'Nourriture (kg/an)',\n",
       "       'Pertes (kg/an)', 'Production (kg/an)', 'Semences (kg/an)',\n",
       "       'Traitement (kg/an)', 'Variation de stock (kg/an)'],\n",
       "      dtype='object')"
      ]
     },
     "execution_count": 4,
     "metadata": {},
     "output_type": "execute_result"
    }
   ],
   "source": [
    "df_animaux.columns"
   ]
  },
  {
   "cell_type": "markdown",
   "metadata": {},
   "source": [
    "# Aperçu génaral des données"
   ]
  },
  {
   "cell_type": "code",
   "execution_count": 5,
   "metadata": {},
   "outputs": [
    {
     "data": {
      "text/html": [
       "<div>\n",
       "<style scoped>\n",
       "    .dataframe tbody tr th:only-of-type {\n",
       "        vertical-align: middle;\n",
       "    }\n",
       "\n",
       "    .dataframe tbody tr th {\n",
       "        vertical-align: top;\n",
       "    }\n",
       "\n",
       "    .dataframe thead th {\n",
       "        text-align: right;\n",
       "    }\n",
       "</style>\n",
       "<table border=\"1\" class=\"dataframe\">\n",
       "  <thead>\n",
       "    <tr style=\"text-align: right;\">\n",
       "      <th></th>\n",
       "      <th>Code Domaine</th>\n",
       "      <th>Domaine</th>\n",
       "      <th>Code zone</th>\n",
       "      <th>Zone</th>\n",
       "      <th>Code Élément</th>\n",
       "      <th>Élément</th>\n",
       "      <th>Code Produit</th>\n",
       "      <th>Produit</th>\n",
       "      <th>Code année</th>\n",
       "      <th>Année</th>\n",
       "      <th>Unité</th>\n",
       "      <th>Valeur</th>\n",
       "      <th>Symbole</th>\n",
       "      <th>Description du Symbole</th>\n",
       "    </tr>\n",
       "  </thead>\n",
       "  <tbody>\n",
       "    <tr>\n",
       "      <th>0</th>\n",
       "      <td>FBSH</td>\n",
       "      <td>Bilans Alimentaire (Ancienne méthodologie et p...</td>\n",
       "      <td>2</td>\n",
       "      <td>Afghanistan</td>\n",
       "      <td>511</td>\n",
       "      <td>Population totale</td>\n",
       "      <td>2501</td>\n",
       "      <td>Population</td>\n",
       "      <td>2013</td>\n",
       "      <td>2013</td>\n",
       "      <td>1000 personnes</td>\n",
       "      <td>30552</td>\n",
       "      <td>NaN</td>\n",
       "      <td>Donnée officielle</td>\n",
       "    </tr>\n",
       "    <tr>\n",
       "      <th>1</th>\n",
       "      <td>FBSH</td>\n",
       "      <td>Bilans Alimentaire (Ancienne méthodologie et p...</td>\n",
       "      <td>202</td>\n",
       "      <td>Afrique du Sud</td>\n",
       "      <td>511</td>\n",
       "      <td>Population totale</td>\n",
       "      <td>2501</td>\n",
       "      <td>Population</td>\n",
       "      <td>2013</td>\n",
       "      <td>2013</td>\n",
       "      <td>1000 personnes</td>\n",
       "      <td>52776</td>\n",
       "      <td>NaN</td>\n",
       "      <td>Donnée officielle</td>\n",
       "    </tr>\n",
       "    <tr>\n",
       "      <th>2</th>\n",
       "      <td>FBSH</td>\n",
       "      <td>Bilans Alimentaire (Ancienne méthodologie et p...</td>\n",
       "      <td>3</td>\n",
       "      <td>Albanie</td>\n",
       "      <td>511</td>\n",
       "      <td>Population totale</td>\n",
       "      <td>2501</td>\n",
       "      <td>Population</td>\n",
       "      <td>2013</td>\n",
       "      <td>2013</td>\n",
       "      <td>1000 personnes</td>\n",
       "      <td>3173</td>\n",
       "      <td>NaN</td>\n",
       "      <td>Donnée officielle</td>\n",
       "    </tr>\n",
       "    <tr>\n",
       "      <th>3</th>\n",
       "      <td>FBSH</td>\n",
       "      <td>Bilans Alimentaire (Ancienne méthodologie et p...</td>\n",
       "      <td>4</td>\n",
       "      <td>Algérie</td>\n",
       "      <td>511</td>\n",
       "      <td>Population totale</td>\n",
       "      <td>2501</td>\n",
       "      <td>Population</td>\n",
       "      <td>2013</td>\n",
       "      <td>2013</td>\n",
       "      <td>1000 personnes</td>\n",
       "      <td>39208</td>\n",
       "      <td>NaN</td>\n",
       "      <td>Donnée officielle</td>\n",
       "    </tr>\n",
       "    <tr>\n",
       "      <th>4</th>\n",
       "      <td>FBSH</td>\n",
       "      <td>Bilans Alimentaire (Ancienne méthodologie et p...</td>\n",
       "      <td>79</td>\n",
       "      <td>Allemagne</td>\n",
       "      <td>511</td>\n",
       "      <td>Population totale</td>\n",
       "      <td>2501</td>\n",
       "      <td>Population</td>\n",
       "      <td>2013</td>\n",
       "      <td>2013</td>\n",
       "      <td>1000 personnes</td>\n",
       "      <td>82727</td>\n",
       "      <td>NaN</td>\n",
       "      <td>Donnée officielle</td>\n",
       "    </tr>\n",
       "  </tbody>\n",
       "</table>\n",
       "</div>"
      ],
      "text/plain": [
       "  Code Domaine                                            Domaine  Code zone  \\\n",
       "0         FBSH  Bilans Alimentaire (Ancienne méthodologie et p...          2   \n",
       "1         FBSH  Bilans Alimentaire (Ancienne méthodologie et p...        202   \n",
       "2         FBSH  Bilans Alimentaire (Ancienne méthodologie et p...          3   \n",
       "3         FBSH  Bilans Alimentaire (Ancienne méthodologie et p...          4   \n",
       "4         FBSH  Bilans Alimentaire (Ancienne méthodologie et p...         79   \n",
       "\n",
       "             Zone  Code Élément            Élément  Code Produit     Produit  \\\n",
       "0     Afghanistan           511  Population totale          2501  Population   \n",
       "1  Afrique du Sud           511  Population totale          2501  Population   \n",
       "2         Albanie           511  Population totale          2501  Population   \n",
       "3         Algérie           511  Population totale          2501  Population   \n",
       "4       Allemagne           511  Population totale          2501  Population   \n",
       "\n",
       "   Code année  Année           Unité  Valeur Symbole Description du Symbole  \n",
       "0        2013   2013  1000 personnes   30552     NaN      Donnée officielle  \n",
       "1        2013   2013  1000 personnes   52776     NaN      Donnée officielle  \n",
       "2        2013   2013  1000 personnes    3173     NaN      Donnée officielle  \n",
       "3        2013   2013  1000 personnes   39208     NaN      Donnée officielle  \n",
       "4        2013   2013  1000 personnes   82727     NaN      Donnée officielle  "
      ]
     },
     "execution_count": 5,
     "metadata": {},
     "output_type": "execute_result"
    }
   ],
   "source": [
    "df_population.head(5)"
   ]
  },
  {
   "cell_type": "code",
   "execution_count": 6,
   "metadata": {},
   "outputs": [
    {
     "data": {
      "text/html": [
       "<div>\n",
       "<style scoped>\n",
       "    .dataframe tbody tr th:only-of-type {\n",
       "        vertical-align: middle;\n",
       "    }\n",
       "\n",
       "    .dataframe tbody tr th {\n",
       "        vertical-align: top;\n",
       "    }\n",
       "\n",
       "    .dataframe thead th {\n",
       "        text-align: right;\n",
       "    }\n",
       "</style>\n",
       "<table border=\"1\" class=\"dataframe\">\n",
       "  <thead>\n",
       "    <tr style=\"text-align: right;\">\n",
       "      <th></th>\n",
       "      <th>Code zone</th>\n",
       "      <th>Code Élément</th>\n",
       "      <th>Code Produit</th>\n",
       "      <th>Code année</th>\n",
       "      <th>Année</th>\n",
       "      <th>Valeur</th>\n",
       "    </tr>\n",
       "  </thead>\n",
       "  <tbody>\n",
       "    <tr>\n",
       "      <th>count</th>\n",
       "      <td>175.000000</td>\n",
       "      <td>175.0</td>\n",
       "      <td>175.0</td>\n",
       "      <td>175.0</td>\n",
       "      <td>175.0</td>\n",
       "      <td>1.750000e+02</td>\n",
       "    </tr>\n",
       "    <tr>\n",
       "      <th>mean</th>\n",
       "      <td>126.720000</td>\n",
       "      <td>511.0</td>\n",
       "      <td>2501.0</td>\n",
       "      <td>2013.0</td>\n",
       "      <td>2013.0</td>\n",
       "      <td>4.807996e+04</td>\n",
       "    </tr>\n",
       "    <tr>\n",
       "      <th>std</th>\n",
       "      <td>75.168519</td>\n",
       "      <td>0.0</td>\n",
       "      <td>0.0</td>\n",
       "      <td>0.0</td>\n",
       "      <td>0.0</td>\n",
       "      <td>1.786327e+05</td>\n",
       "    </tr>\n",
       "    <tr>\n",
       "      <th>min</th>\n",
       "      <td>1.000000</td>\n",
       "      <td>511.0</td>\n",
       "      <td>2501.0</td>\n",
       "      <td>2013.0</td>\n",
       "      <td>2013.0</td>\n",
       "      <td>5.400000e+01</td>\n",
       "    </tr>\n",
       "    <tr>\n",
       "      <th>25%</th>\n",
       "      <td>64.500000</td>\n",
       "      <td>511.0</td>\n",
       "      <td>2501.0</td>\n",
       "      <td>2013.0</td>\n",
       "      <td>2013.0</td>\n",
       "      <td>2.543500e+03</td>\n",
       "    </tr>\n",
       "    <tr>\n",
       "      <th>50%</th>\n",
       "      <td>121.000000</td>\n",
       "      <td>511.0</td>\n",
       "      <td>2501.0</td>\n",
       "      <td>2013.0</td>\n",
       "      <td>2013.0</td>\n",
       "      <td>9.413000e+03</td>\n",
       "    </tr>\n",
       "    <tr>\n",
       "      <th>75%</th>\n",
       "      <td>188.500000</td>\n",
       "      <td>511.0</td>\n",
       "      <td>2501.0</td>\n",
       "      <td>2013.0</td>\n",
       "      <td>2013.0</td>\n",
       "      <td>2.888150e+04</td>\n",
       "    </tr>\n",
       "    <tr>\n",
       "      <th>max</th>\n",
       "      <td>351.000000</td>\n",
       "      <td>511.0</td>\n",
       "      <td>2501.0</td>\n",
       "      <td>2013.0</td>\n",
       "      <td>2013.0</td>\n",
       "      <td>1.416667e+06</td>\n",
       "    </tr>\n",
       "  </tbody>\n",
       "</table>\n",
       "</div>"
      ],
      "text/plain": [
       "        Code zone  Code Élément  Code Produit  Code année   Année  \\\n",
       "count  175.000000         175.0         175.0       175.0   175.0   \n",
       "mean   126.720000         511.0        2501.0      2013.0  2013.0   \n",
       "std     75.168519           0.0           0.0         0.0     0.0   \n",
       "min      1.000000         511.0        2501.0      2013.0  2013.0   \n",
       "25%     64.500000         511.0        2501.0      2013.0  2013.0   \n",
       "50%    121.000000         511.0        2501.0      2013.0  2013.0   \n",
       "75%    188.500000         511.0        2501.0      2013.0  2013.0   \n",
       "max    351.000000         511.0        2501.0      2013.0  2013.0   \n",
       "\n",
       "             Valeur  \n",
       "count  1.750000e+02  \n",
       "mean   4.807996e+04  \n",
       "std    1.786327e+05  \n",
       "min    5.400000e+01  \n",
       "25%    2.543500e+03  \n",
       "50%    9.413000e+03  \n",
       "75%    2.888150e+04  \n",
       "max    1.416667e+06  "
      ]
     },
     "execution_count": 6,
     "metadata": {},
     "output_type": "execute_result"
    }
   ],
   "source": [
    "df_population.describe()"
   ]
  },
  {
   "cell_type": "code",
   "execution_count": 7,
   "metadata": {
    "scrolled": true
   },
   "outputs": [
    {
     "data": {
      "text/html": [
       "<div>\n",
       "<style scoped>\n",
       "    .dataframe tbody tr th:only-of-type {\n",
       "        vertical-align: middle;\n",
       "    }\n",
       "\n",
       "    .dataframe tbody tr th {\n",
       "        vertical-align: top;\n",
       "    }\n",
       "\n",
       "    .dataframe thead th {\n",
       "        text-align: right;\n",
       "    }\n",
       "</style>\n",
       "<table border=\"1\" class=\"dataframe\">\n",
       "  <thead>\n",
       "    <tr style=\"text-align: right;\">\n",
       "      <th></th>\n",
       "      <th>Zone</th>\n",
       "      <th>Code zone</th>\n",
       "      <th>Produit</th>\n",
       "      <th>Aliments pour animaux (kg/an)</th>\n",
       "      <th>Autres utilisations (non alimentaire) (kg/an)</th>\n",
       "      <th>Disponibilité alimentaire (Kcal/personne/jour)</th>\n",
       "      <th>Disponibilité alimentaire en quantité (kg/personne/an)</th>\n",
       "      <th>Disponibilité de matière grasse en quantité (g/personne/jour)</th>\n",
       "      <th>Disponibilité de protéines en quantité (g/personne/jour)</th>\n",
       "      <th>Disponibilité intérieure (kg/an)</th>\n",
       "      <th>Exportations - Quantité (kg/an)</th>\n",
       "      <th>Importations - Quantité (kg/an)</th>\n",
       "      <th>Nourriture (kg/an)</th>\n",
       "      <th>Pertes (kg/an)</th>\n",
       "      <th>Production (kg/an)</th>\n",
       "      <th>Semences (kg/an)</th>\n",
       "      <th>Traitement (kg/an)</th>\n",
       "      <th>Variation de stock (kg/an)</th>\n",
       "    </tr>\n",
       "  </thead>\n",
       "  <tbody>\n",
       "    <tr>\n",
       "      <th>0</th>\n",
       "      <td>Afghanistan</td>\n",
       "      <td>2</td>\n",
       "      <td>Abats Comestible</td>\n",
       "      <td>NaN</td>\n",
       "      <td>NaN</td>\n",
       "      <td>5.0</td>\n",
       "      <td>1.72</td>\n",
       "      <td>0.20</td>\n",
       "      <td>0.77</td>\n",
       "      <td>5.300000e+07</td>\n",
       "      <td>NaN</td>\n",
       "      <td>NaN</td>\n",
       "      <td>5.300000e+07</td>\n",
       "      <td>NaN</td>\n",
       "      <td>5.300000e+07</td>\n",
       "      <td>NaN</td>\n",
       "      <td>NaN</td>\n",
       "      <td>NaN</td>\n",
       "    </tr>\n",
       "    <tr>\n",
       "      <th>1</th>\n",
       "      <td>Afghanistan</td>\n",
       "      <td>2</td>\n",
       "      <td>Beurre, Ghee</td>\n",
       "      <td>NaN</td>\n",
       "      <td>NaN</td>\n",
       "      <td>23.0</td>\n",
       "      <td>1.17</td>\n",
       "      <td>2.61</td>\n",
       "      <td>0.03</td>\n",
       "      <td>3.600000e+07</td>\n",
       "      <td>NaN</td>\n",
       "      <td>0.0</td>\n",
       "      <td>3.600000e+07</td>\n",
       "      <td>NaN</td>\n",
       "      <td>3.600000e+07</td>\n",
       "      <td>NaN</td>\n",
       "      <td>NaN</td>\n",
       "      <td>NaN</td>\n",
       "    </tr>\n",
       "    <tr>\n",
       "      <th>2</th>\n",
       "      <td>Afghanistan</td>\n",
       "      <td>2</td>\n",
       "      <td>Crème</td>\n",
       "      <td>NaN</td>\n",
       "      <td>NaN</td>\n",
       "      <td>3.0</td>\n",
       "      <td>0.60</td>\n",
       "      <td>0.32</td>\n",
       "      <td>0.04</td>\n",
       "      <td>1.800000e+07</td>\n",
       "      <td>NaN</td>\n",
       "      <td>18000000.0</td>\n",
       "      <td>1.800000e+07</td>\n",
       "      <td>NaN</td>\n",
       "      <td>NaN</td>\n",
       "      <td>NaN</td>\n",
       "      <td>NaN</td>\n",
       "      <td>NaN</td>\n",
       "    </tr>\n",
       "    <tr>\n",
       "      <th>3</th>\n",
       "      <td>Afghanistan</td>\n",
       "      <td>2</td>\n",
       "      <td>Graisses Animales Crue</td>\n",
       "      <td>NaN</td>\n",
       "      <td>NaN</td>\n",
       "      <td>12.0</td>\n",
       "      <td>0.49</td>\n",
       "      <td>1.31</td>\n",
       "      <td>0.01</td>\n",
       "      <td>1.500000e+07</td>\n",
       "      <td>NaN</td>\n",
       "      <td>1000000.0</td>\n",
       "      <td>1.500000e+07</td>\n",
       "      <td>NaN</td>\n",
       "      <td>1.400000e+07</td>\n",
       "      <td>NaN</td>\n",
       "      <td>NaN</td>\n",
       "      <td>NaN</td>\n",
       "    </tr>\n",
       "    <tr>\n",
       "      <th>4</th>\n",
       "      <td>Afghanistan</td>\n",
       "      <td>2</td>\n",
       "      <td>Lait - Excl Beurre</td>\n",
       "      <td>123000000.0</td>\n",
       "      <td>NaN</td>\n",
       "      <td>100.0</td>\n",
       "      <td>62.23</td>\n",
       "      <td>5.19</td>\n",
       "      <td>6.12</td>\n",
       "      <td>2.083000e+09</td>\n",
       "      <td>0.0</td>\n",
       "      <td>248000000.0</td>\n",
       "      <td>1.901000e+09</td>\n",
       "      <td>58000000.0</td>\n",
       "      <td>1.835000e+09</td>\n",
       "      <td>NaN</td>\n",
       "      <td>NaN</td>\n",
       "      <td>NaN</td>\n",
       "    </tr>\n",
       "  </tbody>\n",
       "</table>\n",
       "</div>"
      ],
      "text/plain": [
       "          Zone  Code zone                 Produit  \\\n",
       "0  Afghanistan          2        Abats Comestible   \n",
       "1  Afghanistan          2            Beurre, Ghee   \n",
       "2  Afghanistan          2                   Crème   \n",
       "3  Afghanistan          2  Graisses Animales Crue   \n",
       "4  Afghanistan          2      Lait - Excl Beurre   \n",
       "\n",
       "   Aliments pour animaux (kg/an)  \\\n",
       "0                            NaN   \n",
       "1                            NaN   \n",
       "2                            NaN   \n",
       "3                            NaN   \n",
       "4                    123000000.0   \n",
       "\n",
       "   Autres utilisations (non alimentaire) (kg/an)  \\\n",
       "0                                            NaN   \n",
       "1                                            NaN   \n",
       "2                                            NaN   \n",
       "3                                            NaN   \n",
       "4                                            NaN   \n",
       "\n",
       "   Disponibilité alimentaire (Kcal/personne/jour)  \\\n",
       "0                                             5.0   \n",
       "1                                            23.0   \n",
       "2                                             3.0   \n",
       "3                                            12.0   \n",
       "4                                           100.0   \n",
       "\n",
       "   Disponibilité alimentaire en quantité (kg/personne/an)  \\\n",
       "0                                               1.72        \n",
       "1                                               1.17        \n",
       "2                                               0.60        \n",
       "3                                               0.49        \n",
       "4                                              62.23        \n",
       "\n",
       "   Disponibilité de matière grasse en quantité (g/personne/jour)  \\\n",
       "0                                               0.20               \n",
       "1                                               2.61               \n",
       "2                                               0.32               \n",
       "3                                               1.31               \n",
       "4                                               5.19               \n",
       "\n",
       "   Disponibilité de protéines en quantité (g/personne/jour)  \\\n",
       "0                                               0.77          \n",
       "1                                               0.03          \n",
       "2                                               0.04          \n",
       "3                                               0.01          \n",
       "4                                               6.12          \n",
       "\n",
       "   Disponibilité intérieure (kg/an)  Exportations - Quantité (kg/an)  \\\n",
       "0                      5.300000e+07                              NaN   \n",
       "1                      3.600000e+07                              NaN   \n",
       "2                      1.800000e+07                              NaN   \n",
       "3                      1.500000e+07                              NaN   \n",
       "4                      2.083000e+09                              0.0   \n",
       "\n",
       "   Importations - Quantité (kg/an)  Nourriture (kg/an)  Pertes (kg/an)  \\\n",
       "0                              NaN        5.300000e+07             NaN   \n",
       "1                              0.0        3.600000e+07             NaN   \n",
       "2                       18000000.0        1.800000e+07             NaN   \n",
       "3                        1000000.0        1.500000e+07             NaN   \n",
       "4                      248000000.0        1.901000e+09      58000000.0   \n",
       "\n",
       "   Production (kg/an)  Semences (kg/an)  Traitement (kg/an)  \\\n",
       "0        5.300000e+07               NaN                 NaN   \n",
       "1        3.600000e+07               NaN                 NaN   \n",
       "2                 NaN               NaN                 NaN   \n",
       "3        1.400000e+07               NaN                 NaN   \n",
       "4        1.835000e+09               NaN                 NaN   \n",
       "\n",
       "   Variation de stock (kg/an)  \n",
       "0                         NaN  \n",
       "1                         NaN  \n",
       "2                         NaN  \n",
       "3                         NaN  \n",
       "4                         NaN  "
      ]
     },
     "execution_count": 7,
     "metadata": {},
     "output_type": "execute_result"
    }
   ],
   "source": [
    "df_animaux.head(5)"
   ]
  },
  {
   "cell_type": "code",
   "execution_count": 8,
   "metadata": {},
   "outputs": [
    {
     "data": {
      "text/html": [
       "<div>\n",
       "<style scoped>\n",
       "    .dataframe tbody tr th:only-of-type {\n",
       "        vertical-align: middle;\n",
       "    }\n",
       "\n",
       "    .dataframe tbody tr th {\n",
       "        vertical-align: top;\n",
       "    }\n",
       "\n",
       "    .dataframe thead th {\n",
       "        text-align: right;\n",
       "    }\n",
       "</style>\n",
       "<table border=\"1\" class=\"dataframe\">\n",
       "  <thead>\n",
       "    <tr style=\"text-align: right;\">\n",
       "      <th></th>\n",
       "      <th>Code zone</th>\n",
       "      <th>Aliments pour animaux (kg/an)</th>\n",
       "      <th>Autres utilisations (non alimentaire) (kg/an)</th>\n",
       "      <th>Disponibilité alimentaire (Kcal/personne/jour)</th>\n",
       "      <th>Disponibilité alimentaire en quantité (kg/personne/an)</th>\n",
       "      <th>Disponibilité de matière grasse en quantité (g/personne/jour)</th>\n",
       "      <th>Disponibilité de protéines en quantité (g/personne/jour)</th>\n",
       "      <th>Disponibilité intérieure (kg/an)</th>\n",
       "      <th>Exportations - Quantité (kg/an)</th>\n",
       "      <th>Importations - Quantité (kg/an)</th>\n",
       "      <th>Nourriture (kg/an)</th>\n",
       "      <th>Pertes (kg/an)</th>\n",
       "      <th>Production (kg/an)</th>\n",
       "      <th>Semences (kg/an)</th>\n",
       "      <th>Traitement (kg/an)</th>\n",
       "      <th>Variation de stock (kg/an)</th>\n",
       "    </tr>\n",
       "  </thead>\n",
       "  <tbody>\n",
       "    <tr>\n",
       "      <th>count</th>\n",
       "      <td>3731.000000</td>\n",
       "      <td>5.720000e+02</td>\n",
       "      <td>2.397000e+03</td>\n",
       "      <td>3726.000000</td>\n",
       "      <td>3726.000000</td>\n",
       "      <td>3721.000000</td>\n",
       "      <td>3697.000000</td>\n",
       "      <td>3.731000e+03</td>\n",
       "      <td>3.021000e+03</td>\n",
       "      <td>3.638000e+03</td>\n",
       "      <td>3.726000e+03</td>\n",
       "      <td>4.050000e+02</td>\n",
       "      <td>2.959000e+03</td>\n",
       "      <td>2.070000e+02</td>\n",
       "      <td>2.290000e+02</td>\n",
       "      <td>1.411000e+03</td>\n",
       "    </tr>\n",
       "    <tr>\n",
       "      <th>mean</th>\n",
       "      <td>126.503082</td>\n",
       "      <td>2.080839e+08</td>\n",
       "      <td>2.116521e+07</td>\n",
       "      <td>26.137413</td>\n",
       "      <td>9.300939</td>\n",
       "      <td>1.841387</td>\n",
       "      <td>1.753652</td>\n",
       "      <td>4.337735e+08</td>\n",
       "      <td>8.429427e+07</td>\n",
       "      <td>7.214541e+07</td>\n",
       "      <td>3.799799e+08</td>\n",
       "      <td>6.628148e+07</td>\n",
       "      <td>5.430439e+08</td>\n",
       "      <td>3.109179e+07</td>\n",
       "      <td>4.510917e+06</td>\n",
       "      <td>2.664777e+06</td>\n",
       "    </tr>\n",
       "    <tr>\n",
       "      <th>std</th>\n",
       "      <td>74.746131</td>\n",
       "      <td>1.232665e+09</td>\n",
       "      <td>2.065427e+08</td>\n",
       "      <td>58.626273</td>\n",
       "      <td>31.313989</td>\n",
       "      <td>4.192599</td>\n",
       "      <td>3.819421</td>\n",
       "      <td>3.609314e+09</td>\n",
       "      <td>6.326664e+08</td>\n",
       "      <td>4.343456e+08</td>\n",
       "      <td>3.168325e+09</td>\n",
       "      <td>3.553305e+08</td>\n",
       "      <td>4.056536e+09</td>\n",
       "      <td>9.971779e+07</td>\n",
       "      <td>1.690339e+07</td>\n",
       "      <td>8.912819e+07</td>\n",
       "    </tr>\n",
       "    <tr>\n",
       "      <th>min</th>\n",
       "      <td>1.000000</td>\n",
       "      <td>0.000000e+00</td>\n",
       "      <td>0.000000e+00</td>\n",
       "      <td>0.000000</td>\n",
       "      <td>0.000000</td>\n",
       "      <td>0.000000</td>\n",
       "      <td>0.000000</td>\n",
       "      <td>-9.200000e+07</td>\n",
       "      <td>0.000000e+00</td>\n",
       "      <td>0.000000e+00</td>\n",
       "      <td>0.000000e+00</td>\n",
       "      <td>0.000000e+00</td>\n",
       "      <td>0.000000e+00</td>\n",
       "      <td>0.000000e+00</td>\n",
       "      <td>-1.900000e+07</td>\n",
       "      <td>-1.368000e+09</td>\n",
       "    </tr>\n",
       "    <tr>\n",
       "      <th>25%</th>\n",
       "      <td>63.000000</td>\n",
       "      <td>0.000000e+00</td>\n",
       "      <td>0.000000e+00</td>\n",
       "      <td>0.000000</td>\n",
       "      <td>0.040000</td>\n",
       "      <td>0.000000</td>\n",
       "      <td>0.000000</td>\n",
       "      <td>0.000000e+00</td>\n",
       "      <td>0.000000e+00</td>\n",
       "      <td>0.000000e+00</td>\n",
       "      <td>0.000000e+00</td>\n",
       "      <td>1.000000e+06</td>\n",
       "      <td>1.000000e+06</td>\n",
       "      <td>0.000000e+00</td>\n",
       "      <td>0.000000e+00</td>\n",
       "      <td>0.000000e+00</td>\n",
       "    </tr>\n",
       "    <tr>\n",
       "      <th>50%</th>\n",
       "      <td>121.000000</td>\n",
       "      <td>2.000000e+06</td>\n",
       "      <td>0.000000e+00</td>\n",
       "      <td>4.000000</td>\n",
       "      <td>1.050000</td>\n",
       "      <td>0.140000</td>\n",
       "      <td>0.210000</td>\n",
       "      <td>7.000000e+06</td>\n",
       "      <td>0.000000e+00</td>\n",
       "      <td>1.000000e+06</td>\n",
       "      <td>6.000000e+06</td>\n",
       "      <td>4.000000e+06</td>\n",
       "      <td>1.100000e+07</td>\n",
       "      <td>3.000000e+06</td>\n",
       "      <td>0.000000e+00</td>\n",
       "      <td>0.000000e+00</td>\n",
       "    </tr>\n",
       "    <tr>\n",
       "      <th>75%</th>\n",
       "      <td>188.500000</td>\n",
       "      <td>4.025000e+07</td>\n",
       "      <td>0.000000e+00</td>\n",
       "      <td>21.750000</td>\n",
       "      <td>5.067500</td>\n",
       "      <td>1.470000</td>\n",
       "      <td>1.560000</td>\n",
       "      <td>6.300000e+07</td>\n",
       "      <td>8.000000e+06</td>\n",
       "      <td>1.300000e+07</td>\n",
       "      <td>5.300000e+07</td>\n",
       "      <td>2.000000e+07</td>\n",
       "      <td>9.400000e+07</td>\n",
       "      <td>1.550000e+07</td>\n",
       "      <td>0.000000e+00</td>\n",
       "      <td>0.000000e+00</td>\n",
       "    </tr>\n",
       "    <tr>\n",
       "      <th>max</th>\n",
       "      <td>351.000000</td>\n",
       "      <td>2.275700e+10</td>\n",
       "      <td>5.972000e+09</td>\n",
       "      <td>541.000000</td>\n",
       "      <td>430.760000</td>\n",
       "      <td>41.020000</td>\n",
       "      <td>54.970000</td>\n",
       "      <td>1.334430e+11</td>\n",
       "      <td>1.894400e+10</td>\n",
       "      <td>9.780000e+09</td>\n",
       "      <td>1.058070e+11</td>\n",
       "      <td>4.878000e+09</td>\n",
       "      <td>1.356000e+11</td>\n",
       "      <td>7.620000e+08</td>\n",
       "      <td>1.210000e+08</td>\n",
       "      <td>2.210000e+09</td>\n",
       "    </tr>\n",
       "  </tbody>\n",
       "</table>\n",
       "</div>"
      ],
      "text/plain": [
       "         Code zone  Aliments pour animaux (kg/an)  \\\n",
       "count  3731.000000                   5.720000e+02   \n",
       "mean    126.503082                   2.080839e+08   \n",
       "std      74.746131                   1.232665e+09   \n",
       "min       1.000000                   0.000000e+00   \n",
       "25%      63.000000                   0.000000e+00   \n",
       "50%     121.000000                   2.000000e+06   \n",
       "75%     188.500000                   4.025000e+07   \n",
       "max     351.000000                   2.275700e+10   \n",
       "\n",
       "       Autres utilisations (non alimentaire) (kg/an)  \\\n",
       "count                                   2.397000e+03   \n",
       "mean                                    2.116521e+07   \n",
       "std                                     2.065427e+08   \n",
       "min                                     0.000000e+00   \n",
       "25%                                     0.000000e+00   \n",
       "50%                                     0.000000e+00   \n",
       "75%                                     0.000000e+00   \n",
       "max                                     5.972000e+09   \n",
       "\n",
       "       Disponibilité alimentaire (Kcal/personne/jour)  \\\n",
       "count                                     3726.000000   \n",
       "mean                                        26.137413   \n",
       "std                                         58.626273   \n",
       "min                                          0.000000   \n",
       "25%                                          0.000000   \n",
       "50%                                          4.000000   \n",
       "75%                                         21.750000   \n",
       "max                                        541.000000   \n",
       "\n",
       "       Disponibilité alimentaire en quantité (kg/personne/an)  \\\n",
       "count                                        3726.000000        \n",
       "mean                                            9.300939        \n",
       "std                                            31.313989        \n",
       "min                                             0.000000        \n",
       "25%                                             0.040000        \n",
       "50%                                             1.050000        \n",
       "75%                                             5.067500        \n",
       "max                                           430.760000        \n",
       "\n",
       "       Disponibilité de matière grasse en quantité (g/personne/jour)  \\\n",
       "count                                        3721.000000               \n",
       "mean                                            1.841387               \n",
       "std                                             4.192599               \n",
       "min                                             0.000000               \n",
       "25%                                             0.000000               \n",
       "50%                                             0.140000               \n",
       "75%                                             1.470000               \n",
       "max                                            41.020000               \n",
       "\n",
       "       Disponibilité de protéines en quantité (g/personne/jour)  \\\n",
       "count                                        3697.000000          \n",
       "mean                                            1.753652          \n",
       "std                                             3.819421          \n",
       "min                                             0.000000          \n",
       "25%                                             0.000000          \n",
       "50%                                             0.210000          \n",
       "75%                                             1.560000          \n",
       "max                                            54.970000          \n",
       "\n",
       "       Disponibilité intérieure (kg/an)  Exportations - Quantité (kg/an)  \\\n",
       "count                      3.731000e+03                     3.021000e+03   \n",
       "mean                       4.337735e+08                     8.429427e+07   \n",
       "std                        3.609314e+09                     6.326664e+08   \n",
       "min                       -9.200000e+07                     0.000000e+00   \n",
       "25%                        0.000000e+00                     0.000000e+00   \n",
       "50%                        7.000000e+06                     0.000000e+00   \n",
       "75%                        6.300000e+07                     8.000000e+06   \n",
       "max                        1.334430e+11                     1.894400e+10   \n",
       "\n",
       "       Importations - Quantité (kg/an)  Nourriture (kg/an)  Pertes (kg/an)  \\\n",
       "count                     3.638000e+03        3.726000e+03    4.050000e+02   \n",
       "mean                      7.214541e+07        3.799799e+08    6.628148e+07   \n",
       "std                       4.343456e+08        3.168325e+09    3.553305e+08   \n",
       "min                       0.000000e+00        0.000000e+00    0.000000e+00   \n",
       "25%                       0.000000e+00        0.000000e+00    1.000000e+06   \n",
       "50%                       1.000000e+06        6.000000e+06    4.000000e+06   \n",
       "75%                       1.300000e+07        5.300000e+07    2.000000e+07   \n",
       "max                       9.780000e+09        1.058070e+11    4.878000e+09   \n",
       "\n",
       "       Production (kg/an)  Semences (kg/an)  Traitement (kg/an)  \\\n",
       "count        2.959000e+03      2.070000e+02        2.290000e+02   \n",
       "mean         5.430439e+08      3.109179e+07        4.510917e+06   \n",
       "std          4.056536e+09      9.971779e+07        1.690339e+07   \n",
       "min          0.000000e+00      0.000000e+00       -1.900000e+07   \n",
       "25%          1.000000e+06      0.000000e+00        0.000000e+00   \n",
       "50%          1.100000e+07      3.000000e+06        0.000000e+00   \n",
       "75%          9.400000e+07      1.550000e+07        0.000000e+00   \n",
       "max          1.356000e+11      7.620000e+08        1.210000e+08   \n",
       "\n",
       "       Variation de stock (kg/an)  \n",
       "count                1.411000e+03  \n",
       "mean                 2.664777e+06  \n",
       "std                  8.912819e+07  \n",
       "min                 -1.368000e+09  \n",
       "25%                  0.000000e+00  \n",
       "50%                  0.000000e+00  \n",
       "75%                  0.000000e+00  \n",
       "max                  2.210000e+09  "
      ]
     },
     "execution_count": 8,
     "metadata": {},
     "output_type": "execute_result"
    }
   ],
   "source": [
    "df_animaux.describe()"
   ]
  },
  {
   "cell_type": "code",
   "execution_count": 9,
   "metadata": {
    "scrolled": true
   },
   "outputs": [
    {
     "data": {
      "text/html": [
       "<div>\n",
       "<style scoped>\n",
       "    .dataframe tbody tr th:only-of-type {\n",
       "        vertical-align: middle;\n",
       "    }\n",
       "\n",
       "    .dataframe tbody tr th {\n",
       "        vertical-align: top;\n",
       "    }\n",
       "\n",
       "    .dataframe thead th {\n",
       "        text-align: right;\n",
       "    }\n",
       "</style>\n",
       "<table border=\"1\" class=\"dataframe\">\n",
       "  <thead>\n",
       "    <tr style=\"text-align: right;\">\n",
       "      <th></th>\n",
       "      <th>Zone</th>\n",
       "      <th>Code zone</th>\n",
       "      <th>Produit</th>\n",
       "      <th>Aliments pour animaux (kg/an)</th>\n",
       "      <th>Autres utilisations (non alimentaire) (kg/an)</th>\n",
       "      <th>Disponibilité alimentaire (Kcal/personne/jour)</th>\n",
       "      <th>Disponibilité alimentaire en quantité (kg/personne/an)</th>\n",
       "      <th>Disponibilité de matière grasse en quantité (g/personne/jour)</th>\n",
       "      <th>Disponibilité de protéines en quantité (g/personne/jour)</th>\n",
       "      <th>Disponibilité intérieure (kg/an)</th>\n",
       "      <th>Exportations - Quantité (kg/an)</th>\n",
       "      <th>Importations - Quantité (kg/an)</th>\n",
       "      <th>Nourriture (kg/an)</th>\n",
       "      <th>Pertes (kg/an)</th>\n",
       "      <th>Production (kg/an)</th>\n",
       "      <th>Semences (kg/an)</th>\n",
       "      <th>Traitement (kg/an)</th>\n",
       "      <th>Variation de stock (kg/an)</th>\n",
       "    </tr>\n",
       "  </thead>\n",
       "  <tbody>\n",
       "    <tr>\n",
       "      <th>0</th>\n",
       "      <td>Afghanistan</td>\n",
       "      <td>2</td>\n",
       "      <td>Agrumes, Autres</td>\n",
       "      <td>NaN</td>\n",
       "      <td>NaN</td>\n",
       "      <td>1.0</td>\n",
       "      <td>1.29</td>\n",
       "      <td>0.01</td>\n",
       "      <td>0.02</td>\n",
       "      <td>41000000.0</td>\n",
       "      <td>2000000.0</td>\n",
       "      <td>40000000.0</td>\n",
       "      <td>39000000.0</td>\n",
       "      <td>2000000.0</td>\n",
       "      <td>3000000.0</td>\n",
       "      <td>NaN</td>\n",
       "      <td>NaN</td>\n",
       "      <td>NaN</td>\n",
       "    </tr>\n",
       "    <tr>\n",
       "      <th>1</th>\n",
       "      <td>Afghanistan</td>\n",
       "      <td>2</td>\n",
       "      <td>Aliments pour enfants</td>\n",
       "      <td>NaN</td>\n",
       "      <td>NaN</td>\n",
       "      <td>1.0</td>\n",
       "      <td>0.06</td>\n",
       "      <td>0.01</td>\n",
       "      <td>0.03</td>\n",
       "      <td>2000000.0</td>\n",
       "      <td>NaN</td>\n",
       "      <td>2000000.0</td>\n",
       "      <td>2000000.0</td>\n",
       "      <td>NaN</td>\n",
       "      <td>NaN</td>\n",
       "      <td>NaN</td>\n",
       "      <td>NaN</td>\n",
       "      <td>NaN</td>\n",
       "    </tr>\n",
       "    <tr>\n",
       "      <th>2</th>\n",
       "      <td>Afghanistan</td>\n",
       "      <td>2</td>\n",
       "      <td>Ananas</td>\n",
       "      <td>NaN</td>\n",
       "      <td>NaN</td>\n",
       "      <td>0.0</td>\n",
       "      <td>0.00</td>\n",
       "      <td>NaN</td>\n",
       "      <td>NaN</td>\n",
       "      <td>0.0</td>\n",
       "      <td>NaN</td>\n",
       "      <td>0.0</td>\n",
       "      <td>0.0</td>\n",
       "      <td>NaN</td>\n",
       "      <td>NaN</td>\n",
       "      <td>NaN</td>\n",
       "      <td>NaN</td>\n",
       "      <td>NaN</td>\n",
       "    </tr>\n",
       "    <tr>\n",
       "      <th>3</th>\n",
       "      <td>Afghanistan</td>\n",
       "      <td>2</td>\n",
       "      <td>Bananes</td>\n",
       "      <td>NaN</td>\n",
       "      <td>NaN</td>\n",
       "      <td>4.0</td>\n",
       "      <td>2.70</td>\n",
       "      <td>0.02</td>\n",
       "      <td>0.05</td>\n",
       "      <td>82000000.0</td>\n",
       "      <td>NaN</td>\n",
       "      <td>82000000.0</td>\n",
       "      <td>82000000.0</td>\n",
       "      <td>NaN</td>\n",
       "      <td>NaN</td>\n",
       "      <td>NaN</td>\n",
       "      <td>NaN</td>\n",
       "      <td>NaN</td>\n",
       "    </tr>\n",
       "    <tr>\n",
       "      <th>4</th>\n",
       "      <td>Afghanistan</td>\n",
       "      <td>2</td>\n",
       "      <td>Bière</td>\n",
       "      <td>NaN</td>\n",
       "      <td>NaN</td>\n",
       "      <td>0.0</td>\n",
       "      <td>0.09</td>\n",
       "      <td>NaN</td>\n",
       "      <td>0.00</td>\n",
       "      <td>3000000.0</td>\n",
       "      <td>NaN</td>\n",
       "      <td>3000000.0</td>\n",
       "      <td>3000000.0</td>\n",
       "      <td>NaN</td>\n",
       "      <td>NaN</td>\n",
       "      <td>NaN</td>\n",
       "      <td>NaN</td>\n",
       "      <td>NaN</td>\n",
       "    </tr>\n",
       "  </tbody>\n",
       "</table>\n",
       "</div>"
      ],
      "text/plain": [
       "          Zone  Code zone                Produit  \\\n",
       "0  Afghanistan          2        Agrumes, Autres   \n",
       "1  Afghanistan          2  Aliments pour enfants   \n",
       "2  Afghanistan          2                 Ananas   \n",
       "3  Afghanistan          2                Bananes   \n",
       "4  Afghanistan          2                  Bière   \n",
       "\n",
       "   Aliments pour animaux (kg/an)  \\\n",
       "0                            NaN   \n",
       "1                            NaN   \n",
       "2                            NaN   \n",
       "3                            NaN   \n",
       "4                            NaN   \n",
       "\n",
       "   Autres utilisations (non alimentaire) (kg/an)  \\\n",
       "0                                            NaN   \n",
       "1                                            NaN   \n",
       "2                                            NaN   \n",
       "3                                            NaN   \n",
       "4                                            NaN   \n",
       "\n",
       "   Disponibilité alimentaire (Kcal/personne/jour)  \\\n",
       "0                                             1.0   \n",
       "1                                             1.0   \n",
       "2                                             0.0   \n",
       "3                                             4.0   \n",
       "4                                             0.0   \n",
       "\n",
       "   Disponibilité alimentaire en quantité (kg/personne/an)  \\\n",
       "0                                               1.29        \n",
       "1                                               0.06        \n",
       "2                                               0.00        \n",
       "3                                               2.70        \n",
       "4                                               0.09        \n",
       "\n",
       "   Disponibilité de matière grasse en quantité (g/personne/jour)  \\\n",
       "0                                               0.01               \n",
       "1                                               0.01               \n",
       "2                                                NaN               \n",
       "3                                               0.02               \n",
       "4                                                NaN               \n",
       "\n",
       "   Disponibilité de protéines en quantité (g/personne/jour)  \\\n",
       "0                                               0.02          \n",
       "1                                               0.03          \n",
       "2                                                NaN          \n",
       "3                                               0.05          \n",
       "4                                               0.00          \n",
       "\n",
       "   Disponibilité intérieure (kg/an)  Exportations - Quantité (kg/an)  \\\n",
       "0                        41000000.0                        2000000.0   \n",
       "1                         2000000.0                              NaN   \n",
       "2                               0.0                              NaN   \n",
       "3                        82000000.0                              NaN   \n",
       "4                         3000000.0                              NaN   \n",
       "\n",
       "   Importations - Quantité (kg/an)  Nourriture (kg/an)  Pertes (kg/an)  \\\n",
       "0                       40000000.0          39000000.0       2000000.0   \n",
       "1                        2000000.0           2000000.0             NaN   \n",
       "2                              0.0                 0.0             NaN   \n",
       "3                       82000000.0          82000000.0             NaN   \n",
       "4                        3000000.0           3000000.0             NaN   \n",
       "\n",
       "   Production (kg/an)  Semences (kg/an)  Traitement (kg/an)  \\\n",
       "0           3000000.0               NaN                 NaN   \n",
       "1                 NaN               NaN                 NaN   \n",
       "2                 NaN               NaN                 NaN   \n",
       "3                 NaN               NaN                 NaN   \n",
       "4                 NaN               NaN                 NaN   \n",
       "\n",
       "   Variation de stock (kg/an)  \n",
       "0                         NaN  \n",
       "1                         NaN  \n",
       "2                         NaN  \n",
       "3                         NaN  \n",
       "4                         NaN  "
      ]
     },
     "execution_count": 9,
     "metadata": {},
     "output_type": "execute_result"
    }
   ],
   "source": [
    "df_vegetaux.head(5)"
   ]
  },
  {
   "cell_type": "code",
   "execution_count": 10,
   "metadata": {
    "scrolled": true
   },
   "outputs": [
    {
     "data": {
      "text/html": [
       "<div>\n",
       "<style scoped>\n",
       "    .dataframe tbody tr th:only-of-type {\n",
       "        vertical-align: middle;\n",
       "    }\n",
       "\n",
       "    .dataframe tbody tr th {\n",
       "        vertical-align: top;\n",
       "    }\n",
       "\n",
       "    .dataframe thead th {\n",
       "        text-align: right;\n",
       "    }\n",
       "</style>\n",
       "<table border=\"1\" class=\"dataframe\">\n",
       "  <thead>\n",
       "    <tr style=\"text-align: right;\">\n",
       "      <th></th>\n",
       "      <th>Code zone</th>\n",
       "      <th>Aliments pour animaux (kg/an)</th>\n",
       "      <th>Autres utilisations (non alimentaire) (kg/an)</th>\n",
       "      <th>Disponibilité alimentaire (Kcal/personne/jour)</th>\n",
       "      <th>Disponibilité alimentaire en quantité (kg/personne/an)</th>\n",
       "      <th>Disponibilité de matière grasse en quantité (g/personne/jour)</th>\n",
       "      <th>Disponibilité de protéines en quantité (g/personne/jour)</th>\n",
       "      <th>Disponibilité intérieure (kg/an)</th>\n",
       "      <th>Exportations - Quantité (kg/an)</th>\n",
       "      <th>Importations - Quantité (kg/an)</th>\n",
       "      <th>Nourriture (kg/an)</th>\n",
       "      <th>Pertes (kg/an)</th>\n",
       "      <th>Production (kg/an)</th>\n",
       "      <th>Semences (kg/an)</th>\n",
       "      <th>Traitement (kg/an)</th>\n",
       "      <th>Variation de stock (kg/an)</th>\n",
       "    </tr>\n",
       "  </thead>\n",
       "  <tbody>\n",
       "    <tr>\n",
       "      <th>count</th>\n",
       "      <td>11971.000000</td>\n",
       "      <td>2.185000e+03</td>\n",
       "      <td>3.174000e+03</td>\n",
       "      <td>10607.000000</td>\n",
       "      <td>10381.000000</td>\n",
       "      <td>8156.000000</td>\n",
       "      <td>7944.000000</td>\n",
       "      <td>1.174700e+04</td>\n",
       "      <td>9.299000e+03</td>\n",
       "      <td>1.130800e+04</td>\n",
       "      <td>1.038100e+04</td>\n",
       "      <td>3.924000e+03</td>\n",
       "      <td>6.312000e+03</td>\n",
       "      <td>1.908000e+03</td>\n",
       "      <td>2.099000e+03</td>\n",
       "      <td>5.446000e+03</td>\n",
       "    </tr>\n",
       "    <tr>\n",
       "      <th>mean</th>\n",
       "      <td>126.798847</td>\n",
       "      <td>7.032165e+08</td>\n",
       "      <td>2.820882e+08</td>\n",
       "      <td>37.820873</td>\n",
       "      <td>8.519772</td>\n",
       "      <td>1.027108</td>\n",
       "      <td>0.976955</td>\n",
       "      <td>8.768406e+08</td>\n",
       "      <td>1.224432e+08</td>\n",
       "      <td>1.073828e+08</td>\n",
       "      <td>4.557699e+08</td>\n",
       "      <td>1.318073e+08</td>\n",
       "      <td>1.639227e+09</td>\n",
       "      <td>8.655608e+07</td>\n",
       "      <td>1.173341e+09</td>\n",
       "      <td>-2.241866e+07</td>\n",
       "    </tr>\n",
       "    <tr>\n",
       "      <th>std</th>\n",
       "      <td>75.131696</td>\n",
       "      <td>5.888047e+09</td>\n",
       "      <td>6.710769e+09</td>\n",
       "      <td>119.631129</td>\n",
       "      <td>21.822190</td>\n",
       "      <td>3.395135</td>\n",
       "      <td>3.459216</td>\n",
       "      <td>1.169398e+10</td>\n",
       "      <td>1.157923e+09</td>\n",
       "      <td>1.053807e+09</td>\n",
       "      <td>6.718243e+09</td>\n",
       "      <td>1.327714e+09</td>\n",
       "      <td>1.628231e+10</td>\n",
       "      <td>5.768070e+08</td>\n",
       "      <td>1.125034e+10</td>\n",
       "      <td>6.251325e+08</td>\n",
       "    </tr>\n",
       "    <tr>\n",
       "      <th>min</th>\n",
       "      <td>1.000000</td>\n",
       "      <td>0.000000e+00</td>\n",
       "      <td>0.000000e+00</td>\n",
       "      <td>-21.000000</td>\n",
       "      <td>-1.930000</td>\n",
       "      <td>-0.030000</td>\n",
       "      <td>-0.370000</td>\n",
       "      <td>-3.430000e+09</td>\n",
       "      <td>-4.100000e+07</td>\n",
       "      <td>-2.010000e+08</td>\n",
       "      <td>-2.460000e+08</td>\n",
       "      <td>0.000000e+00</td>\n",
       "      <td>0.000000e+00</td>\n",
       "      <td>0.000000e+00</td>\n",
       "      <td>-4.000000e+06</td>\n",
       "      <td>-3.986300e+10</td>\n",
       "    </tr>\n",
       "    <tr>\n",
       "      <th>25%</th>\n",
       "      <td>63.000000</td>\n",
       "      <td>0.000000e+00</td>\n",
       "      <td>0.000000e+00</td>\n",
       "      <td>0.000000</td>\n",
       "      <td>0.060000</td>\n",
       "      <td>0.010000</td>\n",
       "      <td>0.010000</td>\n",
       "      <td>0.000000e+00</td>\n",
       "      <td>0.000000e+00</td>\n",
       "      <td>0.000000e+00</td>\n",
       "      <td>0.000000e+00</td>\n",
       "      <td>0.000000e+00</td>\n",
       "      <td>3.000000e+06</td>\n",
       "      <td>0.000000e+00</td>\n",
       "      <td>0.000000e+00</td>\n",
       "      <td>0.000000e+00</td>\n",
       "    </tr>\n",
       "    <tr>\n",
       "      <th>50%</th>\n",
       "      <td>121.000000</td>\n",
       "      <td>5.000000e+06</td>\n",
       "      <td>1.000000e+06</td>\n",
       "      <td>4.000000</td>\n",
       "      <td>0.770000</td>\n",
       "      <td>0.070000</td>\n",
       "      <td>0.080000</td>\n",
       "      <td>7.000000e+06</td>\n",
       "      <td>0.000000e+00</td>\n",
       "      <td>2.000000e+06</td>\n",
       "      <td>5.000000e+06</td>\n",
       "      <td>4.000000e+06</td>\n",
       "      <td>3.200000e+07</td>\n",
       "      <td>2.000000e+06</td>\n",
       "      <td>9.000000e+06</td>\n",
       "      <td>0.000000e+00</td>\n",
       "    </tr>\n",
       "    <tr>\n",
       "      <th>75%</th>\n",
       "      <td>189.000000</td>\n",
       "      <td>9.400000e+07</td>\n",
       "      <td>1.400000e+07</td>\n",
       "      <td>21.000000</td>\n",
       "      <td>5.270000</td>\n",
       "      <td>0.430000</td>\n",
       "      <td>0.440000</td>\n",
       "      <td>8.600000e+07</td>\n",
       "      <td>9.000000e+06</td>\n",
       "      <td>2.000000e+07</td>\n",
       "      <td>5.600000e+07</td>\n",
       "      <td>2.800000e+07</td>\n",
       "      <td>2.850000e+08</td>\n",
       "      <td>1.900000e+07</td>\n",
       "      <td>8.650000e+07</td>\n",
       "      <td>0.000000e+00</td>\n",
       "    </tr>\n",
       "    <tr>\n",
       "      <th>max</th>\n",
       "      <td>351.000000</td>\n",
       "      <td>1.538020e+11</td>\n",
       "      <td>3.473090e+11</td>\n",
       "      <td>1711.000000</td>\n",
       "      <td>308.070000</td>\n",
       "      <td>60.760000</td>\n",
       "      <td>49.470000</td>\n",
       "      <td>7.392670e+11</td>\n",
       "      <td>4.279700e+10</td>\n",
       "      <td>6.556400e+10</td>\n",
       "      <td>4.300460e+11</td>\n",
       "      <td>5.504700e+10</td>\n",
       "      <td>7.392670e+11</td>\n",
       "      <td>1.706000e+10</td>\n",
       "      <td>3.267110e+11</td>\n",
       "      <td>5.284000e+09</td>\n",
       "    </tr>\n",
       "  </tbody>\n",
       "</table>\n",
       "</div>"
      ],
      "text/plain": [
       "          Code zone  Aliments pour animaux (kg/an)  \\\n",
       "count  11971.000000                   2.185000e+03   \n",
       "mean     126.798847                   7.032165e+08   \n",
       "std       75.131696                   5.888047e+09   \n",
       "min        1.000000                   0.000000e+00   \n",
       "25%       63.000000                   0.000000e+00   \n",
       "50%      121.000000                   5.000000e+06   \n",
       "75%      189.000000                   9.400000e+07   \n",
       "max      351.000000                   1.538020e+11   \n",
       "\n",
       "       Autres utilisations (non alimentaire) (kg/an)  \\\n",
       "count                                   3.174000e+03   \n",
       "mean                                    2.820882e+08   \n",
       "std                                     6.710769e+09   \n",
       "min                                     0.000000e+00   \n",
       "25%                                     0.000000e+00   \n",
       "50%                                     1.000000e+06   \n",
       "75%                                     1.400000e+07   \n",
       "max                                     3.473090e+11   \n",
       "\n",
       "       Disponibilité alimentaire (Kcal/personne/jour)  \\\n",
       "count                                    10607.000000   \n",
       "mean                                        37.820873   \n",
       "std                                        119.631129   \n",
       "min                                        -21.000000   \n",
       "25%                                          0.000000   \n",
       "50%                                          4.000000   \n",
       "75%                                         21.000000   \n",
       "max                                       1711.000000   \n",
       "\n",
       "       Disponibilité alimentaire en quantité (kg/personne/an)  \\\n",
       "count                                       10381.000000        \n",
       "mean                                            8.519772        \n",
       "std                                            21.822190        \n",
       "min                                            -1.930000        \n",
       "25%                                             0.060000        \n",
       "50%                                             0.770000        \n",
       "75%                                             5.270000        \n",
       "max                                           308.070000        \n",
       "\n",
       "       Disponibilité de matière grasse en quantité (g/personne/jour)  \\\n",
       "count                                        8156.000000               \n",
       "mean                                            1.027108               \n",
       "std                                             3.395135               \n",
       "min                                            -0.030000               \n",
       "25%                                             0.010000               \n",
       "50%                                             0.070000               \n",
       "75%                                             0.430000               \n",
       "max                                            60.760000               \n",
       "\n",
       "       Disponibilité de protéines en quantité (g/personne/jour)  \\\n",
       "count                                        7944.000000          \n",
       "mean                                            0.976955          \n",
       "std                                             3.459216          \n",
       "min                                            -0.370000          \n",
       "25%                                             0.010000          \n",
       "50%                                             0.080000          \n",
       "75%                                             0.440000          \n",
       "max                                            49.470000          \n",
       "\n",
       "       Disponibilité intérieure (kg/an)  Exportations - Quantité (kg/an)  \\\n",
       "count                      1.174700e+04                     9.299000e+03   \n",
       "mean                       8.768406e+08                     1.224432e+08   \n",
       "std                        1.169398e+10                     1.157923e+09   \n",
       "min                       -3.430000e+09                    -4.100000e+07   \n",
       "25%                        0.000000e+00                     0.000000e+00   \n",
       "50%                        7.000000e+06                     0.000000e+00   \n",
       "75%                        8.600000e+07                     9.000000e+06   \n",
       "max                        7.392670e+11                     4.279700e+10   \n",
       "\n",
       "       Importations - Quantité (kg/an)  Nourriture (kg/an)  Pertes (kg/an)  \\\n",
       "count                     1.130800e+04        1.038100e+04    3.924000e+03   \n",
       "mean                      1.073828e+08        4.557699e+08    1.318073e+08   \n",
       "std                       1.053807e+09        6.718243e+09    1.327714e+09   \n",
       "min                      -2.010000e+08       -2.460000e+08    0.000000e+00   \n",
       "25%                       0.000000e+00        0.000000e+00    0.000000e+00   \n",
       "50%                       2.000000e+06        5.000000e+06    4.000000e+06   \n",
       "75%                       2.000000e+07        5.600000e+07    2.800000e+07   \n",
       "max                       6.556400e+10        4.300460e+11    5.504700e+10   \n",
       "\n",
       "       Production (kg/an)  Semences (kg/an)  Traitement (kg/an)  \\\n",
       "count        6.312000e+03      1.908000e+03        2.099000e+03   \n",
       "mean         1.639227e+09      8.655608e+07        1.173341e+09   \n",
       "std          1.628231e+10      5.768070e+08        1.125034e+10   \n",
       "min          0.000000e+00      0.000000e+00       -4.000000e+06   \n",
       "25%          3.000000e+06      0.000000e+00        0.000000e+00   \n",
       "50%          3.200000e+07      2.000000e+06        9.000000e+06   \n",
       "75%          2.850000e+08      1.900000e+07        8.650000e+07   \n",
       "max          7.392670e+11      1.706000e+10        3.267110e+11   \n",
       "\n",
       "       Variation de stock (kg/an)  \n",
       "count                5.446000e+03  \n",
       "mean                -2.241866e+07  \n",
       "std                  6.251325e+08  \n",
       "min                 -3.986300e+10  \n",
       "25%                  0.000000e+00  \n",
       "50%                  0.000000e+00  \n",
       "75%                  0.000000e+00  \n",
       "max                  5.284000e+09  "
      ]
     },
     "execution_count": 10,
     "metadata": {},
     "output_type": "execute_result"
    }
   ],
   "source": [
    "df_vegetaux.describe()"
   ]
  },
  {
   "cell_type": "code",
   "execution_count": 11,
   "metadata": {
    "scrolled": true
   },
   "outputs": [
    {
     "data": {
      "text/html": [
       "<div>\n",
       "<style scoped>\n",
       "    .dataframe tbody tr th:only-of-type {\n",
       "        vertical-align: middle;\n",
       "    }\n",
       "\n",
       "    .dataframe tbody tr th {\n",
       "        vertical-align: top;\n",
       "    }\n",
       "\n",
       "    .dataframe thead th {\n",
       "        text-align: right;\n",
       "    }\n",
       "</style>\n",
       "<table border=\"1\" class=\"dataframe\">\n",
       "  <thead>\n",
       "    <tr style=\"text-align: right;\">\n",
       "      <th></th>\n",
       "      <th>Code Domaine</th>\n",
       "      <th>Domaine</th>\n",
       "      <th>Code zone</th>\n",
       "      <th>Zone</th>\n",
       "      <th>Code Élément</th>\n",
       "      <th>Élément</th>\n",
       "      <th>Code Produit</th>\n",
       "      <th>Produit</th>\n",
       "      <th>Code année</th>\n",
       "      <th>Année</th>\n",
       "      <th>Unité</th>\n",
       "      <th>Valeur</th>\n",
       "      <th>Symbole</th>\n",
       "      <th>Description du Symbole</th>\n",
       "    </tr>\n",
       "  </thead>\n",
       "  <tbody>\n",
       "    <tr>\n",
       "      <th>0</th>\n",
       "      <td>FBSH</td>\n",
       "      <td>Bilans Alimentaire (Ancienne méthodologie et p...</td>\n",
       "      <td>2</td>\n",
       "      <td>Afghanistan</td>\n",
       "      <td>5511</td>\n",
       "      <td>Production</td>\n",
       "      <td>2511</td>\n",
       "      <td>Blé</td>\n",
       "      <td>2013</td>\n",
       "      <td>2013</td>\n",
       "      <td>Milliers de tonnes</td>\n",
       "      <td>5169</td>\n",
       "      <td>S</td>\n",
       "      <td>Données standardisées</td>\n",
       "    </tr>\n",
       "    <tr>\n",
       "      <th>1</th>\n",
       "      <td>FBSH</td>\n",
       "      <td>Bilans Alimentaire (Ancienne méthodologie et p...</td>\n",
       "      <td>2</td>\n",
       "      <td>Afghanistan</td>\n",
       "      <td>5511</td>\n",
       "      <td>Production</td>\n",
       "      <td>2805</td>\n",
       "      <td>Riz (Eq Blanchi)</td>\n",
       "      <td>2013</td>\n",
       "      <td>2013</td>\n",
       "      <td>Milliers de tonnes</td>\n",
       "      <td>342</td>\n",
       "      <td>S</td>\n",
       "      <td>Données standardisées</td>\n",
       "    </tr>\n",
       "    <tr>\n",
       "      <th>2</th>\n",
       "      <td>FBSH</td>\n",
       "      <td>Bilans Alimentaire (Ancienne méthodologie et p...</td>\n",
       "      <td>2</td>\n",
       "      <td>Afghanistan</td>\n",
       "      <td>5511</td>\n",
       "      <td>Production</td>\n",
       "      <td>2513</td>\n",
       "      <td>Orge</td>\n",
       "      <td>2013</td>\n",
       "      <td>2013</td>\n",
       "      <td>Milliers de tonnes</td>\n",
       "      <td>514</td>\n",
       "      <td>S</td>\n",
       "      <td>Données standardisées</td>\n",
       "    </tr>\n",
       "    <tr>\n",
       "      <th>3</th>\n",
       "      <td>FBSH</td>\n",
       "      <td>Bilans Alimentaire (Ancienne méthodologie et p...</td>\n",
       "      <td>2</td>\n",
       "      <td>Afghanistan</td>\n",
       "      <td>5511</td>\n",
       "      <td>Production</td>\n",
       "      <td>2514</td>\n",
       "      <td>Maïs</td>\n",
       "      <td>2013</td>\n",
       "      <td>2013</td>\n",
       "      <td>Milliers de tonnes</td>\n",
       "      <td>312</td>\n",
       "      <td>S</td>\n",
       "      <td>Données standardisées</td>\n",
       "    </tr>\n",
       "    <tr>\n",
       "      <th>4</th>\n",
       "      <td>FBSH</td>\n",
       "      <td>Bilans Alimentaire (Ancienne méthodologie et p...</td>\n",
       "      <td>2</td>\n",
       "      <td>Afghanistan</td>\n",
       "      <td>5511</td>\n",
       "      <td>Production</td>\n",
       "      <td>2517</td>\n",
       "      <td>Millet</td>\n",
       "      <td>2013</td>\n",
       "      <td>2013</td>\n",
       "      <td>Milliers de tonnes</td>\n",
       "      <td>13</td>\n",
       "      <td>S</td>\n",
       "      <td>Données standardisées</td>\n",
       "    </tr>\n",
       "  </tbody>\n",
       "</table>\n",
       "</div>"
      ],
      "text/plain": [
       "  Code Domaine                                            Domaine  Code zone  \\\n",
       "0         FBSH  Bilans Alimentaire (Ancienne méthodologie et p...          2   \n",
       "1         FBSH  Bilans Alimentaire (Ancienne méthodologie et p...          2   \n",
       "2         FBSH  Bilans Alimentaire (Ancienne méthodologie et p...          2   \n",
       "3         FBSH  Bilans Alimentaire (Ancienne méthodologie et p...          2   \n",
       "4         FBSH  Bilans Alimentaire (Ancienne méthodologie et p...          2   \n",
       "\n",
       "          Zone  Code Élément     Élément  Code Produit           Produit  \\\n",
       "0  Afghanistan          5511  Production          2511               Blé   \n",
       "1  Afghanistan          5511  Production          2805  Riz (Eq Blanchi)   \n",
       "2  Afghanistan          5511  Production          2513              Orge   \n",
       "3  Afghanistan          5511  Production          2514              Maïs   \n",
       "4  Afghanistan          5511  Production          2517            Millet   \n",
       "\n",
       "   Code année  Année               Unité  Valeur Symbole  \\\n",
       "0        2013   2013  Milliers de tonnes    5169       S   \n",
       "1        2013   2013  Milliers de tonnes     342       S   \n",
       "2        2013   2013  Milliers de tonnes     514       S   \n",
       "3        2013   2013  Milliers de tonnes     312       S   \n",
       "4        2013   2013  Milliers de tonnes      13       S   \n",
       "\n",
       "  Description du Symbole  \n",
       "0  Données standardisées  \n",
       "1  Données standardisées  \n",
       "2  Données standardisées  \n",
       "3  Données standardisées  \n",
       "4  Données standardisées  "
      ]
     },
     "execution_count": 11,
     "metadata": {},
     "output_type": "execute_result"
    }
   ],
   "source": [
    "df_cereales.head()"
   ]
  },
  {
   "cell_type": "code",
   "execution_count": 12,
   "metadata": {},
   "outputs": [
    {
     "data": {
      "text/html": [
       "<div>\n",
       "<style scoped>\n",
       "    .dataframe tbody tr th:only-of-type {\n",
       "        vertical-align: middle;\n",
       "    }\n",
       "\n",
       "    .dataframe tbody tr th {\n",
       "        vertical-align: top;\n",
       "    }\n",
       "\n",
       "    .dataframe thead th {\n",
       "        text-align: right;\n",
       "    }\n",
       "</style>\n",
       "<table border=\"1\" class=\"dataframe\">\n",
       "  <thead>\n",
       "    <tr style=\"text-align: right;\">\n",
       "      <th></th>\n",
       "      <th>Code zone</th>\n",
       "      <th>Code Élément</th>\n",
       "      <th>Code Produit</th>\n",
       "      <th>Code année</th>\n",
       "      <th>Année</th>\n",
       "      <th>Valeur</th>\n",
       "    </tr>\n",
       "  </thead>\n",
       "  <tbody>\n",
       "    <tr>\n",
       "      <th>count</th>\n",
       "      <td>891.000000</td>\n",
       "      <td>891.0</td>\n",
       "      <td>891.000000</td>\n",
       "      <td>891.0</td>\n",
       "      <td>891.0</td>\n",
       "      <td>891.000000</td>\n",
       "    </tr>\n",
       "    <tr>\n",
       "      <th>mean</th>\n",
       "      <td>130.005612</td>\n",
       "      <td>5511.0</td>\n",
       "      <td>2551.648709</td>\n",
       "      <td>2013.0</td>\n",
       "      <td>2013.0</td>\n",
       "      <td>2832.037037</td>\n",
       "    </tr>\n",
       "    <tr>\n",
       "      <th>std</th>\n",
       "      <td>74.807040</td>\n",
       "      <td>0.0</td>\n",
       "      <td>96.152834</td>\n",
       "      <td>0.0</td>\n",
       "      <td>0.0</td>\n",
       "      <td>16786.590126</td>\n",
       "    </tr>\n",
       "    <tr>\n",
       "      <th>min</th>\n",
       "      <td>1.000000</td>\n",
       "      <td>5511.0</td>\n",
       "      <td>2511.000000</td>\n",
       "      <td>2013.0</td>\n",
       "      <td>2013.0</td>\n",
       "      <td>0.000000</td>\n",
       "    </tr>\n",
       "    <tr>\n",
       "      <th>25%</th>\n",
       "      <td>67.000000</td>\n",
       "      <td>5511.0</td>\n",
       "      <td>2514.000000</td>\n",
       "      <td>2013.0</td>\n",
       "      <td>2013.0</td>\n",
       "      <td>7.000000</td>\n",
       "    </tr>\n",
       "    <tr>\n",
       "      <th>50%</th>\n",
       "      <td>129.000000</td>\n",
       "      <td>5511.0</td>\n",
       "      <td>2516.000000</td>\n",
       "      <td>2013.0</td>\n",
       "      <td>2013.0</td>\n",
       "      <td>95.000000</td>\n",
       "    </tr>\n",
       "    <tr>\n",
       "      <th>75%</th>\n",
       "      <td>197.500000</td>\n",
       "      <td>5511.0</td>\n",
       "      <td>2518.000000</td>\n",
       "      <td>2013.0</td>\n",
       "      <td>2013.0</td>\n",
       "      <td>824.000000</td>\n",
       "    </tr>\n",
       "    <tr>\n",
       "      <th>max</th>\n",
       "      <td>276.000000</td>\n",
       "      <td>5511.0</td>\n",
       "      <td>2805.000000</td>\n",
       "      <td>2013.0</td>\n",
       "      <td>2013.0</td>\n",
       "      <td>353699.000000</td>\n",
       "    </tr>\n",
       "  </tbody>\n",
       "</table>\n",
       "</div>"
      ],
      "text/plain": [
       "        Code zone  Code Élément  Code Produit  Code année   Année  \\\n",
       "count  891.000000         891.0    891.000000       891.0   891.0   \n",
       "mean   130.005612        5511.0   2551.648709      2013.0  2013.0   \n",
       "std     74.807040           0.0     96.152834         0.0     0.0   \n",
       "min      1.000000        5511.0   2511.000000      2013.0  2013.0   \n",
       "25%     67.000000        5511.0   2514.000000      2013.0  2013.0   \n",
       "50%    129.000000        5511.0   2516.000000      2013.0  2013.0   \n",
       "75%    197.500000        5511.0   2518.000000      2013.0  2013.0   \n",
       "max    276.000000        5511.0   2805.000000      2013.0  2013.0   \n",
       "\n",
       "              Valeur  \n",
       "count     891.000000  \n",
       "mean     2832.037037  \n",
       "std     16786.590126  \n",
       "min         0.000000  \n",
       "25%         7.000000  \n",
       "50%        95.000000  \n",
       "75%       824.000000  \n",
       "max    353699.000000  "
      ]
     },
     "execution_count": 12,
     "metadata": {},
     "output_type": "execute_result"
    }
   ],
   "source": [
    "df_cereales.describe()"
   ]
  },
  {
   "cell_type": "code",
   "execution_count": 13,
   "metadata": {},
   "outputs": [
    {
     "data": {
      "text/html": [
       "<div>\n",
       "<style scoped>\n",
       "    .dataframe tbody tr th:only-of-type {\n",
       "        vertical-align: middle;\n",
       "    }\n",
       "\n",
       "    .dataframe tbody tr th {\n",
       "        vertical-align: top;\n",
       "    }\n",
       "\n",
       "    .dataframe thead th {\n",
       "        text-align: right;\n",
       "    }\n",
       "</style>\n",
       "<table border=\"1\" class=\"dataframe\">\n",
       "  <thead>\n",
       "    <tr style=\"text-align: right;\">\n",
       "      <th></th>\n",
       "      <th>Code Domaine</th>\n",
       "      <th>Domaine</th>\n",
       "      <th>Code zone</th>\n",
       "      <th>Zone</th>\n",
       "      <th>Code Élément</th>\n",
       "      <th>Élément</th>\n",
       "      <th>Code Produit</th>\n",
       "      <th>Produit</th>\n",
       "      <th>Code année</th>\n",
       "      <th>Année</th>\n",
       "      <th>Unité</th>\n",
       "      <th>Valeur</th>\n",
       "      <th>Symbole</th>\n",
       "      <th>Description du Symbole</th>\n",
       "      <th>Note</th>\n",
       "    </tr>\n",
       "  </thead>\n",
       "  <tbody>\n",
       "    <tr>\n",
       "      <th>0</th>\n",
       "      <td>FS</td>\n",
       "      <td>Données de la sécurité alimentaire</td>\n",
       "      <td>2</td>\n",
       "      <td>Afghanistan</td>\n",
       "      <td>6132</td>\n",
       "      <td>Valeur</td>\n",
       "      <td>210011</td>\n",
       "      <td>Nombre de personnes sous-alimentées (millions)...</td>\n",
       "      <td>20122014</td>\n",
       "      <td>2012-2014</td>\n",
       "      <td>millions</td>\n",
       "      <td>7.9</td>\n",
       "      <td>F</td>\n",
       "      <td>Estimation FAO</td>\n",
       "      <td>NaN</td>\n",
       "    </tr>\n",
       "    <tr>\n",
       "      <th>1</th>\n",
       "      <td>FS</td>\n",
       "      <td>Données de la sécurité alimentaire</td>\n",
       "      <td>2</td>\n",
       "      <td>Afghanistan</td>\n",
       "      <td>6132</td>\n",
       "      <td>Valeur</td>\n",
       "      <td>210011</td>\n",
       "      <td>Nombre de personnes sous-alimentées (millions)...</td>\n",
       "      <td>20132015</td>\n",
       "      <td>2013-2015</td>\n",
       "      <td>millions</td>\n",
       "      <td>8.8</td>\n",
       "      <td>F</td>\n",
       "      <td>Estimation FAO</td>\n",
       "      <td>NaN</td>\n",
       "    </tr>\n",
       "    <tr>\n",
       "      <th>2</th>\n",
       "      <td>FS</td>\n",
       "      <td>Données de la sécurité alimentaire</td>\n",
       "      <td>2</td>\n",
       "      <td>Afghanistan</td>\n",
       "      <td>6132</td>\n",
       "      <td>Valeur</td>\n",
       "      <td>210011</td>\n",
       "      <td>Nombre de personnes sous-alimentées (millions)...</td>\n",
       "      <td>20142016</td>\n",
       "      <td>2014-2016</td>\n",
       "      <td>millions</td>\n",
       "      <td>9.6</td>\n",
       "      <td>F</td>\n",
       "      <td>Estimation FAO</td>\n",
       "      <td>NaN</td>\n",
       "    </tr>\n",
       "    <tr>\n",
       "      <th>3</th>\n",
       "      <td>FS</td>\n",
       "      <td>Données de la sécurité alimentaire</td>\n",
       "      <td>2</td>\n",
       "      <td>Afghanistan</td>\n",
       "      <td>6132</td>\n",
       "      <td>Valeur</td>\n",
       "      <td>210011</td>\n",
       "      <td>Nombre de personnes sous-alimentées (millions)...</td>\n",
       "      <td>20152017</td>\n",
       "      <td>2015-2017</td>\n",
       "      <td>millions</td>\n",
       "      <td>10.2</td>\n",
       "      <td>F</td>\n",
       "      <td>Estimation FAO</td>\n",
       "      <td>NaN</td>\n",
       "    </tr>\n",
       "    <tr>\n",
       "      <th>4</th>\n",
       "      <td>FS</td>\n",
       "      <td>Données de la sécurité alimentaire</td>\n",
       "      <td>2</td>\n",
       "      <td>Afghanistan</td>\n",
       "      <td>6132</td>\n",
       "      <td>Valeur</td>\n",
       "      <td>210011</td>\n",
       "      <td>Nombre de personnes sous-alimentées (millions)...</td>\n",
       "      <td>20162018</td>\n",
       "      <td>2016-2018</td>\n",
       "      <td>millions</td>\n",
       "      <td>10.6</td>\n",
       "      <td>F</td>\n",
       "      <td>Estimation FAO</td>\n",
       "      <td>NaN</td>\n",
       "    </tr>\n",
       "  </tbody>\n",
       "</table>\n",
       "</div>"
      ],
      "text/plain": [
       "  Code Domaine                             Domaine  Code zone         Zone  \\\n",
       "0           FS  Données de la sécurité alimentaire          2  Afghanistan   \n",
       "1           FS  Données de la sécurité alimentaire          2  Afghanistan   \n",
       "2           FS  Données de la sécurité alimentaire          2  Afghanistan   \n",
       "3           FS  Données de la sécurité alimentaire          2  Afghanistan   \n",
       "4           FS  Données de la sécurité alimentaire          2  Afghanistan   \n",
       "\n",
       "   Code Élément Élément  Code Produit  \\\n",
       "0          6132  Valeur        210011   \n",
       "1          6132  Valeur        210011   \n",
       "2          6132  Valeur        210011   \n",
       "3          6132  Valeur        210011   \n",
       "4          6132  Valeur        210011   \n",
       "\n",
       "                                             Produit  Code année      Année  \\\n",
       "0  Nombre de personnes sous-alimentées (millions)...    20122014  2012-2014   \n",
       "1  Nombre de personnes sous-alimentées (millions)...    20132015  2013-2015   \n",
       "2  Nombre de personnes sous-alimentées (millions)...    20142016  2014-2016   \n",
       "3  Nombre de personnes sous-alimentées (millions)...    20152017  2015-2017   \n",
       "4  Nombre de personnes sous-alimentées (millions)...    20162018  2016-2018   \n",
       "\n",
       "      Unité Valeur Symbole Description du Symbole  Note  \n",
       "0  millions    7.9       F         Estimation FAO   NaN  \n",
       "1  millions    8.8       F         Estimation FAO   NaN  \n",
       "2  millions    9.6       F         Estimation FAO   NaN  \n",
       "3  millions   10.2       F         Estimation FAO   NaN  \n",
       "4  millions   10.6       F         Estimation FAO   NaN  "
      ]
     },
     "execution_count": 13,
     "metadata": {},
     "output_type": "execute_result"
    }
   ],
   "source": [
    "df_sous_alimentation.head()"
   ]
  },
  {
   "cell_type": "code",
   "execution_count": 14,
   "metadata": {},
   "outputs": [
    {
     "data": {
      "text/html": [
       "<div>\n",
       "<style scoped>\n",
       "    .dataframe tbody tr th:only-of-type {\n",
       "        vertical-align: middle;\n",
       "    }\n",
       "\n",
       "    .dataframe tbody tr th {\n",
       "        vertical-align: top;\n",
       "    }\n",
       "\n",
       "    .dataframe thead th {\n",
       "        text-align: right;\n",
       "    }\n",
       "</style>\n",
       "<table border=\"1\" class=\"dataframe\">\n",
       "  <thead>\n",
       "    <tr style=\"text-align: right;\">\n",
       "      <th></th>\n",
       "      <th>Code zone</th>\n",
       "      <th>Code Élément</th>\n",
       "      <th>Code Produit</th>\n",
       "      <th>Code année</th>\n",
       "      <th>Note</th>\n",
       "    </tr>\n",
       "  </thead>\n",
       "  <tbody>\n",
       "    <tr>\n",
       "      <th>count</th>\n",
       "      <td>1020.000000</td>\n",
       "      <td>1020.0</td>\n",
       "      <td>1020.0</td>\n",
       "      <td>1.020000e+03</td>\n",
       "      <td>0.0</td>\n",
       "    </tr>\n",
       "    <tr>\n",
       "      <th>mean</th>\n",
       "      <td>129.264706</td>\n",
       "      <td>6132.0</td>\n",
       "      <td>210011.0</td>\n",
       "      <td>2.014202e+07</td>\n",
       "      <td>NaN</td>\n",
       "    </tr>\n",
       "    <tr>\n",
       "      <th>std</th>\n",
       "      <td>76.615019</td>\n",
       "      <td>0.0</td>\n",
       "      <td>0.0</td>\n",
       "      <td>1.415049e+04</td>\n",
       "      <td>NaN</td>\n",
       "    </tr>\n",
       "    <tr>\n",
       "      <th>min</th>\n",
       "      <td>1.000000</td>\n",
       "      <td>6132.0</td>\n",
       "      <td>210011.0</td>\n",
       "      <td>2.012201e+07</td>\n",
       "      <td>NaN</td>\n",
       "    </tr>\n",
       "    <tr>\n",
       "      <th>25%</th>\n",
       "      <td>62.500000</td>\n",
       "      <td>6132.0</td>\n",
       "      <td>210011.0</td>\n",
       "      <td>2.013202e+07</td>\n",
       "      <td>NaN</td>\n",
       "    </tr>\n",
       "    <tr>\n",
       "      <th>50%</th>\n",
       "      <td>127.500000</td>\n",
       "      <td>6132.0</td>\n",
       "      <td>210011.0</td>\n",
       "      <td>2.014202e+07</td>\n",
       "      <td>NaN</td>\n",
       "    </tr>\n",
       "    <tr>\n",
       "      <th>75%</th>\n",
       "      <td>193.250000</td>\n",
       "      <td>6132.0</td>\n",
       "      <td>210011.0</td>\n",
       "      <td>2.015202e+07</td>\n",
       "      <td>NaN</td>\n",
       "    </tr>\n",
       "    <tr>\n",
       "      <th>max</th>\n",
       "      <td>351.000000</td>\n",
       "      <td>6132.0</td>\n",
       "      <td>210011.0</td>\n",
       "      <td>2.016202e+07</td>\n",
       "      <td>NaN</td>\n",
       "    </tr>\n",
       "  </tbody>\n",
       "</table>\n",
       "</div>"
      ],
      "text/plain": [
       "         Code zone  Code Élément  Code Produit    Code année  Note\n",
       "count  1020.000000        1020.0        1020.0  1.020000e+03   0.0\n",
       "mean    129.264706        6132.0      210011.0  2.014202e+07   NaN\n",
       "std      76.615019           0.0           0.0  1.415049e+04   NaN\n",
       "min       1.000000        6132.0      210011.0  2.012201e+07   NaN\n",
       "25%      62.500000        6132.0      210011.0  2.013202e+07   NaN\n",
       "50%     127.500000        6132.0      210011.0  2.014202e+07   NaN\n",
       "75%     193.250000        6132.0      210011.0  2.015202e+07   NaN\n",
       "max     351.000000        6132.0      210011.0  2.016202e+07   NaN"
      ]
     },
     "execution_count": 14,
     "metadata": {},
     "output_type": "execute_result"
    }
   ],
   "source": [
    "df_sous_alimentation.describe()"
   ]
  },
  {
   "cell_type": "markdown",
   "metadata": {},
   "source": [
    "# Réponse 1  : Nombre total d’humains sur la planète"
   ]
  },
  {
   "cell_type": "code",
   "execution_count": 15,
   "metadata": {},
   "outputs": [
    {
     "data": {
      "text/plain": [
       "8413993000"
      ]
     },
     "execution_count": 15,
     "metadata": {},
     "output_type": "execute_result"
    }
   ],
   "source": [
    "df_population2013 = df_population[df_population['Code année']==2013].copy()\n",
    "df_population2013['Valeur'].sum() * 1000\n",
    "#L'unité utilisé dans notre db est 1000 personnes"
   ]
  },
  {
   "cell_type": "markdown",
   "metadata": {},
   "source": [
    "## Critique du résultat obtenu"
   ]
  },
  {
   "cell_type": "markdown",
   "metadata": {},
   "source": [
    "<ul>\n",
    "    <li> Pour le nombre total d'humains en 2013, nous avons obtenue : <b>8 413 993 000</b> personnes </li>\n",
    "    <li>Or, selon <a href = https://www.worldbank.org/>la banque mondiale</a> la population mondiale en 2013 est environ 7 Md d'humaines </li>\n",
    "    <li>Afin de clarifier notre résultat nous allons :      \n",
    "        <ol>            \n",
    "            <li>Vérifier si le nombre de population pour un pays donnée est calculé plusieurs fois</li>\n",
    "            <li>Les valeurs manquantes pour année ou code année</li>\n",
    "            <li>Observer les données <a href = https://www.fao.org/faostat/fr/#definitions>non officielles</a>  </li>                </ol>\n",
    "    </li> \n",
    "</ul>"
   ]
  },
  {
   "cell_type": "code",
   "execution_count": 16,
   "metadata": {},
   "outputs": [
    {
     "data": {
      "text/plain": [
       "Afghanistan    1\n",
       "Oman           1\n",
       "Namibie        1\n",
       "Népal          1\n",
       "Nicaragua      1\n",
       "              ..\n",
       "France         1\n",
       "Gabon          1\n",
       "Gambie         1\n",
       "Géorgie        1\n",
       "Zimbabwe       1\n",
       "Name: Zone, Length: 175, dtype: int64"
      ]
     },
     "execution_count": 16,
     "metadata": {},
     "output_type": "execute_result"
    }
   ],
   "source": [
    "df_population2013['Zone'].value_counts()"
   ]
  },
  {
   "cell_type": "code",
   "execution_count": 17,
   "metadata": {},
   "outputs": [
    {
     "data": {
      "text/plain": [
       "(0, 0)"
      ]
     },
     "execution_count": 17,
     "metadata": {},
     "output_type": "execute_result"
    }
   ],
   "source": [
    "df_population2013['Code année'].isna().sum(),df_population2013['Année'].isna().sum()"
   ]
  },
  {
   "cell_type": "code",
   "execution_count": 18,
   "metadata": {},
   "outputs": [
    {
     "data": {
      "text/html": [
       "<div>\n",
       "<style scoped>\n",
       "    .dataframe tbody tr th:only-of-type {\n",
       "        vertical-align: middle;\n",
       "    }\n",
       "\n",
       "    .dataframe tbody tr th {\n",
       "        vertical-align: top;\n",
       "    }\n",
       "\n",
       "    .dataframe thead th {\n",
       "        text-align: right;\n",
       "    }\n",
       "</style>\n",
       "<table border=\"1\" class=\"dataframe\">\n",
       "  <thead>\n",
       "    <tr style=\"text-align: right;\">\n",
       "      <th></th>\n",
       "      <th>Code Domaine</th>\n",
       "      <th>Domaine</th>\n",
       "      <th>Code zone</th>\n",
       "      <th>Zone</th>\n",
       "      <th>Code Élément</th>\n",
       "      <th>Élément</th>\n",
       "      <th>Code Produit</th>\n",
       "      <th>Produit</th>\n",
       "      <th>Code année</th>\n",
       "      <th>Année</th>\n",
       "      <th>Unité</th>\n",
       "      <th>Valeur</th>\n",
       "      <th>Symbole</th>\n",
       "      <th>Description du Symbole</th>\n",
       "    </tr>\n",
       "  </thead>\n",
       "  <tbody>\n",
       "    <tr>\n",
       "      <th>33</th>\n",
       "      <td>FBSH</td>\n",
       "      <td>Bilans Alimentaire (Ancienne méthodologie et p...</td>\n",
       "      <td>351</td>\n",
       "      <td>Chine</td>\n",
       "      <td>511</td>\n",
       "      <td>Population totale</td>\n",
       "      <td>2501</td>\n",
       "      <td>Population</td>\n",
       "      <td>2013</td>\n",
       "      <td>2013</td>\n",
       "      <td>1000 personnes</td>\n",
       "      <td>1416667</td>\n",
       "      <td>A</td>\n",
       "      <td>Agrégat, peut inclure des données officielles,...</td>\n",
       "    </tr>\n",
       "  </tbody>\n",
       "</table>\n",
       "</div>"
      ],
      "text/plain": [
       "   Code Domaine                                            Domaine  Code zone  \\\n",
       "33         FBSH  Bilans Alimentaire (Ancienne méthodologie et p...        351   \n",
       "\n",
       "     Zone  Code Élément            Élément  Code Produit     Produit  \\\n",
       "33  Chine           511  Population totale          2501  Population   \n",
       "\n",
       "    Code année  Année           Unité   Valeur Symbole  \\\n",
       "33        2013   2013  1000 personnes  1416667       A   \n",
       "\n",
       "                               Description du Symbole  \n",
       "33  Agrégat, peut inclure des données officielles,...  "
      ]
     },
     "execution_count": 18,
     "metadata": {},
     "output_type": "execute_result"
    }
   ],
   "source": [
    "df_population2013[~df_population2013['Symbole'].isna()]"
   ]
  },
  {
   "cell_type": "code",
   "execution_count": 19,
   "metadata": {},
   "outputs": [
    {
     "data": {
      "text/html": [
       "<div>\n",
       "<style scoped>\n",
       "    .dataframe tbody tr th:only-of-type {\n",
       "        vertical-align: middle;\n",
       "    }\n",
       "\n",
       "    .dataframe tbody tr th {\n",
       "        vertical-align: top;\n",
       "    }\n",
       "\n",
       "    .dataframe thead th {\n",
       "        text-align: right;\n",
       "    }\n",
       "</style>\n",
       "<table border=\"1\" class=\"dataframe\">\n",
       "  <thead>\n",
       "    <tr style=\"text-align: right;\">\n",
       "      <th></th>\n",
       "      <th>Code Domaine</th>\n",
       "      <th>Domaine</th>\n",
       "      <th>Code zone</th>\n",
       "      <th>Zone</th>\n",
       "      <th>Code Élément</th>\n",
       "      <th>Élément</th>\n",
       "      <th>Code Produit</th>\n",
       "      <th>Produit</th>\n",
       "      <th>Code année</th>\n",
       "      <th>Année</th>\n",
       "      <th>Unité</th>\n",
       "      <th>Valeur</th>\n",
       "      <th>Symbole</th>\n",
       "      <th>Description du Symbole</th>\n",
       "    </tr>\n",
       "  </thead>\n",
       "  <tbody>\n",
       "    <tr>\n",
       "      <th>33</th>\n",
       "      <td>FBSH</td>\n",
       "      <td>Bilans Alimentaire (Ancienne méthodologie et p...</td>\n",
       "      <td>351</td>\n",
       "      <td>Chine</td>\n",
       "      <td>511</td>\n",
       "      <td>Population totale</td>\n",
       "      <td>2501</td>\n",
       "      <td>Population</td>\n",
       "      <td>2013</td>\n",
       "      <td>2013</td>\n",
       "      <td>1000 personnes</td>\n",
       "      <td>1416667</td>\n",
       "      <td>A</td>\n",
       "      <td>Agrégat, peut inclure des données officielles,...</td>\n",
       "    </tr>\n",
       "    <tr>\n",
       "      <th>34</th>\n",
       "      <td>FBSH</td>\n",
       "      <td>Bilans Alimentaire (Ancienne méthodologie et p...</td>\n",
       "      <td>96</td>\n",
       "      <td>Chine - RAS de Hong-Kong</td>\n",
       "      <td>511</td>\n",
       "      <td>Population totale</td>\n",
       "      <td>2501</td>\n",
       "      <td>Population</td>\n",
       "      <td>2013</td>\n",
       "      <td>2013</td>\n",
       "      <td>1000 personnes</td>\n",
       "      <td>7204</td>\n",
       "      <td>NaN</td>\n",
       "      <td>Donnée officielle</td>\n",
       "    </tr>\n",
       "    <tr>\n",
       "      <th>35</th>\n",
       "      <td>FBSH</td>\n",
       "      <td>Bilans Alimentaire (Ancienne méthodologie et p...</td>\n",
       "      <td>128</td>\n",
       "      <td>Chine - RAS de Macao</td>\n",
       "      <td>511</td>\n",
       "      <td>Population totale</td>\n",
       "      <td>2501</td>\n",
       "      <td>Population</td>\n",
       "      <td>2013</td>\n",
       "      <td>2013</td>\n",
       "      <td>1000 personnes</td>\n",
       "      <td>566</td>\n",
       "      <td>NaN</td>\n",
       "      <td>Donnée officielle</td>\n",
       "    </tr>\n",
       "    <tr>\n",
       "      <th>36</th>\n",
       "      <td>FBSH</td>\n",
       "      <td>Bilans Alimentaire (Ancienne méthodologie et p...</td>\n",
       "      <td>41</td>\n",
       "      <td>Chine, continentale</td>\n",
       "      <td>511</td>\n",
       "      <td>Population totale</td>\n",
       "      <td>2501</td>\n",
       "      <td>Population</td>\n",
       "      <td>2013</td>\n",
       "      <td>2013</td>\n",
       "      <td>1000 personnes</td>\n",
       "      <td>1385567</td>\n",
       "      <td>NaN</td>\n",
       "      <td>Donnée officielle</td>\n",
       "    </tr>\n",
       "    <tr>\n",
       "      <th>37</th>\n",
       "      <td>FBSH</td>\n",
       "      <td>Bilans Alimentaire (Ancienne méthodologie et p...</td>\n",
       "      <td>214</td>\n",
       "      <td>Chine, Taiwan Province de</td>\n",
       "      <td>511</td>\n",
       "      <td>Population totale</td>\n",
       "      <td>2501</td>\n",
       "      <td>Population</td>\n",
       "      <td>2013</td>\n",
       "      <td>2013</td>\n",
       "      <td>1000 personnes</td>\n",
       "      <td>23330</td>\n",
       "      <td>NaN</td>\n",
       "      <td>Donnée officielle</td>\n",
       "    </tr>\n",
       "  </tbody>\n",
       "</table>\n",
       "</div>"
      ],
      "text/plain": [
       "   Code Domaine                                            Domaine  Code zone  \\\n",
       "33         FBSH  Bilans Alimentaire (Ancienne méthodologie et p...        351   \n",
       "34         FBSH  Bilans Alimentaire (Ancienne méthodologie et p...         96   \n",
       "35         FBSH  Bilans Alimentaire (Ancienne méthodologie et p...        128   \n",
       "36         FBSH  Bilans Alimentaire (Ancienne méthodologie et p...         41   \n",
       "37         FBSH  Bilans Alimentaire (Ancienne méthodologie et p...        214   \n",
       "\n",
       "                         Zone  Code Élément            Élément  Code Produit  \\\n",
       "33                      Chine           511  Population totale          2501   \n",
       "34   Chine - RAS de Hong-Kong           511  Population totale          2501   \n",
       "35       Chine - RAS de Macao           511  Population totale          2501   \n",
       "36        Chine, continentale           511  Population totale          2501   \n",
       "37  Chine, Taiwan Province de           511  Population totale          2501   \n",
       "\n",
       "       Produit  Code année  Année           Unité   Valeur Symbole  \\\n",
       "33  Population        2013   2013  1000 personnes  1416667       A   \n",
       "34  Population        2013   2013  1000 personnes     7204     NaN   \n",
       "35  Population        2013   2013  1000 personnes      566     NaN   \n",
       "36  Population        2013   2013  1000 personnes  1385567     NaN   \n",
       "37  Population        2013   2013  1000 personnes    23330     NaN   \n",
       "\n",
       "                               Description du Symbole  \n",
       "33  Agrégat, peut inclure des données officielles,...  \n",
       "34                                  Donnée officielle  \n",
       "35                                  Donnée officielle  \n",
       "36                                  Donnée officielle  \n",
       "37                                  Donnée officielle  "
      ]
     },
     "execution_count": 19,
     "metadata": {},
     "output_type": "execute_result"
    }
   ],
   "source": [
    "df_Chine_A = df_population[df_population['Zone'].str.match(pat = '(^Chin.)')] \n",
    "df_Chine_A"
   ]
  },
  {
   "cell_type": "code",
   "execution_count": 20,
   "metadata": {
    "scrolled": true
   },
   "outputs": [
    {
     "data": {
      "text/plain": [
       "1416667"
      ]
     },
     "execution_count": 20,
     "metadata": {},
     "output_type": "execute_result"
    }
   ],
   "source": [
    "df_Chine_A[df_Chine_A['Zone']!='Chine']['Valeur'].sum()"
   ]
  },
  {
   "cell_type": "markdown",
   "metadata": {},
   "source": [
    "Nous remarquons que la population la zone chine est une agrégation de plusieurs autres zones, si nous calculons la somme de population de ces dernières, nous retouvons qu'elle est égale à la population chinoise, c'est pourquoi nous allons calculer la population mondiale sans prendre en considération la chine"
   ]
  },
  {
   "cell_type": "markdown",
   "metadata": {},
   "source": [
    "## Suppression des agrégats de la chine dans toutes les dataframes "
   ]
  },
  {
   "cell_type": "code",
   "execution_count": 21,
   "metadata": {},
   "outputs": [],
   "source": [
    "df_population = df_population2013[~df_population2013['Code zone'].isin([41, 96,128,214])].copy()\n",
    "df_animaux = df_animaux[~df_animaux['Code zone'].isin([41, 96,128,214])].copy()\n",
    "df_vegetaux = df_vegetaux[~df_vegetaux['Code zone'].isin([41, 96,128,214])].copy()\n",
    "df_cereales = df_cereales[~df_cereales['Code zone'].isin([41, 96,128,214])].copy()\n",
    "df_sous_alimentation = df_sous_alimentation[~df_sous_alimentation['Code zone'].isin([41, 96,128,214])].copy()"
   ]
  },
  {
   "cell_type": "markdown",
   "metadata": {},
   "source": [
    "<b>Ou bien Suppression de la chine des autres bases de données </b>\n",
    "\n",
    "<p>df_animaux = df_animaux[df_animaux['Zone']!='Chine'].copy() <br>\n",
    "df_vegetaux = df_vegetaux[df_vegetaux['Zone']!='Chine'].copy()<br>\n",
    "df_cereales = df_cereales[df_cereales['Zone']!='Chine'].copy()<br>\n",
    "df_sous_alimentation = df_sous_alimentation[df_sous_alimentation['Zone']!='Chine'].copy()</p>\n"
   ]
  },
  {
   "cell_type": "code",
   "execution_count": 22,
   "metadata": {},
   "outputs": [
    {
     "name": "stdout",
     "output_type": "stream",
     "text": [
      "6997326000\n"
     ]
    }
   ],
   "source": [
    "#L'unité utilisé dans notre db est 1000 personnes\n",
    "nb_population = df_population['Valeur'].sum() * 1000\n",
    "print(nb_population)"
   ]
  },
  {
   "cell_type": "markdown",
   "metadata": {},
   "source": [
    "============================================================== <br>\n",
    "<B><I>Le nombre total d'humain en 2013 est 6997326000 </I></B> <br> =============================================================="
   ]
  },
  {
   "cell_type": "markdown",
   "metadata": {},
   "source": [
    "# Réponse 2 : Equation à 3 termes"
   ]
  },
  {
   "cell_type": "markdown",
   "metadata": {},
   "source": [
    "======================================================================= <br>\n",
    "<b><i>Disponibilité intérieure = <br>Production + Importations + |Variation de stock| - Exportations = \n",
    "<br>Aliments pour animaux + Semences + Pertes + Traitement + Autres utilisations (non alimentaire) + Nourriture\n",
    " </i></b>\n",
    "======================================================================= <br>\n"
   ]
  },
  {
   "cell_type": "markdown",
   "metadata": {},
   "source": [
    "<strong><u> Exemple blé en france 2018 </u></strong>"
   ]
  },
  {
   "cell_type": "code",
   "execution_count": 23,
   "metadata": {},
   "outputs": [
    {
     "data": {
      "text/html": [
       "<div>\n",
       "<style scoped>\n",
       "    .dataframe tbody tr th:only-of-type {\n",
       "        vertical-align: middle;\n",
       "    }\n",
       "\n",
       "    .dataframe tbody tr th {\n",
       "        vertical-align: top;\n",
       "    }\n",
       "\n",
       "    .dataframe thead th {\n",
       "        text-align: right;\n",
       "    }\n",
       "</style>\n",
       "<table border=\"1\" class=\"dataframe\">\n",
       "  <thead>\n",
       "    <tr style=\"text-align: right;\">\n",
       "      <th></th>\n",
       "      <th>Code Domaine</th>\n",
       "      <th>Domaine</th>\n",
       "      <th>Code zone (FAO)</th>\n",
       "      <th>Zone</th>\n",
       "      <th>Code Élément</th>\n",
       "      <th>Élément</th>\n",
       "      <th>Code Produit</th>\n",
       "      <th>Produit</th>\n",
       "      <th>Code année</th>\n",
       "      <th>Année</th>\n",
       "      <th>Unité</th>\n",
       "      <th>Valeur</th>\n",
       "      <th>Symbole</th>\n",
       "      <th>Description du Symbole</th>\n",
       "    </tr>\n",
       "  </thead>\n",
       "  <tbody>\n",
       "    <tr>\n",
       "      <th>0</th>\n",
       "      <td>FBS</td>\n",
       "      <td>Bilans Alimentaires (2014-)</td>\n",
       "      <td>68</td>\n",
       "      <td>France</td>\n",
       "      <td>5511</td>\n",
       "      <td>Production</td>\n",
       "      <td>2511</td>\n",
       "      <td>Blé et produits</td>\n",
       "      <td>2018</td>\n",
       "      <td>2018</td>\n",
       "      <td>Milliers de tonnes</td>\n",
       "      <td>35798</td>\n",
       "      <td>Im</td>\n",
       "      <td>Données de la FAO basées sur une méthodologie ...</td>\n",
       "    </tr>\n",
       "    <tr>\n",
       "      <th>1</th>\n",
       "      <td>FBS</td>\n",
       "      <td>Bilans Alimentaires (2014-)</td>\n",
       "      <td>68</td>\n",
       "      <td>France</td>\n",
       "      <td>5611</td>\n",
       "      <td>Importations - Quantité</td>\n",
       "      <td>2511</td>\n",
       "      <td>Blé et produits</td>\n",
       "      <td>2018</td>\n",
       "      <td>2018</td>\n",
       "      <td>Milliers de tonnes</td>\n",
       "      <td>2349</td>\n",
       "      <td>Im</td>\n",
       "      <td>Données de la FAO basées sur une méthodologie ...</td>\n",
       "    </tr>\n",
       "    <tr>\n",
       "      <th>2</th>\n",
       "      <td>FBS</td>\n",
       "      <td>Bilans Alimentaires (2014-)</td>\n",
       "      <td>68</td>\n",
       "      <td>France</td>\n",
       "      <td>5072</td>\n",
       "      <td>Variation de stock</td>\n",
       "      <td>2511</td>\n",
       "      <td>Blé et produits</td>\n",
       "      <td>2018</td>\n",
       "      <td>2018</td>\n",
       "      <td>Milliers de tonnes</td>\n",
       "      <td>-1819</td>\n",
       "      <td>Im</td>\n",
       "      <td>Données de la FAO basées sur une méthodologie ...</td>\n",
       "    </tr>\n",
       "  </tbody>\n",
       "</table>\n",
       "</div>"
      ],
      "text/plain": [
       "  Code Domaine                      Domaine  Code zone (FAO)    Zone  \\\n",
       "0          FBS  Bilans Alimentaires (2014-)               68  France   \n",
       "1          FBS  Bilans Alimentaires (2014-)               68  France   \n",
       "2          FBS  Bilans Alimentaires (2014-)               68  France   \n",
       "\n",
       "   Code Élément                  Élément  Code Produit          Produit  \\\n",
       "0          5511               Production          2511  Blé et produits   \n",
       "1          5611  Importations - Quantité          2511  Blé et produits   \n",
       "2          5072       Variation de stock          2511  Blé et produits   \n",
       "\n",
       "   Code année  Année               Unité  Valeur Symbole  \\\n",
       "0        2018   2018  Milliers de tonnes   35798      Im   \n",
       "1        2018   2018  Milliers de tonnes    2349      Im   \n",
       "2        2018   2018  Milliers de tonnes   -1819      Im   \n",
       "\n",
       "                              Description du Symbole  \n",
       "0  Données de la FAO basées sur une méthodologie ...  \n",
       "1  Données de la FAO basées sur une méthodologie ...  \n",
       "2  Données de la FAO basées sur une méthodologie ...  "
      ]
     },
     "execution_count": 23,
     "metadata": {},
     "output_type": "execute_result"
    }
   ],
   "source": [
    "# Données récupérées à partir du lien : https://www.fao.org/faostat/fr/#data/FBS\n",
    "data_ble_france2018= pd.read_csv('data/ble_france_2018.csv')\n",
    "data_ble_france2018.head(3)"
   ]
  },
  {
   "cell_type": "code",
   "execution_count": 24,
   "metadata": {},
   "outputs": [],
   "source": [
    "data_ble_france2018 = data_ble_france2018[['Code Élément', 'Élément', 'Unité', 'Valeur']].copy()"
   ]
  },
  {
   "cell_type": "code",
   "execution_count": 25,
   "metadata": {},
   "outputs": [],
   "source": [
    "#Le premier terme\n",
    "terme1=data_ble_france2018[data_ble_france2018['Code Élément']==5301]['Valeur'].iloc[0] #valeur de disponibilité intérieur"
   ]
  },
  {
   "cell_type": "code",
   "execution_count": 26,
   "metadata": {},
   "outputs": [],
   "source": [
    "#Le second terme\n",
    "terme2=data_ble_france2018[data_ble_france2018['Code Élément']==5511]['Valeur'].iloc[0] + \\\n",
    "data_ble_france2018[data_ble_france2018['Code Élément']==5611]['Valeur'].iloc[0] + \\\n",
    "data_ble_france2018[data_ble_france2018['Code Élément']==5072]['Valeur'].abs() .iloc[0]- \\\n",
    "data_ble_france2018[data_ble_france2018['Code Élément']==5911]['Valeur'].iloc[0]"
   ]
  },
  {
   "cell_type": "code",
   "execution_count": 27,
   "metadata": {},
   "outputs": [],
   "source": [
    "#Le troisième terme\n",
    "terme3=data_ble_france2018[data_ble_france2018['Code Élément']==5521]['Valeur'].iloc[0] +\\\n",
    "    data_ble_france2018[data_ble_france2018['Code Élément']==5527]['Valeur'].iloc[0] + \\\n",
    "    data_ble_france2018[data_ble_france2018['Code Élément']==5123]['Valeur'].iloc[0]+ \\\n",
    "    data_ble_france2018[data_ble_france2018['Code Élément']==5131]['Valeur'].iloc[0] + \\\n",
    "    data_ble_france2018[data_ble_france2018['Code Élément']==5154]['Valeur'].iloc[0]+ \\\n",
    "    data_ble_france2018[data_ble_france2018['Code Élément']==5142]['Valeur'].iloc[0]"
   ]
  },
  {
   "cell_type": "code",
   "execution_count": 28,
   "metadata": {
    "scrolled": true
   },
   "outputs": [
    {
     "name": "stdout",
     "output_type": "stream",
     "text": [
      "Terme1 =  19521\n",
      "Terme2 =  19520\n",
      "Terme2 =  19521\n"
     ]
    }
   ],
   "source": [
    "print('Terme1 = ',terme1)\n",
    "print('Terme2 = ',terme2)\n",
    "print('Terme2 = ',terme3)"
   ]
  },
  {
   "cell_type": "markdown",
   "metadata": {},
   "source": [
    " <b>Exemple blé en france en 2013 (à partir de notre db): voir projet3 archivé </b>"
   ]
  },
  {
   "cell_type": "markdown",
   "metadata": {},
   "source": [
    "# Réponse 3 : Calculer pour chaque pays et chaque produit la disponibilité alimentaire en kcal puis en kg de protéines."
   ]
  },
  {
   "cell_type": "markdown",
   "metadata": {},
   "source": [
    "## Etape 1  : garder uniquement les colonnes importantes et rajouter une colonne \"type\" pour distinguer entre df_animaux et df_vegetaux"
   ]
  },
  {
   "cell_type": "code",
   "execution_count": 29,
   "metadata": {},
   "outputs": [],
   "source": [
    "df_population1 = df_population[['Code zone','Valeur','Unité']].copy()"
   ]
  },
  {
   "cell_type": "code",
   "execution_count": 30,
   "metadata": {},
   "outputs": [],
   "source": [
    "df_animaux1 = df_animaux.assign(Type = 'animal')\n",
    "df_vegetaux1 = df_vegetaux.assign(Type = 'vegetal')"
   ]
  },
  {
   "cell_type": "markdown",
   "metadata": {},
   "source": [
    "## Etape 2  : concaténation entre df_animaux1 et df_vegetaux1"
   ]
  },
  {
   "cell_type": "code",
   "execution_count": 31,
   "metadata": {},
   "outputs": [],
   "source": [
    "df_Alimentation1=pd.concat([df_animaux1,df_vegetaux1])"
   ]
  },
  {
   "cell_type": "code",
   "execution_count": 32,
   "metadata": {},
   "outputs": [
    {
     "name": "stdout",
     "output_type": "stream",
     "text": [
      "df_animaux1.shape =\t (3643, 19) \n",
      "df_vegetaux2.shape =\t (11682, 19) \n",
      "df_Alimentation1.shape =\t (15325, 19)\n"
     ]
    }
   ],
   "source": [
    "print('df_animaux1.shape =\\t', df_animaux1.shape , '\\ndf_vegetaux2.shape =\\t',\n",
    "      df_vegetaux1.shape,'\\ndf_Alimentation1.shape =\\t',df_Alimentation1.shape)"
   ]
  },
  {
   "cell_type": "markdown",
   "metadata": {},
   "source": [
    "## Etape3 : Jointure à gauche entre df_Alimentation1, df_population1 "
   ]
  },
  {
   "cell_type": "code",
   "execution_count": 33,
   "metadata": {},
   "outputs": [],
   "source": [
    "df_prinicpale = df_Alimentation1.merge( df_population1, on='Code zone', how=\"left\", suffixes=('_produit','_population'))\n",
    "df_prinicpale.rename(columns={'Valeur' : 'Population'}, inplace=True)"
   ]
  },
  {
   "cell_type": "code",
   "execution_count": 34,
   "metadata": {},
   "outputs": [
    {
     "name": "stdout",
     "output_type": "stream",
     "text": [
      "df_Alimentation1.shape =\t (15325, 19) \n",
      "df_population1.shape =\t (171, 3) \n",
      "df_alimentation_population.shape = (15325, 21)\n"
     ]
    },
    {
     "data": {
      "text/html": [
       "<div>\n",
       "<style scoped>\n",
       "    .dataframe tbody tr th:only-of-type {\n",
       "        vertical-align: middle;\n",
       "    }\n",
       "\n",
       "    .dataframe tbody tr th {\n",
       "        vertical-align: top;\n",
       "    }\n",
       "\n",
       "    .dataframe thead th {\n",
       "        text-align: right;\n",
       "    }\n",
       "</style>\n",
       "<table border=\"1\" class=\"dataframe\">\n",
       "  <thead>\n",
       "    <tr style=\"text-align: right;\">\n",
       "      <th></th>\n",
       "      <th>Zone</th>\n",
       "      <th>Code zone</th>\n",
       "      <th>Produit</th>\n",
       "      <th>Aliments pour animaux (kg/an)</th>\n",
       "      <th>Autres utilisations (non alimentaire) (kg/an)</th>\n",
       "      <th>Disponibilité alimentaire (Kcal/personne/jour)</th>\n",
       "      <th>Disponibilité alimentaire en quantité (kg/personne/an)</th>\n",
       "      <th>Disponibilité de matière grasse en quantité (g/personne/jour)</th>\n",
       "      <th>Disponibilité de protéines en quantité (g/personne/jour)</th>\n",
       "      <th>Disponibilité intérieure (kg/an)</th>\n",
       "      <th>...</th>\n",
       "      <th>Importations - Quantité (kg/an)</th>\n",
       "      <th>Nourriture (kg/an)</th>\n",
       "      <th>Pertes (kg/an)</th>\n",
       "      <th>Production (kg/an)</th>\n",
       "      <th>Semences (kg/an)</th>\n",
       "      <th>Traitement (kg/an)</th>\n",
       "      <th>Variation de stock (kg/an)</th>\n",
       "      <th>Type</th>\n",
       "      <th>Population</th>\n",
       "      <th>Unité</th>\n",
       "    </tr>\n",
       "  </thead>\n",
       "  <tbody>\n",
       "    <tr>\n",
       "      <th>0</th>\n",
       "      <td>Afghanistan</td>\n",
       "      <td>2</td>\n",
       "      <td>Abats Comestible</td>\n",
       "      <td>NaN</td>\n",
       "      <td>NaN</td>\n",
       "      <td>5.0</td>\n",
       "      <td>1.72</td>\n",
       "      <td>0.20</td>\n",
       "      <td>0.77</td>\n",
       "      <td>53000000.0</td>\n",
       "      <td>...</td>\n",
       "      <td>NaN</td>\n",
       "      <td>53000000.0</td>\n",
       "      <td>NaN</td>\n",
       "      <td>53000000.0</td>\n",
       "      <td>NaN</td>\n",
       "      <td>NaN</td>\n",
       "      <td>NaN</td>\n",
       "      <td>animal</td>\n",
       "      <td>30552</td>\n",
       "      <td>1000 personnes</td>\n",
       "    </tr>\n",
       "    <tr>\n",
       "      <th>1</th>\n",
       "      <td>Afghanistan</td>\n",
       "      <td>2</td>\n",
       "      <td>Beurre, Ghee</td>\n",
       "      <td>NaN</td>\n",
       "      <td>NaN</td>\n",
       "      <td>23.0</td>\n",
       "      <td>1.17</td>\n",
       "      <td>2.61</td>\n",
       "      <td>0.03</td>\n",
       "      <td>36000000.0</td>\n",
       "      <td>...</td>\n",
       "      <td>0.0</td>\n",
       "      <td>36000000.0</td>\n",
       "      <td>NaN</td>\n",
       "      <td>36000000.0</td>\n",
       "      <td>NaN</td>\n",
       "      <td>NaN</td>\n",
       "      <td>NaN</td>\n",
       "      <td>animal</td>\n",
       "      <td>30552</td>\n",
       "      <td>1000 personnes</td>\n",
       "    </tr>\n",
       "    <tr>\n",
       "      <th>2</th>\n",
       "      <td>Afghanistan</td>\n",
       "      <td>2</td>\n",
       "      <td>Crème</td>\n",
       "      <td>NaN</td>\n",
       "      <td>NaN</td>\n",
       "      <td>3.0</td>\n",
       "      <td>0.60</td>\n",
       "      <td>0.32</td>\n",
       "      <td>0.04</td>\n",
       "      <td>18000000.0</td>\n",
       "      <td>...</td>\n",
       "      <td>18000000.0</td>\n",
       "      <td>18000000.0</td>\n",
       "      <td>NaN</td>\n",
       "      <td>NaN</td>\n",
       "      <td>NaN</td>\n",
       "      <td>NaN</td>\n",
       "      <td>NaN</td>\n",
       "      <td>animal</td>\n",
       "      <td>30552</td>\n",
       "      <td>1000 personnes</td>\n",
       "    </tr>\n",
       "  </tbody>\n",
       "</table>\n",
       "<p>3 rows × 21 columns</p>\n",
       "</div>"
      ],
      "text/plain": [
       "          Zone  Code zone           Produit  Aliments pour animaux (kg/an)  \\\n",
       "0  Afghanistan          2  Abats Comestible                            NaN   \n",
       "1  Afghanistan          2      Beurre, Ghee                            NaN   \n",
       "2  Afghanistan          2             Crème                            NaN   \n",
       "\n",
       "   Autres utilisations (non alimentaire) (kg/an)  \\\n",
       "0                                            NaN   \n",
       "1                                            NaN   \n",
       "2                                            NaN   \n",
       "\n",
       "   Disponibilité alimentaire (Kcal/personne/jour)  \\\n",
       "0                                             5.0   \n",
       "1                                            23.0   \n",
       "2                                             3.0   \n",
       "\n",
       "   Disponibilité alimentaire en quantité (kg/personne/an)  \\\n",
       "0                                               1.72        \n",
       "1                                               1.17        \n",
       "2                                               0.60        \n",
       "\n",
       "   Disponibilité de matière grasse en quantité (g/personne/jour)  \\\n",
       "0                                               0.20               \n",
       "1                                               2.61               \n",
       "2                                               0.32               \n",
       "\n",
       "   Disponibilité de protéines en quantité (g/personne/jour)  \\\n",
       "0                                               0.77          \n",
       "1                                               0.03          \n",
       "2                                               0.04          \n",
       "\n",
       "   Disponibilité intérieure (kg/an)  ...  Importations - Quantité (kg/an)  \\\n",
       "0                        53000000.0  ...                              NaN   \n",
       "1                        36000000.0  ...                              0.0   \n",
       "2                        18000000.0  ...                       18000000.0   \n",
       "\n",
       "   Nourriture (kg/an)  Pertes (kg/an)  Production (kg/an)  Semences (kg/an)  \\\n",
       "0          53000000.0             NaN          53000000.0               NaN   \n",
       "1          36000000.0             NaN          36000000.0               NaN   \n",
       "2          18000000.0             NaN                 NaN               NaN   \n",
       "\n",
       "   Traitement (kg/an)  Variation de stock (kg/an)    Type Population  \\\n",
       "0                 NaN                         NaN  animal      30552   \n",
       "1                 NaN                         NaN  animal      30552   \n",
       "2                 NaN                         NaN  animal      30552   \n",
       "\n",
       "            Unité  \n",
       "0  1000 personnes  \n",
       "1  1000 personnes  \n",
       "2  1000 personnes  \n",
       "\n",
       "[3 rows x 21 columns]"
      ]
     },
     "execution_count": 34,
     "metadata": {},
     "output_type": "execute_result"
    }
   ],
   "source": [
    "print(\"df_Alimentation1.shape =\\t\",df_Alimentation1.shape,'\\ndf_population1.shape =\\t',df_population1.shape,\n",
    "      '\\ndf_alimentation_population.shape =',df_prinicpale.shape)\n",
    "df_prinicpale.head(3)"
   ]
  },
  {
   "cell_type": "markdown",
   "metadata": {},
   "source": [
    "## Etape 4 : Calcul de disponibilité alimentaire en kcal puis en kg "
   ]
  },
  {
   "cell_type": "markdown",
   "metadata": {},
   "source": [
    "### 1. Disponibilité alimentaire en kcal \n",
    "<ul>\n",
    "    <li>Disponibilite alimenatire en kcal = <br>'Disponibilité alimentaire (Kcal/personne/jour)' * Nombre d'habitants * unité (1000) * 365 jours</li>\n",
    "</ul>"
   ]
  },
  {
   "cell_type": "code",
   "execution_count": 35,
   "metadata": {},
   "outputs": [],
   "source": [
    "df_prinicpale['Disponibilite alimentaire (kcal/an)'] = df_prinicpale['Disponibilité alimentaire (Kcal/personne/jour)'] * 365 * df_prinicpale['Population'] * 1000"
   ]
  },
  {
   "cell_type": "markdown",
   "metadata": {},
   "source": [
    "### 2. Disponibilité alimentaire en kg de protéine \n",
    "<ul>\n",
    "    <li>Disponibilite alimenatire en kg de proteine = <br>Disponibilité de protéines en quantité (g/personne/jour) / 1000 (g --> kg) * Nombre d'habitants * unité (1000) * 365 jours</li>\n",
    "</ul>\n",
    "Nb : Pour optimiser le calcul, nous n'allons pas multiplier par 1000 puis diviser par 1000"
   ]
  },
  {
   "cell_type": "code",
   "execution_count": 36,
   "metadata": {
    "scrolled": true
   },
   "outputs": [
    {
     "data": {
      "text/html": [
       "<div>\n",
       "<style scoped>\n",
       "    .dataframe tbody tr th:only-of-type {\n",
       "        vertical-align: middle;\n",
       "    }\n",
       "\n",
       "    .dataframe tbody tr th {\n",
       "        vertical-align: top;\n",
       "    }\n",
       "\n",
       "    .dataframe thead th {\n",
       "        text-align: right;\n",
       "    }\n",
       "</style>\n",
       "<table border=\"1\" class=\"dataframe\">\n",
       "  <thead>\n",
       "    <tr style=\"text-align: right;\">\n",
       "      <th></th>\n",
       "      <th>Zone</th>\n",
       "      <th>Produit</th>\n",
       "      <th>Disponibilite alimentaire (kcal/an)</th>\n",
       "      <th>Disponibilite alimentaire proteine (kg/an)</th>\n",
       "    </tr>\n",
       "  </thead>\n",
       "  <tbody>\n",
       "    <tr>\n",
       "      <th>0</th>\n",
       "      <td>Afghanistan</td>\n",
       "      <td>Abats Comestible</td>\n",
       "      <td>5.575740e+10</td>\n",
       "      <td>8586639.60</td>\n",
       "    </tr>\n",
       "    <tr>\n",
       "      <th>1</th>\n",
       "      <td>Afghanistan</td>\n",
       "      <td>Beurre, Ghee</td>\n",
       "      <td>2.564840e+11</td>\n",
       "      <td>334544.40</td>\n",
       "    </tr>\n",
       "    <tr>\n",
       "      <th>2</th>\n",
       "      <td>Afghanistan</td>\n",
       "      <td>Crème</td>\n",
       "      <td>3.345444e+10</td>\n",
       "      <td>446059.20</td>\n",
       "    </tr>\n",
       "    <tr>\n",
       "      <th>3</th>\n",
       "      <td>Afghanistan</td>\n",
       "      <td>Graisses Animales Crue</td>\n",
       "      <td>1.338178e+11</td>\n",
       "      <td>111514.80</td>\n",
       "    </tr>\n",
       "    <tr>\n",
       "      <th>4</th>\n",
       "      <td>Afghanistan</td>\n",
       "      <td>Lait - Excl Beurre</td>\n",
       "      <td>1.115148e+12</td>\n",
       "      <td>68247057.60</td>\n",
       "    </tr>\n",
       "    <tr>\n",
       "      <th>...</th>\n",
       "      <td>...</td>\n",
       "      <td>...</td>\n",
       "      <td>...</td>\n",
       "      <td>...</td>\n",
       "    </tr>\n",
       "    <tr>\n",
       "      <th>15320</th>\n",
       "      <td>Îles Salomon</td>\n",
       "      <td>Sésame</td>\n",
       "      <td>0.000000e+00</td>\n",
       "      <td>NaN</td>\n",
       "    </tr>\n",
       "    <tr>\n",
       "      <th>15321</th>\n",
       "      <td>Îles Salomon</td>\n",
       "      <td>Thé</td>\n",
       "      <td>0.000000e+00</td>\n",
       "      <td>8190.60</td>\n",
       "    </tr>\n",
       "    <tr>\n",
       "      <th>15322</th>\n",
       "      <td>Îles Salomon</td>\n",
       "      <td>Tomates</td>\n",
       "      <td>0.000000e+00</td>\n",
       "      <td>NaN</td>\n",
       "    </tr>\n",
       "    <tr>\n",
       "      <th>15323</th>\n",
       "      <td>Îles Salomon</td>\n",
       "      <td>Vin</td>\n",
       "      <td>0.000000e+00</td>\n",
       "      <td>NaN</td>\n",
       "    </tr>\n",
       "    <tr>\n",
       "      <th>15324</th>\n",
       "      <td>Îles Salomon</td>\n",
       "      <td>Épices, Autres</td>\n",
       "      <td>8.190600e+08</td>\n",
       "      <td>30714.75</td>\n",
       "    </tr>\n",
       "  </tbody>\n",
       "</table>\n",
       "<p>15325 rows × 4 columns</p>\n",
       "</div>"
      ],
      "text/plain": [
       "               Zone                 Produit  \\\n",
       "0       Afghanistan        Abats Comestible   \n",
       "1       Afghanistan            Beurre, Ghee   \n",
       "2       Afghanistan                   Crème   \n",
       "3       Afghanistan  Graisses Animales Crue   \n",
       "4       Afghanistan      Lait - Excl Beurre   \n",
       "...             ...                     ...   \n",
       "15320  Îles Salomon                  Sésame   \n",
       "15321  Îles Salomon                     Thé   \n",
       "15322  Îles Salomon                 Tomates   \n",
       "15323  Îles Salomon                     Vin   \n",
       "15324  Îles Salomon          Épices, Autres   \n",
       "\n",
       "       Disponibilite alimentaire (kcal/an)  \\\n",
       "0                             5.575740e+10   \n",
       "1                             2.564840e+11   \n",
       "2                             3.345444e+10   \n",
       "3                             1.338178e+11   \n",
       "4                             1.115148e+12   \n",
       "...                                    ...   \n",
       "15320                         0.000000e+00   \n",
       "15321                         0.000000e+00   \n",
       "15322                         0.000000e+00   \n",
       "15323                         0.000000e+00   \n",
       "15324                         8.190600e+08   \n",
       "\n",
       "       Disponibilite alimentaire proteine (kg/an)  \n",
       "0                                      8586639.60  \n",
       "1                                       334544.40  \n",
       "2                                       446059.20  \n",
       "3                                       111514.80  \n",
       "4                                     68247057.60  \n",
       "...                                           ...  \n",
       "15320                                         NaN  \n",
       "15321                                     8190.60  \n",
       "15322                                         NaN  \n",
       "15323                                         NaN  \n",
       "15324                                    30714.75  \n",
       "\n",
       "[15325 rows x 4 columns]"
      ]
     },
     "execution_count": 36,
     "metadata": {},
     "output_type": "execute_result"
    }
   ],
   "source": [
    "df_prinicpale['Disponibilite alimentaire proteine (kg/an)'] = df_prinicpale['Disponibilité de protéines en quantité (g/personne/jour)'] * 365 * df_prinicpale['Population'] \n",
    "#Affichage du Df\n",
    "df_prinicpale[['Zone','Produit','Disponibilite alimentaire (kcal/an)','Disponibilite alimentaire proteine (kg/an)']]"
   ]
  },
  {
   "cell_type": "markdown",
   "metadata": {},
   "source": [
    "# Réponse 4 "
   ]
  },
  {
   "cell_type": "markdown",
   "metadata": {},
   "source": [
    "## 1. Ratio \"énergie/poids\" (en kcal/kg) pour chaque produit et chaque pays"
   ]
  },
  {
   "cell_type": "code",
   "execution_count": 37,
   "metadata": {},
   "outputs": [],
   "source": [
    "#Projetction de df_principale\n",
    "df_ratio = df_prinicpale[['Zone','Produit','Nourriture (kg/an)','Disponibilite alimentaire (kcal/an)','Disponibilite alimentaire proteine (kg/an)']].copy()"
   ]
  },
  {
   "cell_type": "code",
   "execution_count": 38,
   "metadata": {},
   "outputs": [],
   "source": [
    "# Remplacer les valeurs égales à 0 par des valeurs manquantes pour éviter la division sur 0\n",
    "df_ratio.replace(0, np.nan, inplace=True)"
   ]
  },
  {
   "cell_type": "code",
   "execution_count": 39,
   "metadata": {
    "scrolled": true
   },
   "outputs": [],
   "source": [
    "df_ratio['Ratio Energie/poids (kcal/kg)'] = \\\n",
    "df_ratio['Disponibilite alimentaire (kcal/an)']/  df_ratio[\"Nourriture (kg/an)\"]"
   ]
  },
  {
   "cell_type": "markdown",
   "metadata": {},
   "source": [
    "## 2. Ratio \"poids de protéines/poids total\" (en g/kg) pour chaque produit et chaque pays"
   ]
  },
  {
   "cell_type": "code",
   "execution_count": 40,
   "metadata": {},
   "outputs": [],
   "source": [
    "df_ratio['Ratio protéine/poids'] = df_ratio['Disponibilite alimentaire proteine (kg/an)']/ \\\n",
    "df_ratio[\"Nourriture (kg/an)\"]"
   ]
  },
  {
   "cell_type": "code",
   "execution_count": 41,
   "metadata": {},
   "outputs": [],
   "source": [
    "df_ratio = df_ratio.loc[:,['Produit','Ratio Energie/poids (kcal/kg)','Ratio protéine/poids']].copy()"
   ]
  },
  {
   "cell_type": "code",
   "execution_count": 42,
   "metadata": {},
   "outputs": [
    {
     "data": {
      "text/html": [
       "<div>\n",
       "<style scoped>\n",
       "    .dataframe tbody tr th:only-of-type {\n",
       "        vertical-align: middle;\n",
       "    }\n",
       "\n",
       "    .dataframe tbody tr th {\n",
       "        vertical-align: top;\n",
       "    }\n",
       "\n",
       "    .dataframe thead th {\n",
       "        text-align: right;\n",
       "    }\n",
       "</style>\n",
       "<table border=\"1\" class=\"dataframe\">\n",
       "  <thead>\n",
       "    <tr style=\"text-align: right;\">\n",
       "      <th></th>\n",
       "      <th>Produit</th>\n",
       "      <th>Ratio Energie/poids (kcal/kg)</th>\n",
       "      <th>Ratio protéine/poids</th>\n",
       "    </tr>\n",
       "  </thead>\n",
       "  <tbody>\n",
       "    <tr>\n",
       "      <th>0</th>\n",
       "      <td>Abats Comestible</td>\n",
       "      <td>1052.026415</td>\n",
       "      <td>0.162012</td>\n",
       "    </tr>\n",
       "    <tr>\n",
       "      <th>1</th>\n",
       "      <td>Beurre, Ghee</td>\n",
       "      <td>7124.556667</td>\n",
       "      <td>0.009293</td>\n",
       "    </tr>\n",
       "    <tr>\n",
       "      <th>2</th>\n",
       "      <td>Crème</td>\n",
       "      <td>1858.580000</td>\n",
       "      <td>0.024781</td>\n",
       "    </tr>\n",
       "    <tr>\n",
       "      <th>3</th>\n",
       "      <td>Graisses Animales Crue</td>\n",
       "      <td>8921.184000</td>\n",
       "      <td>0.007434</td>\n",
       "    </tr>\n",
       "    <tr>\n",
       "      <th>4</th>\n",
       "      <td>Lait - Excl Beurre</td>\n",
       "      <td>586.611257</td>\n",
       "      <td>0.035901</td>\n",
       "    </tr>\n",
       "    <tr>\n",
       "      <th>...</th>\n",
       "      <td>...</td>\n",
       "      <td>...</td>\n",
       "      <td>...</td>\n",
       "    </tr>\n",
       "    <tr>\n",
       "      <th>15320</th>\n",
       "      <td>Sésame</td>\n",
       "      <td>NaN</td>\n",
       "      <td>NaN</td>\n",
       "    </tr>\n",
       "    <tr>\n",
       "      <th>15321</th>\n",
       "      <td>Thé</td>\n",
       "      <td>NaN</td>\n",
       "      <td>NaN</td>\n",
       "    </tr>\n",
       "    <tr>\n",
       "      <th>15322</th>\n",
       "      <td>Tomates</td>\n",
       "      <td>NaN</td>\n",
       "      <td>NaN</td>\n",
       "    </tr>\n",
       "    <tr>\n",
       "      <th>15323</th>\n",
       "      <td>Vin</td>\n",
       "      <td>NaN</td>\n",
       "      <td>NaN</td>\n",
       "    </tr>\n",
       "    <tr>\n",
       "      <th>15324</th>\n",
       "      <td>Épices, Autres</td>\n",
       "      <td>NaN</td>\n",
       "      <td>NaN</td>\n",
       "    </tr>\n",
       "  </tbody>\n",
       "</table>\n",
       "<p>15325 rows × 3 columns</p>\n",
       "</div>"
      ],
      "text/plain": [
       "                      Produit  Ratio Energie/poids (kcal/kg)  \\\n",
       "0            Abats Comestible                    1052.026415   \n",
       "1                Beurre, Ghee                    7124.556667   \n",
       "2                       Crème                    1858.580000   \n",
       "3      Graisses Animales Crue                    8921.184000   \n",
       "4          Lait - Excl Beurre                     586.611257   \n",
       "...                       ...                            ...   \n",
       "15320                  Sésame                            NaN   \n",
       "15321                     Thé                            NaN   \n",
       "15322                 Tomates                            NaN   \n",
       "15323                     Vin                            NaN   \n",
       "15324          Épices, Autres                            NaN   \n",
       "\n",
       "       Ratio protéine/poids  \n",
       "0                  0.162012  \n",
       "1                  0.009293  \n",
       "2                  0.024781  \n",
       "3                  0.007434  \n",
       "4                  0.035901  \n",
       "...                     ...  \n",
       "15320                   NaN  \n",
       "15321                   NaN  \n",
       "15322                   NaN  \n",
       "15323                   NaN  \n",
       "15324                   NaN  \n",
       "\n",
       "[15325 rows x 3 columns]"
      ]
     },
     "execution_count": 42,
     "metadata": {},
     "output_type": "execute_result"
    }
   ],
   "source": [
    "df_ratio"
   ]
  },
  {
   "cell_type": "markdown",
   "metadata": {},
   "source": [
    "<b> Moyenne du ratio pour chaque aliment </b> "
   ]
  },
  {
   "cell_type": "code",
   "execution_count": 43,
   "metadata": {},
   "outputs": [],
   "source": [
    "df_ratio = df_ratio.groupby('Produit').mean().reset_index()"
   ]
  },
  {
   "cell_type": "markdown",
   "metadata": {},
   "source": [
    "## Exemples  \n",
    "L'apport énergitique <b> des oeufs crus</b> est de 147 kcal pour 100g [<a href='https://fr.wikipedia.org/wiki/%C5%92uf_(aliment)'> Wikipedia </a>], soit 1470 par kg et nous avons trouvé un ratio moyen de 1343,44 kcal/kg."
   ]
  },
  {
   "cell_type": "code",
   "execution_count": 44,
   "metadata": {},
   "outputs": [
    {
     "data": {
      "text/html": [
       "<div>\n",
       "<style scoped>\n",
       "    .dataframe tbody tr th:only-of-type {\n",
       "        vertical-align: middle;\n",
       "    }\n",
       "\n",
       "    .dataframe tbody tr th {\n",
       "        vertical-align: top;\n",
       "    }\n",
       "\n",
       "    .dataframe thead th {\n",
       "        text-align: right;\n",
       "    }\n",
       "</style>\n",
       "<table border=\"1\" class=\"dataframe\">\n",
       "  <thead>\n",
       "    <tr style=\"text-align: right;\">\n",
       "      <th></th>\n",
       "      <th>Produit</th>\n",
       "      <th>Ratio Energie/poids (kcal/kg)</th>\n",
       "      <th>Ratio protéine/poids</th>\n",
       "    </tr>\n",
       "  </thead>\n",
       "  <tbody>\n",
       "    <tr>\n",
       "      <th>58</th>\n",
       "      <td>Oeufs</td>\n",
       "      <td>1343.440349</td>\n",
       "      <td>0.105473</td>\n",
       "    </tr>\n",
       "  </tbody>\n",
       "</table>\n",
       "</div>"
      ],
      "text/plain": [
       "   Produit  Ratio Energie/poids (kcal/kg)  Ratio protéine/poids\n",
       "58   Oeufs                    1343.440349              0.105473"
      ]
     },
     "execution_count": 44,
     "metadata": {},
     "output_type": "execute_result"
    }
   ],
   "source": [
    "df_ratio[df_ratio['Produit']=='Oeufs']"
   ]
  },
  {
   "cell_type": "markdown",
   "metadata": {},
   "source": [
    "<b> L'avoine</b> contient 10,70 g de proteine pour 100g <a href ='https://fr.wikipedia.org/wiki/Avoine_cultiv%C3%A9e'> Wikipedia </a>, soit un ratio de 0,107, et nous avons trouvé un ratio moyen de 0.084."
   ]
  },
  {
   "cell_type": "code",
   "execution_count": 45,
   "metadata": {},
   "outputs": [
    {
     "data": {
      "text/html": [
       "<div>\n",
       "<style scoped>\n",
       "    .dataframe tbody tr th:only-of-type {\n",
       "        vertical-align: middle;\n",
       "    }\n",
       "\n",
       "    .dataframe tbody tr th {\n",
       "        vertical-align: top;\n",
       "    }\n",
       "\n",
       "    .dataframe thead th {\n",
       "        text-align: right;\n",
       "    }\n",
       "</style>\n",
       "<table border=\"1\" class=\"dataframe\">\n",
       "  <thead>\n",
       "    <tr style=\"text-align: right;\">\n",
       "      <th></th>\n",
       "      <th>Produit</th>\n",
       "      <th>Ratio Energie/poids (kcal/kg)</th>\n",
       "      <th>Ratio protéine/poids</th>\n",
       "    </tr>\n",
       "  </thead>\n",
       "  <tbody>\n",
       "    <tr>\n",
       "      <th>7</th>\n",
       "      <td>Avoine</td>\n",
       "      <td>2135.35579</td>\n",
       "      <td>0.084294</td>\n",
       "    </tr>\n",
       "  </tbody>\n",
       "</table>\n",
       "</div>"
      ],
      "text/plain": [
       "  Produit  Ratio Energie/poids (kcal/kg)  Ratio protéine/poids\n",
       "7  Avoine                     2135.35579              0.084294"
      ]
     },
     "execution_count": 45,
     "metadata": {},
     "output_type": "execute_result"
    }
   ],
   "source": [
    "df_ratio[df_ratio['Produit']=='Avoine']"
   ]
  },
  {
   "cell_type": "markdown",
   "metadata": {},
   "source": [
    "# Réponse 5 "
   ]
  },
  {
   "cell_type": "markdown",
   "metadata": {},
   "source": [
    "## 1. Les 5 aliments les plus calorique "
   ]
  },
  {
   "cell_type": "code",
   "execution_count": 46,
   "metadata": {},
   "outputs": [
    {
     "data": {
      "text/html": [
       "<div>\n",
       "<style scoped>\n",
       "    .dataframe tbody tr th:only-of-type {\n",
       "        vertical-align: middle;\n",
       "    }\n",
       "\n",
       "    .dataframe tbody tr th {\n",
       "        vertical-align: top;\n",
       "    }\n",
       "\n",
       "    .dataframe thead th {\n",
       "        text-align: right;\n",
       "    }\n",
       "</style>\n",
       "<table border=\"1\" class=\"dataframe\">\n",
       "  <thead>\n",
       "    <tr style=\"text-align: right;\">\n",
       "      <th></th>\n",
       "      <th>Produit</th>\n",
       "      <th>Ratio Energie/poids (kcal/kg)</th>\n",
       "    </tr>\n",
       "  </thead>\n",
       "  <tbody>\n",
       "    <tr>\n",
       "      <th>45</th>\n",
       "      <td>Huiles de Foie de Poisso</td>\n",
       "      <td>9982.932500</td>\n",
       "    </tr>\n",
       "    <tr>\n",
       "      <th>42</th>\n",
       "      <td>Huile de Son de Riz</td>\n",
       "      <td>9379.568137</td>\n",
       "    </tr>\n",
       "    <tr>\n",
       "      <th>43</th>\n",
       "      <td>Huile de Sésame</td>\n",
       "      <td>9314.546692</td>\n",
       "    </tr>\n",
       "    <tr>\n",
       "      <th>46</th>\n",
       "      <td>Huiles de Poissons</td>\n",
       "      <td>9003.715504</td>\n",
       "    </tr>\n",
       "    <tr>\n",
       "      <th>34</th>\n",
       "      <td>Huile d'Arachide</td>\n",
       "      <td>8925.582634</td>\n",
       "    </tr>\n",
       "  </tbody>\n",
       "</table>\n",
       "</div>"
      ],
      "text/plain": [
       "                     Produit  Ratio Energie/poids (kcal/kg)\n",
       "45  Huiles de Foie de Poisso                    9982.932500\n",
       "42       Huile de Son de Riz                    9379.568137\n",
       "43           Huile de Sésame                    9314.546692\n",
       "46        Huiles de Poissons                    9003.715504\n",
       "34          Huile d'Arachide                    8925.582634"
      ]
     },
     "execution_count": 46,
     "metadata": {},
     "output_type": "execute_result"
    }
   ],
   "source": [
    "Elts_caloriques = df_ratio.sort_values(by='Ratio Energie/poids (kcal/kg)', ascending=False).head(5)\n",
    "Elts_caloriques[['Produit','Ratio Energie/poids (kcal/kg)']]"
   ]
  },
  {
   "cell_type": "markdown",
   "metadata": {},
   "source": [
    "## 2. Les 5 aliments les plus protéinés</b>"
   ]
  },
  {
   "cell_type": "code",
   "execution_count": 47,
   "metadata": {},
   "outputs": [
    {
     "data": {
      "text/html": [
       "<div>\n",
       "<style scoped>\n",
       "    .dataframe tbody tr th:only-of-type {\n",
       "        vertical-align: middle;\n",
       "    }\n",
       "\n",
       "    .dataframe tbody tr th {\n",
       "        vertical-align: top;\n",
       "    }\n",
       "\n",
       "    .dataframe thead th {\n",
       "        text-align: right;\n",
       "    }\n",
       "</style>\n",
       "<table border=\"1\" class=\"dataframe\">\n",
       "  <thead>\n",
       "    <tr style=\"text-align: right;\">\n",
       "      <th></th>\n",
       "      <th>Produit</th>\n",
       "      <th>Ratio protéine/poids</th>\n",
       "    </tr>\n",
       "  </thead>\n",
       "  <tbody>\n",
       "    <tr>\n",
       "      <th>27</th>\n",
       "      <td>Graines Colza/Moutarde</td>\n",
       "      <td>0.285365</td>\n",
       "    </tr>\n",
       "    <tr>\n",
       "      <th>81</th>\n",
       "      <td>Soja</td>\n",
       "      <td>0.285156</td>\n",
       "    </tr>\n",
       "    <tr>\n",
       "      <th>6</th>\n",
       "      <td>Arachides Decortiquees</td>\n",
       "      <td>0.251573</td>\n",
       "    </tr>\n",
       "    <tr>\n",
       "      <th>70</th>\n",
       "      <td>Pois</td>\n",
       "      <td>0.223219</td>\n",
       "    </tr>\n",
       "    <tr>\n",
       "      <th>50</th>\n",
       "      <td>Légumineuses Autres</td>\n",
       "      <td>0.220334</td>\n",
       "    </tr>\n",
       "  </tbody>\n",
       "</table>\n",
       "</div>"
      ],
      "text/plain": [
       "                   Produit  Ratio protéine/poids\n",
       "27  Graines Colza/Moutarde              0.285365\n",
       "81                    Soja              0.285156\n",
       "6   Arachides Decortiquees              0.251573\n",
       "70                    Pois              0.223219\n",
       "50     Légumineuses Autres              0.220334"
      ]
     },
     "execution_count": 47,
     "metadata": {},
     "output_type": "execute_result"
    }
   ],
   "source": [
    "Elts_proteinees = df_ratio.sort_values(by='Ratio protéine/poids', ascending=False).head(5)\n",
    "Elts_proteinees[['Produit','Ratio protéine/poids']]\n"
   ]
  },
  {
   "cell_type": "markdown",
   "metadata": {},
   "source": [
    "<b> Rajout dans la df principale les ratios </b>"
   ]
  },
  {
   "cell_type": "code",
   "execution_count": 48,
   "metadata": {},
   "outputs": [],
   "source": [
    "df_prinicpale = df_prinicpale.merge(df_ratio, on='Produit').copy()"
   ]
  },
  {
   "cell_type": "markdown",
   "metadata": {},
   "source": [
    "#  Réponse 6 : Disponibilité intérieure mondiale pour les produits végétaux "
   ]
  },
  {
   "cell_type": "code",
   "execution_count": 49,
   "metadata": {},
   "outputs": [],
   "source": [
    "df_alimentation_vegetal = df_prinicpale[df_prinicpale['Type'] == 'vegetal'].copy()"
   ]
  },
  {
   "cell_type": "markdown",
   "metadata": {},
   "source": [
    "## 1. Disponibilité intérieure mondiale en kcal (pour les produits végétaux uniquement)"
   ]
  },
  {
   "cell_type": "code",
   "execution_count": 50,
   "metadata": {},
   "outputs": [
    {
     "name": "stdout",
     "output_type": "stream",
     "text": [
      "Disponibilité intérieure mondiale en kcal pour les produits végétaux uniquement =  1.3780136677764188e+16\n"
     ]
    }
   ],
   "source": [
    "df_alimentation_vegetal['Disponibilité intérieure (kcal/an)'] = df_alimentation_vegetal[\"Disponibilité intérieure (kg/an)\"] * \\\n",
    "    df_alimentation_vegetal[\"Ratio Energie/poids (kcal/kg)\"] \n",
    "total_disponibilite_interieur_vegetal_kcal = df_alimentation_vegetal['Disponibilité intérieure (kcal/an)'].sum()\n",
    "print('Disponibilité intérieure mondiale en kcal pour les produits végétaux uniquement = ',total_disponibilite_interieur_vegetal_kcal)"
   ]
  },
  {
   "cell_type": "markdown",
   "metadata": {},
   "source": [
    "================================================================================<br>\n",
    "Disponibilité intérieure mondiale en kcal pour les produits végétaux uniquement =  <b>1.3780136677764184e+16</b> <br>\n",
    "================================================================================"
   ]
  },
  {
   "cell_type": "markdown",
   "metadata": {},
   "source": [
    "## 2. Disponibilité intérieure mondiale en proteine (pour les produits végétaux uniquement)"
   ]
  },
  {
   "cell_type": "code",
   "execution_count": 51,
   "metadata": {
    "scrolled": true
   },
   "outputs": [
    {
     "name": "stdout",
     "output_type": "stream",
     "text": [
      "total_disponibilite_interieur_vegetal_proteine =  349177827738287.5\n"
     ]
    }
   ],
   "source": [
    "df_alimentation_vegetal['Disponibilité intérieure en proteine (g/an)'] = df_alimentation_vegetal[\"Disponibilité intérieure (kg/an)\"] * \\\n",
    "    df_alimentation_vegetal[\"Ratio protéine/poids\"] * 1000\n",
    "total_disponibilite_interieur_vegetal_proteine = df_alimentation_vegetal['Disponibilité intérieure en proteine (g/an)'].sum()\n",
    "print('total_disponibilite_interieur_vegetal_proteine = ',total_disponibilite_interieur_vegetal_proteine)"
   ]
  },
  {
   "cell_type": "markdown",
   "metadata": {},
   "source": [
    "================================================================================ <br>\n",
    "Disponibilité intérieure mondiale en proteine pour les produits végétaux uniquement =  <b>349177827738287.5 g</b> <br>\n",
    "================================================================================"
   ]
  },
  {
   "cell_type": "markdown",
   "metadata": {},
   "source": [
    "# Réponse 7 : Nombre d'humains qui pourraient être nourris si toute la disponibilité intérieure mondiale de produits végétaux était utilisée pour de la nourriture "
   ]
  },
  {
   "cell_type": "markdown",
   "metadata": {},
   "source": [
    "## 1. Selon le nombre de calories"
   ]
  },
  {
   "cell_type": "code",
   "execution_count": 52,
   "metadata": {},
   "outputs": [
    {
     "name": "stdout",
     "output_type": "stream",
     "text": [
      "Nombre de personnes nourries = 15101519646.864864\n",
      "Pourcentage des personnes nourries = 215.8184375983749 %\n"
     ]
    }
   ],
   "source": [
    "nombre_personne_nourris_disponibilite_interieur_vegetal_kcal =total_disponibilite_interieur_vegetal_kcal / (2500 * 365)\n",
    "pourcentage_nourris_disponibilite_interieur_vegetal_kcal = nombre_personne_nourris_disponibilite_interieur_vegetal_kcal *100/nb_population\n",
    "print ('Nombre de personnes nourries =', nombre_personne_nourris_disponibilite_interieur_vegetal_kcal)\n",
    "print('Pourcentage des personnes nourries =', pourcentage_nourris_disponibilite_interieur_vegetal_kcal,'%')"
   ]
  },
  {
   "cell_type": "markdown",
   "metadata": {},
   "source": [
    "Sachant que la ration alimentaire moyenne nécessaire est de <b>2 500 kcal/personne/jour</b>. [Source <a href=\"https://fr.wikipedia.org/wiki/Ration_alimentaire#cite_note-2\">Wikipedia</a> ] , alors :<br>\n",
    "Le nombre de personnes nourries en utilisant la disponibilite interieur vegetal selon de nombre de calories = <b>15101519646</b><br>\n",
    "Pourcentage des personnes nourries en utilisant la disponibilite interieur vegetal selon de nombre de calories = <b>215.89 %</b>"
   ]
  },
  {
   "cell_type": "markdown",
   "metadata": {},
   "source": [
    "## 2. Selon le nombre de proteines "
   ]
  },
  {
   "cell_type": "code",
   "execution_count": 53,
   "metadata": {
    "scrolled": true
   },
   "outputs": [
    {
     "name": "stdout",
     "output_type": "stream",
     "text": [
      "Nombre de personnes nourries = 16353018510.164501\n",
      "pourcentage de personnes nourries = 233.7038250063596 %\n"
     ]
    }
   ],
   "source": [
    "nombre_personne_nourris_disponibilite_interieur_vegetal_proteine =total_disponibilite_interieur_vegetal_proteine / (58.5 * 365)\n",
    "pourcentage_nourris_disponibilite_interieur_vegetal_proteine = nombre_personne_nourris_disponibilite_interieur_vegetal_proteine *100/nb_population\n",
    "print ('Nombre de personnes nourries =', nombre_personne_nourris_disponibilite_interieur_vegetal_proteine)\n",
    "print('pourcentage de personnes nourries =', pourcentage_nourris_disponibilite_interieur_vegetal_proteine,'%')"
   ]
  },
  {
   "cell_type": "markdown",
   "metadata": {},
   "source": [
    "Le besoin moyen de protéine par kg est de 0.9g, sachant le poids moyen d'une personne est de 65 kg, alors le besoin moyen en protéine est de <b>58.5 g/personne </b>  \n",
    "Le nombre de personne nourris en utilisant la disponibilite interieur vegetal en terme de proteine = <b>16353018510</b> <br>\n",
    "Le pourcentage = <b>233.7 %</b>"
   ]
  },
  {
   "cell_type": "markdown",
   "metadata": {},
   "source": [
    "# Réponse 8 : Nombre d'humains nourris si toute la disponibilité alimentaire en produits végétaux, la nourriture végétale destinée aux animaux et les pertes de produits végétaux étaient utilisés pour de la nourriture "
   ]
  },
  {
   "cell_type": "markdown",
   "metadata": {},
   "source": [
    "## 1. Selon le nombre de calories :"
   ]
  },
  {
   "cell_type": "code",
   "execution_count": 54,
   "metadata": {},
   "outputs": [],
   "source": [
    "# df_alimentation_vegetal['Disponibilite sans perte (kcal)'] = \n",
    "# (df_alimentation_vegetal['Aliments pour animaux (kg/an)']+\\\n",
    "#                       df_alimentation_vegetal['Pertes (kg/an)'] + \\\n",
    "#                      df_alimentation_vegetal['Nourriture (kg/an)'])   \\\n",
    "#                  * df_alimentation_vegetal[\"Ratio Energie/poids (kcal/kg)\"] \n",
    " \n",
    "# total_disponibilite_sans_perte_vegetal_kcal = df_alimentation_vegetal['Disponibilite sans perte (kcal)'].sum()\n",
    "# print(\"total_disponibilite_sans_perte_vegetal_kcal = \",total_disponibilite_sans_perte_vegetal_kcal)"
   ]
  },
  {
   "cell_type": "code",
   "execution_count": 55,
   "metadata": {},
   "outputs": [],
   "source": [
    "# b = df_alimentation_vegetal[\"Ratio Energie/poids (kcal/kg)\"] .sum()\n",
    "# b *df_alimentation_vegetal[\"Ratio Energie/poids (kcal/kg)\"]"
   ]
  },
  {
   "cell_type": "code",
   "execution_count": 56,
   "metadata": {},
   "outputs": [],
   "source": [
    "# ((df_alimentation_vegetal['Aliments pour animaux (kg/an)']+\\\n",
    "#                       df_alimentation_vegetal['Pertes (kg/an)'] + \\\n",
    "#                      df_alimentation_vegetal['Nourriture (kg/an)']).sum() * df_alimentation_vegetal[\"Ratio Energie/poids (kcal/kg)\"]).sum()"
   ]
  },
  {
   "cell_type": "code",
   "execution_count": 57,
   "metadata": {},
   "outputs": [],
   "source": [
    "df_alimentation_vegetal['Disponibilite sans perte'] = \\\n",
    "df_alimentation_vegetal[['Aliments pour animaux (kg/an)','Pertes (kg/an)','Nourriture (kg/an)']].sum(axis=1) \n",
    "total_disponibilite_sans_perte_vegetal_kcal = (df_alimentation_vegetal['Disponibilite sans perte'] * df_alimentation_vegetal[\"Ratio Energie/poids (kcal/kg)\"] ).sum()"
   ]
  },
  {
   "cell_type": "code",
   "execution_count": 58,
   "metadata": {},
   "outputs": [
    {
     "name": "stdout",
     "output_type": "stream",
     "text": [
      "nombre_personne_nourris_kcal = 10415832398.520512\n",
      "pourcentage_nourris_kcal = 148.85446809996435 %\n"
     ]
    }
   ],
   "source": [
    "nombre_personne_nourris_disponibilite_sans_perte_vegetal_kcal =total_disponibilite_sans_perte_vegetal_kcal / (2500 * 365)\n",
    "pourcentage_nourris_disponibilite_sans_perte_vegetal_kcal = nombre_personne_nourris_disponibilite_sans_perte_vegetal_kcal *100/nb_population\n",
    "print ('nombre_personne_nourris_kcal =', nombre_personne_nourris_disponibilite_sans_perte_vegetal_kcal)\n",
    "print('pourcentage_nourris_kcal =', pourcentage_nourris_disponibilite_sans_perte_vegetal_kcal,'%')"
   ]
  },
  {
   "cell_type": "markdown",
   "metadata": {},
   "source": [
    "Nombre de personnes nourris si la toute la disponibilite alimentaire vegétale est utilisé (sans perte ou nourriture pour animaux) selon le besoin moyen en kcal = <b>10415832398</b><br>\n",
    "Pourcentage des personnes nourris = <b>148.85 %</b> "
   ]
  },
  {
   "cell_type": "markdown",
   "metadata": {},
   "source": [
    "## 2. Selon le nombre de proteines"
   ]
  },
  {
   "cell_type": "code",
   "execution_count": 59,
   "metadata": {},
   "outputs": [],
   "source": [
    "# perte_animaux_proteine = (df_alimentation_vegetal['Aliments pour animaux (kg/an)']+df_alimentation_vegetal.loc[:,'Pertes (kg/an)']) \\\n",
    "#                  * df_alimentation_vegetal.loc[:,\"Ratio protéine/poids\"] \n",
    "# df_alimentation_vegetal.loc[:,'Disponibilite sans perte proteine(kg/an)'] = perte_animaux_proteine + df_alimentation_vegetal.loc[:,'Disponibilite alimentaire proteine (kg/an)'] \n",
    "# total_disponibilite_sans_perte_vegetal_proteine = df_alimentation_vegetal['Disponibilite sans perte proteine(kg/an)'].sum() * 1000\n",
    "# print(\"total_disponibilite_sans_perte_vegetal_proteine en g= \",total_disponibilite_sans_perte_vegetal_proteine)"
   ]
  },
  {
   "cell_type": "code",
   "execution_count": 60,
   "metadata": {},
   "outputs": [],
   "source": [
    "total_disponibilite_sans_perte_vegetal_proteine = (df_alimentation_vegetal['Disponibilite sans perte'] * df_alimentation_vegetal[\"Ratio protéine/poids\"]).sum()\n",
    "# La disponibilité en gramme = \n",
    "total_disponibilite_sans_perte_vegetal_proteine *=1000"
   ]
  },
  {
   "cell_type": "code",
   "execution_count": 61,
   "metadata": {
    "scrolled": false
   },
   "outputs": [
    {
     "name": "stdout",
     "output_type": "stream",
     "text": [
      "nombre_personne_nourris_disponibilite_sans_perte_vegetal_proteine = 10047984897.607777\n",
      "pourcentage_nourris_disponibilite_sans_perte_vegetal_proteine = 143.59749563773042 %\n"
     ]
    }
   ],
   "source": [
    "nombre_personne_nourris_disponibilite_sans_perte_vegetal_proteine =total_disponibilite_sans_perte_vegetal_proteine / (58.5 * 365)\n",
    "pourcentage_nourris_disponibilite_sans_perte_vegetal_proteine = nombre_personne_nourris_disponibilite_sans_perte_vegetal_proteine *100/nb_population\n",
    "print ('nombre_personne_nourris_disponibilite_sans_perte_vegetal_proteine =', nombre_personne_nourris_disponibilite_sans_perte_vegetal_proteine)\n",
    "print('pourcentage_nourris_disponibilite_sans_perte_vegetal_proteine =', pourcentage_nourris_disponibilite_sans_perte_vegetal_proteine,'%')"
   ]
  },
  {
   "cell_type": "markdown",
   "metadata": {},
   "source": [
    "Nombre de personnes nourris si la toute la disponibilite alimentaire vegétale est utilisé (sans perte ou nourriture pour animaux) selon le besoin moyen en proteine = <b>10047984897</b><br>\n",
    "Pourcentage des personnes nourris = <b>143.6 %</b>"
   ]
  },
  {
   "cell_type": "markdown",
   "metadata": {},
   "source": [
    "# Réponse 9 : Nombre d'humains qui pourraient être nourris avec la disponibilité alimentaire mondiale"
   ]
  },
  {
   "cell_type": "markdown",
   "metadata": {},
   "source": [
    "## 1. Selon le nombre de kca"
   ]
  },
  {
   "cell_type": "code",
   "execution_count": 62,
   "metadata": {},
   "outputs": [],
   "source": [
    "disponibilite_globale_kcal = df_prinicpale['Disponibilite alimentaire (kcal/an)'].sum()"
   ]
  },
  {
   "cell_type": "code",
   "execution_count": 63,
   "metadata": {},
   "outputs": [
    {
     "name": "stdout",
     "output_type": "stream",
     "text": [
      "disponibilite_globale_kcal =  7364437353675000.0\n",
      "nb_personne_nourris_disponibilite_gobale_kcal = 8070616278.0\n",
      "pourcentage_personne_nourris_disponibilite_gobale_kcal = 115.33857759378368 %\n"
     ]
    }
   ],
   "source": [
    "nb_personne_nourris_disponibilite_gobale_kcal =disponibilite_globale_kcal / (2500 * 365)\n",
    "pourcentage_personne_nourris_disponibilite_gobale_kcal = nb_personne_nourris_disponibilite_gobale_kcal *100 / nb_population\n",
    "print('disponibilite_globale_kcal = ',disponibilite_globale_kcal)\n",
    "print ('nb_personne_nourris_disponibilite_gobale_kcal =', nb_personne_nourris_disponibilite_gobale_kcal)\n",
    "print('pourcentage_personne_nourris_disponibilite_gobale_kcal =', pourcentage_personne_nourris_disponibilite_gobale_kcal,'%')"
   ]
  },
  {
   "cell_type": "markdown",
   "metadata": {},
   "source": [
    "Disponibilité globale en kcal =  <b>7364437353675000</b><br>\n",
    "Nombre de personnes qui peuvent être nourris avec la disponibilite gobale selon leur besoin en kcal = <b>8070616278.0</b><br>\n",
    "pourcentage par rapport à la population globale = <b>115.33857759378368 %</b><br>"
   ]
  },
  {
   "cell_type": "markdown",
   "metadata": {},
   "source": [
    "## 2. Selon le nombre de proteines "
   ]
  },
  {
   "cell_type": "code",
   "execution_count": 64,
   "metadata": {},
   "outputs": [],
   "source": [
    "disponibilite_globale_proteine = df_prinicpale['Disponibilite alimentaire proteine (kg/an)'].sum() * 1000"
   ]
  },
  {
   "cell_type": "code",
   "execution_count": 65,
   "metadata": {},
   "outputs": [
    {
     "name": "stdout",
     "output_type": "stream",
     "text": [
      "disponibilite_globale_proteine =  207249144517349.97\n",
      "nb_personne_nourris_disponibilite_gobale_proteine = 9706083339.999998\n",
      "pourcentage_personne_nourris_disponibilite_gobale_proteine = 138.71132115325193 %\n"
     ]
    }
   ],
   "source": [
    "nb_personne_nourris_disponibilite_gobale_proteine =disponibilite_globale_proteine / (58.5 * 365)\n",
    "pourcentage_personne_nourris_disponibilite_gobale_proteine = nb_personne_nourris_disponibilite_gobale_proteine *100 / nb_population\n",
    "print('disponibilite_globale_proteine = ',disponibilite_globale_proteine)\n",
    "print ('nb_personne_nourris_disponibilite_gobale_proteine =', nb_personne_nourris_disponibilite_gobale_proteine)\n",
    "print('pourcentage_personne_nourris_disponibilite_gobale_proteine =', pourcentage_personne_nourris_disponibilite_gobale_proteine,'%')"
   ]
  },
  {
   "cell_type": "markdown",
   "metadata": {},
   "source": [
    "Disponibilite globale en proteine =  <b>207249144517349.97</b><br>\n",
    "Nombre de personnes qui peuvent être nourris avec la disponibilite gobale selon leur besoin en proteine  = <b>9 706 083 340</b><br>\n",
    "pourcentage par rapport à la population globale = <b>138.71 %</b>\n"
   ]
  },
  {
   "cell_type": "markdown",
   "metadata": {},
   "source": [
    "# Réponse 10 : Proportion de la population mondiale considérée comme étant en sous-nutrition\n"
   ]
  },
  {
   "cell_type": "code",
   "execution_count": 66,
   "metadata": {},
   "outputs": [],
   "source": [
    "# df_sous_alimentation2013 = df_sous_alimentation[df_sous_alimentation['Code année']==20122014].copy()\n",
    "df_sous_alimentation2013 = df_sous_alimentation[df_sous_alimentation['Année'].str[:4]=='2012'].copy()\n",
    "# Remplacer l'année et le code année qui commencent par 2012 par 2013 \n",
    "df_sous_alimentation2013[['Code année','Année']] = 2013\n",
    "# Projection de la df_sous_alimentation2013\n",
    "df_sous_alimentation2013.drop(columns=['Code Domaine', 'Domaine','Code Élément','Élément', 'Code Produit', 'Produit', 'Symbole', 'Description du Symbole', 'Note'] , inplace=True)"
   ]
  },
  {
   "cell_type": "code",
   "execution_count": 67,
   "metadata": {
    "scrolled": true
   },
   "outputs": [
    {
     "name": "stdout",
     "output_type": "stream",
     "text": [
      "nb_sous_alimentation2013 =  743800000.0000001\n",
      "pourcentage_sous_alimentation2013 =  10.629774859710697\n"
     ]
    }
   ],
   "source": [
    "# df_sous_alimentation2013['Valeur'] est de type Objet, on va le caster en type float\n",
    "df_sous_alimentation2013['Valeur'] = pd.to_numeric(df_sous_alimentation2013['Valeur'], errors = \"coerce\")\n",
    "# En utilisant la fonction to_numeric, les valeurs de type String ('<0.1') vont devenir Null\n",
    "nb_sous_alimentation2013 = df_sous_alimentation2013['Valeur'].sum() * 1000000\n",
    "print('nb_sous_alimentation2013 = ',nb_sous_alimentation2013)\n",
    "pourcentage_sous_alimentation2013  = nb_sous_alimentation2013 *100/ nb_population\n",
    "\n",
    "print('pourcentage_sous_alimentation2013 = ',pourcentage_sous_alimentation2013)"
   ]
  },
  {
   "cell_type": "markdown",
   "metadata": {},
   "source": [
    "Nombre de personnes considérées comme étant en sous-nutrition : <b>743800000</b><br>\n",
    "proportion de la population mondiale considérée comme étant en sous-nutrition : <b>10.63</b>"
   ]
  },
  {
   "cell_type": "code",
   "execution_count": 68,
   "metadata": {},
   "outputs": [],
   "source": [
    "## df_sous_alimentation2013[df_sous_alimentation2013['Zone']==\"Dominique\"]"
   ]
  },
  {
   "cell_type": "markdown",
   "metadata": {},
   "source": [
    "# Réponse 11 : Proportion destinée à l'alimentation animale en ne prenant en compte que les céréales destinées à l'alimentation "
   ]
  },
  {
   "cell_type": "markdown",
   "metadata": {},
   "source": [
    "<b> a. Liste des produits considérés comme des céréales selon la FAO.</b>"
   ]
  },
  {
   "cell_type": "code",
   "execution_count": 69,
   "metadata": {},
   "outputs": [
    {
     "data": {
      "text/plain": [
       "array(['Blé', 'Riz (Eq Blanchi)', 'Orge', 'Maïs', 'Millet', 'Seigle',\n",
       "       'Avoine', 'Sorgho', 'Céréales, Autres'], dtype=object)"
      ]
     },
     "execution_count": 69,
     "metadata": {},
     "output_type": "execute_result"
    }
   ],
   "source": [
    "type_cereal = df_cereales['Produit'].unique()\n",
    "type_cereal"
   ]
  },
  {
   "cell_type": "markdown",
   "metadata": {},
   "source": [
    "<b> b. Rajout de la colonne \"is_cereal\"de type booléen pour distinguer les céréales des autres produits </b>"
   ]
  },
  {
   "cell_type": "code",
   "execution_count": 70,
   "metadata": {},
   "outputs": [],
   "source": [
    "df_prinicpale['is_cereal'] = df_prinicpale['Produit'].isin(type_cereal)"
   ]
  },
  {
   "cell_type": "code",
   "execution_count": 71,
   "metadata": {},
   "outputs": [],
   "source": [
    "# Ou bien\n",
    "# df_type_cereal = df_cereales.drop_duplicates(subset = ['Code Produit', 'Produit'])\n",
    "# type_cereal = df_type_cereal[\"Produit\"].tolist()\n",
    "# df_prinicpale['is_cereal'] = df_prinicpale['Produit'].apply(lambda x:True if x in type_cereal else False)"
   ]
  },
  {
   "cell_type": "code",
   "execution_count": 72,
   "metadata": {},
   "outputs": [],
   "source": [
    "df_prinicpale_cereal = df_prinicpale[df_prinicpale['is_cereal']].copy() # Masque is_cereal = True\n",
    "#df_prinicpale_cereal[['Zone','Produit','Aliments pour animaux (kg/an)', 'Nourriture (kg/an)']]"
   ]
  },
  {
   "cell_type": "code",
   "execution_count": 73,
   "metadata": {
    "scrolled": true
   },
   "outputs": [
    {
     "name": "stdout",
     "output_type": "stream",
     "text": [
      "proportion_cereales_animaux =  45.91400584899829\n"
     ]
    }
   ],
   "source": [
    "cereales_animaux = df_prinicpale_cereal['Aliments pour animaux (kg/an)'].sum()\n",
    "cereales_nourriture = df_prinicpale_cereal['Nourriture (kg/an)'].sum()\n",
    "\n",
    "proportion_cereales_animaux = 100 * cereales_animaux / (cereales_animaux + cereales_nourriture)\n",
    "#proportion_cereales_nourriture = 100 * cereales_nourriture / (cereales_animaux + cereales_nourriture)\n",
    "\n",
    "print('proportion_cereales_animaux = ', proportion_cereales_animaux)\n",
    "#print('proportion_cereales_nourriture = ',proportion_cereales_nourriture)\n"
   ]
  },
  {
   "cell_type": "markdown",
   "metadata": {},
   "source": [
    "====================================================<br>\n",
    "Proportion des céréales dédiée animaux =  <b>45.91 </b><br>\n",
    "====================================================\n",
    "\n",
    "\n"
   ]
  },
  {
   "cell_type": "code",
   "execution_count": 74,
   "metadata": {},
   "outputs": [],
   "source": [
    "# bis\n",
    "\n",
    "# liste_code_pays_sous_alimentation = df_sous_alimentation2013.loc[df_sous_alimentation2013['Valeur']>0,'Zone']\n",
    "\n",
    "\n",
    "# # liste_code_pays_sous_alimentation = df_sous_alimentation2013[~df_sous_alimentation2013['Valeur'].isin([0,np.NaN])]['Code zone'].unique()\n",
    "# df_bis3 = df_prinicpale[df_prinicpale['Zone'].isin(liste_code_pays_sous_alimentation.unique())]\n",
    "\n",
    "# m2 = df_bis3.groupby('Produit').sum().reset_index().sort_values(by='Exportations - Quantité (kg/an)', ascending=False)[:20]['Produit']\n",
    "# df_m2 = df_bis3.loc[df_bis3['Produit'].isin(produits_exports),:]\n",
    "# df_m2 = df_m2.sort_values(by='Exportations - Quantité (kg/an)', ascending=False)[:200]\n",
    "# df_m2 = df_m2[['Produit','Nourriture (kg/an)','Aliments pour animaux (kg/an)','Autres utilisations (non alimentaire) (kg/an)','Disponibilité intérieure (kg/an)']]\n",
    "\n",
    "# df_group = df_m2.groupby('Produit').sum()\n",
    "\n",
    "\n",
    "# df_group['Ratio autres utilisations/ Disponibilité intèrieur'] = \\\n",
    "# df_group['Autres utilisations (non alimentaire) (kg/an)'] / \\\n",
    "# df_group['Disponibilité intérieure (kg/an)']\n",
    "\n",
    "\n",
    "# df_group['Ratio nourriture animale/ nourriture'] = \\\n",
    "# df_group['Aliments pour animaux (kg/an)'] / \\\n",
    "# (df_group['Nourriture (kg/an)'] + df_group['Aliments pour animaux (kg/an)'])\n",
    "\n",
    "\n",
    "\n",
    "# (df_group['Nourriture (kg/an)','Aliments pour animaux (kg/an)'].sum(axis=1))\n",
    "\n",
    "# print(df_bis3.shape)\n",
    "# print(df_prinicpale.shape)"
   ]
  },
  {
   "cell_type": "markdown",
   "metadata": {},
   "source": [
    "<b> Les pays en sous alimentation</b>"
   ]
  },
  {
   "cell_type": "code",
   "execution_count": 75,
   "metadata": {},
   "outputs": [],
   "source": [
    "pays_sous_alimentation = df_sous_alimentation2013.loc[df_sous_alimentation2013['Valeur']>0,'Zone']"
   ]
  },
  {
   "cell_type": "markdown",
   "metadata": {},
   "source": [
    "<b> DF principale des pays en sous alimentation </b>"
   ]
  },
  {
   "cell_type": "code",
   "execution_count": 76,
   "metadata": {},
   "outputs": [],
   "source": [
    "df_p_sous_alimentation = df_prinicpale.loc[df_prinicpale['Zone'].isin(pays_sous_alimentation.unique()),:]"
   ]
  },
  {
   "cell_type": "markdown",
   "metadata": {},
   "source": [
    "<b>les 15 produits les plus exportés par ce groupe de pays.</b>"
   ]
  },
  {
   "cell_type": "code",
   "execution_count": 77,
   "metadata": {},
   "outputs": [],
   "source": [
    "df_produits = df_p_sous_alimentation.groupby('Produit').sum().reset_index()\n",
    "df_produits = df_produits.sort_values(['Exportations - Quantité (kg/an)'], ascending=False ).head(15)\n",
    "produits_exports = df_produits['Produit']"
   ]
  },
  {
   "cell_type": "code",
   "execution_count": 78,
   "metadata": {
    "scrolled": true
   },
   "outputs": [],
   "source": [
    "# Parmi les données des bilans alimentaires au niveau mondial, sélectionnez les 200 plus grandes \n",
    "# importations de ces produits (1 importation = une quantité d'un produit donné importée par un pays donné)\n",
    "df_produits = df_prinicpale.loc[df_prinicpale['Produit'].isin(produits_exports), :]\n",
    "df_produits = df_produits.sort_values('Importations - Quantité (kg/an)', ascending=False)[:200]\n",
    "df_produits = df_produits[['Produit','Nourriture (kg/an)','Aliments pour animaux (kg/an)','Autres utilisations (non alimentaire) (kg/an)','Disponibilité intérieure (kg/an)']]\n",
    "\n",
    "# Groupez ces importations par produit, afin d'avoir une table contenant 1 ligne pour chacun des 15 produits.\n",
    "df_group_produit = df_produits.groupby('Produit').sum()\n",
    "df_group_produit['Ratio1'] = df_group_produit['Autres utilisations (non alimentaire) (kg/an)']/df_group_produit['Disponibilité intérieure (kg/an)']\n",
    "df_group_produit['Ratio2'] = df_group_produit['Aliments pour animaux (kg/an)']/(df_group_produit['Aliments pour animaux (kg/an)']+df_group_produit['Nourriture (kg/an)'])"
   ]
  },
  {
   "cell_type": "markdown",
   "metadata": {},
   "source": [
    " # Question 12 : Donnez les 3 produits qui ont la plus grande valeur pour chacun des 2 ratios."
   ]
  },
  {
   "cell_type": "code",
   "execution_count": 79,
   "metadata": {},
   "outputs": [
    {
     "name": "stdout",
     "output_type": "stream",
     "text": [
      "liste_ratio1 =  ['Huile de Palme', 'Manioc', 'Maïs']\n",
      "liste_ratio2 =  ['Maïs', 'Poissons Pelagiques', 'Soja']\n"
     ]
    }
   ],
   "source": [
    "liste_ratio1 = df_group_produit.nlargest(3,['Ratio1'],keep='all').index.tolist()\n",
    "liste_ratio2 = df_group_produit.nlargest(3,['Ratio2'],keep='all').index.tolist()\n",
    "\n",
    "print('liste_ratio1 = ',liste_ratio1)\n",
    "print('liste_ratio2 = ',liste_ratio2)"
   ]
  },
  {
   "cell_type": "markdown",
   "metadata": {},
   "source": [
    "<b>Top 3 des produits du ratio1 :</b>\n",
    "<ol>    \n",
    "    <li>Huile de palme </li>\n",
    "    <li>Manioc </li>\n",
    "    <li>Maïs</li>\n",
    "</ol>    \n",
    "\n",
    "<b>Top 3 des produits du ratio2 :</b>\n",
    "<ol>\n",
    "    <li>Maïs </li>\n",
    "    <li>Poissons Pelagiques </li>\n",
    "    <li>Soja </li>\n",
    "</ol>\n",
    "\n",
    "\n",
    "<b> Si on prends en considération 20 produits à la place de 15 </b> alors: <br>\n",
    "<b>Top 3 des produits du ratio1 :</b>\n",
    "<ol>\n",
    "    <li>huile de soja </li>\n",
    "    <li>huile de palme </li>\n",
    "    <li>manioc </li>\n",
    "</ol>    \n",
    "\n",
    "<b>Top 3 des produits du ratio2 :</b>\n",
    "<ol>\n",
    "    <li>orge </li>\n",
    "    <li>mais </li>\n",
    "    <li>manioc </li>\n",
    "</ol>"
   ]
  },
  {
   "cell_type": "markdown",
   "metadata": {},
   "source": [
    "# Réponse 13 : Nombre de tonnes de céréales libérées si les USA diminuaient leur production de produits animaux de 10% "
   ]
  },
  {
   "cell_type": "code",
   "execution_count": 80,
   "metadata": {},
   "outputs": [],
   "source": [
    "df_cereal_USA = df_prinicpale_cereal[df_prinicpale_cereal['Zone']==\"États-Unis d'Amérique\"].groupby('Zone').sum().copy()"
   ]
  },
  {
   "cell_type": "code",
   "execution_count": 81,
   "metadata": {},
   "outputs": [
    {
     "name": "stdout",
     "output_type": "stream",
     "text": [
      "cereal_libere_usa =  14009600.0\n"
     ]
    }
   ],
   "source": [
    "cereal_libere_usa = (df_cereal_USA['Aliments pour animaux (kg/an)'].iloc[0] * 0.1 ) /1000\n",
    "print('cereal_libere_usa = ',cereal_libere_usa)"
   ]
  },
  {
   "cell_type": "markdown",
   "metadata": {},
   "source": [
    "<b> 14009600 </b> tonnes de cérales pourraient être libérées si les USA diminuaient leur production de produits animaux de 10%"
   ]
  },
  {
   "cell_type": "markdown",
   "metadata": {},
   "source": [
    "# Réponse 14 "
   ]
  },
  {
   "cell_type": "markdown",
   "metadata": {},
   "source": [
    "## Proportion de manioc produit par la Thaïlande qui est exportée "
   ]
  },
  {
   "cell_type": "code",
   "execution_count": 82,
   "metadata": {},
   "outputs": [],
   "source": [
    "df_thailande_manioc = df_prinicpale[(df_prinicpale['Zone']=='Thaïlande') & (df_prinicpale['Produit']=='Manioc')].copy()"
   ]
  },
  {
   "cell_type": "code",
   "execution_count": 83,
   "metadata": {},
   "outputs": [
    {
     "name": "stdout",
     "output_type": "stream",
     "text": [
      "proportion_thailande_manioc =  83.41272991928014 %\n"
     ]
    }
   ],
   "source": [
    "proportion_thailande_manioc = df_thailande_manioc['Exportations - Quantité (kg/an)'].iloc[0]/df_thailande_manioc['Production (kg/an)'].iloc[0]*100\n",
    "print(\"proportion_thailande_manioc = \",proportion_thailande_manioc,\"%\")"
   ]
  },
  {
   "cell_type": "markdown",
   "metadata": {},
   "source": [
    "proportion_thailande_manioc =  83.41272991928014 %"
   ]
  },
  {
   "cell_type": "markdown",
   "metadata": {},
   "source": [
    "## Proportion de personnes en sous-nutrition "
   ]
  },
  {
   "cell_type": "code",
   "execution_count": 84,
   "metadata": {},
   "outputs": [
    {
     "data": {
      "text/plain": [
       "8.356836937219262"
      ]
     },
     "execution_count": 84,
     "metadata": {},
     "output_type": "execute_result"
    }
   ],
   "source": [
    "df_sous_alimentation2013[df_sous_alimentation2013['Zone']=='Thaïlande']['Valeur'].iloc[0] *1000 * 100/ df_prinicpale[df_prinicpale['Zone']=='Thaïlande']['Population'].iloc[0]  "
   ]
  },
  {
   "cell_type": "markdown",
   "metadata": {},
   "source": [
    "Proportion de personnes en sous-nutrition = <b> 0.08356836937219263\n",
    "</b>"
   ]
  },
  {
   "cell_type": "code",
   "execution_count": 85,
   "metadata": {},
   "outputs": [],
   "source": [
    "df_prinicpale.to_csv('data_sql/df_prinicpale.csv',index = False)"
   ]
  },
  {
   "cell_type": "code",
   "execution_count": 86,
   "metadata": {},
   "outputs": [],
   "source": [
    "df_sous_alimentation2013.to_csv('data_sql/df_sous_alimentation.csv',index = False)"
   ]
  },
  {
   "cell_type": "code",
   "execution_count": 87,
   "metadata": {},
   "outputs": [],
   "source": [
    "df_population.to_csv('data_sql/df_population2013.csv',index = False)"
   ]
  },
  {
   "cell_type": "code",
   "execution_count": null,
   "metadata": {},
   "outputs": [],
   "source": []
  }
 ],
 "metadata": {
  "interpreter": {
   "hash": "aa4029e9b8b19fac47fe0c6b33ae7d754eb12d8bb135c7af1e62fea52b635132"
  },
  "kernelspec": {
   "display_name": "Python 3",
   "language": "python",
   "name": "python3"
  },
  "language_info": {
   "codemirror_mode": {
    "name": "ipython",
    "version": 3
   },
   "file_extension": ".py",
   "mimetype": "text/x-python",
   "name": "python",
   "nbconvert_exporter": "python",
   "pygments_lexer": "ipython3",
   "version": "3.8.10"
  },
  "toc": {
   "base_numbering": 1,
   "nav_menu": {},
   "number_sections": false,
   "sideBar": false,
   "skip_h1_title": false,
   "title_cell": "Table de matière",
   "title_sidebar": "Sommaire",
   "toc_cell": false,
   "toc_position": {
    "height": "47.6px",
    "left": "705.95px",
    "top": "58.2667px",
    "width": "168.042px"
   },
   "toc_section_display": false,
   "toc_window_display": true
  },
  "varInspector": {
   "cols": {
    "lenName": 16,
    "lenType": 16,
    "lenVar": 40
   },
   "kernels_config": {
    "python": {
     "delete_cmd_postfix": "",
     "delete_cmd_prefix": "del ",
     "library": "var_list.py",
     "varRefreshCmd": "print(var_dic_list())"
    },
    "r": {
     "delete_cmd_postfix": ") ",
     "delete_cmd_prefix": "rm(",
     "library": "var_list.r",
     "varRefreshCmd": "cat(var_dic_list()) "
    }
   },
   "types_to_exclude": [
    "module",
    "function",
    "builtin_function_or_method",
    "instance",
    "_Feature"
   ],
   "window_display": false
  }
 },
 "nbformat": 4,
 "nbformat_minor": 4
}
